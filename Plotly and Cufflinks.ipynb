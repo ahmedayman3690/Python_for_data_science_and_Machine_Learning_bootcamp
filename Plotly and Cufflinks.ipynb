{
 "cells": [
  {
   "cell_type": "markdown",
   "metadata": {},
   "source": [
    "___\n",
    "\n",
    "<a href='http://www.pieriandata.com'> <img src='../Pierian_Data_Logo.png' /></a>\n",
    "___\n",
    "# Plotly and Cufflinks"
   ]
  },
  {
   "cell_type": "markdown",
   "metadata": {},
   "source": [
    "Plotly is a library that allows you to create interactive plots that you can use in dashboards or websites (you can save them as html files or static images).\n",
    "\n",
    "## Installation\n",
    "\n",
    "In order for this all to work, you'll need to install plotly and cufflinks to call plots directly off of a pandas dataframe. These libraries are not currently available through **conda** but are available through **pip**. Install the libraries at your command line/terminal using:\n",
    "\n",
    "    pip install plotly\n",
    "    pip install cufflinks\n",
    "\n",
    "** NOTE: Make sure you only have one installation of Python on your computer when you do this, otherwise the installation may not work. **\n",
    "\n",
    "## Imports and Set-up"
   ]
  },
  {
   "cell_type": "code",
   "execution_count": 2,
   "metadata": {},
   "outputs": [],
   "source": [
    "import pandas as pd\n",
    "import numpy as np\n",
    "%matplotlib inline"
   ]
  },
  {
   "cell_type": "code",
   "execution_count": 3,
   "metadata": {},
   "outputs": [
    {
     "name": "stdout",
     "output_type": "stream",
     "text": [
      "5.9.0\n"
     ]
    }
   ],
   "source": [
    "from plotly import __version__\n",
    "from plotly.offline import download_plotlyjs, init_notebook_mode, plot, iplot\n",
    "\n",
    "print(__version__) # requires version >= 1.9.0"
   ]
  },
  {
   "cell_type": "code",
   "execution_count": 4,
   "metadata": {},
   "outputs": [
    {
     "name": "stderr",
     "output_type": "stream",
     "text": [
      "C:\\Users\\pc\\AppData\\Local\\Programs\\Python\\anaconda\\Lib\\site-packages\\paramiko\\transport.py:219: CryptographyDeprecationWarning:\n",
      "\n",
      "Blowfish has been deprecated\n",
      "\n"
     ]
    }
   ],
   "source": [
    "import cufflinks as cf"
   ]
  },
  {
   "cell_type": "code",
   "execution_count": 5,
   "metadata": {},
   "outputs": [
    {
     "data": {
      "text/html": [
       "        <script type=\"text/javascript\">\n",
       "        window.PlotlyConfig = {MathJaxConfig: 'local'};\n",
       "        if (window.MathJax && window.MathJax.Hub && window.MathJax.Hub.Config) {window.MathJax.Hub.Config({SVG: {font: \"STIX-Web\"}});}\n",
       "        if (typeof require !== 'undefined') {\n",
       "        require.undef(\"plotly\");\n",
       "        requirejs.config({\n",
       "            paths: {\n",
       "                'plotly': ['https://cdn.plot.ly/plotly-2.12.1.min']\n",
       "            }\n",
       "        });\n",
       "        require(['plotly'], function(Plotly) {\n",
       "            window._Plotly = Plotly;\n",
       "        });\n",
       "        }\n",
       "        </script>\n",
       "        "
      ]
     },
     "metadata": {},
     "output_type": "display_data"
    }
   ],
   "source": [
    "# For Notebooks\n",
    "init_notebook_mode(connected=True)"
   ]
  },
  {
   "cell_type": "code",
   "execution_count": 6,
   "metadata": {},
   "outputs": [
    {
     "data": {
      "text/html": [
       "        <script type=\"text/javascript\">\n",
       "        window.PlotlyConfig = {MathJaxConfig: 'local'};\n",
       "        if (window.MathJax && window.MathJax.Hub && window.MathJax.Hub.Config) {window.MathJax.Hub.Config({SVG: {font: \"STIX-Web\"}});}\n",
       "        if (typeof require !== 'undefined') {\n",
       "        require.undef(\"plotly\");\n",
       "        requirejs.config({\n",
       "            paths: {\n",
       "                'plotly': ['https://cdn.plot.ly/plotly-2.12.1.min']\n",
       "            }\n",
       "        });\n",
       "        require(['plotly'], function(Plotly) {\n",
       "            window._Plotly = Plotly;\n",
       "        });\n",
       "        }\n",
       "        </script>\n",
       "        "
      ]
     },
     "metadata": {},
     "output_type": "display_data"
    }
   ],
   "source": [
    "# For offline use\n",
    "cf.go_offline()"
   ]
  },
  {
   "cell_type": "markdown",
   "metadata": {},
   "source": [
    "### Fake Data"
   ]
  },
  {
   "cell_type": "code",
   "execution_count": 7,
   "metadata": {},
   "outputs": [],
   "source": [
    "df = pd.DataFrame(np.random.randn(100,4),columns='A B C D'.split())"
   ]
  },
  {
   "cell_type": "code",
   "execution_count": 8,
   "metadata": {},
   "outputs": [
    {
     "data": {
      "text/html": [
       "<div>\n",
       "<style scoped>\n",
       "    .dataframe tbody tr th:only-of-type {\n",
       "        vertical-align: middle;\n",
       "    }\n",
       "\n",
       "    .dataframe tbody tr th {\n",
       "        vertical-align: top;\n",
       "    }\n",
       "\n",
       "    .dataframe thead th {\n",
       "        text-align: right;\n",
       "    }\n",
       "</style>\n",
       "<table border=\"1\" class=\"dataframe\">\n",
       "  <thead>\n",
       "    <tr style=\"text-align: right;\">\n",
       "      <th></th>\n",
       "      <th>A</th>\n",
       "      <th>B</th>\n",
       "      <th>C</th>\n",
       "      <th>D</th>\n",
       "    </tr>\n",
       "  </thead>\n",
       "  <tbody>\n",
       "    <tr>\n",
       "      <th>0</th>\n",
       "      <td>-1.041494</td>\n",
       "      <td>0.329968</td>\n",
       "      <td>-2.016560</td>\n",
       "      <td>-0.485336</td>\n",
       "    </tr>\n",
       "    <tr>\n",
       "      <th>1</th>\n",
       "      <td>-0.435430</td>\n",
       "      <td>1.218982</td>\n",
       "      <td>-0.552643</td>\n",
       "      <td>0.799671</td>\n",
       "    </tr>\n",
       "    <tr>\n",
       "      <th>2</th>\n",
       "      <td>0.340915</td>\n",
       "      <td>-1.633714</td>\n",
       "      <td>-0.531466</td>\n",
       "      <td>0.632527</td>\n",
       "    </tr>\n",
       "    <tr>\n",
       "      <th>3</th>\n",
       "      <td>2.074692</td>\n",
       "      <td>-0.668005</td>\n",
       "      <td>-0.052209</td>\n",
       "      <td>-0.568956</td>\n",
       "    </tr>\n",
       "    <tr>\n",
       "      <th>4</th>\n",
       "      <td>-0.247479</td>\n",
       "      <td>-0.644510</td>\n",
       "      <td>0.296382</td>\n",
       "      <td>-1.298555</td>\n",
       "    </tr>\n",
       "  </tbody>\n",
       "</table>\n",
       "</div>"
      ],
      "text/plain": [
       "          A         B         C         D\n",
       "0 -1.041494  0.329968 -2.016560 -0.485336\n",
       "1 -0.435430  1.218982 -0.552643  0.799671\n",
       "2  0.340915 -1.633714 -0.531466  0.632527\n",
       "3  2.074692 -0.668005 -0.052209 -0.568956\n",
       "4 -0.247479 -0.644510  0.296382 -1.298555"
      ]
     },
     "execution_count": 8,
     "metadata": {},
     "output_type": "execute_result"
    }
   ],
   "source": [
    "df.head()"
   ]
  },
  {
   "cell_type": "code",
   "execution_count": 9,
   "metadata": {},
   "outputs": [],
   "source": [
    "df2 = pd.DataFrame({'Category':['A','B','C'],'Values':[32,43,50]})"
   ]
  },
  {
   "cell_type": "code",
   "execution_count": 10,
   "metadata": {},
   "outputs": [
    {
     "data": {
      "text/html": [
       "<div>\n",
       "<style scoped>\n",
       "    .dataframe tbody tr th:only-of-type {\n",
       "        vertical-align: middle;\n",
       "    }\n",
       "\n",
       "    .dataframe tbody tr th {\n",
       "        vertical-align: top;\n",
       "    }\n",
       "\n",
       "    .dataframe thead th {\n",
       "        text-align: right;\n",
       "    }\n",
       "</style>\n",
       "<table border=\"1\" class=\"dataframe\">\n",
       "  <thead>\n",
       "    <tr style=\"text-align: right;\">\n",
       "      <th></th>\n",
       "      <th>Category</th>\n",
       "      <th>Values</th>\n",
       "    </tr>\n",
       "  </thead>\n",
       "  <tbody>\n",
       "    <tr>\n",
       "      <th>0</th>\n",
       "      <td>A</td>\n",
       "      <td>32</td>\n",
       "    </tr>\n",
       "    <tr>\n",
       "      <th>1</th>\n",
       "      <td>B</td>\n",
       "      <td>43</td>\n",
       "    </tr>\n",
       "    <tr>\n",
       "      <th>2</th>\n",
       "      <td>C</td>\n",
       "      <td>50</td>\n",
       "    </tr>\n",
       "  </tbody>\n",
       "</table>\n",
       "</div>"
      ],
      "text/plain": [
       "  Category  Values\n",
       "0        A      32\n",
       "1        B      43\n",
       "2        C      50"
      ]
     },
     "execution_count": 10,
     "metadata": {},
     "output_type": "execute_result"
    }
   ],
   "source": [
    "df2.head()"
   ]
  },
  {
   "cell_type": "markdown",
   "metadata": {},
   "source": [
    "## Using Cufflinks and iplot()\n",
    "\n",
    "* scatter\n",
    "* bar\n",
    "* box\n",
    "* spread\n",
    "* ratio\n",
    "* heatmap\n",
    "* surface\n",
    "* histogram\n",
    "* bubble"
   ]
  },
  {
   "cell_type": "markdown",
   "metadata": {},
   "source": [
    "## Scatter"
   ]
  },
  {
   "cell_type": "code",
   "execution_count": 11,
   "metadata": {},
   "outputs": [
    {
     "data": {
      "application/vnd.plotly.v1+json": {
       "config": {
        "linkText": "Export to plot.ly",
        "plotlyServerURL": "https://plot.ly",
        "showLink": true
       },
       "data": [
        {
         "line": {
          "color": "rgba(255, 153, 51, 1.0)",
          "dash": "solid",
          "shape": "linear",
          "width": 1.3
         },
         "marker": {
          "size": 10,
          "symbol": "circle"
         },
         "mode": "markers",
         "name": "B",
         "text": "",
         "type": "scatter",
         "x": [
          -1.0414938449171551,
          -0.4354303557101797,
          0.34091500601799474,
          2.0746916097471155,
          -0.24747851502364648,
          0.6186335280195576,
          0.06458959483746213,
          0.19202582337651733,
          0.6461078850095495,
          -1.0390452041639444,
          0.6227323408901065,
          -0.1674391576392429,
          -0.1926042781471134,
          -0.04046327744673468,
          -2.031733686393499,
          -1.2521232482806384,
          -1.0611150328040704,
          -1.3005911023122887,
          2.73068526240894,
          -0.014905077491252519,
          -0.3365265182353228,
          1.5688337988015868,
          -0.3537229936367583,
          -0.7774145415496925,
          -0.5531468020354161,
          0.3732146468619525,
          0.47503628200836756,
          0.6675289888307547,
          0.6342468938845498,
          0.3782402737404014,
          1.8073693745270427,
          0.10079055157427515,
          0.44395509474085854,
          -1.5999810850342004,
          -0.9361645071581075,
          1.6427002545546334,
          -0.19965900866375763,
          -0.5739373863449075,
          -0.4867162121661351,
          -0.7494828396960236,
          -0.4680209101771845,
          -0.646200346510384,
          -1.4499063061319621,
          -0.6729265648978373,
          -0.25920990095800994,
          -0.24524031082590997,
          0.9424992940939884,
          0.09746308886052545,
          -0.05670856183167005,
          -0.3700987414342005,
          -1.5330827425094273,
          -1.513493870789549,
          1.0020688989440132,
          -0.14477971981749638,
          -0.06713316999739569,
          0.36165647674204604,
          0.7879463209144801,
          1.2050186982820554,
          0.6388184550724472,
          0.6740116687479178,
          -0.7147605818973362,
          0.18841425752213384,
          0.47735099292647765,
          -0.035006175364803556,
          -1.0344884992735575,
          0.15948944361386735,
          -0.19589283962336,
          -0.6852943018916997,
          -0.5880941757709064,
          0.17035562449446132,
          0.5913902058621666,
          -0.9199122157675864,
          0.9573935392643146,
          -0.22375424741831904,
          0.43946538468921637,
          -0.3131973114136663,
          0.899443150063009,
          -0.8264953253132122,
          -0.16538637364699124,
          -0.13517908001439397,
          0.8091401271172439,
          -1.30904640296218,
          -0.45422206139924226,
          0.4907240937863005,
          1.424194979291537,
          1.1295658613318202,
          -1.1343449569566135,
          1.7497515669552424,
          -0.15609510980782706,
          -0.9701048648149126,
          -1.2922061453965263,
          2.015183999384643,
          1.0651251975905274,
          0.37795898160154373,
          -0.858135175494791,
          -1.8924836165721872,
          -0.7191375774094184,
          -0.5522674191284617,
          -0.913005426693775,
          1.6573844242452849
         ],
         "y": [
          0.32996827386755656,
          1.218981953879945,
          -1.633714055298131,
          -0.6680046279061812,
          -0.6445098144275172,
          -1.4982567785730112,
          0.3789401874474387,
          -0.8354867132076352,
          -0.49649095723019165,
          0.9476618567929485,
          -0.29885328226115,
          -0.729847228699825,
          -0.2983012825271507,
          -1.5274385530114047,
          0.3163460257637768,
          0.9882599819686255,
          -1.8372850712119513,
          0.07213041078206192,
          -0.8505942819760838,
          -0.2593730549559899,
          -0.20097115604456608,
          0.08776815285268036,
          0.8990529880959327,
          -1.2300154009386157,
          -0.4646616485397626,
          2.008716385462978,
          1.3815353909949974,
          -0.4680705695693689,
          0.9951906400439332,
          -0.12774732777664352,
          -0.17209346094795594,
          0.42384697762520135,
          0.0881677466704928,
          -1.2137123261984333,
          -0.29210386848008296,
          -0.42918331158735196,
          0.5291358204103447,
          -0.3611920569394752,
          -0.4411126619848192,
          0.3564598562677138,
          -0.12583032060194752,
          -0.8136096980573316,
          -0.17480939014138125,
          0.6778331503575926,
          -1.8800938127463223,
          -0.20868994954541098,
          -1.0943898202087554,
          0.8226631614354307,
          -1.194260664483298,
          0.9773449695985037,
          -1.1496991655267428,
          -0.4387572002224895,
          0.7113296978977882,
          0.6136809231209187,
          0.5921491861167535,
          0.1571828181134136,
          0.14634596816652118,
          1.2738759482054949,
          0.6972173278890168,
          -0.987761104038325,
          -0.1670094503849138,
          0.3250201326918829,
          0.48994010297726887,
          1.4044309262428363,
          0.11312278441985077,
          -0.10669962027891286,
          -1.1168477862086412,
          -0.17675332603717261,
          0.03208977659009037,
          -1.6516672521154045,
          1.1328237831004917,
          -0.2851532459057253,
          1.149522847797316,
          0.4923262442913057,
          0.5794022959078174,
          -0.4871163476749682,
          -0.3483589684714914,
          -0.7185104093064334,
          0.6923830430179017,
          -0.9884401103254018,
          -1.4605573010519564,
          -0.9574630312394341,
          0.16346484134391212,
          0.10498467403726597,
          0.20016905200097182,
          -0.2795659106824173,
          -0.6401046918070968,
          1.1582797184904188,
          -1.2380619543518485,
          -2.028760970003082,
          -0.15868350420267063,
          1.8185289573542853,
          0.2526564960445763,
          0.3706396483181391,
          -0.2691068747137809,
          0.423560909260566,
          0.9555620773895517,
          0.244811084935598,
          0.13634805361852287,
          -0.24890511762323125
         ]
        }
       ],
       "layout": {
        "legend": {
         "bgcolor": "#F5F6F9",
         "font": {
          "color": "#4D5663"
         }
        },
        "paper_bgcolor": "#F5F6F9",
        "plot_bgcolor": "#F5F6F9",
        "template": {
         "data": {
          "bar": [
           {
            "error_x": {
             "color": "#2a3f5f"
            },
            "error_y": {
             "color": "#2a3f5f"
            },
            "marker": {
             "line": {
              "color": "#E5ECF6",
              "width": 0.5
             },
             "pattern": {
              "fillmode": "overlay",
              "size": 10,
              "solidity": 0.2
             }
            },
            "type": "bar"
           }
          ],
          "barpolar": [
           {
            "marker": {
             "line": {
              "color": "#E5ECF6",
              "width": 0.5
             },
             "pattern": {
              "fillmode": "overlay",
              "size": 10,
              "solidity": 0.2
             }
            },
            "type": "barpolar"
           }
          ],
          "carpet": [
           {
            "aaxis": {
             "endlinecolor": "#2a3f5f",
             "gridcolor": "white",
             "linecolor": "white",
             "minorgridcolor": "white",
             "startlinecolor": "#2a3f5f"
            },
            "baxis": {
             "endlinecolor": "#2a3f5f",
             "gridcolor": "white",
             "linecolor": "white",
             "minorgridcolor": "white",
             "startlinecolor": "#2a3f5f"
            },
            "type": "carpet"
           }
          ],
          "choropleth": [
           {
            "colorbar": {
             "outlinewidth": 0,
             "ticks": ""
            },
            "type": "choropleth"
           }
          ],
          "contour": [
           {
            "colorbar": {
             "outlinewidth": 0,
             "ticks": ""
            },
            "colorscale": [
             [
              0,
              "#0d0887"
             ],
             [
              0.1111111111111111,
              "#46039f"
             ],
             [
              0.2222222222222222,
              "#7201a8"
             ],
             [
              0.3333333333333333,
              "#9c179e"
             ],
             [
              0.4444444444444444,
              "#bd3786"
             ],
             [
              0.5555555555555556,
              "#d8576b"
             ],
             [
              0.6666666666666666,
              "#ed7953"
             ],
             [
              0.7777777777777778,
              "#fb9f3a"
             ],
             [
              0.8888888888888888,
              "#fdca26"
             ],
             [
              1,
              "#f0f921"
             ]
            ],
            "type": "contour"
           }
          ],
          "contourcarpet": [
           {
            "colorbar": {
             "outlinewidth": 0,
             "ticks": ""
            },
            "type": "contourcarpet"
           }
          ],
          "heatmap": [
           {
            "colorbar": {
             "outlinewidth": 0,
             "ticks": ""
            },
            "colorscale": [
             [
              0,
              "#0d0887"
             ],
             [
              0.1111111111111111,
              "#46039f"
             ],
             [
              0.2222222222222222,
              "#7201a8"
             ],
             [
              0.3333333333333333,
              "#9c179e"
             ],
             [
              0.4444444444444444,
              "#bd3786"
             ],
             [
              0.5555555555555556,
              "#d8576b"
             ],
             [
              0.6666666666666666,
              "#ed7953"
             ],
             [
              0.7777777777777778,
              "#fb9f3a"
             ],
             [
              0.8888888888888888,
              "#fdca26"
             ],
             [
              1,
              "#f0f921"
             ]
            ],
            "type": "heatmap"
           }
          ],
          "heatmapgl": [
           {
            "colorbar": {
             "outlinewidth": 0,
             "ticks": ""
            },
            "colorscale": [
             [
              0,
              "#0d0887"
             ],
             [
              0.1111111111111111,
              "#46039f"
             ],
             [
              0.2222222222222222,
              "#7201a8"
             ],
             [
              0.3333333333333333,
              "#9c179e"
             ],
             [
              0.4444444444444444,
              "#bd3786"
             ],
             [
              0.5555555555555556,
              "#d8576b"
             ],
             [
              0.6666666666666666,
              "#ed7953"
             ],
             [
              0.7777777777777778,
              "#fb9f3a"
             ],
             [
              0.8888888888888888,
              "#fdca26"
             ],
             [
              1,
              "#f0f921"
             ]
            ],
            "type": "heatmapgl"
           }
          ],
          "histogram": [
           {
            "marker": {
             "pattern": {
              "fillmode": "overlay",
              "size": 10,
              "solidity": 0.2
             }
            },
            "type": "histogram"
           }
          ],
          "histogram2d": [
           {
            "colorbar": {
             "outlinewidth": 0,
             "ticks": ""
            },
            "colorscale": [
             [
              0,
              "#0d0887"
             ],
             [
              0.1111111111111111,
              "#46039f"
             ],
             [
              0.2222222222222222,
              "#7201a8"
             ],
             [
              0.3333333333333333,
              "#9c179e"
             ],
             [
              0.4444444444444444,
              "#bd3786"
             ],
             [
              0.5555555555555556,
              "#d8576b"
             ],
             [
              0.6666666666666666,
              "#ed7953"
             ],
             [
              0.7777777777777778,
              "#fb9f3a"
             ],
             [
              0.8888888888888888,
              "#fdca26"
             ],
             [
              1,
              "#f0f921"
             ]
            ],
            "type": "histogram2d"
           }
          ],
          "histogram2dcontour": [
           {
            "colorbar": {
             "outlinewidth": 0,
             "ticks": ""
            },
            "colorscale": [
             [
              0,
              "#0d0887"
             ],
             [
              0.1111111111111111,
              "#46039f"
             ],
             [
              0.2222222222222222,
              "#7201a8"
             ],
             [
              0.3333333333333333,
              "#9c179e"
             ],
             [
              0.4444444444444444,
              "#bd3786"
             ],
             [
              0.5555555555555556,
              "#d8576b"
             ],
             [
              0.6666666666666666,
              "#ed7953"
             ],
             [
              0.7777777777777778,
              "#fb9f3a"
             ],
             [
              0.8888888888888888,
              "#fdca26"
             ],
             [
              1,
              "#f0f921"
             ]
            ],
            "type": "histogram2dcontour"
           }
          ],
          "mesh3d": [
           {
            "colorbar": {
             "outlinewidth": 0,
             "ticks": ""
            },
            "type": "mesh3d"
           }
          ],
          "parcoords": [
           {
            "line": {
             "colorbar": {
              "outlinewidth": 0,
              "ticks": ""
             }
            },
            "type": "parcoords"
           }
          ],
          "pie": [
           {
            "automargin": true,
            "type": "pie"
           }
          ],
          "scatter": [
           {
            "fillpattern": {
             "fillmode": "overlay",
             "size": 10,
             "solidity": 0.2
            },
            "type": "scatter"
           }
          ],
          "scatter3d": [
           {
            "line": {
             "colorbar": {
              "outlinewidth": 0,
              "ticks": ""
             }
            },
            "marker": {
             "colorbar": {
              "outlinewidth": 0,
              "ticks": ""
             }
            },
            "type": "scatter3d"
           }
          ],
          "scattercarpet": [
           {
            "marker": {
             "colorbar": {
              "outlinewidth": 0,
              "ticks": ""
             }
            },
            "type": "scattercarpet"
           }
          ],
          "scattergeo": [
           {
            "marker": {
             "colorbar": {
              "outlinewidth": 0,
              "ticks": ""
             }
            },
            "type": "scattergeo"
           }
          ],
          "scattergl": [
           {
            "marker": {
             "colorbar": {
              "outlinewidth": 0,
              "ticks": ""
             }
            },
            "type": "scattergl"
           }
          ],
          "scattermapbox": [
           {
            "marker": {
             "colorbar": {
              "outlinewidth": 0,
              "ticks": ""
             }
            },
            "type": "scattermapbox"
           }
          ],
          "scatterpolar": [
           {
            "marker": {
             "colorbar": {
              "outlinewidth": 0,
              "ticks": ""
             }
            },
            "type": "scatterpolar"
           }
          ],
          "scatterpolargl": [
           {
            "marker": {
             "colorbar": {
              "outlinewidth": 0,
              "ticks": ""
             }
            },
            "type": "scatterpolargl"
           }
          ],
          "scatterternary": [
           {
            "marker": {
             "colorbar": {
              "outlinewidth": 0,
              "ticks": ""
             }
            },
            "type": "scatterternary"
           }
          ],
          "surface": [
           {
            "colorbar": {
             "outlinewidth": 0,
             "ticks": ""
            },
            "colorscale": [
             [
              0,
              "#0d0887"
             ],
             [
              0.1111111111111111,
              "#46039f"
             ],
             [
              0.2222222222222222,
              "#7201a8"
             ],
             [
              0.3333333333333333,
              "#9c179e"
             ],
             [
              0.4444444444444444,
              "#bd3786"
             ],
             [
              0.5555555555555556,
              "#d8576b"
             ],
             [
              0.6666666666666666,
              "#ed7953"
             ],
             [
              0.7777777777777778,
              "#fb9f3a"
             ],
             [
              0.8888888888888888,
              "#fdca26"
             ],
             [
              1,
              "#f0f921"
             ]
            ],
            "type": "surface"
           }
          ],
          "table": [
           {
            "cells": {
             "fill": {
              "color": "#EBF0F8"
             },
             "line": {
              "color": "white"
             }
            },
            "header": {
             "fill": {
              "color": "#C8D4E3"
             },
             "line": {
              "color": "white"
             }
            },
            "type": "table"
           }
          ]
         },
         "layout": {
          "annotationdefaults": {
           "arrowcolor": "#2a3f5f",
           "arrowhead": 0,
           "arrowwidth": 1
          },
          "autotypenumbers": "strict",
          "coloraxis": {
           "colorbar": {
            "outlinewidth": 0,
            "ticks": ""
           }
          },
          "colorscale": {
           "diverging": [
            [
             0,
             "#8e0152"
            ],
            [
             0.1,
             "#c51b7d"
            ],
            [
             0.2,
             "#de77ae"
            ],
            [
             0.3,
             "#f1b6da"
            ],
            [
             0.4,
             "#fde0ef"
            ],
            [
             0.5,
             "#f7f7f7"
            ],
            [
             0.6,
             "#e6f5d0"
            ],
            [
             0.7,
             "#b8e186"
            ],
            [
             0.8,
             "#7fbc41"
            ],
            [
             0.9,
             "#4d9221"
            ],
            [
             1,
             "#276419"
            ]
           ],
           "sequential": [
            [
             0,
             "#0d0887"
            ],
            [
             0.1111111111111111,
             "#46039f"
            ],
            [
             0.2222222222222222,
             "#7201a8"
            ],
            [
             0.3333333333333333,
             "#9c179e"
            ],
            [
             0.4444444444444444,
             "#bd3786"
            ],
            [
             0.5555555555555556,
             "#d8576b"
            ],
            [
             0.6666666666666666,
             "#ed7953"
            ],
            [
             0.7777777777777778,
             "#fb9f3a"
            ],
            [
             0.8888888888888888,
             "#fdca26"
            ],
            [
             1,
             "#f0f921"
            ]
           ],
           "sequentialminus": [
            [
             0,
             "#0d0887"
            ],
            [
             0.1111111111111111,
             "#46039f"
            ],
            [
             0.2222222222222222,
             "#7201a8"
            ],
            [
             0.3333333333333333,
             "#9c179e"
            ],
            [
             0.4444444444444444,
             "#bd3786"
            ],
            [
             0.5555555555555556,
             "#d8576b"
            ],
            [
             0.6666666666666666,
             "#ed7953"
            ],
            [
             0.7777777777777778,
             "#fb9f3a"
            ],
            [
             0.8888888888888888,
             "#fdca26"
            ],
            [
             1,
             "#f0f921"
            ]
           ]
          },
          "colorway": [
           "#636efa",
           "#EF553B",
           "#00cc96",
           "#ab63fa",
           "#FFA15A",
           "#19d3f3",
           "#FF6692",
           "#B6E880",
           "#FF97FF",
           "#FECB52"
          ],
          "font": {
           "color": "#2a3f5f"
          },
          "geo": {
           "bgcolor": "white",
           "lakecolor": "white",
           "landcolor": "#E5ECF6",
           "showlakes": true,
           "showland": true,
           "subunitcolor": "white"
          },
          "hoverlabel": {
           "align": "left"
          },
          "hovermode": "closest",
          "mapbox": {
           "style": "light"
          },
          "paper_bgcolor": "white",
          "plot_bgcolor": "#E5ECF6",
          "polar": {
           "angularaxis": {
            "gridcolor": "white",
            "linecolor": "white",
            "ticks": ""
           },
           "bgcolor": "#E5ECF6",
           "radialaxis": {
            "gridcolor": "white",
            "linecolor": "white",
            "ticks": ""
           }
          },
          "scene": {
           "xaxis": {
            "backgroundcolor": "#E5ECF6",
            "gridcolor": "white",
            "gridwidth": 2,
            "linecolor": "white",
            "showbackground": true,
            "ticks": "",
            "zerolinecolor": "white"
           },
           "yaxis": {
            "backgroundcolor": "#E5ECF6",
            "gridcolor": "white",
            "gridwidth": 2,
            "linecolor": "white",
            "showbackground": true,
            "ticks": "",
            "zerolinecolor": "white"
           },
           "zaxis": {
            "backgroundcolor": "#E5ECF6",
            "gridcolor": "white",
            "gridwidth": 2,
            "linecolor": "white",
            "showbackground": true,
            "ticks": "",
            "zerolinecolor": "white"
           }
          },
          "shapedefaults": {
           "line": {
            "color": "#2a3f5f"
           }
          },
          "ternary": {
           "aaxis": {
            "gridcolor": "white",
            "linecolor": "white",
            "ticks": ""
           },
           "baxis": {
            "gridcolor": "white",
            "linecolor": "white",
            "ticks": ""
           },
           "bgcolor": "#E5ECF6",
           "caxis": {
            "gridcolor": "white",
            "linecolor": "white",
            "ticks": ""
           }
          },
          "title": {
           "x": 0.05
          },
          "xaxis": {
           "automargin": true,
           "gridcolor": "white",
           "linecolor": "white",
           "ticks": "",
           "title": {
            "standoff": 15
           },
           "zerolinecolor": "white",
           "zerolinewidth": 2
          },
          "yaxis": {
           "automargin": true,
           "gridcolor": "white",
           "linecolor": "white",
           "ticks": "",
           "title": {
            "standoff": 15
           },
           "zerolinecolor": "white",
           "zerolinewidth": 2
          }
         }
        },
        "title": {
         "font": {
          "color": "#4D5663"
         }
        },
        "xaxis": {
         "gridcolor": "#E1E5ED",
         "showgrid": true,
         "tickfont": {
          "color": "#4D5663"
         },
         "title": {
          "font": {
           "color": "#4D5663"
          },
          "text": ""
         },
         "zerolinecolor": "#E1E5ED"
        },
        "yaxis": {
         "gridcolor": "#E1E5ED",
         "showgrid": true,
         "tickfont": {
          "color": "#4D5663"
         },
         "title": {
          "font": {
           "color": "#4D5663"
          },
          "text": ""
         },
         "zerolinecolor": "#E1E5ED"
        }
       }
      },
      "text/html": [
       "<div>                            <div id=\"65b5ec77-1be6-4530-ba0d-631723b3ecd3\" class=\"plotly-graph-div\" style=\"height:525px; width:100%;\"></div>            <script type=\"text/javascript\">                require([\"plotly\"], function(Plotly) {                    window.PLOTLYENV=window.PLOTLYENV || {};\n",
       "                    window.PLOTLYENV.BASE_URL='https://plot.ly';                                    if (document.getElementById(\"65b5ec77-1be6-4530-ba0d-631723b3ecd3\")) {                    Plotly.newPlot(                        \"65b5ec77-1be6-4530-ba0d-631723b3ecd3\",                        [{\"line\":{\"color\":\"rgba(255, 153, 51, 1.0)\",\"dash\":\"solid\",\"shape\":\"linear\",\"width\":1.3},\"marker\":{\"size\":10,\"symbol\":\"circle\"},\"mode\":\"markers\",\"name\":\"B\",\"text\":\"\",\"x\":[-1.0414938449171551,-0.4354303557101797,0.34091500601799474,2.0746916097471155,-0.24747851502364648,0.6186335280195576,0.06458959483746213,0.19202582337651733,0.6461078850095495,-1.0390452041639444,0.6227323408901065,-0.1674391576392429,-0.1926042781471134,-0.04046327744673468,-2.031733686393499,-1.2521232482806384,-1.0611150328040704,-1.3005911023122887,2.73068526240894,-0.014905077491252519,-0.3365265182353228,1.5688337988015868,-0.3537229936367583,-0.7774145415496925,-0.5531468020354161,0.3732146468619525,0.47503628200836756,0.6675289888307547,0.6342468938845498,0.3782402737404014,1.8073693745270427,0.10079055157427515,0.44395509474085854,-1.5999810850342004,-0.9361645071581075,1.6427002545546334,-0.19965900866375763,-0.5739373863449075,-0.4867162121661351,-0.7494828396960236,-0.4680209101771845,-0.646200346510384,-1.4499063061319621,-0.6729265648978373,-0.25920990095800994,-0.24524031082590997,0.9424992940939884,0.09746308886052545,-0.05670856183167005,-0.3700987414342005,-1.5330827425094273,-1.513493870789549,1.0020688989440132,-0.14477971981749638,-0.06713316999739569,0.36165647674204604,0.7879463209144801,1.2050186982820554,0.6388184550724472,0.6740116687479178,-0.7147605818973362,0.18841425752213384,0.47735099292647765,-0.035006175364803556,-1.0344884992735575,0.15948944361386735,-0.19589283962336,-0.6852943018916997,-0.5880941757709064,0.17035562449446132,0.5913902058621666,-0.9199122157675864,0.9573935392643146,-0.22375424741831904,0.43946538468921637,-0.3131973114136663,0.899443150063009,-0.8264953253132122,-0.16538637364699124,-0.13517908001439397,0.8091401271172439,-1.30904640296218,-0.45422206139924226,0.4907240937863005,1.424194979291537,1.1295658613318202,-1.1343449569566135,1.7497515669552424,-0.15609510980782706,-0.9701048648149126,-1.2922061453965263,2.015183999384643,1.0651251975905274,0.37795898160154373,-0.858135175494791,-1.8924836165721872,-0.7191375774094184,-0.5522674191284617,-0.913005426693775,1.6573844242452849],\"y\":[0.32996827386755656,1.218981953879945,-1.633714055298131,-0.6680046279061812,-0.6445098144275172,-1.4982567785730112,0.3789401874474387,-0.8354867132076352,-0.49649095723019165,0.9476618567929485,-0.29885328226115,-0.729847228699825,-0.2983012825271507,-1.5274385530114047,0.3163460257637768,0.9882599819686255,-1.8372850712119513,0.07213041078206192,-0.8505942819760838,-0.2593730549559899,-0.20097115604456608,0.08776815285268036,0.8990529880959327,-1.2300154009386157,-0.4646616485397626,2.008716385462978,1.3815353909949974,-0.4680705695693689,0.9951906400439332,-0.12774732777664352,-0.17209346094795594,0.42384697762520135,0.0881677466704928,-1.2137123261984333,-0.29210386848008296,-0.42918331158735196,0.5291358204103447,-0.3611920569394752,-0.4411126619848192,0.3564598562677138,-0.12583032060194752,-0.8136096980573316,-0.17480939014138125,0.6778331503575926,-1.8800938127463223,-0.20868994954541098,-1.0943898202087554,0.8226631614354307,-1.194260664483298,0.9773449695985037,-1.1496991655267428,-0.4387572002224895,0.7113296978977882,0.6136809231209187,0.5921491861167535,0.1571828181134136,0.14634596816652118,1.2738759482054949,0.6972173278890168,-0.987761104038325,-0.1670094503849138,0.3250201326918829,0.48994010297726887,1.4044309262428363,0.11312278441985077,-0.10669962027891286,-1.1168477862086412,-0.17675332603717261,0.03208977659009037,-1.6516672521154045,1.1328237831004917,-0.2851532459057253,1.149522847797316,0.4923262442913057,0.5794022959078174,-0.4871163476749682,-0.3483589684714914,-0.7185104093064334,0.6923830430179017,-0.9884401103254018,-1.4605573010519564,-0.9574630312394341,0.16346484134391212,0.10498467403726597,0.20016905200097182,-0.2795659106824173,-0.6401046918070968,1.1582797184904188,-1.2380619543518485,-2.028760970003082,-0.15868350420267063,1.8185289573542853,0.2526564960445763,0.3706396483181391,-0.2691068747137809,0.423560909260566,0.9555620773895517,0.244811084935598,0.13634805361852287,-0.24890511762323125],\"type\":\"scatter\"}],                        {\"legend\":{\"bgcolor\":\"#F5F6F9\",\"font\":{\"color\":\"#4D5663\"}},\"paper_bgcolor\":\"#F5F6F9\",\"plot_bgcolor\":\"#F5F6F9\",\"template\":{\"data\":{\"barpolar\":[{\"marker\":{\"line\":{\"color\":\"#E5ECF6\",\"width\":0.5},\"pattern\":{\"fillmode\":\"overlay\",\"size\":10,\"solidity\":0.2}},\"type\":\"barpolar\"}],\"bar\":[{\"error_x\":{\"color\":\"#2a3f5f\"},\"error_y\":{\"color\":\"#2a3f5f\"},\"marker\":{\"line\":{\"color\":\"#E5ECF6\",\"width\":0.5},\"pattern\":{\"fillmode\":\"overlay\",\"size\":10,\"solidity\":0.2}},\"type\":\"bar\"}],\"carpet\":[{\"aaxis\":{\"endlinecolor\":\"#2a3f5f\",\"gridcolor\":\"white\",\"linecolor\":\"white\",\"minorgridcolor\":\"white\",\"startlinecolor\":\"#2a3f5f\"},\"baxis\":{\"endlinecolor\":\"#2a3f5f\",\"gridcolor\":\"white\",\"linecolor\":\"white\",\"minorgridcolor\":\"white\",\"startlinecolor\":\"#2a3f5f\"},\"type\":\"carpet\"}],\"choropleth\":[{\"colorbar\":{\"outlinewidth\":0,\"ticks\":\"\"},\"type\":\"choropleth\"}],\"contourcarpet\":[{\"colorbar\":{\"outlinewidth\":0,\"ticks\":\"\"},\"type\":\"contourcarpet\"}],\"contour\":[{\"colorbar\":{\"outlinewidth\":0,\"ticks\":\"\"},\"colorscale\":[[0.0,\"#0d0887\"],[0.1111111111111111,\"#46039f\"],[0.2222222222222222,\"#7201a8\"],[0.3333333333333333,\"#9c179e\"],[0.4444444444444444,\"#bd3786\"],[0.5555555555555556,\"#d8576b\"],[0.6666666666666666,\"#ed7953\"],[0.7777777777777778,\"#fb9f3a\"],[0.8888888888888888,\"#fdca26\"],[1.0,\"#f0f921\"]],\"type\":\"contour\"}],\"heatmapgl\":[{\"colorbar\":{\"outlinewidth\":0,\"ticks\":\"\"},\"colorscale\":[[0.0,\"#0d0887\"],[0.1111111111111111,\"#46039f\"],[0.2222222222222222,\"#7201a8\"],[0.3333333333333333,\"#9c179e\"],[0.4444444444444444,\"#bd3786\"],[0.5555555555555556,\"#d8576b\"],[0.6666666666666666,\"#ed7953\"],[0.7777777777777778,\"#fb9f3a\"],[0.8888888888888888,\"#fdca26\"],[1.0,\"#f0f921\"]],\"type\":\"heatmapgl\"}],\"heatmap\":[{\"colorbar\":{\"outlinewidth\":0,\"ticks\":\"\"},\"colorscale\":[[0.0,\"#0d0887\"],[0.1111111111111111,\"#46039f\"],[0.2222222222222222,\"#7201a8\"],[0.3333333333333333,\"#9c179e\"],[0.4444444444444444,\"#bd3786\"],[0.5555555555555556,\"#d8576b\"],[0.6666666666666666,\"#ed7953\"],[0.7777777777777778,\"#fb9f3a\"],[0.8888888888888888,\"#fdca26\"],[1.0,\"#f0f921\"]],\"type\":\"heatmap\"}],\"histogram2dcontour\":[{\"colorbar\":{\"outlinewidth\":0,\"ticks\":\"\"},\"colorscale\":[[0.0,\"#0d0887\"],[0.1111111111111111,\"#46039f\"],[0.2222222222222222,\"#7201a8\"],[0.3333333333333333,\"#9c179e\"],[0.4444444444444444,\"#bd3786\"],[0.5555555555555556,\"#d8576b\"],[0.6666666666666666,\"#ed7953\"],[0.7777777777777778,\"#fb9f3a\"],[0.8888888888888888,\"#fdca26\"],[1.0,\"#f0f921\"]],\"type\":\"histogram2dcontour\"}],\"histogram2d\":[{\"colorbar\":{\"outlinewidth\":0,\"ticks\":\"\"},\"colorscale\":[[0.0,\"#0d0887\"],[0.1111111111111111,\"#46039f\"],[0.2222222222222222,\"#7201a8\"],[0.3333333333333333,\"#9c179e\"],[0.4444444444444444,\"#bd3786\"],[0.5555555555555556,\"#d8576b\"],[0.6666666666666666,\"#ed7953\"],[0.7777777777777778,\"#fb9f3a\"],[0.8888888888888888,\"#fdca26\"],[1.0,\"#f0f921\"]],\"type\":\"histogram2d\"}],\"histogram\":[{\"marker\":{\"pattern\":{\"fillmode\":\"overlay\",\"size\":10,\"solidity\":0.2}},\"type\":\"histogram\"}],\"mesh3d\":[{\"colorbar\":{\"outlinewidth\":0,\"ticks\":\"\"},\"type\":\"mesh3d\"}],\"parcoords\":[{\"line\":{\"colorbar\":{\"outlinewidth\":0,\"ticks\":\"\"}},\"type\":\"parcoords\"}],\"pie\":[{\"automargin\":true,\"type\":\"pie\"}],\"scatter3d\":[{\"line\":{\"colorbar\":{\"outlinewidth\":0,\"ticks\":\"\"}},\"marker\":{\"colorbar\":{\"outlinewidth\":0,\"ticks\":\"\"}},\"type\":\"scatter3d\"}],\"scattercarpet\":[{\"marker\":{\"colorbar\":{\"outlinewidth\":0,\"ticks\":\"\"}},\"type\":\"scattercarpet\"}],\"scattergeo\":[{\"marker\":{\"colorbar\":{\"outlinewidth\":0,\"ticks\":\"\"}},\"type\":\"scattergeo\"}],\"scattergl\":[{\"marker\":{\"colorbar\":{\"outlinewidth\":0,\"ticks\":\"\"}},\"type\":\"scattergl\"}],\"scattermapbox\":[{\"marker\":{\"colorbar\":{\"outlinewidth\":0,\"ticks\":\"\"}},\"type\":\"scattermapbox\"}],\"scatterpolargl\":[{\"marker\":{\"colorbar\":{\"outlinewidth\":0,\"ticks\":\"\"}},\"type\":\"scatterpolargl\"}],\"scatterpolar\":[{\"marker\":{\"colorbar\":{\"outlinewidth\":0,\"ticks\":\"\"}},\"type\":\"scatterpolar\"}],\"scatter\":[{\"fillpattern\":{\"fillmode\":\"overlay\",\"size\":10,\"solidity\":0.2},\"type\":\"scatter\"}],\"scatterternary\":[{\"marker\":{\"colorbar\":{\"outlinewidth\":0,\"ticks\":\"\"}},\"type\":\"scatterternary\"}],\"surface\":[{\"colorbar\":{\"outlinewidth\":0,\"ticks\":\"\"},\"colorscale\":[[0.0,\"#0d0887\"],[0.1111111111111111,\"#46039f\"],[0.2222222222222222,\"#7201a8\"],[0.3333333333333333,\"#9c179e\"],[0.4444444444444444,\"#bd3786\"],[0.5555555555555556,\"#d8576b\"],[0.6666666666666666,\"#ed7953\"],[0.7777777777777778,\"#fb9f3a\"],[0.8888888888888888,\"#fdca26\"],[1.0,\"#f0f921\"]],\"type\":\"surface\"}],\"table\":[{\"cells\":{\"fill\":{\"color\":\"#EBF0F8\"},\"line\":{\"color\":\"white\"}},\"header\":{\"fill\":{\"color\":\"#C8D4E3\"},\"line\":{\"color\":\"white\"}},\"type\":\"table\"}]},\"layout\":{\"annotationdefaults\":{\"arrowcolor\":\"#2a3f5f\",\"arrowhead\":0,\"arrowwidth\":1},\"autotypenumbers\":\"strict\",\"coloraxis\":{\"colorbar\":{\"outlinewidth\":0,\"ticks\":\"\"}},\"colorscale\":{\"diverging\":[[0,\"#8e0152\"],[0.1,\"#c51b7d\"],[0.2,\"#de77ae\"],[0.3,\"#f1b6da\"],[0.4,\"#fde0ef\"],[0.5,\"#f7f7f7\"],[0.6,\"#e6f5d0\"],[0.7,\"#b8e186\"],[0.8,\"#7fbc41\"],[0.9,\"#4d9221\"],[1,\"#276419\"]],\"sequential\":[[0.0,\"#0d0887\"],[0.1111111111111111,\"#46039f\"],[0.2222222222222222,\"#7201a8\"],[0.3333333333333333,\"#9c179e\"],[0.4444444444444444,\"#bd3786\"],[0.5555555555555556,\"#d8576b\"],[0.6666666666666666,\"#ed7953\"],[0.7777777777777778,\"#fb9f3a\"],[0.8888888888888888,\"#fdca26\"],[1.0,\"#f0f921\"]],\"sequentialminus\":[[0.0,\"#0d0887\"],[0.1111111111111111,\"#46039f\"],[0.2222222222222222,\"#7201a8\"],[0.3333333333333333,\"#9c179e\"],[0.4444444444444444,\"#bd3786\"],[0.5555555555555556,\"#d8576b\"],[0.6666666666666666,\"#ed7953\"],[0.7777777777777778,\"#fb9f3a\"],[0.8888888888888888,\"#fdca26\"],[1.0,\"#f0f921\"]]},\"colorway\":[\"#636efa\",\"#EF553B\",\"#00cc96\",\"#ab63fa\",\"#FFA15A\",\"#19d3f3\",\"#FF6692\",\"#B6E880\",\"#FF97FF\",\"#FECB52\"],\"font\":{\"color\":\"#2a3f5f\"},\"geo\":{\"bgcolor\":\"white\",\"lakecolor\":\"white\",\"landcolor\":\"#E5ECF6\",\"showlakes\":true,\"showland\":true,\"subunitcolor\":\"white\"},\"hoverlabel\":{\"align\":\"left\"},\"hovermode\":\"closest\",\"mapbox\":{\"style\":\"light\"},\"paper_bgcolor\":\"white\",\"plot_bgcolor\":\"#E5ECF6\",\"polar\":{\"angularaxis\":{\"gridcolor\":\"white\",\"linecolor\":\"white\",\"ticks\":\"\"},\"bgcolor\":\"#E5ECF6\",\"radialaxis\":{\"gridcolor\":\"white\",\"linecolor\":\"white\",\"ticks\":\"\"}},\"scene\":{\"xaxis\":{\"backgroundcolor\":\"#E5ECF6\",\"gridcolor\":\"white\",\"gridwidth\":2,\"linecolor\":\"white\",\"showbackground\":true,\"ticks\":\"\",\"zerolinecolor\":\"white\"},\"yaxis\":{\"backgroundcolor\":\"#E5ECF6\",\"gridcolor\":\"white\",\"gridwidth\":2,\"linecolor\":\"white\",\"showbackground\":true,\"ticks\":\"\",\"zerolinecolor\":\"white\"},\"zaxis\":{\"backgroundcolor\":\"#E5ECF6\",\"gridcolor\":\"white\",\"gridwidth\":2,\"linecolor\":\"white\",\"showbackground\":true,\"ticks\":\"\",\"zerolinecolor\":\"white\"}},\"shapedefaults\":{\"line\":{\"color\":\"#2a3f5f\"}},\"ternary\":{\"aaxis\":{\"gridcolor\":\"white\",\"linecolor\":\"white\",\"ticks\":\"\"},\"baxis\":{\"gridcolor\":\"white\",\"linecolor\":\"white\",\"ticks\":\"\"},\"bgcolor\":\"#E5ECF6\",\"caxis\":{\"gridcolor\":\"white\",\"linecolor\":\"white\",\"ticks\":\"\"}},\"title\":{\"x\":0.05},\"xaxis\":{\"automargin\":true,\"gridcolor\":\"white\",\"linecolor\":\"white\",\"ticks\":\"\",\"title\":{\"standoff\":15},\"zerolinecolor\":\"white\",\"zerolinewidth\":2},\"yaxis\":{\"automargin\":true,\"gridcolor\":\"white\",\"linecolor\":\"white\",\"ticks\":\"\",\"title\":{\"standoff\":15},\"zerolinecolor\":\"white\",\"zerolinewidth\":2}}},\"title\":{\"font\":{\"color\":\"#4D5663\"}},\"xaxis\":{\"gridcolor\":\"#E1E5ED\",\"showgrid\":true,\"tickfont\":{\"color\":\"#4D5663\"},\"title\":{\"font\":{\"color\":\"#4D5663\"},\"text\":\"\"},\"zerolinecolor\":\"#E1E5ED\"},\"yaxis\":{\"gridcolor\":\"#E1E5ED\",\"showgrid\":true,\"tickfont\":{\"color\":\"#4D5663\"},\"title\":{\"font\":{\"color\":\"#4D5663\"},\"text\":\"\"},\"zerolinecolor\":\"#E1E5ED\"}},                        {\"showLink\": true, \"linkText\": \"Export to plot.ly\", \"plotlyServerURL\": \"https://plot.ly\", \"responsive\": true}                    ).then(function(){\n",
       "                            \n",
       "var gd = document.getElementById('65b5ec77-1be6-4530-ba0d-631723b3ecd3');\n",
       "var x = new MutationObserver(function (mutations, observer) {{\n",
       "        var display = window.getComputedStyle(gd).display;\n",
       "        if (!display || display === 'none') {{\n",
       "            console.log([gd, 'removed!']);\n",
       "            Plotly.purge(gd);\n",
       "            observer.disconnect();\n",
       "        }}\n",
       "}});\n",
       "\n",
       "// Listen for the removal of the full notebook cells\n",
       "var notebookContainer = gd.closest('#notebook-container');\n",
       "if (notebookContainer) {{\n",
       "    x.observe(notebookContainer, {childList: true});\n",
       "}}\n",
       "\n",
       "// Listen for the clearing of the current output cell\n",
       "var outputEl = gd.closest('.output');\n",
       "if (outputEl) {{\n",
       "    x.observe(outputEl, {childList: true});\n",
       "}}\n",
       "\n",
       "                        })                };                });            </script>        </div>"
      ]
     },
     "metadata": {},
     "output_type": "display_data"
    }
   ],
   "source": [
    "df.iplot(kind='scatter',x='A',y='B',mode='markers',size=10)"
   ]
  },
  {
   "cell_type": "markdown",
   "metadata": {},
   "source": [
    "## Bar Plots"
   ]
  },
  {
   "cell_type": "code",
   "execution_count": 12,
   "metadata": {},
   "outputs": [
    {
     "data": {
      "application/vnd.plotly.v1+json": {
       "config": {
        "linkText": "Export to plot.ly",
        "plotlyServerURL": "https://plot.ly",
        "showLink": true
       },
       "data": [
        {
         "marker": {
          "color": "rgba(255, 153, 51, 0.6)",
          "line": {
           "color": "rgba(255, 153, 51, 1.0)",
           "width": 1
          }
         },
         "name": "Values",
         "orientation": "v",
         "text": "",
         "type": "bar",
         "x": [
          "A",
          "B",
          "C"
         ],
         "y": [
          32,
          43,
          50
         ]
        }
       ],
       "layout": {
        "legend": {
         "bgcolor": "#F5F6F9",
         "font": {
          "color": "#4D5663"
         }
        },
        "paper_bgcolor": "#F5F6F9",
        "plot_bgcolor": "#F5F6F9",
        "template": {
         "data": {
          "bar": [
           {
            "error_x": {
             "color": "#2a3f5f"
            },
            "error_y": {
             "color": "#2a3f5f"
            },
            "marker": {
             "line": {
              "color": "#E5ECF6",
              "width": 0.5
             },
             "pattern": {
              "fillmode": "overlay",
              "size": 10,
              "solidity": 0.2
             }
            },
            "type": "bar"
           }
          ],
          "barpolar": [
           {
            "marker": {
             "line": {
              "color": "#E5ECF6",
              "width": 0.5
             },
             "pattern": {
              "fillmode": "overlay",
              "size": 10,
              "solidity": 0.2
             }
            },
            "type": "barpolar"
           }
          ],
          "carpet": [
           {
            "aaxis": {
             "endlinecolor": "#2a3f5f",
             "gridcolor": "white",
             "linecolor": "white",
             "minorgridcolor": "white",
             "startlinecolor": "#2a3f5f"
            },
            "baxis": {
             "endlinecolor": "#2a3f5f",
             "gridcolor": "white",
             "linecolor": "white",
             "minorgridcolor": "white",
             "startlinecolor": "#2a3f5f"
            },
            "type": "carpet"
           }
          ],
          "choropleth": [
           {
            "colorbar": {
             "outlinewidth": 0,
             "ticks": ""
            },
            "type": "choropleth"
           }
          ],
          "contour": [
           {
            "colorbar": {
             "outlinewidth": 0,
             "ticks": ""
            },
            "colorscale": [
             [
              0,
              "#0d0887"
             ],
             [
              0.1111111111111111,
              "#46039f"
             ],
             [
              0.2222222222222222,
              "#7201a8"
             ],
             [
              0.3333333333333333,
              "#9c179e"
             ],
             [
              0.4444444444444444,
              "#bd3786"
             ],
             [
              0.5555555555555556,
              "#d8576b"
             ],
             [
              0.6666666666666666,
              "#ed7953"
             ],
             [
              0.7777777777777778,
              "#fb9f3a"
             ],
             [
              0.8888888888888888,
              "#fdca26"
             ],
             [
              1,
              "#f0f921"
             ]
            ],
            "type": "contour"
           }
          ],
          "contourcarpet": [
           {
            "colorbar": {
             "outlinewidth": 0,
             "ticks": ""
            },
            "type": "contourcarpet"
           }
          ],
          "heatmap": [
           {
            "colorbar": {
             "outlinewidth": 0,
             "ticks": ""
            },
            "colorscale": [
             [
              0,
              "#0d0887"
             ],
             [
              0.1111111111111111,
              "#46039f"
             ],
             [
              0.2222222222222222,
              "#7201a8"
             ],
             [
              0.3333333333333333,
              "#9c179e"
             ],
             [
              0.4444444444444444,
              "#bd3786"
             ],
             [
              0.5555555555555556,
              "#d8576b"
             ],
             [
              0.6666666666666666,
              "#ed7953"
             ],
             [
              0.7777777777777778,
              "#fb9f3a"
             ],
             [
              0.8888888888888888,
              "#fdca26"
             ],
             [
              1,
              "#f0f921"
             ]
            ],
            "type": "heatmap"
           }
          ],
          "heatmapgl": [
           {
            "colorbar": {
             "outlinewidth": 0,
             "ticks": ""
            },
            "colorscale": [
             [
              0,
              "#0d0887"
             ],
             [
              0.1111111111111111,
              "#46039f"
             ],
             [
              0.2222222222222222,
              "#7201a8"
             ],
             [
              0.3333333333333333,
              "#9c179e"
             ],
             [
              0.4444444444444444,
              "#bd3786"
             ],
             [
              0.5555555555555556,
              "#d8576b"
             ],
             [
              0.6666666666666666,
              "#ed7953"
             ],
             [
              0.7777777777777778,
              "#fb9f3a"
             ],
             [
              0.8888888888888888,
              "#fdca26"
             ],
             [
              1,
              "#f0f921"
             ]
            ],
            "type": "heatmapgl"
           }
          ],
          "histogram": [
           {
            "marker": {
             "pattern": {
              "fillmode": "overlay",
              "size": 10,
              "solidity": 0.2
             }
            },
            "type": "histogram"
           }
          ],
          "histogram2d": [
           {
            "colorbar": {
             "outlinewidth": 0,
             "ticks": ""
            },
            "colorscale": [
             [
              0,
              "#0d0887"
             ],
             [
              0.1111111111111111,
              "#46039f"
             ],
             [
              0.2222222222222222,
              "#7201a8"
             ],
             [
              0.3333333333333333,
              "#9c179e"
             ],
             [
              0.4444444444444444,
              "#bd3786"
             ],
             [
              0.5555555555555556,
              "#d8576b"
             ],
             [
              0.6666666666666666,
              "#ed7953"
             ],
             [
              0.7777777777777778,
              "#fb9f3a"
             ],
             [
              0.8888888888888888,
              "#fdca26"
             ],
             [
              1,
              "#f0f921"
             ]
            ],
            "type": "histogram2d"
           }
          ],
          "histogram2dcontour": [
           {
            "colorbar": {
             "outlinewidth": 0,
             "ticks": ""
            },
            "colorscale": [
             [
              0,
              "#0d0887"
             ],
             [
              0.1111111111111111,
              "#46039f"
             ],
             [
              0.2222222222222222,
              "#7201a8"
             ],
             [
              0.3333333333333333,
              "#9c179e"
             ],
             [
              0.4444444444444444,
              "#bd3786"
             ],
             [
              0.5555555555555556,
              "#d8576b"
             ],
             [
              0.6666666666666666,
              "#ed7953"
             ],
             [
              0.7777777777777778,
              "#fb9f3a"
             ],
             [
              0.8888888888888888,
              "#fdca26"
             ],
             [
              1,
              "#f0f921"
             ]
            ],
            "type": "histogram2dcontour"
           }
          ],
          "mesh3d": [
           {
            "colorbar": {
             "outlinewidth": 0,
             "ticks": ""
            },
            "type": "mesh3d"
           }
          ],
          "parcoords": [
           {
            "line": {
             "colorbar": {
              "outlinewidth": 0,
              "ticks": ""
             }
            },
            "type": "parcoords"
           }
          ],
          "pie": [
           {
            "automargin": true,
            "type": "pie"
           }
          ],
          "scatter": [
           {
            "fillpattern": {
             "fillmode": "overlay",
             "size": 10,
             "solidity": 0.2
            },
            "type": "scatter"
           }
          ],
          "scatter3d": [
           {
            "line": {
             "colorbar": {
              "outlinewidth": 0,
              "ticks": ""
             }
            },
            "marker": {
             "colorbar": {
              "outlinewidth": 0,
              "ticks": ""
             }
            },
            "type": "scatter3d"
           }
          ],
          "scattercarpet": [
           {
            "marker": {
             "colorbar": {
              "outlinewidth": 0,
              "ticks": ""
             }
            },
            "type": "scattercarpet"
           }
          ],
          "scattergeo": [
           {
            "marker": {
             "colorbar": {
              "outlinewidth": 0,
              "ticks": ""
             }
            },
            "type": "scattergeo"
           }
          ],
          "scattergl": [
           {
            "marker": {
             "colorbar": {
              "outlinewidth": 0,
              "ticks": ""
             }
            },
            "type": "scattergl"
           }
          ],
          "scattermapbox": [
           {
            "marker": {
             "colorbar": {
              "outlinewidth": 0,
              "ticks": ""
             }
            },
            "type": "scattermapbox"
           }
          ],
          "scatterpolar": [
           {
            "marker": {
             "colorbar": {
              "outlinewidth": 0,
              "ticks": ""
             }
            },
            "type": "scatterpolar"
           }
          ],
          "scatterpolargl": [
           {
            "marker": {
             "colorbar": {
              "outlinewidth": 0,
              "ticks": ""
             }
            },
            "type": "scatterpolargl"
           }
          ],
          "scatterternary": [
           {
            "marker": {
             "colorbar": {
              "outlinewidth": 0,
              "ticks": ""
             }
            },
            "type": "scatterternary"
           }
          ],
          "surface": [
           {
            "colorbar": {
             "outlinewidth": 0,
             "ticks": ""
            },
            "colorscale": [
             [
              0,
              "#0d0887"
             ],
             [
              0.1111111111111111,
              "#46039f"
             ],
             [
              0.2222222222222222,
              "#7201a8"
             ],
             [
              0.3333333333333333,
              "#9c179e"
             ],
             [
              0.4444444444444444,
              "#bd3786"
             ],
             [
              0.5555555555555556,
              "#d8576b"
             ],
             [
              0.6666666666666666,
              "#ed7953"
             ],
             [
              0.7777777777777778,
              "#fb9f3a"
             ],
             [
              0.8888888888888888,
              "#fdca26"
             ],
             [
              1,
              "#f0f921"
             ]
            ],
            "type": "surface"
           }
          ],
          "table": [
           {
            "cells": {
             "fill": {
              "color": "#EBF0F8"
             },
             "line": {
              "color": "white"
             }
            },
            "header": {
             "fill": {
              "color": "#C8D4E3"
             },
             "line": {
              "color": "white"
             }
            },
            "type": "table"
           }
          ]
         },
         "layout": {
          "annotationdefaults": {
           "arrowcolor": "#2a3f5f",
           "arrowhead": 0,
           "arrowwidth": 1
          },
          "autotypenumbers": "strict",
          "coloraxis": {
           "colorbar": {
            "outlinewidth": 0,
            "ticks": ""
           }
          },
          "colorscale": {
           "diverging": [
            [
             0,
             "#8e0152"
            ],
            [
             0.1,
             "#c51b7d"
            ],
            [
             0.2,
             "#de77ae"
            ],
            [
             0.3,
             "#f1b6da"
            ],
            [
             0.4,
             "#fde0ef"
            ],
            [
             0.5,
             "#f7f7f7"
            ],
            [
             0.6,
             "#e6f5d0"
            ],
            [
             0.7,
             "#b8e186"
            ],
            [
             0.8,
             "#7fbc41"
            ],
            [
             0.9,
             "#4d9221"
            ],
            [
             1,
             "#276419"
            ]
           ],
           "sequential": [
            [
             0,
             "#0d0887"
            ],
            [
             0.1111111111111111,
             "#46039f"
            ],
            [
             0.2222222222222222,
             "#7201a8"
            ],
            [
             0.3333333333333333,
             "#9c179e"
            ],
            [
             0.4444444444444444,
             "#bd3786"
            ],
            [
             0.5555555555555556,
             "#d8576b"
            ],
            [
             0.6666666666666666,
             "#ed7953"
            ],
            [
             0.7777777777777778,
             "#fb9f3a"
            ],
            [
             0.8888888888888888,
             "#fdca26"
            ],
            [
             1,
             "#f0f921"
            ]
           ],
           "sequentialminus": [
            [
             0,
             "#0d0887"
            ],
            [
             0.1111111111111111,
             "#46039f"
            ],
            [
             0.2222222222222222,
             "#7201a8"
            ],
            [
             0.3333333333333333,
             "#9c179e"
            ],
            [
             0.4444444444444444,
             "#bd3786"
            ],
            [
             0.5555555555555556,
             "#d8576b"
            ],
            [
             0.6666666666666666,
             "#ed7953"
            ],
            [
             0.7777777777777778,
             "#fb9f3a"
            ],
            [
             0.8888888888888888,
             "#fdca26"
            ],
            [
             1,
             "#f0f921"
            ]
           ]
          },
          "colorway": [
           "#636efa",
           "#EF553B",
           "#00cc96",
           "#ab63fa",
           "#FFA15A",
           "#19d3f3",
           "#FF6692",
           "#B6E880",
           "#FF97FF",
           "#FECB52"
          ],
          "font": {
           "color": "#2a3f5f"
          },
          "geo": {
           "bgcolor": "white",
           "lakecolor": "white",
           "landcolor": "#E5ECF6",
           "showlakes": true,
           "showland": true,
           "subunitcolor": "white"
          },
          "hoverlabel": {
           "align": "left"
          },
          "hovermode": "closest",
          "mapbox": {
           "style": "light"
          },
          "paper_bgcolor": "white",
          "plot_bgcolor": "#E5ECF6",
          "polar": {
           "angularaxis": {
            "gridcolor": "white",
            "linecolor": "white",
            "ticks": ""
           },
           "bgcolor": "#E5ECF6",
           "radialaxis": {
            "gridcolor": "white",
            "linecolor": "white",
            "ticks": ""
           }
          },
          "scene": {
           "xaxis": {
            "backgroundcolor": "#E5ECF6",
            "gridcolor": "white",
            "gridwidth": 2,
            "linecolor": "white",
            "showbackground": true,
            "ticks": "",
            "zerolinecolor": "white"
           },
           "yaxis": {
            "backgroundcolor": "#E5ECF6",
            "gridcolor": "white",
            "gridwidth": 2,
            "linecolor": "white",
            "showbackground": true,
            "ticks": "",
            "zerolinecolor": "white"
           },
           "zaxis": {
            "backgroundcolor": "#E5ECF6",
            "gridcolor": "white",
            "gridwidth": 2,
            "linecolor": "white",
            "showbackground": true,
            "ticks": "",
            "zerolinecolor": "white"
           }
          },
          "shapedefaults": {
           "line": {
            "color": "#2a3f5f"
           }
          },
          "ternary": {
           "aaxis": {
            "gridcolor": "white",
            "linecolor": "white",
            "ticks": ""
           },
           "baxis": {
            "gridcolor": "white",
            "linecolor": "white",
            "ticks": ""
           },
           "bgcolor": "#E5ECF6",
           "caxis": {
            "gridcolor": "white",
            "linecolor": "white",
            "ticks": ""
           }
          },
          "title": {
           "x": 0.05
          },
          "xaxis": {
           "automargin": true,
           "gridcolor": "white",
           "linecolor": "white",
           "ticks": "",
           "title": {
            "standoff": 15
           },
           "zerolinecolor": "white",
           "zerolinewidth": 2
          },
          "yaxis": {
           "automargin": true,
           "gridcolor": "white",
           "linecolor": "white",
           "ticks": "",
           "title": {
            "standoff": 15
           },
           "zerolinecolor": "white",
           "zerolinewidth": 2
          }
         }
        },
        "title": {
         "font": {
          "color": "#4D5663"
         }
        },
        "xaxis": {
         "gridcolor": "#E1E5ED",
         "showgrid": true,
         "tickfont": {
          "color": "#4D5663"
         },
         "title": {
          "font": {
           "color": "#4D5663"
          },
          "text": ""
         },
         "zerolinecolor": "#E1E5ED"
        },
        "yaxis": {
         "gridcolor": "#E1E5ED",
         "showgrid": true,
         "tickfont": {
          "color": "#4D5663"
         },
         "title": {
          "font": {
           "color": "#4D5663"
          },
          "text": ""
         },
         "zerolinecolor": "#E1E5ED"
        }
       }
      },
      "text/html": [
       "<div>                            <div id=\"9f336764-f36e-45ef-a84c-b05bb44c6ce7\" class=\"plotly-graph-div\" style=\"height:525px; width:100%;\"></div>            <script type=\"text/javascript\">                require([\"plotly\"], function(Plotly) {                    window.PLOTLYENV=window.PLOTLYENV || {};\n",
       "                    window.PLOTLYENV.BASE_URL='https://plot.ly';                                    if (document.getElementById(\"9f336764-f36e-45ef-a84c-b05bb44c6ce7\")) {                    Plotly.newPlot(                        \"9f336764-f36e-45ef-a84c-b05bb44c6ce7\",                        [{\"marker\":{\"color\":\"rgba(255, 153, 51, 0.6)\",\"line\":{\"color\":\"rgba(255, 153, 51, 1.0)\",\"width\":1}},\"name\":\"Values\",\"orientation\":\"v\",\"text\":\"\",\"x\":[\"A\",\"B\",\"C\"],\"y\":[32,43,50],\"type\":\"bar\"}],                        {\"legend\":{\"bgcolor\":\"#F5F6F9\",\"font\":{\"color\":\"#4D5663\"}},\"paper_bgcolor\":\"#F5F6F9\",\"plot_bgcolor\":\"#F5F6F9\",\"template\":{\"data\":{\"barpolar\":[{\"marker\":{\"line\":{\"color\":\"#E5ECF6\",\"width\":0.5},\"pattern\":{\"fillmode\":\"overlay\",\"size\":10,\"solidity\":0.2}},\"type\":\"barpolar\"}],\"bar\":[{\"error_x\":{\"color\":\"#2a3f5f\"},\"error_y\":{\"color\":\"#2a3f5f\"},\"marker\":{\"line\":{\"color\":\"#E5ECF6\",\"width\":0.5},\"pattern\":{\"fillmode\":\"overlay\",\"size\":10,\"solidity\":0.2}},\"type\":\"bar\"}],\"carpet\":[{\"aaxis\":{\"endlinecolor\":\"#2a3f5f\",\"gridcolor\":\"white\",\"linecolor\":\"white\",\"minorgridcolor\":\"white\",\"startlinecolor\":\"#2a3f5f\"},\"baxis\":{\"endlinecolor\":\"#2a3f5f\",\"gridcolor\":\"white\",\"linecolor\":\"white\",\"minorgridcolor\":\"white\",\"startlinecolor\":\"#2a3f5f\"},\"type\":\"carpet\"}],\"choropleth\":[{\"colorbar\":{\"outlinewidth\":0,\"ticks\":\"\"},\"type\":\"choropleth\"}],\"contourcarpet\":[{\"colorbar\":{\"outlinewidth\":0,\"ticks\":\"\"},\"type\":\"contourcarpet\"}],\"contour\":[{\"colorbar\":{\"outlinewidth\":0,\"ticks\":\"\"},\"colorscale\":[[0.0,\"#0d0887\"],[0.1111111111111111,\"#46039f\"],[0.2222222222222222,\"#7201a8\"],[0.3333333333333333,\"#9c179e\"],[0.4444444444444444,\"#bd3786\"],[0.5555555555555556,\"#d8576b\"],[0.6666666666666666,\"#ed7953\"],[0.7777777777777778,\"#fb9f3a\"],[0.8888888888888888,\"#fdca26\"],[1.0,\"#f0f921\"]],\"type\":\"contour\"}],\"heatmapgl\":[{\"colorbar\":{\"outlinewidth\":0,\"ticks\":\"\"},\"colorscale\":[[0.0,\"#0d0887\"],[0.1111111111111111,\"#46039f\"],[0.2222222222222222,\"#7201a8\"],[0.3333333333333333,\"#9c179e\"],[0.4444444444444444,\"#bd3786\"],[0.5555555555555556,\"#d8576b\"],[0.6666666666666666,\"#ed7953\"],[0.7777777777777778,\"#fb9f3a\"],[0.8888888888888888,\"#fdca26\"],[1.0,\"#f0f921\"]],\"type\":\"heatmapgl\"}],\"heatmap\":[{\"colorbar\":{\"outlinewidth\":0,\"ticks\":\"\"},\"colorscale\":[[0.0,\"#0d0887\"],[0.1111111111111111,\"#46039f\"],[0.2222222222222222,\"#7201a8\"],[0.3333333333333333,\"#9c179e\"],[0.4444444444444444,\"#bd3786\"],[0.5555555555555556,\"#d8576b\"],[0.6666666666666666,\"#ed7953\"],[0.7777777777777778,\"#fb9f3a\"],[0.8888888888888888,\"#fdca26\"],[1.0,\"#f0f921\"]],\"type\":\"heatmap\"}],\"histogram2dcontour\":[{\"colorbar\":{\"outlinewidth\":0,\"ticks\":\"\"},\"colorscale\":[[0.0,\"#0d0887\"],[0.1111111111111111,\"#46039f\"],[0.2222222222222222,\"#7201a8\"],[0.3333333333333333,\"#9c179e\"],[0.4444444444444444,\"#bd3786\"],[0.5555555555555556,\"#d8576b\"],[0.6666666666666666,\"#ed7953\"],[0.7777777777777778,\"#fb9f3a\"],[0.8888888888888888,\"#fdca26\"],[1.0,\"#f0f921\"]],\"type\":\"histogram2dcontour\"}],\"histogram2d\":[{\"colorbar\":{\"outlinewidth\":0,\"ticks\":\"\"},\"colorscale\":[[0.0,\"#0d0887\"],[0.1111111111111111,\"#46039f\"],[0.2222222222222222,\"#7201a8\"],[0.3333333333333333,\"#9c179e\"],[0.4444444444444444,\"#bd3786\"],[0.5555555555555556,\"#d8576b\"],[0.6666666666666666,\"#ed7953\"],[0.7777777777777778,\"#fb9f3a\"],[0.8888888888888888,\"#fdca26\"],[1.0,\"#f0f921\"]],\"type\":\"histogram2d\"}],\"histogram\":[{\"marker\":{\"pattern\":{\"fillmode\":\"overlay\",\"size\":10,\"solidity\":0.2}},\"type\":\"histogram\"}],\"mesh3d\":[{\"colorbar\":{\"outlinewidth\":0,\"ticks\":\"\"},\"type\":\"mesh3d\"}],\"parcoords\":[{\"line\":{\"colorbar\":{\"outlinewidth\":0,\"ticks\":\"\"}},\"type\":\"parcoords\"}],\"pie\":[{\"automargin\":true,\"type\":\"pie\"}],\"scatter3d\":[{\"line\":{\"colorbar\":{\"outlinewidth\":0,\"ticks\":\"\"}},\"marker\":{\"colorbar\":{\"outlinewidth\":0,\"ticks\":\"\"}},\"type\":\"scatter3d\"}],\"scattercarpet\":[{\"marker\":{\"colorbar\":{\"outlinewidth\":0,\"ticks\":\"\"}},\"type\":\"scattercarpet\"}],\"scattergeo\":[{\"marker\":{\"colorbar\":{\"outlinewidth\":0,\"ticks\":\"\"}},\"type\":\"scattergeo\"}],\"scattergl\":[{\"marker\":{\"colorbar\":{\"outlinewidth\":0,\"ticks\":\"\"}},\"type\":\"scattergl\"}],\"scattermapbox\":[{\"marker\":{\"colorbar\":{\"outlinewidth\":0,\"ticks\":\"\"}},\"type\":\"scattermapbox\"}],\"scatterpolargl\":[{\"marker\":{\"colorbar\":{\"outlinewidth\":0,\"ticks\":\"\"}},\"type\":\"scatterpolargl\"}],\"scatterpolar\":[{\"marker\":{\"colorbar\":{\"outlinewidth\":0,\"ticks\":\"\"}},\"type\":\"scatterpolar\"}],\"scatter\":[{\"fillpattern\":{\"fillmode\":\"overlay\",\"size\":10,\"solidity\":0.2},\"type\":\"scatter\"}],\"scatterternary\":[{\"marker\":{\"colorbar\":{\"outlinewidth\":0,\"ticks\":\"\"}},\"type\":\"scatterternary\"}],\"surface\":[{\"colorbar\":{\"outlinewidth\":0,\"ticks\":\"\"},\"colorscale\":[[0.0,\"#0d0887\"],[0.1111111111111111,\"#46039f\"],[0.2222222222222222,\"#7201a8\"],[0.3333333333333333,\"#9c179e\"],[0.4444444444444444,\"#bd3786\"],[0.5555555555555556,\"#d8576b\"],[0.6666666666666666,\"#ed7953\"],[0.7777777777777778,\"#fb9f3a\"],[0.8888888888888888,\"#fdca26\"],[1.0,\"#f0f921\"]],\"type\":\"surface\"}],\"table\":[{\"cells\":{\"fill\":{\"color\":\"#EBF0F8\"},\"line\":{\"color\":\"white\"}},\"header\":{\"fill\":{\"color\":\"#C8D4E3\"},\"line\":{\"color\":\"white\"}},\"type\":\"table\"}]},\"layout\":{\"annotationdefaults\":{\"arrowcolor\":\"#2a3f5f\",\"arrowhead\":0,\"arrowwidth\":1},\"autotypenumbers\":\"strict\",\"coloraxis\":{\"colorbar\":{\"outlinewidth\":0,\"ticks\":\"\"}},\"colorscale\":{\"diverging\":[[0,\"#8e0152\"],[0.1,\"#c51b7d\"],[0.2,\"#de77ae\"],[0.3,\"#f1b6da\"],[0.4,\"#fde0ef\"],[0.5,\"#f7f7f7\"],[0.6,\"#e6f5d0\"],[0.7,\"#b8e186\"],[0.8,\"#7fbc41\"],[0.9,\"#4d9221\"],[1,\"#276419\"]],\"sequential\":[[0.0,\"#0d0887\"],[0.1111111111111111,\"#46039f\"],[0.2222222222222222,\"#7201a8\"],[0.3333333333333333,\"#9c179e\"],[0.4444444444444444,\"#bd3786\"],[0.5555555555555556,\"#d8576b\"],[0.6666666666666666,\"#ed7953\"],[0.7777777777777778,\"#fb9f3a\"],[0.8888888888888888,\"#fdca26\"],[1.0,\"#f0f921\"]],\"sequentialminus\":[[0.0,\"#0d0887\"],[0.1111111111111111,\"#46039f\"],[0.2222222222222222,\"#7201a8\"],[0.3333333333333333,\"#9c179e\"],[0.4444444444444444,\"#bd3786\"],[0.5555555555555556,\"#d8576b\"],[0.6666666666666666,\"#ed7953\"],[0.7777777777777778,\"#fb9f3a\"],[0.8888888888888888,\"#fdca26\"],[1.0,\"#f0f921\"]]},\"colorway\":[\"#636efa\",\"#EF553B\",\"#00cc96\",\"#ab63fa\",\"#FFA15A\",\"#19d3f3\",\"#FF6692\",\"#B6E880\",\"#FF97FF\",\"#FECB52\"],\"font\":{\"color\":\"#2a3f5f\"},\"geo\":{\"bgcolor\":\"white\",\"lakecolor\":\"white\",\"landcolor\":\"#E5ECF6\",\"showlakes\":true,\"showland\":true,\"subunitcolor\":\"white\"},\"hoverlabel\":{\"align\":\"left\"},\"hovermode\":\"closest\",\"mapbox\":{\"style\":\"light\"},\"paper_bgcolor\":\"white\",\"plot_bgcolor\":\"#E5ECF6\",\"polar\":{\"angularaxis\":{\"gridcolor\":\"white\",\"linecolor\":\"white\",\"ticks\":\"\"},\"bgcolor\":\"#E5ECF6\",\"radialaxis\":{\"gridcolor\":\"white\",\"linecolor\":\"white\",\"ticks\":\"\"}},\"scene\":{\"xaxis\":{\"backgroundcolor\":\"#E5ECF6\",\"gridcolor\":\"white\",\"gridwidth\":2,\"linecolor\":\"white\",\"showbackground\":true,\"ticks\":\"\",\"zerolinecolor\":\"white\"},\"yaxis\":{\"backgroundcolor\":\"#E5ECF6\",\"gridcolor\":\"white\",\"gridwidth\":2,\"linecolor\":\"white\",\"showbackground\":true,\"ticks\":\"\",\"zerolinecolor\":\"white\"},\"zaxis\":{\"backgroundcolor\":\"#E5ECF6\",\"gridcolor\":\"white\",\"gridwidth\":2,\"linecolor\":\"white\",\"showbackground\":true,\"ticks\":\"\",\"zerolinecolor\":\"white\"}},\"shapedefaults\":{\"line\":{\"color\":\"#2a3f5f\"}},\"ternary\":{\"aaxis\":{\"gridcolor\":\"white\",\"linecolor\":\"white\",\"ticks\":\"\"},\"baxis\":{\"gridcolor\":\"white\",\"linecolor\":\"white\",\"ticks\":\"\"},\"bgcolor\":\"#E5ECF6\",\"caxis\":{\"gridcolor\":\"white\",\"linecolor\":\"white\",\"ticks\":\"\"}},\"title\":{\"x\":0.05},\"xaxis\":{\"automargin\":true,\"gridcolor\":\"white\",\"linecolor\":\"white\",\"ticks\":\"\",\"title\":{\"standoff\":15},\"zerolinecolor\":\"white\",\"zerolinewidth\":2},\"yaxis\":{\"automargin\":true,\"gridcolor\":\"white\",\"linecolor\":\"white\",\"ticks\":\"\",\"title\":{\"standoff\":15},\"zerolinecolor\":\"white\",\"zerolinewidth\":2}}},\"title\":{\"font\":{\"color\":\"#4D5663\"}},\"xaxis\":{\"gridcolor\":\"#E1E5ED\",\"showgrid\":true,\"tickfont\":{\"color\":\"#4D5663\"},\"title\":{\"font\":{\"color\":\"#4D5663\"},\"text\":\"\"},\"zerolinecolor\":\"#E1E5ED\"},\"yaxis\":{\"gridcolor\":\"#E1E5ED\",\"showgrid\":true,\"tickfont\":{\"color\":\"#4D5663\"},\"title\":{\"font\":{\"color\":\"#4D5663\"},\"text\":\"\"},\"zerolinecolor\":\"#E1E5ED\"}},                        {\"showLink\": true, \"linkText\": \"Export to plot.ly\", \"plotlyServerURL\": \"https://plot.ly\", \"responsive\": true}                    ).then(function(){\n",
       "                            \n",
       "var gd = document.getElementById('9f336764-f36e-45ef-a84c-b05bb44c6ce7');\n",
       "var x = new MutationObserver(function (mutations, observer) {{\n",
       "        var display = window.getComputedStyle(gd).display;\n",
       "        if (!display || display === 'none') {{\n",
       "            console.log([gd, 'removed!']);\n",
       "            Plotly.purge(gd);\n",
       "            observer.disconnect();\n",
       "        }}\n",
       "}});\n",
       "\n",
       "// Listen for the removal of the full notebook cells\n",
       "var notebookContainer = gd.closest('#notebook-container');\n",
       "if (notebookContainer) {{\n",
       "    x.observe(notebookContainer, {childList: true});\n",
       "}}\n",
       "\n",
       "// Listen for the clearing of the current output cell\n",
       "var outputEl = gd.closest('.output');\n",
       "if (outputEl) {{\n",
       "    x.observe(outputEl, {childList: true});\n",
       "}}\n",
       "\n",
       "                        })                };                });            </script>        </div>"
      ]
     },
     "metadata": {},
     "output_type": "display_data"
    }
   ],
   "source": [
    "df2.iplot(kind='bar',x='Category',y='Values')"
   ]
  },
  {
   "cell_type": "code",
   "execution_count": 13,
   "metadata": {},
   "outputs": [
    {
     "data": {
      "application/vnd.plotly.v1+json": {
       "config": {
        "linkText": "Export to plot.ly",
        "plotlyServerURL": "https://plot.ly",
        "showLink": true
       },
       "data": [
        {
         "marker": {
          "color": "rgba(255, 153, 51, 0.6)",
          "line": {
           "color": "rgba(255, 153, 51, 1.0)",
           "width": 1
          }
         },
         "name": "None",
         "orientation": "v",
         "text": "",
         "type": "bar",
         "x": [
          "A",
          "B",
          "C",
          "D"
         ],
         "y": [
          100,
          100,
          100,
          100
         ]
        }
       ],
       "layout": {
        "legend": {
         "bgcolor": "#F5F6F9",
         "font": {
          "color": "#4D5663"
         }
        },
        "paper_bgcolor": "#F5F6F9",
        "plot_bgcolor": "#F5F6F9",
        "template": {
         "data": {
          "bar": [
           {
            "error_x": {
             "color": "#2a3f5f"
            },
            "error_y": {
             "color": "#2a3f5f"
            },
            "marker": {
             "line": {
              "color": "#E5ECF6",
              "width": 0.5
             },
             "pattern": {
              "fillmode": "overlay",
              "size": 10,
              "solidity": 0.2
             }
            },
            "type": "bar"
           }
          ],
          "barpolar": [
           {
            "marker": {
             "line": {
              "color": "#E5ECF6",
              "width": 0.5
             },
             "pattern": {
              "fillmode": "overlay",
              "size": 10,
              "solidity": 0.2
             }
            },
            "type": "barpolar"
           }
          ],
          "carpet": [
           {
            "aaxis": {
             "endlinecolor": "#2a3f5f",
             "gridcolor": "white",
             "linecolor": "white",
             "minorgridcolor": "white",
             "startlinecolor": "#2a3f5f"
            },
            "baxis": {
             "endlinecolor": "#2a3f5f",
             "gridcolor": "white",
             "linecolor": "white",
             "minorgridcolor": "white",
             "startlinecolor": "#2a3f5f"
            },
            "type": "carpet"
           }
          ],
          "choropleth": [
           {
            "colorbar": {
             "outlinewidth": 0,
             "ticks": ""
            },
            "type": "choropleth"
           }
          ],
          "contour": [
           {
            "colorbar": {
             "outlinewidth": 0,
             "ticks": ""
            },
            "colorscale": [
             [
              0,
              "#0d0887"
             ],
             [
              0.1111111111111111,
              "#46039f"
             ],
             [
              0.2222222222222222,
              "#7201a8"
             ],
             [
              0.3333333333333333,
              "#9c179e"
             ],
             [
              0.4444444444444444,
              "#bd3786"
             ],
             [
              0.5555555555555556,
              "#d8576b"
             ],
             [
              0.6666666666666666,
              "#ed7953"
             ],
             [
              0.7777777777777778,
              "#fb9f3a"
             ],
             [
              0.8888888888888888,
              "#fdca26"
             ],
             [
              1,
              "#f0f921"
             ]
            ],
            "type": "contour"
           }
          ],
          "contourcarpet": [
           {
            "colorbar": {
             "outlinewidth": 0,
             "ticks": ""
            },
            "type": "contourcarpet"
           }
          ],
          "heatmap": [
           {
            "colorbar": {
             "outlinewidth": 0,
             "ticks": ""
            },
            "colorscale": [
             [
              0,
              "#0d0887"
             ],
             [
              0.1111111111111111,
              "#46039f"
             ],
             [
              0.2222222222222222,
              "#7201a8"
             ],
             [
              0.3333333333333333,
              "#9c179e"
             ],
             [
              0.4444444444444444,
              "#bd3786"
             ],
             [
              0.5555555555555556,
              "#d8576b"
             ],
             [
              0.6666666666666666,
              "#ed7953"
             ],
             [
              0.7777777777777778,
              "#fb9f3a"
             ],
             [
              0.8888888888888888,
              "#fdca26"
             ],
             [
              1,
              "#f0f921"
             ]
            ],
            "type": "heatmap"
           }
          ],
          "heatmapgl": [
           {
            "colorbar": {
             "outlinewidth": 0,
             "ticks": ""
            },
            "colorscale": [
             [
              0,
              "#0d0887"
             ],
             [
              0.1111111111111111,
              "#46039f"
             ],
             [
              0.2222222222222222,
              "#7201a8"
             ],
             [
              0.3333333333333333,
              "#9c179e"
             ],
             [
              0.4444444444444444,
              "#bd3786"
             ],
             [
              0.5555555555555556,
              "#d8576b"
             ],
             [
              0.6666666666666666,
              "#ed7953"
             ],
             [
              0.7777777777777778,
              "#fb9f3a"
             ],
             [
              0.8888888888888888,
              "#fdca26"
             ],
             [
              1,
              "#f0f921"
             ]
            ],
            "type": "heatmapgl"
           }
          ],
          "histogram": [
           {
            "marker": {
             "pattern": {
              "fillmode": "overlay",
              "size": 10,
              "solidity": 0.2
             }
            },
            "type": "histogram"
           }
          ],
          "histogram2d": [
           {
            "colorbar": {
             "outlinewidth": 0,
             "ticks": ""
            },
            "colorscale": [
             [
              0,
              "#0d0887"
             ],
             [
              0.1111111111111111,
              "#46039f"
             ],
             [
              0.2222222222222222,
              "#7201a8"
             ],
             [
              0.3333333333333333,
              "#9c179e"
             ],
             [
              0.4444444444444444,
              "#bd3786"
             ],
             [
              0.5555555555555556,
              "#d8576b"
             ],
             [
              0.6666666666666666,
              "#ed7953"
             ],
             [
              0.7777777777777778,
              "#fb9f3a"
             ],
             [
              0.8888888888888888,
              "#fdca26"
             ],
             [
              1,
              "#f0f921"
             ]
            ],
            "type": "histogram2d"
           }
          ],
          "histogram2dcontour": [
           {
            "colorbar": {
             "outlinewidth": 0,
             "ticks": ""
            },
            "colorscale": [
             [
              0,
              "#0d0887"
             ],
             [
              0.1111111111111111,
              "#46039f"
             ],
             [
              0.2222222222222222,
              "#7201a8"
             ],
             [
              0.3333333333333333,
              "#9c179e"
             ],
             [
              0.4444444444444444,
              "#bd3786"
             ],
             [
              0.5555555555555556,
              "#d8576b"
             ],
             [
              0.6666666666666666,
              "#ed7953"
             ],
             [
              0.7777777777777778,
              "#fb9f3a"
             ],
             [
              0.8888888888888888,
              "#fdca26"
             ],
             [
              1,
              "#f0f921"
             ]
            ],
            "type": "histogram2dcontour"
           }
          ],
          "mesh3d": [
           {
            "colorbar": {
             "outlinewidth": 0,
             "ticks": ""
            },
            "type": "mesh3d"
           }
          ],
          "parcoords": [
           {
            "line": {
             "colorbar": {
              "outlinewidth": 0,
              "ticks": ""
             }
            },
            "type": "parcoords"
           }
          ],
          "pie": [
           {
            "automargin": true,
            "type": "pie"
           }
          ],
          "scatter": [
           {
            "fillpattern": {
             "fillmode": "overlay",
             "size": 10,
             "solidity": 0.2
            },
            "type": "scatter"
           }
          ],
          "scatter3d": [
           {
            "line": {
             "colorbar": {
              "outlinewidth": 0,
              "ticks": ""
             }
            },
            "marker": {
             "colorbar": {
              "outlinewidth": 0,
              "ticks": ""
             }
            },
            "type": "scatter3d"
           }
          ],
          "scattercarpet": [
           {
            "marker": {
             "colorbar": {
              "outlinewidth": 0,
              "ticks": ""
             }
            },
            "type": "scattercarpet"
           }
          ],
          "scattergeo": [
           {
            "marker": {
             "colorbar": {
              "outlinewidth": 0,
              "ticks": ""
             }
            },
            "type": "scattergeo"
           }
          ],
          "scattergl": [
           {
            "marker": {
             "colorbar": {
              "outlinewidth": 0,
              "ticks": ""
             }
            },
            "type": "scattergl"
           }
          ],
          "scattermapbox": [
           {
            "marker": {
             "colorbar": {
              "outlinewidth": 0,
              "ticks": ""
             }
            },
            "type": "scattermapbox"
           }
          ],
          "scatterpolar": [
           {
            "marker": {
             "colorbar": {
              "outlinewidth": 0,
              "ticks": ""
             }
            },
            "type": "scatterpolar"
           }
          ],
          "scatterpolargl": [
           {
            "marker": {
             "colorbar": {
              "outlinewidth": 0,
              "ticks": ""
             }
            },
            "type": "scatterpolargl"
           }
          ],
          "scatterternary": [
           {
            "marker": {
             "colorbar": {
              "outlinewidth": 0,
              "ticks": ""
             }
            },
            "type": "scatterternary"
           }
          ],
          "surface": [
           {
            "colorbar": {
             "outlinewidth": 0,
             "ticks": ""
            },
            "colorscale": [
             [
              0,
              "#0d0887"
             ],
             [
              0.1111111111111111,
              "#46039f"
             ],
             [
              0.2222222222222222,
              "#7201a8"
             ],
             [
              0.3333333333333333,
              "#9c179e"
             ],
             [
              0.4444444444444444,
              "#bd3786"
             ],
             [
              0.5555555555555556,
              "#d8576b"
             ],
             [
              0.6666666666666666,
              "#ed7953"
             ],
             [
              0.7777777777777778,
              "#fb9f3a"
             ],
             [
              0.8888888888888888,
              "#fdca26"
             ],
             [
              1,
              "#f0f921"
             ]
            ],
            "type": "surface"
           }
          ],
          "table": [
           {
            "cells": {
             "fill": {
              "color": "#EBF0F8"
             },
             "line": {
              "color": "white"
             }
            },
            "header": {
             "fill": {
              "color": "#C8D4E3"
             },
             "line": {
              "color": "white"
             }
            },
            "type": "table"
           }
          ]
         },
         "layout": {
          "annotationdefaults": {
           "arrowcolor": "#2a3f5f",
           "arrowhead": 0,
           "arrowwidth": 1
          },
          "autotypenumbers": "strict",
          "coloraxis": {
           "colorbar": {
            "outlinewidth": 0,
            "ticks": ""
           }
          },
          "colorscale": {
           "diverging": [
            [
             0,
             "#8e0152"
            ],
            [
             0.1,
             "#c51b7d"
            ],
            [
             0.2,
             "#de77ae"
            ],
            [
             0.3,
             "#f1b6da"
            ],
            [
             0.4,
             "#fde0ef"
            ],
            [
             0.5,
             "#f7f7f7"
            ],
            [
             0.6,
             "#e6f5d0"
            ],
            [
             0.7,
             "#b8e186"
            ],
            [
             0.8,
             "#7fbc41"
            ],
            [
             0.9,
             "#4d9221"
            ],
            [
             1,
             "#276419"
            ]
           ],
           "sequential": [
            [
             0,
             "#0d0887"
            ],
            [
             0.1111111111111111,
             "#46039f"
            ],
            [
             0.2222222222222222,
             "#7201a8"
            ],
            [
             0.3333333333333333,
             "#9c179e"
            ],
            [
             0.4444444444444444,
             "#bd3786"
            ],
            [
             0.5555555555555556,
             "#d8576b"
            ],
            [
             0.6666666666666666,
             "#ed7953"
            ],
            [
             0.7777777777777778,
             "#fb9f3a"
            ],
            [
             0.8888888888888888,
             "#fdca26"
            ],
            [
             1,
             "#f0f921"
            ]
           ],
           "sequentialminus": [
            [
             0,
             "#0d0887"
            ],
            [
             0.1111111111111111,
             "#46039f"
            ],
            [
             0.2222222222222222,
             "#7201a8"
            ],
            [
             0.3333333333333333,
             "#9c179e"
            ],
            [
             0.4444444444444444,
             "#bd3786"
            ],
            [
             0.5555555555555556,
             "#d8576b"
            ],
            [
             0.6666666666666666,
             "#ed7953"
            ],
            [
             0.7777777777777778,
             "#fb9f3a"
            ],
            [
             0.8888888888888888,
             "#fdca26"
            ],
            [
             1,
             "#f0f921"
            ]
           ]
          },
          "colorway": [
           "#636efa",
           "#EF553B",
           "#00cc96",
           "#ab63fa",
           "#FFA15A",
           "#19d3f3",
           "#FF6692",
           "#B6E880",
           "#FF97FF",
           "#FECB52"
          ],
          "font": {
           "color": "#2a3f5f"
          },
          "geo": {
           "bgcolor": "white",
           "lakecolor": "white",
           "landcolor": "#E5ECF6",
           "showlakes": true,
           "showland": true,
           "subunitcolor": "white"
          },
          "hoverlabel": {
           "align": "left"
          },
          "hovermode": "closest",
          "mapbox": {
           "style": "light"
          },
          "paper_bgcolor": "white",
          "plot_bgcolor": "#E5ECF6",
          "polar": {
           "angularaxis": {
            "gridcolor": "white",
            "linecolor": "white",
            "ticks": ""
           },
           "bgcolor": "#E5ECF6",
           "radialaxis": {
            "gridcolor": "white",
            "linecolor": "white",
            "ticks": ""
           }
          },
          "scene": {
           "xaxis": {
            "backgroundcolor": "#E5ECF6",
            "gridcolor": "white",
            "gridwidth": 2,
            "linecolor": "white",
            "showbackground": true,
            "ticks": "",
            "zerolinecolor": "white"
           },
           "yaxis": {
            "backgroundcolor": "#E5ECF6",
            "gridcolor": "white",
            "gridwidth": 2,
            "linecolor": "white",
            "showbackground": true,
            "ticks": "",
            "zerolinecolor": "white"
           },
           "zaxis": {
            "backgroundcolor": "#E5ECF6",
            "gridcolor": "white",
            "gridwidth": 2,
            "linecolor": "white",
            "showbackground": true,
            "ticks": "",
            "zerolinecolor": "white"
           }
          },
          "shapedefaults": {
           "line": {
            "color": "#2a3f5f"
           }
          },
          "ternary": {
           "aaxis": {
            "gridcolor": "white",
            "linecolor": "white",
            "ticks": ""
           },
           "baxis": {
            "gridcolor": "white",
            "linecolor": "white",
            "ticks": ""
           },
           "bgcolor": "#E5ECF6",
           "caxis": {
            "gridcolor": "white",
            "linecolor": "white",
            "ticks": ""
           }
          },
          "title": {
           "x": 0.05
          },
          "xaxis": {
           "automargin": true,
           "gridcolor": "white",
           "linecolor": "white",
           "ticks": "",
           "title": {
            "standoff": 15
           },
           "zerolinecolor": "white",
           "zerolinewidth": 2
          },
          "yaxis": {
           "automargin": true,
           "gridcolor": "white",
           "linecolor": "white",
           "ticks": "",
           "title": {
            "standoff": 15
           },
           "zerolinecolor": "white",
           "zerolinewidth": 2
          }
         }
        },
        "title": {
         "font": {
          "color": "#4D5663"
         }
        },
        "xaxis": {
         "gridcolor": "#E1E5ED",
         "showgrid": true,
         "tickfont": {
          "color": "#4D5663"
         },
         "title": {
          "font": {
           "color": "#4D5663"
          },
          "text": ""
         },
         "zerolinecolor": "#E1E5ED"
        },
        "yaxis": {
         "gridcolor": "#E1E5ED",
         "showgrid": true,
         "tickfont": {
          "color": "#4D5663"
         },
         "title": {
          "font": {
           "color": "#4D5663"
          },
          "text": ""
         },
         "zerolinecolor": "#E1E5ED"
        }
       }
      },
      "text/html": [
       "<div>                            <div id=\"1ca7d11b-b38a-4518-bf9c-604c108cea0c\" class=\"plotly-graph-div\" style=\"height:525px; width:100%;\"></div>            <script type=\"text/javascript\">                require([\"plotly\"], function(Plotly) {                    window.PLOTLYENV=window.PLOTLYENV || {};\n",
       "                    window.PLOTLYENV.BASE_URL='https://plot.ly';                                    if (document.getElementById(\"1ca7d11b-b38a-4518-bf9c-604c108cea0c\")) {                    Plotly.newPlot(                        \"1ca7d11b-b38a-4518-bf9c-604c108cea0c\",                        [{\"marker\":{\"color\":\"rgba(255, 153, 51, 0.6)\",\"line\":{\"color\":\"rgba(255, 153, 51, 1.0)\",\"width\":1}},\"name\":\"None\",\"orientation\":\"v\",\"text\":\"\",\"x\":[\"A\",\"B\",\"C\",\"D\"],\"y\":[100,100,100,100],\"type\":\"bar\"}],                        {\"legend\":{\"bgcolor\":\"#F5F6F9\",\"font\":{\"color\":\"#4D5663\"}},\"paper_bgcolor\":\"#F5F6F9\",\"plot_bgcolor\":\"#F5F6F9\",\"template\":{\"data\":{\"barpolar\":[{\"marker\":{\"line\":{\"color\":\"#E5ECF6\",\"width\":0.5},\"pattern\":{\"fillmode\":\"overlay\",\"size\":10,\"solidity\":0.2}},\"type\":\"barpolar\"}],\"bar\":[{\"error_x\":{\"color\":\"#2a3f5f\"},\"error_y\":{\"color\":\"#2a3f5f\"},\"marker\":{\"line\":{\"color\":\"#E5ECF6\",\"width\":0.5},\"pattern\":{\"fillmode\":\"overlay\",\"size\":10,\"solidity\":0.2}},\"type\":\"bar\"}],\"carpet\":[{\"aaxis\":{\"endlinecolor\":\"#2a3f5f\",\"gridcolor\":\"white\",\"linecolor\":\"white\",\"minorgridcolor\":\"white\",\"startlinecolor\":\"#2a3f5f\"},\"baxis\":{\"endlinecolor\":\"#2a3f5f\",\"gridcolor\":\"white\",\"linecolor\":\"white\",\"minorgridcolor\":\"white\",\"startlinecolor\":\"#2a3f5f\"},\"type\":\"carpet\"}],\"choropleth\":[{\"colorbar\":{\"outlinewidth\":0,\"ticks\":\"\"},\"type\":\"choropleth\"}],\"contourcarpet\":[{\"colorbar\":{\"outlinewidth\":0,\"ticks\":\"\"},\"type\":\"contourcarpet\"}],\"contour\":[{\"colorbar\":{\"outlinewidth\":0,\"ticks\":\"\"},\"colorscale\":[[0.0,\"#0d0887\"],[0.1111111111111111,\"#46039f\"],[0.2222222222222222,\"#7201a8\"],[0.3333333333333333,\"#9c179e\"],[0.4444444444444444,\"#bd3786\"],[0.5555555555555556,\"#d8576b\"],[0.6666666666666666,\"#ed7953\"],[0.7777777777777778,\"#fb9f3a\"],[0.8888888888888888,\"#fdca26\"],[1.0,\"#f0f921\"]],\"type\":\"contour\"}],\"heatmapgl\":[{\"colorbar\":{\"outlinewidth\":0,\"ticks\":\"\"},\"colorscale\":[[0.0,\"#0d0887\"],[0.1111111111111111,\"#46039f\"],[0.2222222222222222,\"#7201a8\"],[0.3333333333333333,\"#9c179e\"],[0.4444444444444444,\"#bd3786\"],[0.5555555555555556,\"#d8576b\"],[0.6666666666666666,\"#ed7953\"],[0.7777777777777778,\"#fb9f3a\"],[0.8888888888888888,\"#fdca26\"],[1.0,\"#f0f921\"]],\"type\":\"heatmapgl\"}],\"heatmap\":[{\"colorbar\":{\"outlinewidth\":0,\"ticks\":\"\"},\"colorscale\":[[0.0,\"#0d0887\"],[0.1111111111111111,\"#46039f\"],[0.2222222222222222,\"#7201a8\"],[0.3333333333333333,\"#9c179e\"],[0.4444444444444444,\"#bd3786\"],[0.5555555555555556,\"#d8576b\"],[0.6666666666666666,\"#ed7953\"],[0.7777777777777778,\"#fb9f3a\"],[0.8888888888888888,\"#fdca26\"],[1.0,\"#f0f921\"]],\"type\":\"heatmap\"}],\"histogram2dcontour\":[{\"colorbar\":{\"outlinewidth\":0,\"ticks\":\"\"},\"colorscale\":[[0.0,\"#0d0887\"],[0.1111111111111111,\"#46039f\"],[0.2222222222222222,\"#7201a8\"],[0.3333333333333333,\"#9c179e\"],[0.4444444444444444,\"#bd3786\"],[0.5555555555555556,\"#d8576b\"],[0.6666666666666666,\"#ed7953\"],[0.7777777777777778,\"#fb9f3a\"],[0.8888888888888888,\"#fdca26\"],[1.0,\"#f0f921\"]],\"type\":\"histogram2dcontour\"}],\"histogram2d\":[{\"colorbar\":{\"outlinewidth\":0,\"ticks\":\"\"},\"colorscale\":[[0.0,\"#0d0887\"],[0.1111111111111111,\"#46039f\"],[0.2222222222222222,\"#7201a8\"],[0.3333333333333333,\"#9c179e\"],[0.4444444444444444,\"#bd3786\"],[0.5555555555555556,\"#d8576b\"],[0.6666666666666666,\"#ed7953\"],[0.7777777777777778,\"#fb9f3a\"],[0.8888888888888888,\"#fdca26\"],[1.0,\"#f0f921\"]],\"type\":\"histogram2d\"}],\"histogram\":[{\"marker\":{\"pattern\":{\"fillmode\":\"overlay\",\"size\":10,\"solidity\":0.2}},\"type\":\"histogram\"}],\"mesh3d\":[{\"colorbar\":{\"outlinewidth\":0,\"ticks\":\"\"},\"type\":\"mesh3d\"}],\"parcoords\":[{\"line\":{\"colorbar\":{\"outlinewidth\":0,\"ticks\":\"\"}},\"type\":\"parcoords\"}],\"pie\":[{\"automargin\":true,\"type\":\"pie\"}],\"scatter3d\":[{\"line\":{\"colorbar\":{\"outlinewidth\":0,\"ticks\":\"\"}},\"marker\":{\"colorbar\":{\"outlinewidth\":0,\"ticks\":\"\"}},\"type\":\"scatter3d\"}],\"scattercarpet\":[{\"marker\":{\"colorbar\":{\"outlinewidth\":0,\"ticks\":\"\"}},\"type\":\"scattercarpet\"}],\"scattergeo\":[{\"marker\":{\"colorbar\":{\"outlinewidth\":0,\"ticks\":\"\"}},\"type\":\"scattergeo\"}],\"scattergl\":[{\"marker\":{\"colorbar\":{\"outlinewidth\":0,\"ticks\":\"\"}},\"type\":\"scattergl\"}],\"scattermapbox\":[{\"marker\":{\"colorbar\":{\"outlinewidth\":0,\"ticks\":\"\"}},\"type\":\"scattermapbox\"}],\"scatterpolargl\":[{\"marker\":{\"colorbar\":{\"outlinewidth\":0,\"ticks\":\"\"}},\"type\":\"scatterpolargl\"}],\"scatterpolar\":[{\"marker\":{\"colorbar\":{\"outlinewidth\":0,\"ticks\":\"\"}},\"type\":\"scatterpolar\"}],\"scatter\":[{\"fillpattern\":{\"fillmode\":\"overlay\",\"size\":10,\"solidity\":0.2},\"type\":\"scatter\"}],\"scatterternary\":[{\"marker\":{\"colorbar\":{\"outlinewidth\":0,\"ticks\":\"\"}},\"type\":\"scatterternary\"}],\"surface\":[{\"colorbar\":{\"outlinewidth\":0,\"ticks\":\"\"},\"colorscale\":[[0.0,\"#0d0887\"],[0.1111111111111111,\"#46039f\"],[0.2222222222222222,\"#7201a8\"],[0.3333333333333333,\"#9c179e\"],[0.4444444444444444,\"#bd3786\"],[0.5555555555555556,\"#d8576b\"],[0.6666666666666666,\"#ed7953\"],[0.7777777777777778,\"#fb9f3a\"],[0.8888888888888888,\"#fdca26\"],[1.0,\"#f0f921\"]],\"type\":\"surface\"}],\"table\":[{\"cells\":{\"fill\":{\"color\":\"#EBF0F8\"},\"line\":{\"color\":\"white\"}},\"header\":{\"fill\":{\"color\":\"#C8D4E3\"},\"line\":{\"color\":\"white\"}},\"type\":\"table\"}]},\"layout\":{\"annotationdefaults\":{\"arrowcolor\":\"#2a3f5f\",\"arrowhead\":0,\"arrowwidth\":1},\"autotypenumbers\":\"strict\",\"coloraxis\":{\"colorbar\":{\"outlinewidth\":0,\"ticks\":\"\"}},\"colorscale\":{\"diverging\":[[0,\"#8e0152\"],[0.1,\"#c51b7d\"],[0.2,\"#de77ae\"],[0.3,\"#f1b6da\"],[0.4,\"#fde0ef\"],[0.5,\"#f7f7f7\"],[0.6,\"#e6f5d0\"],[0.7,\"#b8e186\"],[0.8,\"#7fbc41\"],[0.9,\"#4d9221\"],[1,\"#276419\"]],\"sequential\":[[0.0,\"#0d0887\"],[0.1111111111111111,\"#46039f\"],[0.2222222222222222,\"#7201a8\"],[0.3333333333333333,\"#9c179e\"],[0.4444444444444444,\"#bd3786\"],[0.5555555555555556,\"#d8576b\"],[0.6666666666666666,\"#ed7953\"],[0.7777777777777778,\"#fb9f3a\"],[0.8888888888888888,\"#fdca26\"],[1.0,\"#f0f921\"]],\"sequentialminus\":[[0.0,\"#0d0887\"],[0.1111111111111111,\"#46039f\"],[0.2222222222222222,\"#7201a8\"],[0.3333333333333333,\"#9c179e\"],[0.4444444444444444,\"#bd3786\"],[0.5555555555555556,\"#d8576b\"],[0.6666666666666666,\"#ed7953\"],[0.7777777777777778,\"#fb9f3a\"],[0.8888888888888888,\"#fdca26\"],[1.0,\"#f0f921\"]]},\"colorway\":[\"#636efa\",\"#EF553B\",\"#00cc96\",\"#ab63fa\",\"#FFA15A\",\"#19d3f3\",\"#FF6692\",\"#B6E880\",\"#FF97FF\",\"#FECB52\"],\"font\":{\"color\":\"#2a3f5f\"},\"geo\":{\"bgcolor\":\"white\",\"lakecolor\":\"white\",\"landcolor\":\"#E5ECF6\",\"showlakes\":true,\"showland\":true,\"subunitcolor\":\"white\"},\"hoverlabel\":{\"align\":\"left\"},\"hovermode\":\"closest\",\"mapbox\":{\"style\":\"light\"},\"paper_bgcolor\":\"white\",\"plot_bgcolor\":\"#E5ECF6\",\"polar\":{\"angularaxis\":{\"gridcolor\":\"white\",\"linecolor\":\"white\",\"ticks\":\"\"},\"bgcolor\":\"#E5ECF6\",\"radialaxis\":{\"gridcolor\":\"white\",\"linecolor\":\"white\",\"ticks\":\"\"}},\"scene\":{\"xaxis\":{\"backgroundcolor\":\"#E5ECF6\",\"gridcolor\":\"white\",\"gridwidth\":2,\"linecolor\":\"white\",\"showbackground\":true,\"ticks\":\"\",\"zerolinecolor\":\"white\"},\"yaxis\":{\"backgroundcolor\":\"#E5ECF6\",\"gridcolor\":\"white\",\"gridwidth\":2,\"linecolor\":\"white\",\"showbackground\":true,\"ticks\":\"\",\"zerolinecolor\":\"white\"},\"zaxis\":{\"backgroundcolor\":\"#E5ECF6\",\"gridcolor\":\"white\",\"gridwidth\":2,\"linecolor\":\"white\",\"showbackground\":true,\"ticks\":\"\",\"zerolinecolor\":\"white\"}},\"shapedefaults\":{\"line\":{\"color\":\"#2a3f5f\"}},\"ternary\":{\"aaxis\":{\"gridcolor\":\"white\",\"linecolor\":\"white\",\"ticks\":\"\"},\"baxis\":{\"gridcolor\":\"white\",\"linecolor\":\"white\",\"ticks\":\"\"},\"bgcolor\":\"#E5ECF6\",\"caxis\":{\"gridcolor\":\"white\",\"linecolor\":\"white\",\"ticks\":\"\"}},\"title\":{\"x\":0.05},\"xaxis\":{\"automargin\":true,\"gridcolor\":\"white\",\"linecolor\":\"white\",\"ticks\":\"\",\"title\":{\"standoff\":15},\"zerolinecolor\":\"white\",\"zerolinewidth\":2},\"yaxis\":{\"automargin\":true,\"gridcolor\":\"white\",\"linecolor\":\"white\",\"ticks\":\"\",\"title\":{\"standoff\":15},\"zerolinecolor\":\"white\",\"zerolinewidth\":2}}},\"title\":{\"font\":{\"color\":\"#4D5663\"}},\"xaxis\":{\"gridcolor\":\"#E1E5ED\",\"showgrid\":true,\"tickfont\":{\"color\":\"#4D5663\"},\"title\":{\"font\":{\"color\":\"#4D5663\"},\"text\":\"\"},\"zerolinecolor\":\"#E1E5ED\"},\"yaxis\":{\"gridcolor\":\"#E1E5ED\",\"showgrid\":true,\"tickfont\":{\"color\":\"#4D5663\"},\"title\":{\"font\":{\"color\":\"#4D5663\"},\"text\":\"\"},\"zerolinecolor\":\"#E1E5ED\"}},                        {\"showLink\": true, \"linkText\": \"Export to plot.ly\", \"plotlyServerURL\": \"https://plot.ly\", \"responsive\": true}                    ).then(function(){\n",
       "                            \n",
       "var gd = document.getElementById('1ca7d11b-b38a-4518-bf9c-604c108cea0c');\n",
       "var x = new MutationObserver(function (mutations, observer) {{\n",
       "        var display = window.getComputedStyle(gd).display;\n",
       "        if (!display || display === 'none') {{\n",
       "            console.log([gd, 'removed!']);\n",
       "            Plotly.purge(gd);\n",
       "            observer.disconnect();\n",
       "        }}\n",
       "}});\n",
       "\n",
       "// Listen for the removal of the full notebook cells\n",
       "var notebookContainer = gd.closest('#notebook-container');\n",
       "if (notebookContainer) {{\n",
       "    x.observe(notebookContainer, {childList: true});\n",
       "}}\n",
       "\n",
       "// Listen for the clearing of the current output cell\n",
       "var outputEl = gd.closest('.output');\n",
       "if (outputEl) {{\n",
       "    x.observe(outputEl, {childList: true});\n",
       "}}\n",
       "\n",
       "                        })                };                });            </script>        </div>"
      ]
     },
     "metadata": {},
     "output_type": "display_data"
    }
   ],
   "source": [
    "df.count().iplot(kind='bar')"
   ]
  },
  {
   "cell_type": "markdown",
   "metadata": {},
   "source": [
    "## Boxplots"
   ]
  },
  {
   "cell_type": "code",
   "execution_count": 14,
   "metadata": {},
   "outputs": [
    {
     "data": {
      "application/vnd.plotly.v1+json": {
       "config": {
        "linkText": "Export to plot.ly",
        "plotlyServerURL": "https://plot.ly",
        "showLink": true
       },
       "data": [
        {
         "boxpoints": false,
         "line": {
          "width": 1.3
         },
         "marker": {
          "color": "rgba(255, 153, 51, 1.0)"
         },
         "name": "A",
         "orientation": "v",
         "type": "box",
         "y": [
          -1.0414938449171551,
          -0.4354303557101797,
          0.34091500601799474,
          2.0746916097471155,
          -0.24747851502364648,
          0.6186335280195576,
          0.06458959483746213,
          0.19202582337651733,
          0.6461078850095495,
          -1.0390452041639444,
          0.6227323408901065,
          -0.1674391576392429,
          -0.1926042781471134,
          -0.04046327744673468,
          -2.031733686393499,
          -1.2521232482806384,
          -1.0611150328040704,
          -1.3005911023122887,
          2.73068526240894,
          -0.014905077491252519,
          -0.3365265182353228,
          1.5688337988015868,
          -0.3537229936367583,
          -0.7774145415496925,
          -0.5531468020354161,
          0.3732146468619525,
          0.47503628200836756,
          0.6675289888307547,
          0.6342468938845498,
          0.3782402737404014,
          1.8073693745270427,
          0.10079055157427515,
          0.44395509474085854,
          -1.5999810850342004,
          -0.9361645071581075,
          1.6427002545546334,
          -0.19965900866375763,
          -0.5739373863449075,
          -0.4867162121661351,
          -0.7494828396960236,
          -0.4680209101771845,
          -0.646200346510384,
          -1.4499063061319621,
          -0.6729265648978373,
          -0.25920990095800994,
          -0.24524031082590997,
          0.9424992940939884,
          0.09746308886052545,
          -0.05670856183167005,
          -0.3700987414342005,
          -1.5330827425094273,
          -1.513493870789549,
          1.0020688989440132,
          -0.14477971981749638,
          -0.06713316999739569,
          0.36165647674204604,
          0.7879463209144801,
          1.2050186982820554,
          0.6388184550724472,
          0.6740116687479178,
          -0.7147605818973362,
          0.18841425752213384,
          0.47735099292647765,
          -0.035006175364803556,
          -1.0344884992735575,
          0.15948944361386735,
          -0.19589283962336,
          -0.6852943018916997,
          -0.5880941757709064,
          0.17035562449446132,
          0.5913902058621666,
          -0.9199122157675864,
          0.9573935392643146,
          -0.22375424741831904,
          0.43946538468921637,
          -0.3131973114136663,
          0.899443150063009,
          -0.8264953253132122,
          -0.16538637364699124,
          -0.13517908001439397,
          0.8091401271172439,
          -1.30904640296218,
          -0.45422206139924226,
          0.4907240937863005,
          1.424194979291537,
          1.1295658613318202,
          -1.1343449569566135,
          1.7497515669552424,
          -0.15609510980782706,
          -0.9701048648149126,
          -1.2922061453965263,
          2.015183999384643,
          1.0651251975905274,
          0.37795898160154373,
          -0.858135175494791,
          -1.8924836165721872,
          -0.7191375774094184,
          -0.5522674191284617,
          -0.913005426693775,
          1.6573844242452849
         ]
        },
        {
         "boxpoints": false,
         "line": {
          "width": 1.3
         },
         "marker": {
          "color": "rgba(55, 128, 191, 1.0)"
         },
         "name": "B",
         "orientation": "v",
         "type": "box",
         "y": [
          0.32996827386755656,
          1.218981953879945,
          -1.633714055298131,
          -0.6680046279061812,
          -0.6445098144275172,
          -1.4982567785730112,
          0.3789401874474387,
          -0.8354867132076352,
          -0.49649095723019165,
          0.9476618567929485,
          -0.29885328226115,
          -0.729847228699825,
          -0.2983012825271507,
          -1.5274385530114047,
          0.3163460257637768,
          0.9882599819686255,
          -1.8372850712119513,
          0.07213041078206192,
          -0.8505942819760838,
          -0.2593730549559899,
          -0.20097115604456608,
          0.08776815285268036,
          0.8990529880959327,
          -1.2300154009386157,
          -0.4646616485397626,
          2.008716385462978,
          1.3815353909949974,
          -0.4680705695693689,
          0.9951906400439332,
          -0.12774732777664352,
          -0.17209346094795594,
          0.42384697762520135,
          0.0881677466704928,
          -1.2137123261984333,
          -0.29210386848008296,
          -0.42918331158735196,
          0.5291358204103447,
          -0.3611920569394752,
          -0.4411126619848192,
          0.3564598562677138,
          -0.12583032060194752,
          -0.8136096980573316,
          -0.17480939014138125,
          0.6778331503575926,
          -1.8800938127463223,
          -0.20868994954541098,
          -1.0943898202087554,
          0.8226631614354307,
          -1.194260664483298,
          0.9773449695985037,
          -1.1496991655267428,
          -0.4387572002224895,
          0.7113296978977882,
          0.6136809231209187,
          0.5921491861167535,
          0.1571828181134136,
          0.14634596816652118,
          1.2738759482054949,
          0.6972173278890168,
          -0.987761104038325,
          -0.1670094503849138,
          0.3250201326918829,
          0.48994010297726887,
          1.4044309262428363,
          0.11312278441985077,
          -0.10669962027891286,
          -1.1168477862086412,
          -0.17675332603717261,
          0.03208977659009037,
          -1.6516672521154045,
          1.1328237831004917,
          -0.2851532459057253,
          1.149522847797316,
          0.4923262442913057,
          0.5794022959078174,
          -0.4871163476749682,
          -0.3483589684714914,
          -0.7185104093064334,
          0.6923830430179017,
          -0.9884401103254018,
          -1.4605573010519564,
          -0.9574630312394341,
          0.16346484134391212,
          0.10498467403726597,
          0.20016905200097182,
          -0.2795659106824173,
          -0.6401046918070968,
          1.1582797184904188,
          -1.2380619543518485,
          -2.028760970003082,
          -0.15868350420267063,
          1.8185289573542853,
          0.2526564960445763,
          0.3706396483181391,
          -0.2691068747137809,
          0.423560909260566,
          0.9555620773895517,
          0.244811084935598,
          0.13634805361852287,
          -0.24890511762323125
         ]
        },
        {
         "boxpoints": false,
         "line": {
          "width": 1.3
         },
         "marker": {
          "color": "rgba(50, 171, 96, 1.0)"
         },
         "name": "C",
         "orientation": "v",
         "type": "box",
         "y": [
          -2.016560176964694,
          -0.5526426859704904,
          -0.5314657366816735,
          -0.05220912495037559,
          0.2963821510620666,
          -0.12581807930779365,
          -0.7025733385917851,
          1.0166183844128256,
          -0.5743783298540112,
          0.571675859788498,
          -0.855400702568051,
          -1.0093103002061985,
          0.4880023935694279,
          -0.6662923678904729,
          -1.484305208787236,
          1.873891975641196,
          0.33409260032685745,
          1.223492923576503,
          -0.698084269345124,
          -1.3504226078848276,
          -0.04655912111645202,
          -0.5452606400184166,
          -1.2273335579424465,
          -0.3685221913479382,
          -1.8066092085692813,
          -1.246575967428496,
          -1.0665769105877325,
          -1.4742368894788254,
          1.988525714866486,
          -1.5732392416632852,
          -0.19356880583840239,
          -1.8762002984653667,
          0.2241505560086995,
          0.8292654196643479,
          -0.31633390026068603,
          -0.3004031719349392,
          -0.6489568795320175,
          0.7620906664059216,
          -0.4040303297715138,
          0.7002723466172931,
          -0.6635562402960373,
          1.6153326294897106,
          0.5087662396569937,
          0.4688965450716319,
          0.4417390351322205,
          0.4112103689214712,
          0.5909559790838734,
          -0.02770784650278129,
          -0.8843012438870057,
          2.0004776315686303,
          0.4578950236028908,
          0.33581431946108486,
          -0.6665767232623846,
          0.5843049464286401,
          -0.5720501668209064,
          0.9943887494649332,
          0.2613130779229752,
          0.6837227899983538,
          -1.0277368772421491,
          -0.09621664584859509,
          -0.2741123341430858,
          0.2727942529971171,
          -0.04460788079917133,
          -0.4817291981993936,
          -0.5475916152967425,
          -1.2113403334904689,
          0.03968942136801883,
          0.406174203603089,
          0.10174314212853848,
          0.7180342617932176,
          -1.1735477603549929,
          1.409398778890136,
          0.11143314325307396,
          2.2775304549294044,
          0.33763620551172435,
          -2.1328961526473744,
          -0.5059643668915403,
          0.6353316268941461,
          1.3745990694639407,
          -1.2685048536967578,
          0.5860841671488486,
          -1.389553921993753,
          0.4009385655743347,
          -2.1087942807016087,
          0.20307148393124852,
          0.15184776819603465,
          -1.3254671707150083,
          -0.25067498006715777,
          0.7359377414617873,
          -0.20999748777386482,
          -1.644749751394019,
          2.294618090424474,
          1.045365904722829,
          1.621265753683623,
          0.17603549048815503,
          1.3694728788521373,
          1.2673870642229166,
          -1.3497020606664138,
          -1.3435668342796376,
          -1.3901240434280906
         ]
        },
        {
         "boxpoints": false,
         "line": {
          "width": 1.3
         },
         "marker": {
          "color": "rgba(128, 0, 128, 1.0)"
         },
         "name": "D",
         "orientation": "v",
         "type": "box",
         "y": [
          -0.48533585732076095,
          0.7996713741735981,
          0.6325273961804192,
          -0.5689560976695613,
          -1.2985548742795316,
          -2.2428272396069846,
          -1.5741576745405266,
          -0.39144102464643743,
          1.305658159123247,
          0.17837058518597354,
          -1.0877485928325967,
          -0.24902930111248073,
          -1.0097249836194204,
          -0.45194362596755944,
          -0.5727333096841546,
          0.047001001379377676,
          0.4506044498665508,
          1.6274663645011933,
          1.3984009077149095,
          0.2816498966760533,
          0.5441246715588851,
          -0.36105486565800077,
          -0.9680977111890429,
          -0.7708478770617477,
          0.7332062687189292,
          0.9972933023124365,
          0.34639261806853194,
          0.12935640088563605,
          -1.2456202672713668,
          -1.3332423821962383,
          -0.7996211461957595,
          -0.01074289340680255,
          0.077659750320619,
          0.2872510862499166,
          -0.5542854401860736,
          -0.8853501685802612,
          0.6898295874639477,
          0.35358317545308665,
          1.0987515108222736,
          -0.20036445976839387,
          1.1317168226847034,
          1.244145542615334,
          0.07624024531146381,
          -0.33008113474801715,
          0.23569495510145902,
          -1.2102230389000639,
          -1.0343537629596997,
          -0.7298355520182594,
          0.377827915598249,
          -1.2201611717084766,
          1.2033907315316315,
          -0.15732328897096295,
          -0.6711736981842389,
          -0.9411838392514316,
          -1.11750369661523,
          0.17255551449158266,
          -0.505804962509711,
          0.9371641703890039,
          0.6834463005151751,
          1.0547974031845184,
          -0.3339849796162532,
          -1.1527015629247779,
          1.7720578526909554,
          -0.4429735157380313,
          -0.8794450819310182,
          -0.5013173772023398,
          1.696281221312842,
          -0.1763374234695934,
          -0.6281807833334955,
          1.0847110417315151,
          -0.6388600686243346,
          -1.1121566057854972,
          -0.7468158718409179,
          0.721039962837402,
          -0.8965673414266935,
          0.7421930181724087,
          0.44187766482301494,
          1.4941507653768757,
          -0.07592439400346289,
          0.13044291172087732,
          -1.0222254887377913,
          -1.7739206541014654,
          -1.077351627835513,
          0.027363541160738185,
          -0.9748617967961105,
          2.518439989093622,
          -0.46205089679206945,
          2.3078053387388513,
          0.4257513394176721,
          0.49548491085486007,
          -0.4726521056558049,
          -0.890533468595739,
          -1.5441034294130145,
          -0.5871478452809765,
          3.3245473574055877,
          0.4248552040988651,
          0.757606892518138,
          2.1204035812719324,
          -1.5714245397250282,
          -0.5832059216386883
         ]
        }
       ],
       "layout": {
        "legend": {
         "bgcolor": "#F5F6F9",
         "font": {
          "color": "#4D5663"
         }
        },
        "paper_bgcolor": "#F5F6F9",
        "plot_bgcolor": "#F5F6F9",
        "template": {
         "data": {
          "bar": [
           {
            "error_x": {
             "color": "#2a3f5f"
            },
            "error_y": {
             "color": "#2a3f5f"
            },
            "marker": {
             "line": {
              "color": "#E5ECF6",
              "width": 0.5
             },
             "pattern": {
              "fillmode": "overlay",
              "size": 10,
              "solidity": 0.2
             }
            },
            "type": "bar"
           }
          ],
          "barpolar": [
           {
            "marker": {
             "line": {
              "color": "#E5ECF6",
              "width": 0.5
             },
             "pattern": {
              "fillmode": "overlay",
              "size": 10,
              "solidity": 0.2
             }
            },
            "type": "barpolar"
           }
          ],
          "carpet": [
           {
            "aaxis": {
             "endlinecolor": "#2a3f5f",
             "gridcolor": "white",
             "linecolor": "white",
             "minorgridcolor": "white",
             "startlinecolor": "#2a3f5f"
            },
            "baxis": {
             "endlinecolor": "#2a3f5f",
             "gridcolor": "white",
             "linecolor": "white",
             "minorgridcolor": "white",
             "startlinecolor": "#2a3f5f"
            },
            "type": "carpet"
           }
          ],
          "choropleth": [
           {
            "colorbar": {
             "outlinewidth": 0,
             "ticks": ""
            },
            "type": "choropleth"
           }
          ],
          "contour": [
           {
            "colorbar": {
             "outlinewidth": 0,
             "ticks": ""
            },
            "colorscale": [
             [
              0,
              "#0d0887"
             ],
             [
              0.1111111111111111,
              "#46039f"
             ],
             [
              0.2222222222222222,
              "#7201a8"
             ],
             [
              0.3333333333333333,
              "#9c179e"
             ],
             [
              0.4444444444444444,
              "#bd3786"
             ],
             [
              0.5555555555555556,
              "#d8576b"
             ],
             [
              0.6666666666666666,
              "#ed7953"
             ],
             [
              0.7777777777777778,
              "#fb9f3a"
             ],
             [
              0.8888888888888888,
              "#fdca26"
             ],
             [
              1,
              "#f0f921"
             ]
            ],
            "type": "contour"
           }
          ],
          "contourcarpet": [
           {
            "colorbar": {
             "outlinewidth": 0,
             "ticks": ""
            },
            "type": "contourcarpet"
           }
          ],
          "heatmap": [
           {
            "colorbar": {
             "outlinewidth": 0,
             "ticks": ""
            },
            "colorscale": [
             [
              0,
              "#0d0887"
             ],
             [
              0.1111111111111111,
              "#46039f"
             ],
             [
              0.2222222222222222,
              "#7201a8"
             ],
             [
              0.3333333333333333,
              "#9c179e"
             ],
             [
              0.4444444444444444,
              "#bd3786"
             ],
             [
              0.5555555555555556,
              "#d8576b"
             ],
             [
              0.6666666666666666,
              "#ed7953"
             ],
             [
              0.7777777777777778,
              "#fb9f3a"
             ],
             [
              0.8888888888888888,
              "#fdca26"
             ],
             [
              1,
              "#f0f921"
             ]
            ],
            "type": "heatmap"
           }
          ],
          "heatmapgl": [
           {
            "colorbar": {
             "outlinewidth": 0,
             "ticks": ""
            },
            "colorscale": [
             [
              0,
              "#0d0887"
             ],
             [
              0.1111111111111111,
              "#46039f"
             ],
             [
              0.2222222222222222,
              "#7201a8"
             ],
             [
              0.3333333333333333,
              "#9c179e"
             ],
             [
              0.4444444444444444,
              "#bd3786"
             ],
             [
              0.5555555555555556,
              "#d8576b"
             ],
             [
              0.6666666666666666,
              "#ed7953"
             ],
             [
              0.7777777777777778,
              "#fb9f3a"
             ],
             [
              0.8888888888888888,
              "#fdca26"
             ],
             [
              1,
              "#f0f921"
             ]
            ],
            "type": "heatmapgl"
           }
          ],
          "histogram": [
           {
            "marker": {
             "pattern": {
              "fillmode": "overlay",
              "size": 10,
              "solidity": 0.2
             }
            },
            "type": "histogram"
           }
          ],
          "histogram2d": [
           {
            "colorbar": {
             "outlinewidth": 0,
             "ticks": ""
            },
            "colorscale": [
             [
              0,
              "#0d0887"
             ],
             [
              0.1111111111111111,
              "#46039f"
             ],
             [
              0.2222222222222222,
              "#7201a8"
             ],
             [
              0.3333333333333333,
              "#9c179e"
             ],
             [
              0.4444444444444444,
              "#bd3786"
             ],
             [
              0.5555555555555556,
              "#d8576b"
             ],
             [
              0.6666666666666666,
              "#ed7953"
             ],
             [
              0.7777777777777778,
              "#fb9f3a"
             ],
             [
              0.8888888888888888,
              "#fdca26"
             ],
             [
              1,
              "#f0f921"
             ]
            ],
            "type": "histogram2d"
           }
          ],
          "histogram2dcontour": [
           {
            "colorbar": {
             "outlinewidth": 0,
             "ticks": ""
            },
            "colorscale": [
             [
              0,
              "#0d0887"
             ],
             [
              0.1111111111111111,
              "#46039f"
             ],
             [
              0.2222222222222222,
              "#7201a8"
             ],
             [
              0.3333333333333333,
              "#9c179e"
             ],
             [
              0.4444444444444444,
              "#bd3786"
             ],
             [
              0.5555555555555556,
              "#d8576b"
             ],
             [
              0.6666666666666666,
              "#ed7953"
             ],
             [
              0.7777777777777778,
              "#fb9f3a"
             ],
             [
              0.8888888888888888,
              "#fdca26"
             ],
             [
              1,
              "#f0f921"
             ]
            ],
            "type": "histogram2dcontour"
           }
          ],
          "mesh3d": [
           {
            "colorbar": {
             "outlinewidth": 0,
             "ticks": ""
            },
            "type": "mesh3d"
           }
          ],
          "parcoords": [
           {
            "line": {
             "colorbar": {
              "outlinewidth": 0,
              "ticks": ""
             }
            },
            "type": "parcoords"
           }
          ],
          "pie": [
           {
            "automargin": true,
            "type": "pie"
           }
          ],
          "scatter": [
           {
            "fillpattern": {
             "fillmode": "overlay",
             "size": 10,
             "solidity": 0.2
            },
            "type": "scatter"
           }
          ],
          "scatter3d": [
           {
            "line": {
             "colorbar": {
              "outlinewidth": 0,
              "ticks": ""
             }
            },
            "marker": {
             "colorbar": {
              "outlinewidth": 0,
              "ticks": ""
             }
            },
            "type": "scatter3d"
           }
          ],
          "scattercarpet": [
           {
            "marker": {
             "colorbar": {
              "outlinewidth": 0,
              "ticks": ""
             }
            },
            "type": "scattercarpet"
           }
          ],
          "scattergeo": [
           {
            "marker": {
             "colorbar": {
              "outlinewidth": 0,
              "ticks": ""
             }
            },
            "type": "scattergeo"
           }
          ],
          "scattergl": [
           {
            "marker": {
             "colorbar": {
              "outlinewidth": 0,
              "ticks": ""
             }
            },
            "type": "scattergl"
           }
          ],
          "scattermapbox": [
           {
            "marker": {
             "colorbar": {
              "outlinewidth": 0,
              "ticks": ""
             }
            },
            "type": "scattermapbox"
           }
          ],
          "scatterpolar": [
           {
            "marker": {
             "colorbar": {
              "outlinewidth": 0,
              "ticks": ""
             }
            },
            "type": "scatterpolar"
           }
          ],
          "scatterpolargl": [
           {
            "marker": {
             "colorbar": {
              "outlinewidth": 0,
              "ticks": ""
             }
            },
            "type": "scatterpolargl"
           }
          ],
          "scatterternary": [
           {
            "marker": {
             "colorbar": {
              "outlinewidth": 0,
              "ticks": ""
             }
            },
            "type": "scatterternary"
           }
          ],
          "surface": [
           {
            "colorbar": {
             "outlinewidth": 0,
             "ticks": ""
            },
            "colorscale": [
             [
              0,
              "#0d0887"
             ],
             [
              0.1111111111111111,
              "#46039f"
             ],
             [
              0.2222222222222222,
              "#7201a8"
             ],
             [
              0.3333333333333333,
              "#9c179e"
             ],
             [
              0.4444444444444444,
              "#bd3786"
             ],
             [
              0.5555555555555556,
              "#d8576b"
             ],
             [
              0.6666666666666666,
              "#ed7953"
             ],
             [
              0.7777777777777778,
              "#fb9f3a"
             ],
             [
              0.8888888888888888,
              "#fdca26"
             ],
             [
              1,
              "#f0f921"
             ]
            ],
            "type": "surface"
           }
          ],
          "table": [
           {
            "cells": {
             "fill": {
              "color": "#EBF0F8"
             },
             "line": {
              "color": "white"
             }
            },
            "header": {
             "fill": {
              "color": "#C8D4E3"
             },
             "line": {
              "color": "white"
             }
            },
            "type": "table"
           }
          ]
         },
         "layout": {
          "annotationdefaults": {
           "arrowcolor": "#2a3f5f",
           "arrowhead": 0,
           "arrowwidth": 1
          },
          "autotypenumbers": "strict",
          "coloraxis": {
           "colorbar": {
            "outlinewidth": 0,
            "ticks": ""
           }
          },
          "colorscale": {
           "diverging": [
            [
             0,
             "#8e0152"
            ],
            [
             0.1,
             "#c51b7d"
            ],
            [
             0.2,
             "#de77ae"
            ],
            [
             0.3,
             "#f1b6da"
            ],
            [
             0.4,
             "#fde0ef"
            ],
            [
             0.5,
             "#f7f7f7"
            ],
            [
             0.6,
             "#e6f5d0"
            ],
            [
             0.7,
             "#b8e186"
            ],
            [
             0.8,
             "#7fbc41"
            ],
            [
             0.9,
             "#4d9221"
            ],
            [
             1,
             "#276419"
            ]
           ],
           "sequential": [
            [
             0,
             "#0d0887"
            ],
            [
             0.1111111111111111,
             "#46039f"
            ],
            [
             0.2222222222222222,
             "#7201a8"
            ],
            [
             0.3333333333333333,
             "#9c179e"
            ],
            [
             0.4444444444444444,
             "#bd3786"
            ],
            [
             0.5555555555555556,
             "#d8576b"
            ],
            [
             0.6666666666666666,
             "#ed7953"
            ],
            [
             0.7777777777777778,
             "#fb9f3a"
            ],
            [
             0.8888888888888888,
             "#fdca26"
            ],
            [
             1,
             "#f0f921"
            ]
           ],
           "sequentialminus": [
            [
             0,
             "#0d0887"
            ],
            [
             0.1111111111111111,
             "#46039f"
            ],
            [
             0.2222222222222222,
             "#7201a8"
            ],
            [
             0.3333333333333333,
             "#9c179e"
            ],
            [
             0.4444444444444444,
             "#bd3786"
            ],
            [
             0.5555555555555556,
             "#d8576b"
            ],
            [
             0.6666666666666666,
             "#ed7953"
            ],
            [
             0.7777777777777778,
             "#fb9f3a"
            ],
            [
             0.8888888888888888,
             "#fdca26"
            ],
            [
             1,
             "#f0f921"
            ]
           ]
          },
          "colorway": [
           "#636efa",
           "#EF553B",
           "#00cc96",
           "#ab63fa",
           "#FFA15A",
           "#19d3f3",
           "#FF6692",
           "#B6E880",
           "#FF97FF",
           "#FECB52"
          ],
          "font": {
           "color": "#2a3f5f"
          },
          "geo": {
           "bgcolor": "white",
           "lakecolor": "white",
           "landcolor": "#E5ECF6",
           "showlakes": true,
           "showland": true,
           "subunitcolor": "white"
          },
          "hoverlabel": {
           "align": "left"
          },
          "hovermode": "closest",
          "mapbox": {
           "style": "light"
          },
          "paper_bgcolor": "white",
          "plot_bgcolor": "#E5ECF6",
          "polar": {
           "angularaxis": {
            "gridcolor": "white",
            "linecolor": "white",
            "ticks": ""
           },
           "bgcolor": "#E5ECF6",
           "radialaxis": {
            "gridcolor": "white",
            "linecolor": "white",
            "ticks": ""
           }
          },
          "scene": {
           "xaxis": {
            "backgroundcolor": "#E5ECF6",
            "gridcolor": "white",
            "gridwidth": 2,
            "linecolor": "white",
            "showbackground": true,
            "ticks": "",
            "zerolinecolor": "white"
           },
           "yaxis": {
            "backgroundcolor": "#E5ECF6",
            "gridcolor": "white",
            "gridwidth": 2,
            "linecolor": "white",
            "showbackground": true,
            "ticks": "",
            "zerolinecolor": "white"
           },
           "zaxis": {
            "backgroundcolor": "#E5ECF6",
            "gridcolor": "white",
            "gridwidth": 2,
            "linecolor": "white",
            "showbackground": true,
            "ticks": "",
            "zerolinecolor": "white"
           }
          },
          "shapedefaults": {
           "line": {
            "color": "#2a3f5f"
           }
          },
          "ternary": {
           "aaxis": {
            "gridcolor": "white",
            "linecolor": "white",
            "ticks": ""
           },
           "baxis": {
            "gridcolor": "white",
            "linecolor": "white",
            "ticks": ""
           },
           "bgcolor": "#E5ECF6",
           "caxis": {
            "gridcolor": "white",
            "linecolor": "white",
            "ticks": ""
           }
          },
          "title": {
           "x": 0.05
          },
          "xaxis": {
           "automargin": true,
           "gridcolor": "white",
           "linecolor": "white",
           "ticks": "",
           "title": {
            "standoff": 15
           },
           "zerolinecolor": "white",
           "zerolinewidth": 2
          },
          "yaxis": {
           "automargin": true,
           "gridcolor": "white",
           "linecolor": "white",
           "ticks": "",
           "title": {
            "standoff": 15
           },
           "zerolinecolor": "white",
           "zerolinewidth": 2
          }
         }
        },
        "title": {
         "font": {
          "color": "#4D5663"
         }
        },
        "xaxis": {
         "gridcolor": "#E1E5ED",
         "showgrid": true,
         "tickfont": {
          "color": "#4D5663"
         },
         "title": {
          "font": {
           "color": "#4D5663"
          },
          "text": ""
         },
         "zerolinecolor": "#E1E5ED"
        },
        "yaxis": {
         "gridcolor": "#E1E5ED",
         "showgrid": true,
         "tickfont": {
          "color": "#4D5663"
         },
         "title": {
          "font": {
           "color": "#4D5663"
          },
          "text": ""
         },
         "zerolinecolor": "#E1E5ED"
        }
       }
      },
      "text/html": [
       "<div>                            <div id=\"f0c6dac0-bde6-4990-8ecc-ecb062de5b4f\" class=\"plotly-graph-div\" style=\"height:525px; width:100%;\"></div>            <script type=\"text/javascript\">                require([\"plotly\"], function(Plotly) {                    window.PLOTLYENV=window.PLOTLYENV || {};\n",
       "                    window.PLOTLYENV.BASE_URL='https://plot.ly';                                    if (document.getElementById(\"f0c6dac0-bde6-4990-8ecc-ecb062de5b4f\")) {                    Plotly.newPlot(                        \"f0c6dac0-bde6-4990-8ecc-ecb062de5b4f\",                        [{\"boxpoints\":false,\"line\":{\"width\":1.3},\"marker\":{\"color\":\"rgba(255, 153, 51, 1.0)\"},\"name\":\"A\",\"orientation\":\"v\",\"y\":[-1.0414938449171551,-0.4354303557101797,0.34091500601799474,2.0746916097471155,-0.24747851502364648,0.6186335280195576,0.06458959483746213,0.19202582337651733,0.6461078850095495,-1.0390452041639444,0.6227323408901065,-0.1674391576392429,-0.1926042781471134,-0.04046327744673468,-2.031733686393499,-1.2521232482806384,-1.0611150328040704,-1.3005911023122887,2.73068526240894,-0.014905077491252519,-0.3365265182353228,1.5688337988015868,-0.3537229936367583,-0.7774145415496925,-0.5531468020354161,0.3732146468619525,0.47503628200836756,0.6675289888307547,0.6342468938845498,0.3782402737404014,1.8073693745270427,0.10079055157427515,0.44395509474085854,-1.5999810850342004,-0.9361645071581075,1.6427002545546334,-0.19965900866375763,-0.5739373863449075,-0.4867162121661351,-0.7494828396960236,-0.4680209101771845,-0.646200346510384,-1.4499063061319621,-0.6729265648978373,-0.25920990095800994,-0.24524031082590997,0.9424992940939884,0.09746308886052545,-0.05670856183167005,-0.3700987414342005,-1.5330827425094273,-1.513493870789549,1.0020688989440132,-0.14477971981749638,-0.06713316999739569,0.36165647674204604,0.7879463209144801,1.2050186982820554,0.6388184550724472,0.6740116687479178,-0.7147605818973362,0.18841425752213384,0.47735099292647765,-0.035006175364803556,-1.0344884992735575,0.15948944361386735,-0.19589283962336,-0.6852943018916997,-0.5880941757709064,0.17035562449446132,0.5913902058621666,-0.9199122157675864,0.9573935392643146,-0.22375424741831904,0.43946538468921637,-0.3131973114136663,0.899443150063009,-0.8264953253132122,-0.16538637364699124,-0.13517908001439397,0.8091401271172439,-1.30904640296218,-0.45422206139924226,0.4907240937863005,1.424194979291537,1.1295658613318202,-1.1343449569566135,1.7497515669552424,-0.15609510980782706,-0.9701048648149126,-1.2922061453965263,2.015183999384643,1.0651251975905274,0.37795898160154373,-0.858135175494791,-1.8924836165721872,-0.7191375774094184,-0.5522674191284617,-0.913005426693775,1.6573844242452849],\"type\":\"box\"},{\"boxpoints\":false,\"line\":{\"width\":1.3},\"marker\":{\"color\":\"rgba(55, 128, 191, 1.0)\"},\"name\":\"B\",\"orientation\":\"v\",\"y\":[0.32996827386755656,1.218981953879945,-1.633714055298131,-0.6680046279061812,-0.6445098144275172,-1.4982567785730112,0.3789401874474387,-0.8354867132076352,-0.49649095723019165,0.9476618567929485,-0.29885328226115,-0.729847228699825,-0.2983012825271507,-1.5274385530114047,0.3163460257637768,0.9882599819686255,-1.8372850712119513,0.07213041078206192,-0.8505942819760838,-0.2593730549559899,-0.20097115604456608,0.08776815285268036,0.8990529880959327,-1.2300154009386157,-0.4646616485397626,2.008716385462978,1.3815353909949974,-0.4680705695693689,0.9951906400439332,-0.12774732777664352,-0.17209346094795594,0.42384697762520135,0.0881677466704928,-1.2137123261984333,-0.29210386848008296,-0.42918331158735196,0.5291358204103447,-0.3611920569394752,-0.4411126619848192,0.3564598562677138,-0.12583032060194752,-0.8136096980573316,-0.17480939014138125,0.6778331503575926,-1.8800938127463223,-0.20868994954541098,-1.0943898202087554,0.8226631614354307,-1.194260664483298,0.9773449695985037,-1.1496991655267428,-0.4387572002224895,0.7113296978977882,0.6136809231209187,0.5921491861167535,0.1571828181134136,0.14634596816652118,1.2738759482054949,0.6972173278890168,-0.987761104038325,-0.1670094503849138,0.3250201326918829,0.48994010297726887,1.4044309262428363,0.11312278441985077,-0.10669962027891286,-1.1168477862086412,-0.17675332603717261,0.03208977659009037,-1.6516672521154045,1.1328237831004917,-0.2851532459057253,1.149522847797316,0.4923262442913057,0.5794022959078174,-0.4871163476749682,-0.3483589684714914,-0.7185104093064334,0.6923830430179017,-0.9884401103254018,-1.4605573010519564,-0.9574630312394341,0.16346484134391212,0.10498467403726597,0.20016905200097182,-0.2795659106824173,-0.6401046918070968,1.1582797184904188,-1.2380619543518485,-2.028760970003082,-0.15868350420267063,1.8185289573542853,0.2526564960445763,0.3706396483181391,-0.2691068747137809,0.423560909260566,0.9555620773895517,0.244811084935598,0.13634805361852287,-0.24890511762323125],\"type\":\"box\"},{\"boxpoints\":false,\"line\":{\"width\":1.3},\"marker\":{\"color\":\"rgba(50, 171, 96, 1.0)\"},\"name\":\"C\",\"orientation\":\"v\",\"y\":[-2.016560176964694,-0.5526426859704904,-0.5314657366816735,-0.05220912495037559,0.2963821510620666,-0.12581807930779365,-0.7025733385917851,1.0166183844128256,-0.5743783298540112,0.571675859788498,-0.855400702568051,-1.0093103002061985,0.4880023935694279,-0.6662923678904729,-1.484305208787236,1.873891975641196,0.33409260032685745,1.223492923576503,-0.698084269345124,-1.3504226078848276,-0.04655912111645202,-0.5452606400184166,-1.2273335579424465,-0.3685221913479382,-1.8066092085692813,-1.246575967428496,-1.0665769105877325,-1.4742368894788254,1.988525714866486,-1.5732392416632852,-0.19356880583840239,-1.8762002984653667,0.2241505560086995,0.8292654196643479,-0.31633390026068603,-0.3004031719349392,-0.6489568795320175,0.7620906664059216,-0.4040303297715138,0.7002723466172931,-0.6635562402960373,1.6153326294897106,0.5087662396569937,0.4688965450716319,0.4417390351322205,0.4112103689214712,0.5909559790838734,-0.02770784650278129,-0.8843012438870057,2.0004776315686303,0.4578950236028908,0.33581431946108486,-0.6665767232623846,0.5843049464286401,-0.5720501668209064,0.9943887494649332,0.2613130779229752,0.6837227899983538,-1.0277368772421491,-0.09621664584859509,-0.2741123341430858,0.2727942529971171,-0.04460788079917133,-0.4817291981993936,-0.5475916152967425,-1.2113403334904689,0.03968942136801883,0.406174203603089,0.10174314212853848,0.7180342617932176,-1.1735477603549929,1.409398778890136,0.11143314325307396,2.2775304549294044,0.33763620551172435,-2.1328961526473744,-0.5059643668915403,0.6353316268941461,1.3745990694639407,-1.2685048536967578,0.5860841671488486,-1.389553921993753,0.4009385655743347,-2.1087942807016087,0.20307148393124852,0.15184776819603465,-1.3254671707150083,-0.25067498006715777,0.7359377414617873,-0.20999748777386482,-1.644749751394019,2.294618090424474,1.045365904722829,1.621265753683623,0.17603549048815503,1.3694728788521373,1.2673870642229166,-1.3497020606664138,-1.3435668342796376,-1.3901240434280906],\"type\":\"box\"},{\"boxpoints\":false,\"line\":{\"width\":1.3},\"marker\":{\"color\":\"rgba(128, 0, 128, 1.0)\"},\"name\":\"D\",\"orientation\":\"v\",\"y\":[-0.48533585732076095,0.7996713741735981,0.6325273961804192,-0.5689560976695613,-1.2985548742795316,-2.2428272396069846,-1.5741576745405266,-0.39144102464643743,1.305658159123247,0.17837058518597354,-1.0877485928325967,-0.24902930111248073,-1.0097249836194204,-0.45194362596755944,-0.5727333096841546,0.047001001379377676,0.4506044498665508,1.6274663645011933,1.3984009077149095,0.2816498966760533,0.5441246715588851,-0.36105486565800077,-0.9680977111890429,-0.7708478770617477,0.7332062687189292,0.9972933023124365,0.34639261806853194,0.12935640088563605,-1.2456202672713668,-1.3332423821962383,-0.7996211461957595,-0.01074289340680255,0.077659750320619,0.2872510862499166,-0.5542854401860736,-0.8853501685802612,0.6898295874639477,0.35358317545308665,1.0987515108222736,-0.20036445976839387,1.1317168226847034,1.244145542615334,0.07624024531146381,-0.33008113474801715,0.23569495510145902,-1.2102230389000639,-1.0343537629596997,-0.7298355520182594,0.377827915598249,-1.2201611717084766,1.2033907315316315,-0.15732328897096295,-0.6711736981842389,-0.9411838392514316,-1.11750369661523,0.17255551449158266,-0.505804962509711,0.9371641703890039,0.6834463005151751,1.0547974031845184,-0.3339849796162532,-1.1527015629247779,1.7720578526909554,-0.4429735157380313,-0.8794450819310182,-0.5013173772023398,1.696281221312842,-0.1763374234695934,-0.6281807833334955,1.0847110417315151,-0.6388600686243346,-1.1121566057854972,-0.7468158718409179,0.721039962837402,-0.8965673414266935,0.7421930181724087,0.44187766482301494,1.4941507653768757,-0.07592439400346289,0.13044291172087732,-1.0222254887377913,-1.7739206541014654,-1.077351627835513,0.027363541160738185,-0.9748617967961105,2.518439989093622,-0.46205089679206945,2.3078053387388513,0.4257513394176721,0.49548491085486007,-0.4726521056558049,-0.890533468595739,-1.5441034294130145,-0.5871478452809765,3.3245473574055877,0.4248552040988651,0.757606892518138,2.1204035812719324,-1.5714245397250282,-0.5832059216386883],\"type\":\"box\"}],                        {\"legend\":{\"bgcolor\":\"#F5F6F9\",\"font\":{\"color\":\"#4D5663\"}},\"paper_bgcolor\":\"#F5F6F9\",\"plot_bgcolor\":\"#F5F6F9\",\"template\":{\"data\":{\"barpolar\":[{\"marker\":{\"line\":{\"color\":\"#E5ECF6\",\"width\":0.5},\"pattern\":{\"fillmode\":\"overlay\",\"size\":10,\"solidity\":0.2}},\"type\":\"barpolar\"}],\"bar\":[{\"error_x\":{\"color\":\"#2a3f5f\"},\"error_y\":{\"color\":\"#2a3f5f\"},\"marker\":{\"line\":{\"color\":\"#E5ECF6\",\"width\":0.5},\"pattern\":{\"fillmode\":\"overlay\",\"size\":10,\"solidity\":0.2}},\"type\":\"bar\"}],\"carpet\":[{\"aaxis\":{\"endlinecolor\":\"#2a3f5f\",\"gridcolor\":\"white\",\"linecolor\":\"white\",\"minorgridcolor\":\"white\",\"startlinecolor\":\"#2a3f5f\"},\"baxis\":{\"endlinecolor\":\"#2a3f5f\",\"gridcolor\":\"white\",\"linecolor\":\"white\",\"minorgridcolor\":\"white\",\"startlinecolor\":\"#2a3f5f\"},\"type\":\"carpet\"}],\"choropleth\":[{\"colorbar\":{\"outlinewidth\":0,\"ticks\":\"\"},\"type\":\"choropleth\"}],\"contourcarpet\":[{\"colorbar\":{\"outlinewidth\":0,\"ticks\":\"\"},\"type\":\"contourcarpet\"}],\"contour\":[{\"colorbar\":{\"outlinewidth\":0,\"ticks\":\"\"},\"colorscale\":[[0.0,\"#0d0887\"],[0.1111111111111111,\"#46039f\"],[0.2222222222222222,\"#7201a8\"],[0.3333333333333333,\"#9c179e\"],[0.4444444444444444,\"#bd3786\"],[0.5555555555555556,\"#d8576b\"],[0.6666666666666666,\"#ed7953\"],[0.7777777777777778,\"#fb9f3a\"],[0.8888888888888888,\"#fdca26\"],[1.0,\"#f0f921\"]],\"type\":\"contour\"}],\"heatmapgl\":[{\"colorbar\":{\"outlinewidth\":0,\"ticks\":\"\"},\"colorscale\":[[0.0,\"#0d0887\"],[0.1111111111111111,\"#46039f\"],[0.2222222222222222,\"#7201a8\"],[0.3333333333333333,\"#9c179e\"],[0.4444444444444444,\"#bd3786\"],[0.5555555555555556,\"#d8576b\"],[0.6666666666666666,\"#ed7953\"],[0.7777777777777778,\"#fb9f3a\"],[0.8888888888888888,\"#fdca26\"],[1.0,\"#f0f921\"]],\"type\":\"heatmapgl\"}],\"heatmap\":[{\"colorbar\":{\"outlinewidth\":0,\"ticks\":\"\"},\"colorscale\":[[0.0,\"#0d0887\"],[0.1111111111111111,\"#46039f\"],[0.2222222222222222,\"#7201a8\"],[0.3333333333333333,\"#9c179e\"],[0.4444444444444444,\"#bd3786\"],[0.5555555555555556,\"#d8576b\"],[0.6666666666666666,\"#ed7953\"],[0.7777777777777778,\"#fb9f3a\"],[0.8888888888888888,\"#fdca26\"],[1.0,\"#f0f921\"]],\"type\":\"heatmap\"}],\"histogram2dcontour\":[{\"colorbar\":{\"outlinewidth\":0,\"ticks\":\"\"},\"colorscale\":[[0.0,\"#0d0887\"],[0.1111111111111111,\"#46039f\"],[0.2222222222222222,\"#7201a8\"],[0.3333333333333333,\"#9c179e\"],[0.4444444444444444,\"#bd3786\"],[0.5555555555555556,\"#d8576b\"],[0.6666666666666666,\"#ed7953\"],[0.7777777777777778,\"#fb9f3a\"],[0.8888888888888888,\"#fdca26\"],[1.0,\"#f0f921\"]],\"type\":\"histogram2dcontour\"}],\"histogram2d\":[{\"colorbar\":{\"outlinewidth\":0,\"ticks\":\"\"},\"colorscale\":[[0.0,\"#0d0887\"],[0.1111111111111111,\"#46039f\"],[0.2222222222222222,\"#7201a8\"],[0.3333333333333333,\"#9c179e\"],[0.4444444444444444,\"#bd3786\"],[0.5555555555555556,\"#d8576b\"],[0.6666666666666666,\"#ed7953\"],[0.7777777777777778,\"#fb9f3a\"],[0.8888888888888888,\"#fdca26\"],[1.0,\"#f0f921\"]],\"type\":\"histogram2d\"}],\"histogram\":[{\"marker\":{\"pattern\":{\"fillmode\":\"overlay\",\"size\":10,\"solidity\":0.2}},\"type\":\"histogram\"}],\"mesh3d\":[{\"colorbar\":{\"outlinewidth\":0,\"ticks\":\"\"},\"type\":\"mesh3d\"}],\"parcoords\":[{\"line\":{\"colorbar\":{\"outlinewidth\":0,\"ticks\":\"\"}},\"type\":\"parcoords\"}],\"pie\":[{\"automargin\":true,\"type\":\"pie\"}],\"scatter3d\":[{\"line\":{\"colorbar\":{\"outlinewidth\":0,\"ticks\":\"\"}},\"marker\":{\"colorbar\":{\"outlinewidth\":0,\"ticks\":\"\"}},\"type\":\"scatter3d\"}],\"scattercarpet\":[{\"marker\":{\"colorbar\":{\"outlinewidth\":0,\"ticks\":\"\"}},\"type\":\"scattercarpet\"}],\"scattergeo\":[{\"marker\":{\"colorbar\":{\"outlinewidth\":0,\"ticks\":\"\"}},\"type\":\"scattergeo\"}],\"scattergl\":[{\"marker\":{\"colorbar\":{\"outlinewidth\":0,\"ticks\":\"\"}},\"type\":\"scattergl\"}],\"scattermapbox\":[{\"marker\":{\"colorbar\":{\"outlinewidth\":0,\"ticks\":\"\"}},\"type\":\"scattermapbox\"}],\"scatterpolargl\":[{\"marker\":{\"colorbar\":{\"outlinewidth\":0,\"ticks\":\"\"}},\"type\":\"scatterpolargl\"}],\"scatterpolar\":[{\"marker\":{\"colorbar\":{\"outlinewidth\":0,\"ticks\":\"\"}},\"type\":\"scatterpolar\"}],\"scatter\":[{\"fillpattern\":{\"fillmode\":\"overlay\",\"size\":10,\"solidity\":0.2},\"type\":\"scatter\"}],\"scatterternary\":[{\"marker\":{\"colorbar\":{\"outlinewidth\":0,\"ticks\":\"\"}},\"type\":\"scatterternary\"}],\"surface\":[{\"colorbar\":{\"outlinewidth\":0,\"ticks\":\"\"},\"colorscale\":[[0.0,\"#0d0887\"],[0.1111111111111111,\"#46039f\"],[0.2222222222222222,\"#7201a8\"],[0.3333333333333333,\"#9c179e\"],[0.4444444444444444,\"#bd3786\"],[0.5555555555555556,\"#d8576b\"],[0.6666666666666666,\"#ed7953\"],[0.7777777777777778,\"#fb9f3a\"],[0.8888888888888888,\"#fdca26\"],[1.0,\"#f0f921\"]],\"type\":\"surface\"}],\"table\":[{\"cells\":{\"fill\":{\"color\":\"#EBF0F8\"},\"line\":{\"color\":\"white\"}},\"header\":{\"fill\":{\"color\":\"#C8D4E3\"},\"line\":{\"color\":\"white\"}},\"type\":\"table\"}]},\"layout\":{\"annotationdefaults\":{\"arrowcolor\":\"#2a3f5f\",\"arrowhead\":0,\"arrowwidth\":1},\"autotypenumbers\":\"strict\",\"coloraxis\":{\"colorbar\":{\"outlinewidth\":0,\"ticks\":\"\"}},\"colorscale\":{\"diverging\":[[0,\"#8e0152\"],[0.1,\"#c51b7d\"],[0.2,\"#de77ae\"],[0.3,\"#f1b6da\"],[0.4,\"#fde0ef\"],[0.5,\"#f7f7f7\"],[0.6,\"#e6f5d0\"],[0.7,\"#b8e186\"],[0.8,\"#7fbc41\"],[0.9,\"#4d9221\"],[1,\"#276419\"]],\"sequential\":[[0.0,\"#0d0887\"],[0.1111111111111111,\"#46039f\"],[0.2222222222222222,\"#7201a8\"],[0.3333333333333333,\"#9c179e\"],[0.4444444444444444,\"#bd3786\"],[0.5555555555555556,\"#d8576b\"],[0.6666666666666666,\"#ed7953\"],[0.7777777777777778,\"#fb9f3a\"],[0.8888888888888888,\"#fdca26\"],[1.0,\"#f0f921\"]],\"sequentialminus\":[[0.0,\"#0d0887\"],[0.1111111111111111,\"#46039f\"],[0.2222222222222222,\"#7201a8\"],[0.3333333333333333,\"#9c179e\"],[0.4444444444444444,\"#bd3786\"],[0.5555555555555556,\"#d8576b\"],[0.6666666666666666,\"#ed7953\"],[0.7777777777777778,\"#fb9f3a\"],[0.8888888888888888,\"#fdca26\"],[1.0,\"#f0f921\"]]},\"colorway\":[\"#636efa\",\"#EF553B\",\"#00cc96\",\"#ab63fa\",\"#FFA15A\",\"#19d3f3\",\"#FF6692\",\"#B6E880\",\"#FF97FF\",\"#FECB52\"],\"font\":{\"color\":\"#2a3f5f\"},\"geo\":{\"bgcolor\":\"white\",\"lakecolor\":\"white\",\"landcolor\":\"#E5ECF6\",\"showlakes\":true,\"showland\":true,\"subunitcolor\":\"white\"},\"hoverlabel\":{\"align\":\"left\"},\"hovermode\":\"closest\",\"mapbox\":{\"style\":\"light\"},\"paper_bgcolor\":\"white\",\"plot_bgcolor\":\"#E5ECF6\",\"polar\":{\"angularaxis\":{\"gridcolor\":\"white\",\"linecolor\":\"white\",\"ticks\":\"\"},\"bgcolor\":\"#E5ECF6\",\"radialaxis\":{\"gridcolor\":\"white\",\"linecolor\":\"white\",\"ticks\":\"\"}},\"scene\":{\"xaxis\":{\"backgroundcolor\":\"#E5ECF6\",\"gridcolor\":\"white\",\"gridwidth\":2,\"linecolor\":\"white\",\"showbackground\":true,\"ticks\":\"\",\"zerolinecolor\":\"white\"},\"yaxis\":{\"backgroundcolor\":\"#E5ECF6\",\"gridcolor\":\"white\",\"gridwidth\":2,\"linecolor\":\"white\",\"showbackground\":true,\"ticks\":\"\",\"zerolinecolor\":\"white\"},\"zaxis\":{\"backgroundcolor\":\"#E5ECF6\",\"gridcolor\":\"white\",\"gridwidth\":2,\"linecolor\":\"white\",\"showbackground\":true,\"ticks\":\"\",\"zerolinecolor\":\"white\"}},\"shapedefaults\":{\"line\":{\"color\":\"#2a3f5f\"}},\"ternary\":{\"aaxis\":{\"gridcolor\":\"white\",\"linecolor\":\"white\",\"ticks\":\"\"},\"baxis\":{\"gridcolor\":\"white\",\"linecolor\":\"white\",\"ticks\":\"\"},\"bgcolor\":\"#E5ECF6\",\"caxis\":{\"gridcolor\":\"white\",\"linecolor\":\"white\",\"ticks\":\"\"}},\"title\":{\"x\":0.05},\"xaxis\":{\"automargin\":true,\"gridcolor\":\"white\",\"linecolor\":\"white\",\"ticks\":\"\",\"title\":{\"standoff\":15},\"zerolinecolor\":\"white\",\"zerolinewidth\":2},\"yaxis\":{\"automargin\":true,\"gridcolor\":\"white\",\"linecolor\":\"white\",\"ticks\":\"\",\"title\":{\"standoff\":15},\"zerolinecolor\":\"white\",\"zerolinewidth\":2}}},\"title\":{\"font\":{\"color\":\"#4D5663\"}},\"xaxis\":{\"gridcolor\":\"#E1E5ED\",\"showgrid\":true,\"tickfont\":{\"color\":\"#4D5663\"},\"title\":{\"font\":{\"color\":\"#4D5663\"},\"text\":\"\"},\"zerolinecolor\":\"#E1E5ED\"},\"yaxis\":{\"gridcolor\":\"#E1E5ED\",\"showgrid\":true,\"tickfont\":{\"color\":\"#4D5663\"},\"title\":{\"font\":{\"color\":\"#4D5663\"},\"text\":\"\"},\"zerolinecolor\":\"#E1E5ED\"}},                        {\"showLink\": true, \"linkText\": \"Export to plot.ly\", \"plotlyServerURL\": \"https://plot.ly\", \"responsive\": true}                    ).then(function(){\n",
       "                            \n",
       "var gd = document.getElementById('f0c6dac0-bde6-4990-8ecc-ecb062de5b4f');\n",
       "var x = new MutationObserver(function (mutations, observer) {{\n",
       "        var display = window.getComputedStyle(gd).display;\n",
       "        if (!display || display === 'none') {{\n",
       "            console.log([gd, 'removed!']);\n",
       "            Plotly.purge(gd);\n",
       "            observer.disconnect();\n",
       "        }}\n",
       "}});\n",
       "\n",
       "// Listen for the removal of the full notebook cells\n",
       "var notebookContainer = gd.closest('#notebook-container');\n",
       "if (notebookContainer) {{\n",
       "    x.observe(notebookContainer, {childList: true});\n",
       "}}\n",
       "\n",
       "// Listen for the clearing of the current output cell\n",
       "var outputEl = gd.closest('.output');\n",
       "if (outputEl) {{\n",
       "    x.observe(outputEl, {childList: true});\n",
       "}}\n",
       "\n",
       "                        })                };                });            </script>        </div>"
      ]
     },
     "metadata": {},
     "output_type": "display_data"
    }
   ],
   "source": [
    "df.iplot(kind='box')"
   ]
  },
  {
   "cell_type": "markdown",
   "metadata": {},
   "source": [
    "## 3d Surface"
   ]
  },
  {
   "cell_type": "code",
   "execution_count": 15,
   "metadata": {},
   "outputs": [
    {
     "data": {
      "application/vnd.plotly.v1+json": {
       "config": {
        "linkText": "Export to plot.ly",
        "plotlyServerURL": "https://plot.ly",
        "showLink": true
       },
       "data": [
        {
         "colorscale": [
          [
           0,
           "rgb(165,0,38)"
          ],
          [
           0.1,
           "rgb(215,48,39)"
          ],
          [
           0.2,
           "rgb(244,109,67)"
          ],
          [
           0.3,
           "rgb(253,174,97)"
          ],
          [
           0.4,
           "rgb(254,224,144)"
          ],
          [
           0.5,
           "rgb(255,255,191)"
          ],
          [
           0.6,
           "rgb(224,243,248)"
          ],
          [
           0.7,
           "rgb(171,217,233)"
          ],
          [
           0.8,
           "rgb(116,173,209)"
          ],
          [
           0.9,
           "rgb(69,117,180)"
          ],
          [
           1,
           "rgb(49,54,149)"
          ]
         ],
         "type": "surface",
         "x": [
          0,
          1,
          2,
          3,
          4
         ],
         "y": [
          "x",
          "y",
          "z"
         ],
         "z": [
          [
           1,
           2,
           3,
           4,
           5
          ],
          [
           10,
           20,
           30,
           20,
           10
          ],
          [
           5,
           4,
           3,
           2,
           1
          ]
         ]
        }
       ],
       "layout": {
        "legend": {
         "bgcolor": "#F5F6F9",
         "font": {
          "color": "#4D5663"
         }
        },
        "paper_bgcolor": "#F5F6F9",
        "plot_bgcolor": "#F5F6F9",
        "template": {
         "data": {
          "bar": [
           {
            "error_x": {
             "color": "#2a3f5f"
            },
            "error_y": {
             "color": "#2a3f5f"
            },
            "marker": {
             "line": {
              "color": "#E5ECF6",
              "width": 0.5
             },
             "pattern": {
              "fillmode": "overlay",
              "size": 10,
              "solidity": 0.2
             }
            },
            "type": "bar"
           }
          ],
          "barpolar": [
           {
            "marker": {
             "line": {
              "color": "#E5ECF6",
              "width": 0.5
             },
             "pattern": {
              "fillmode": "overlay",
              "size": 10,
              "solidity": 0.2
             }
            },
            "type": "barpolar"
           }
          ],
          "carpet": [
           {
            "aaxis": {
             "endlinecolor": "#2a3f5f",
             "gridcolor": "white",
             "linecolor": "white",
             "minorgridcolor": "white",
             "startlinecolor": "#2a3f5f"
            },
            "baxis": {
             "endlinecolor": "#2a3f5f",
             "gridcolor": "white",
             "linecolor": "white",
             "minorgridcolor": "white",
             "startlinecolor": "#2a3f5f"
            },
            "type": "carpet"
           }
          ],
          "choropleth": [
           {
            "colorbar": {
             "outlinewidth": 0,
             "ticks": ""
            },
            "type": "choropleth"
           }
          ],
          "contour": [
           {
            "colorbar": {
             "outlinewidth": 0,
             "ticks": ""
            },
            "colorscale": [
             [
              0,
              "#0d0887"
             ],
             [
              0.1111111111111111,
              "#46039f"
             ],
             [
              0.2222222222222222,
              "#7201a8"
             ],
             [
              0.3333333333333333,
              "#9c179e"
             ],
             [
              0.4444444444444444,
              "#bd3786"
             ],
             [
              0.5555555555555556,
              "#d8576b"
             ],
             [
              0.6666666666666666,
              "#ed7953"
             ],
             [
              0.7777777777777778,
              "#fb9f3a"
             ],
             [
              0.8888888888888888,
              "#fdca26"
             ],
             [
              1,
              "#f0f921"
             ]
            ],
            "type": "contour"
           }
          ],
          "contourcarpet": [
           {
            "colorbar": {
             "outlinewidth": 0,
             "ticks": ""
            },
            "type": "contourcarpet"
           }
          ],
          "heatmap": [
           {
            "colorbar": {
             "outlinewidth": 0,
             "ticks": ""
            },
            "colorscale": [
             [
              0,
              "#0d0887"
             ],
             [
              0.1111111111111111,
              "#46039f"
             ],
             [
              0.2222222222222222,
              "#7201a8"
             ],
             [
              0.3333333333333333,
              "#9c179e"
             ],
             [
              0.4444444444444444,
              "#bd3786"
             ],
             [
              0.5555555555555556,
              "#d8576b"
             ],
             [
              0.6666666666666666,
              "#ed7953"
             ],
             [
              0.7777777777777778,
              "#fb9f3a"
             ],
             [
              0.8888888888888888,
              "#fdca26"
             ],
             [
              1,
              "#f0f921"
             ]
            ],
            "type": "heatmap"
           }
          ],
          "heatmapgl": [
           {
            "colorbar": {
             "outlinewidth": 0,
             "ticks": ""
            },
            "colorscale": [
             [
              0,
              "#0d0887"
             ],
             [
              0.1111111111111111,
              "#46039f"
             ],
             [
              0.2222222222222222,
              "#7201a8"
             ],
             [
              0.3333333333333333,
              "#9c179e"
             ],
             [
              0.4444444444444444,
              "#bd3786"
             ],
             [
              0.5555555555555556,
              "#d8576b"
             ],
             [
              0.6666666666666666,
              "#ed7953"
             ],
             [
              0.7777777777777778,
              "#fb9f3a"
             ],
             [
              0.8888888888888888,
              "#fdca26"
             ],
             [
              1,
              "#f0f921"
             ]
            ],
            "type": "heatmapgl"
           }
          ],
          "histogram": [
           {
            "marker": {
             "pattern": {
              "fillmode": "overlay",
              "size": 10,
              "solidity": 0.2
             }
            },
            "type": "histogram"
           }
          ],
          "histogram2d": [
           {
            "colorbar": {
             "outlinewidth": 0,
             "ticks": ""
            },
            "colorscale": [
             [
              0,
              "#0d0887"
             ],
             [
              0.1111111111111111,
              "#46039f"
             ],
             [
              0.2222222222222222,
              "#7201a8"
             ],
             [
              0.3333333333333333,
              "#9c179e"
             ],
             [
              0.4444444444444444,
              "#bd3786"
             ],
             [
              0.5555555555555556,
              "#d8576b"
             ],
             [
              0.6666666666666666,
              "#ed7953"
             ],
             [
              0.7777777777777778,
              "#fb9f3a"
             ],
             [
              0.8888888888888888,
              "#fdca26"
             ],
             [
              1,
              "#f0f921"
             ]
            ],
            "type": "histogram2d"
           }
          ],
          "histogram2dcontour": [
           {
            "colorbar": {
             "outlinewidth": 0,
             "ticks": ""
            },
            "colorscale": [
             [
              0,
              "#0d0887"
             ],
             [
              0.1111111111111111,
              "#46039f"
             ],
             [
              0.2222222222222222,
              "#7201a8"
             ],
             [
              0.3333333333333333,
              "#9c179e"
             ],
             [
              0.4444444444444444,
              "#bd3786"
             ],
             [
              0.5555555555555556,
              "#d8576b"
             ],
             [
              0.6666666666666666,
              "#ed7953"
             ],
             [
              0.7777777777777778,
              "#fb9f3a"
             ],
             [
              0.8888888888888888,
              "#fdca26"
             ],
             [
              1,
              "#f0f921"
             ]
            ],
            "type": "histogram2dcontour"
           }
          ],
          "mesh3d": [
           {
            "colorbar": {
             "outlinewidth": 0,
             "ticks": ""
            },
            "type": "mesh3d"
           }
          ],
          "parcoords": [
           {
            "line": {
             "colorbar": {
              "outlinewidth": 0,
              "ticks": ""
             }
            },
            "type": "parcoords"
           }
          ],
          "pie": [
           {
            "automargin": true,
            "type": "pie"
           }
          ],
          "scatter": [
           {
            "fillpattern": {
             "fillmode": "overlay",
             "size": 10,
             "solidity": 0.2
            },
            "type": "scatter"
           }
          ],
          "scatter3d": [
           {
            "line": {
             "colorbar": {
              "outlinewidth": 0,
              "ticks": ""
             }
            },
            "marker": {
             "colorbar": {
              "outlinewidth": 0,
              "ticks": ""
             }
            },
            "type": "scatter3d"
           }
          ],
          "scattercarpet": [
           {
            "marker": {
             "colorbar": {
              "outlinewidth": 0,
              "ticks": ""
             }
            },
            "type": "scattercarpet"
           }
          ],
          "scattergeo": [
           {
            "marker": {
             "colorbar": {
              "outlinewidth": 0,
              "ticks": ""
             }
            },
            "type": "scattergeo"
           }
          ],
          "scattergl": [
           {
            "marker": {
             "colorbar": {
              "outlinewidth": 0,
              "ticks": ""
             }
            },
            "type": "scattergl"
           }
          ],
          "scattermapbox": [
           {
            "marker": {
             "colorbar": {
              "outlinewidth": 0,
              "ticks": ""
             }
            },
            "type": "scattermapbox"
           }
          ],
          "scatterpolar": [
           {
            "marker": {
             "colorbar": {
              "outlinewidth": 0,
              "ticks": ""
             }
            },
            "type": "scatterpolar"
           }
          ],
          "scatterpolargl": [
           {
            "marker": {
             "colorbar": {
              "outlinewidth": 0,
              "ticks": ""
             }
            },
            "type": "scatterpolargl"
           }
          ],
          "scatterternary": [
           {
            "marker": {
             "colorbar": {
              "outlinewidth": 0,
              "ticks": ""
             }
            },
            "type": "scatterternary"
           }
          ],
          "surface": [
           {
            "colorbar": {
             "outlinewidth": 0,
             "ticks": ""
            },
            "colorscale": [
             [
              0,
              "#0d0887"
             ],
             [
              0.1111111111111111,
              "#46039f"
             ],
             [
              0.2222222222222222,
              "#7201a8"
             ],
             [
              0.3333333333333333,
              "#9c179e"
             ],
             [
              0.4444444444444444,
              "#bd3786"
             ],
             [
              0.5555555555555556,
              "#d8576b"
             ],
             [
              0.6666666666666666,
              "#ed7953"
             ],
             [
              0.7777777777777778,
              "#fb9f3a"
             ],
             [
              0.8888888888888888,
              "#fdca26"
             ],
             [
              1,
              "#f0f921"
             ]
            ],
            "type": "surface"
           }
          ],
          "table": [
           {
            "cells": {
             "fill": {
              "color": "#EBF0F8"
             },
             "line": {
              "color": "white"
             }
            },
            "header": {
             "fill": {
              "color": "#C8D4E3"
             },
             "line": {
              "color": "white"
             }
            },
            "type": "table"
           }
          ]
         },
         "layout": {
          "annotationdefaults": {
           "arrowcolor": "#2a3f5f",
           "arrowhead": 0,
           "arrowwidth": 1
          },
          "autotypenumbers": "strict",
          "coloraxis": {
           "colorbar": {
            "outlinewidth": 0,
            "ticks": ""
           }
          },
          "colorscale": {
           "diverging": [
            [
             0,
             "#8e0152"
            ],
            [
             0.1,
             "#c51b7d"
            ],
            [
             0.2,
             "#de77ae"
            ],
            [
             0.3,
             "#f1b6da"
            ],
            [
             0.4,
             "#fde0ef"
            ],
            [
             0.5,
             "#f7f7f7"
            ],
            [
             0.6,
             "#e6f5d0"
            ],
            [
             0.7,
             "#b8e186"
            ],
            [
             0.8,
             "#7fbc41"
            ],
            [
             0.9,
             "#4d9221"
            ],
            [
             1,
             "#276419"
            ]
           ],
           "sequential": [
            [
             0,
             "#0d0887"
            ],
            [
             0.1111111111111111,
             "#46039f"
            ],
            [
             0.2222222222222222,
             "#7201a8"
            ],
            [
             0.3333333333333333,
             "#9c179e"
            ],
            [
             0.4444444444444444,
             "#bd3786"
            ],
            [
             0.5555555555555556,
             "#d8576b"
            ],
            [
             0.6666666666666666,
             "#ed7953"
            ],
            [
             0.7777777777777778,
             "#fb9f3a"
            ],
            [
             0.8888888888888888,
             "#fdca26"
            ],
            [
             1,
             "#f0f921"
            ]
           ],
           "sequentialminus": [
            [
             0,
             "#0d0887"
            ],
            [
             0.1111111111111111,
             "#46039f"
            ],
            [
             0.2222222222222222,
             "#7201a8"
            ],
            [
             0.3333333333333333,
             "#9c179e"
            ],
            [
             0.4444444444444444,
             "#bd3786"
            ],
            [
             0.5555555555555556,
             "#d8576b"
            ],
            [
             0.6666666666666666,
             "#ed7953"
            ],
            [
             0.7777777777777778,
             "#fb9f3a"
            ],
            [
             0.8888888888888888,
             "#fdca26"
            ],
            [
             1,
             "#f0f921"
            ]
           ]
          },
          "colorway": [
           "#636efa",
           "#EF553B",
           "#00cc96",
           "#ab63fa",
           "#FFA15A",
           "#19d3f3",
           "#FF6692",
           "#B6E880",
           "#FF97FF",
           "#FECB52"
          ],
          "font": {
           "color": "#2a3f5f"
          },
          "geo": {
           "bgcolor": "white",
           "lakecolor": "white",
           "landcolor": "#E5ECF6",
           "showlakes": true,
           "showland": true,
           "subunitcolor": "white"
          },
          "hoverlabel": {
           "align": "left"
          },
          "hovermode": "closest",
          "mapbox": {
           "style": "light"
          },
          "paper_bgcolor": "white",
          "plot_bgcolor": "#E5ECF6",
          "polar": {
           "angularaxis": {
            "gridcolor": "white",
            "linecolor": "white",
            "ticks": ""
           },
           "bgcolor": "#E5ECF6",
           "radialaxis": {
            "gridcolor": "white",
            "linecolor": "white",
            "ticks": ""
           }
          },
          "scene": {
           "xaxis": {
            "backgroundcolor": "#E5ECF6",
            "gridcolor": "white",
            "gridwidth": 2,
            "linecolor": "white",
            "showbackground": true,
            "ticks": "",
            "zerolinecolor": "white"
           },
           "yaxis": {
            "backgroundcolor": "#E5ECF6",
            "gridcolor": "white",
            "gridwidth": 2,
            "linecolor": "white",
            "showbackground": true,
            "ticks": "",
            "zerolinecolor": "white"
           },
           "zaxis": {
            "backgroundcolor": "#E5ECF6",
            "gridcolor": "white",
            "gridwidth": 2,
            "linecolor": "white",
            "showbackground": true,
            "ticks": "",
            "zerolinecolor": "white"
           }
          },
          "shapedefaults": {
           "line": {
            "color": "#2a3f5f"
           }
          },
          "ternary": {
           "aaxis": {
            "gridcolor": "white",
            "linecolor": "white",
            "ticks": ""
           },
           "baxis": {
            "gridcolor": "white",
            "linecolor": "white",
            "ticks": ""
           },
           "bgcolor": "#E5ECF6",
           "caxis": {
            "gridcolor": "white",
            "linecolor": "white",
            "ticks": ""
           }
          },
          "title": {
           "x": 0.05
          },
          "xaxis": {
           "automargin": true,
           "gridcolor": "white",
           "linecolor": "white",
           "ticks": "",
           "title": {
            "standoff": 15
           },
           "zerolinecolor": "white",
           "zerolinewidth": 2
          },
          "yaxis": {
           "automargin": true,
           "gridcolor": "white",
           "linecolor": "white",
           "ticks": "",
           "title": {
            "standoff": 15
           },
           "zerolinecolor": "white",
           "zerolinewidth": 2
          }
         }
        },
        "title": {
         "font": {
          "color": "#4D5663"
         }
        },
        "xaxis": {
         "gridcolor": "#E1E5ED",
         "showgrid": true,
         "tickfont": {
          "color": "#4D5663"
         },
         "title": {
          "font": {
           "color": "#4D5663"
          },
          "text": ""
         },
         "zerolinecolor": "#E1E5ED"
        },
        "yaxis": {
         "gridcolor": "#E1E5ED",
         "showgrid": true,
         "tickfont": {
          "color": "#4D5663"
         },
         "title": {
          "font": {
           "color": "#4D5663"
          },
          "text": ""
         },
         "zerolinecolor": "#E1E5ED"
        }
       }
      },
      "text/html": [
       "<div>                            <div id=\"62399728-c959-4307-ae1d-11d32d2b2b60\" class=\"plotly-graph-div\" style=\"height:525px; width:100%;\"></div>            <script type=\"text/javascript\">                require([\"plotly\"], function(Plotly) {                    window.PLOTLYENV=window.PLOTLYENV || {};\n",
       "                    window.PLOTLYENV.BASE_URL='https://plot.ly';                                    if (document.getElementById(\"62399728-c959-4307-ae1d-11d32d2b2b60\")) {                    Plotly.newPlot(                        \"62399728-c959-4307-ae1d-11d32d2b2b60\",                        [{\"colorscale\":[[0.0,\"rgb(165,0,38)\"],[0.1,\"rgb(215,48,39)\"],[0.2,\"rgb(244,109,67)\"],[0.3,\"rgb(253,174,97)\"],[0.4,\"rgb(254,224,144)\"],[0.5,\"rgb(255,255,191)\"],[0.6,\"rgb(224,243,248)\"],[0.7,\"rgb(171,217,233)\"],[0.8,\"rgb(116,173,209)\"],[0.9,\"rgb(69,117,180)\"],[1.0,\"rgb(49,54,149)\"]],\"x\":[0,1,2,3,4],\"y\":[\"x\",\"y\",\"z\"],\"z\":[[1,2,3,4,5],[10,20,30,20,10],[5,4,3,2,1]],\"type\":\"surface\"}],                        {\"legend\":{\"bgcolor\":\"#F5F6F9\",\"font\":{\"color\":\"#4D5663\"}},\"paper_bgcolor\":\"#F5F6F9\",\"plot_bgcolor\":\"#F5F6F9\",\"template\":{\"data\":{\"barpolar\":[{\"marker\":{\"line\":{\"color\":\"#E5ECF6\",\"width\":0.5},\"pattern\":{\"fillmode\":\"overlay\",\"size\":10,\"solidity\":0.2}},\"type\":\"barpolar\"}],\"bar\":[{\"error_x\":{\"color\":\"#2a3f5f\"},\"error_y\":{\"color\":\"#2a3f5f\"},\"marker\":{\"line\":{\"color\":\"#E5ECF6\",\"width\":0.5},\"pattern\":{\"fillmode\":\"overlay\",\"size\":10,\"solidity\":0.2}},\"type\":\"bar\"}],\"carpet\":[{\"aaxis\":{\"endlinecolor\":\"#2a3f5f\",\"gridcolor\":\"white\",\"linecolor\":\"white\",\"minorgridcolor\":\"white\",\"startlinecolor\":\"#2a3f5f\"},\"baxis\":{\"endlinecolor\":\"#2a3f5f\",\"gridcolor\":\"white\",\"linecolor\":\"white\",\"minorgridcolor\":\"white\",\"startlinecolor\":\"#2a3f5f\"},\"type\":\"carpet\"}],\"choropleth\":[{\"colorbar\":{\"outlinewidth\":0,\"ticks\":\"\"},\"type\":\"choropleth\"}],\"contourcarpet\":[{\"colorbar\":{\"outlinewidth\":0,\"ticks\":\"\"},\"type\":\"contourcarpet\"}],\"contour\":[{\"colorbar\":{\"outlinewidth\":0,\"ticks\":\"\"},\"colorscale\":[[0.0,\"#0d0887\"],[0.1111111111111111,\"#46039f\"],[0.2222222222222222,\"#7201a8\"],[0.3333333333333333,\"#9c179e\"],[0.4444444444444444,\"#bd3786\"],[0.5555555555555556,\"#d8576b\"],[0.6666666666666666,\"#ed7953\"],[0.7777777777777778,\"#fb9f3a\"],[0.8888888888888888,\"#fdca26\"],[1.0,\"#f0f921\"]],\"type\":\"contour\"}],\"heatmapgl\":[{\"colorbar\":{\"outlinewidth\":0,\"ticks\":\"\"},\"colorscale\":[[0.0,\"#0d0887\"],[0.1111111111111111,\"#46039f\"],[0.2222222222222222,\"#7201a8\"],[0.3333333333333333,\"#9c179e\"],[0.4444444444444444,\"#bd3786\"],[0.5555555555555556,\"#d8576b\"],[0.6666666666666666,\"#ed7953\"],[0.7777777777777778,\"#fb9f3a\"],[0.8888888888888888,\"#fdca26\"],[1.0,\"#f0f921\"]],\"type\":\"heatmapgl\"}],\"heatmap\":[{\"colorbar\":{\"outlinewidth\":0,\"ticks\":\"\"},\"colorscale\":[[0.0,\"#0d0887\"],[0.1111111111111111,\"#46039f\"],[0.2222222222222222,\"#7201a8\"],[0.3333333333333333,\"#9c179e\"],[0.4444444444444444,\"#bd3786\"],[0.5555555555555556,\"#d8576b\"],[0.6666666666666666,\"#ed7953\"],[0.7777777777777778,\"#fb9f3a\"],[0.8888888888888888,\"#fdca26\"],[1.0,\"#f0f921\"]],\"type\":\"heatmap\"}],\"histogram2dcontour\":[{\"colorbar\":{\"outlinewidth\":0,\"ticks\":\"\"},\"colorscale\":[[0.0,\"#0d0887\"],[0.1111111111111111,\"#46039f\"],[0.2222222222222222,\"#7201a8\"],[0.3333333333333333,\"#9c179e\"],[0.4444444444444444,\"#bd3786\"],[0.5555555555555556,\"#d8576b\"],[0.6666666666666666,\"#ed7953\"],[0.7777777777777778,\"#fb9f3a\"],[0.8888888888888888,\"#fdca26\"],[1.0,\"#f0f921\"]],\"type\":\"histogram2dcontour\"}],\"histogram2d\":[{\"colorbar\":{\"outlinewidth\":0,\"ticks\":\"\"},\"colorscale\":[[0.0,\"#0d0887\"],[0.1111111111111111,\"#46039f\"],[0.2222222222222222,\"#7201a8\"],[0.3333333333333333,\"#9c179e\"],[0.4444444444444444,\"#bd3786\"],[0.5555555555555556,\"#d8576b\"],[0.6666666666666666,\"#ed7953\"],[0.7777777777777778,\"#fb9f3a\"],[0.8888888888888888,\"#fdca26\"],[1.0,\"#f0f921\"]],\"type\":\"histogram2d\"}],\"histogram\":[{\"marker\":{\"pattern\":{\"fillmode\":\"overlay\",\"size\":10,\"solidity\":0.2}},\"type\":\"histogram\"}],\"mesh3d\":[{\"colorbar\":{\"outlinewidth\":0,\"ticks\":\"\"},\"type\":\"mesh3d\"}],\"parcoords\":[{\"line\":{\"colorbar\":{\"outlinewidth\":0,\"ticks\":\"\"}},\"type\":\"parcoords\"}],\"pie\":[{\"automargin\":true,\"type\":\"pie\"}],\"scatter3d\":[{\"line\":{\"colorbar\":{\"outlinewidth\":0,\"ticks\":\"\"}},\"marker\":{\"colorbar\":{\"outlinewidth\":0,\"ticks\":\"\"}},\"type\":\"scatter3d\"}],\"scattercarpet\":[{\"marker\":{\"colorbar\":{\"outlinewidth\":0,\"ticks\":\"\"}},\"type\":\"scattercarpet\"}],\"scattergeo\":[{\"marker\":{\"colorbar\":{\"outlinewidth\":0,\"ticks\":\"\"}},\"type\":\"scattergeo\"}],\"scattergl\":[{\"marker\":{\"colorbar\":{\"outlinewidth\":0,\"ticks\":\"\"}},\"type\":\"scattergl\"}],\"scattermapbox\":[{\"marker\":{\"colorbar\":{\"outlinewidth\":0,\"ticks\":\"\"}},\"type\":\"scattermapbox\"}],\"scatterpolargl\":[{\"marker\":{\"colorbar\":{\"outlinewidth\":0,\"ticks\":\"\"}},\"type\":\"scatterpolargl\"}],\"scatterpolar\":[{\"marker\":{\"colorbar\":{\"outlinewidth\":0,\"ticks\":\"\"}},\"type\":\"scatterpolar\"}],\"scatter\":[{\"fillpattern\":{\"fillmode\":\"overlay\",\"size\":10,\"solidity\":0.2},\"type\":\"scatter\"}],\"scatterternary\":[{\"marker\":{\"colorbar\":{\"outlinewidth\":0,\"ticks\":\"\"}},\"type\":\"scatterternary\"}],\"surface\":[{\"colorbar\":{\"outlinewidth\":0,\"ticks\":\"\"},\"colorscale\":[[0.0,\"#0d0887\"],[0.1111111111111111,\"#46039f\"],[0.2222222222222222,\"#7201a8\"],[0.3333333333333333,\"#9c179e\"],[0.4444444444444444,\"#bd3786\"],[0.5555555555555556,\"#d8576b\"],[0.6666666666666666,\"#ed7953\"],[0.7777777777777778,\"#fb9f3a\"],[0.8888888888888888,\"#fdca26\"],[1.0,\"#f0f921\"]],\"type\":\"surface\"}],\"table\":[{\"cells\":{\"fill\":{\"color\":\"#EBF0F8\"},\"line\":{\"color\":\"white\"}},\"header\":{\"fill\":{\"color\":\"#C8D4E3\"},\"line\":{\"color\":\"white\"}},\"type\":\"table\"}]},\"layout\":{\"annotationdefaults\":{\"arrowcolor\":\"#2a3f5f\",\"arrowhead\":0,\"arrowwidth\":1},\"autotypenumbers\":\"strict\",\"coloraxis\":{\"colorbar\":{\"outlinewidth\":0,\"ticks\":\"\"}},\"colorscale\":{\"diverging\":[[0,\"#8e0152\"],[0.1,\"#c51b7d\"],[0.2,\"#de77ae\"],[0.3,\"#f1b6da\"],[0.4,\"#fde0ef\"],[0.5,\"#f7f7f7\"],[0.6,\"#e6f5d0\"],[0.7,\"#b8e186\"],[0.8,\"#7fbc41\"],[0.9,\"#4d9221\"],[1,\"#276419\"]],\"sequential\":[[0.0,\"#0d0887\"],[0.1111111111111111,\"#46039f\"],[0.2222222222222222,\"#7201a8\"],[0.3333333333333333,\"#9c179e\"],[0.4444444444444444,\"#bd3786\"],[0.5555555555555556,\"#d8576b\"],[0.6666666666666666,\"#ed7953\"],[0.7777777777777778,\"#fb9f3a\"],[0.8888888888888888,\"#fdca26\"],[1.0,\"#f0f921\"]],\"sequentialminus\":[[0.0,\"#0d0887\"],[0.1111111111111111,\"#46039f\"],[0.2222222222222222,\"#7201a8\"],[0.3333333333333333,\"#9c179e\"],[0.4444444444444444,\"#bd3786\"],[0.5555555555555556,\"#d8576b\"],[0.6666666666666666,\"#ed7953\"],[0.7777777777777778,\"#fb9f3a\"],[0.8888888888888888,\"#fdca26\"],[1.0,\"#f0f921\"]]},\"colorway\":[\"#636efa\",\"#EF553B\",\"#00cc96\",\"#ab63fa\",\"#FFA15A\",\"#19d3f3\",\"#FF6692\",\"#B6E880\",\"#FF97FF\",\"#FECB52\"],\"font\":{\"color\":\"#2a3f5f\"},\"geo\":{\"bgcolor\":\"white\",\"lakecolor\":\"white\",\"landcolor\":\"#E5ECF6\",\"showlakes\":true,\"showland\":true,\"subunitcolor\":\"white\"},\"hoverlabel\":{\"align\":\"left\"},\"hovermode\":\"closest\",\"mapbox\":{\"style\":\"light\"},\"paper_bgcolor\":\"white\",\"plot_bgcolor\":\"#E5ECF6\",\"polar\":{\"angularaxis\":{\"gridcolor\":\"white\",\"linecolor\":\"white\",\"ticks\":\"\"},\"bgcolor\":\"#E5ECF6\",\"radialaxis\":{\"gridcolor\":\"white\",\"linecolor\":\"white\",\"ticks\":\"\"}},\"scene\":{\"xaxis\":{\"backgroundcolor\":\"#E5ECF6\",\"gridcolor\":\"white\",\"gridwidth\":2,\"linecolor\":\"white\",\"showbackground\":true,\"ticks\":\"\",\"zerolinecolor\":\"white\"},\"yaxis\":{\"backgroundcolor\":\"#E5ECF6\",\"gridcolor\":\"white\",\"gridwidth\":2,\"linecolor\":\"white\",\"showbackground\":true,\"ticks\":\"\",\"zerolinecolor\":\"white\"},\"zaxis\":{\"backgroundcolor\":\"#E5ECF6\",\"gridcolor\":\"white\",\"gridwidth\":2,\"linecolor\":\"white\",\"showbackground\":true,\"ticks\":\"\",\"zerolinecolor\":\"white\"}},\"shapedefaults\":{\"line\":{\"color\":\"#2a3f5f\"}},\"ternary\":{\"aaxis\":{\"gridcolor\":\"white\",\"linecolor\":\"white\",\"ticks\":\"\"},\"baxis\":{\"gridcolor\":\"white\",\"linecolor\":\"white\",\"ticks\":\"\"},\"bgcolor\":\"#E5ECF6\",\"caxis\":{\"gridcolor\":\"white\",\"linecolor\":\"white\",\"ticks\":\"\"}},\"title\":{\"x\":0.05},\"xaxis\":{\"automargin\":true,\"gridcolor\":\"white\",\"linecolor\":\"white\",\"ticks\":\"\",\"title\":{\"standoff\":15},\"zerolinecolor\":\"white\",\"zerolinewidth\":2},\"yaxis\":{\"automargin\":true,\"gridcolor\":\"white\",\"linecolor\":\"white\",\"ticks\":\"\",\"title\":{\"standoff\":15},\"zerolinecolor\":\"white\",\"zerolinewidth\":2}}},\"title\":{\"font\":{\"color\":\"#4D5663\"}},\"xaxis\":{\"gridcolor\":\"#E1E5ED\",\"showgrid\":true,\"tickfont\":{\"color\":\"#4D5663\"},\"title\":{\"font\":{\"color\":\"#4D5663\"},\"text\":\"\"},\"zerolinecolor\":\"#E1E5ED\"},\"yaxis\":{\"gridcolor\":\"#E1E5ED\",\"showgrid\":true,\"tickfont\":{\"color\":\"#4D5663\"},\"title\":{\"font\":{\"color\":\"#4D5663\"},\"text\":\"\"},\"zerolinecolor\":\"#E1E5ED\"}},                        {\"showLink\": true, \"linkText\": \"Export to plot.ly\", \"plotlyServerURL\": \"https://plot.ly\", \"responsive\": true}                    ).then(function(){\n",
       "                            \n",
       "var gd = document.getElementById('62399728-c959-4307-ae1d-11d32d2b2b60');\n",
       "var x = new MutationObserver(function (mutations, observer) {{\n",
       "        var display = window.getComputedStyle(gd).display;\n",
       "        if (!display || display === 'none') {{\n",
       "            console.log([gd, 'removed!']);\n",
       "            Plotly.purge(gd);\n",
       "            observer.disconnect();\n",
       "        }}\n",
       "}});\n",
       "\n",
       "// Listen for the removal of the full notebook cells\n",
       "var notebookContainer = gd.closest('#notebook-container');\n",
       "if (notebookContainer) {{\n",
       "    x.observe(notebookContainer, {childList: true});\n",
       "}}\n",
       "\n",
       "// Listen for the clearing of the current output cell\n",
       "var outputEl = gd.closest('.output');\n",
       "if (outputEl) {{\n",
       "    x.observe(outputEl, {childList: true});\n",
       "}}\n",
       "\n",
       "                        })                };                });            </script>        </div>"
      ]
     },
     "metadata": {},
     "output_type": "display_data"
    }
   ],
   "source": [
    "df3 = pd.DataFrame({'x':[1,2,3,4,5],'y':[10,20,30,20,10],'z':[5,4,3,2,1]})\n",
    "df3.iplot(kind='surface',colorscale='rdylbu')"
   ]
  },
  {
   "cell_type": "markdown",
   "metadata": {},
   "source": [
    "## Spread"
   ]
  },
  {
   "cell_type": "code",
   "execution_count": 16,
   "metadata": {},
   "outputs": [
    {
     "name": "stderr",
     "output_type": "stream",
     "text": [
      "C:\\Users\\pc\\AppData\\Local\\Programs\\Python\\anaconda\\Lib\\site-packages\\cufflinks\\plotlytools.py:849: FutureWarning:\n",
      "\n",
      "The pandas.np module is deprecated and will be removed from pandas in a future version. Import numpy directly instead.\n",
      "\n",
      "C:\\Users\\pc\\AppData\\Local\\Programs\\Python\\anaconda\\Lib\\site-packages\\cufflinks\\plotlytools.py:850: FutureWarning:\n",
      "\n",
      "The pandas.np module is deprecated and will be removed from pandas in a future version. Import numpy directly instead.\n",
      "\n"
     ]
    },
    {
     "data": {
      "application/vnd.plotly.v1+json": {
       "config": {
        "linkText": "Export to plot.ly",
        "plotlyServerURL": "https://plot.ly",
        "showLink": true
       },
       "data": [
        {
         "line": {
          "color": "rgba(255, 153, 51, 1.0)",
          "dash": "solid",
          "shape": "linear",
          "width": 1.3
         },
         "mode": "lines",
         "name": "A",
         "text": "",
         "type": "scatter",
         "x": [
          0,
          1,
          2,
          3,
          4,
          5,
          6,
          7,
          8,
          9,
          10,
          11,
          12,
          13,
          14,
          15,
          16,
          17,
          18,
          19,
          20,
          21,
          22,
          23,
          24,
          25,
          26,
          27,
          28,
          29,
          30,
          31,
          32,
          33,
          34,
          35,
          36,
          37,
          38,
          39,
          40,
          41,
          42,
          43,
          44,
          45,
          46,
          47,
          48,
          49,
          50,
          51,
          52,
          53,
          54,
          55,
          56,
          57,
          58,
          59,
          60,
          61,
          62,
          63,
          64,
          65,
          66,
          67,
          68,
          69,
          70,
          71,
          72,
          73,
          74,
          75,
          76,
          77,
          78,
          79,
          80,
          81,
          82,
          83,
          84,
          85,
          86,
          87,
          88,
          89,
          90,
          91,
          92,
          93,
          94,
          95,
          96,
          97,
          98,
          99
         ],
         "y": [
          -1.0414938449171551,
          -0.4354303557101797,
          0.34091500601799474,
          2.0746916097471155,
          -0.24747851502364648,
          0.6186335280195576,
          0.06458959483746213,
          0.19202582337651733,
          0.6461078850095495,
          -1.0390452041639444,
          0.6227323408901065,
          -0.1674391576392429,
          -0.1926042781471134,
          -0.04046327744673468,
          -2.031733686393499,
          -1.2521232482806384,
          -1.0611150328040704,
          -1.3005911023122887,
          2.73068526240894,
          -0.014905077491252519,
          -0.3365265182353228,
          1.5688337988015868,
          -0.3537229936367583,
          -0.7774145415496925,
          -0.5531468020354161,
          0.3732146468619525,
          0.47503628200836756,
          0.6675289888307547,
          0.6342468938845498,
          0.3782402737404014,
          1.8073693745270427,
          0.10079055157427515,
          0.44395509474085854,
          -1.5999810850342004,
          -0.9361645071581075,
          1.6427002545546334,
          -0.19965900866375763,
          -0.5739373863449075,
          -0.4867162121661351,
          -0.7494828396960236,
          -0.4680209101771845,
          -0.646200346510384,
          -1.4499063061319621,
          -0.6729265648978373,
          -0.25920990095800994,
          -0.24524031082590997,
          0.9424992940939884,
          0.09746308886052545,
          -0.05670856183167005,
          -0.3700987414342005,
          -1.5330827425094273,
          -1.513493870789549,
          1.0020688989440132,
          -0.14477971981749638,
          -0.06713316999739569,
          0.36165647674204604,
          0.7879463209144801,
          1.2050186982820554,
          0.6388184550724472,
          0.6740116687479178,
          -0.7147605818973362,
          0.18841425752213384,
          0.47735099292647765,
          -0.035006175364803556,
          -1.0344884992735575,
          0.15948944361386735,
          -0.19589283962336,
          -0.6852943018916997,
          -0.5880941757709064,
          0.17035562449446132,
          0.5913902058621666,
          -0.9199122157675864,
          0.9573935392643146,
          -0.22375424741831904,
          0.43946538468921637,
          -0.3131973114136663,
          0.899443150063009,
          -0.8264953253132122,
          -0.16538637364699124,
          -0.13517908001439397,
          0.8091401271172439,
          -1.30904640296218,
          -0.45422206139924226,
          0.4907240937863005,
          1.424194979291537,
          1.1295658613318202,
          -1.1343449569566135,
          1.7497515669552424,
          -0.15609510980782706,
          -0.9701048648149126,
          -1.2922061453965263,
          2.015183999384643,
          1.0651251975905274,
          0.37795898160154373,
          -0.858135175494791,
          -1.8924836165721872,
          -0.7191375774094184,
          -0.5522674191284617,
          -0.913005426693775,
          1.6573844242452849
         ]
        },
        {
         "line": {
          "color": "rgba(55, 128, 191, 1.0)",
          "dash": "solid",
          "shape": "linear",
          "width": 1.3
         },
         "mode": "lines",
         "name": "B",
         "text": "",
         "type": "scatter",
         "x": [
          0,
          1,
          2,
          3,
          4,
          5,
          6,
          7,
          8,
          9,
          10,
          11,
          12,
          13,
          14,
          15,
          16,
          17,
          18,
          19,
          20,
          21,
          22,
          23,
          24,
          25,
          26,
          27,
          28,
          29,
          30,
          31,
          32,
          33,
          34,
          35,
          36,
          37,
          38,
          39,
          40,
          41,
          42,
          43,
          44,
          45,
          46,
          47,
          48,
          49,
          50,
          51,
          52,
          53,
          54,
          55,
          56,
          57,
          58,
          59,
          60,
          61,
          62,
          63,
          64,
          65,
          66,
          67,
          68,
          69,
          70,
          71,
          72,
          73,
          74,
          75,
          76,
          77,
          78,
          79,
          80,
          81,
          82,
          83,
          84,
          85,
          86,
          87,
          88,
          89,
          90,
          91,
          92,
          93,
          94,
          95,
          96,
          97,
          98,
          99
         ],
         "y": [
          0.32996827386755656,
          1.218981953879945,
          -1.633714055298131,
          -0.6680046279061812,
          -0.6445098144275172,
          -1.4982567785730112,
          0.3789401874474387,
          -0.8354867132076352,
          -0.49649095723019165,
          0.9476618567929485,
          -0.29885328226115,
          -0.729847228699825,
          -0.2983012825271507,
          -1.5274385530114047,
          0.3163460257637768,
          0.9882599819686255,
          -1.8372850712119513,
          0.07213041078206192,
          -0.8505942819760838,
          -0.2593730549559899,
          -0.20097115604456608,
          0.08776815285268036,
          0.8990529880959327,
          -1.2300154009386157,
          -0.4646616485397626,
          2.008716385462978,
          1.3815353909949974,
          -0.4680705695693689,
          0.9951906400439332,
          -0.12774732777664352,
          -0.17209346094795594,
          0.42384697762520135,
          0.0881677466704928,
          -1.2137123261984333,
          -0.29210386848008296,
          -0.42918331158735196,
          0.5291358204103447,
          -0.3611920569394752,
          -0.4411126619848192,
          0.3564598562677138,
          -0.12583032060194752,
          -0.8136096980573316,
          -0.17480939014138125,
          0.6778331503575926,
          -1.8800938127463223,
          -0.20868994954541098,
          -1.0943898202087554,
          0.8226631614354307,
          -1.194260664483298,
          0.9773449695985037,
          -1.1496991655267428,
          -0.4387572002224895,
          0.7113296978977882,
          0.6136809231209187,
          0.5921491861167535,
          0.1571828181134136,
          0.14634596816652118,
          1.2738759482054949,
          0.6972173278890168,
          -0.987761104038325,
          -0.1670094503849138,
          0.3250201326918829,
          0.48994010297726887,
          1.4044309262428363,
          0.11312278441985077,
          -0.10669962027891286,
          -1.1168477862086412,
          -0.17675332603717261,
          0.03208977659009037,
          -1.6516672521154045,
          1.1328237831004917,
          -0.2851532459057253,
          1.149522847797316,
          0.4923262442913057,
          0.5794022959078174,
          -0.4871163476749682,
          -0.3483589684714914,
          -0.7185104093064334,
          0.6923830430179017,
          -0.9884401103254018,
          -1.4605573010519564,
          -0.9574630312394341,
          0.16346484134391212,
          0.10498467403726597,
          0.20016905200097182,
          -0.2795659106824173,
          -0.6401046918070968,
          1.1582797184904188,
          -1.2380619543518485,
          -2.028760970003082,
          -0.15868350420267063,
          1.8185289573542853,
          0.2526564960445763,
          0.3706396483181391,
          -0.2691068747137809,
          0.423560909260566,
          0.9555620773895517,
          0.244811084935598,
          0.13634805361852287,
          -0.24890511762323125
         ]
        },
        {
         "connectgaps": false,
         "fill": "tozeroy",
         "line": {
          "color": "green",
          "dash": "solid",
          "shape": "linear",
          "width": 0.5
         },
         "mode": "lines",
         "name": "Spread",
         "showlegend": false,
         "type": "scatter",
         "x": [
          0,
          1,
          2,
          3,
          4,
          5,
          6,
          7,
          8,
          9,
          10,
          11,
          12,
          13,
          14,
          15,
          16,
          17,
          18,
          19,
          20,
          21,
          22,
          23,
          24,
          25,
          26,
          27,
          28,
          29,
          30,
          31,
          32,
          33,
          34,
          35,
          36,
          37,
          38,
          39,
          40,
          41,
          42,
          43,
          44,
          45,
          46,
          47,
          48,
          49,
          50,
          51,
          52,
          53,
          54,
          55,
          56,
          57,
          58,
          59,
          60,
          61,
          62,
          63,
          64,
          65,
          66,
          67,
          68,
          69,
          70,
          71,
          72,
          73,
          74,
          75,
          76,
          77,
          78,
          79,
          80,
          81,
          82,
          83,
          84,
          85,
          86,
          87,
          88,
          89,
          90,
          91,
          92,
          93,
          94,
          95,
          96,
          97,
          98,
          99
         ],
         "xaxis": "x2",
         "y": [
          "",
          "",
          1.9746290613161257,
          2.7426962376532966,
          0.3970312994038707,
          2.116890306592569,
          "",
          1.0275125365841526,
          1.142598842239741,
          "",
          0.9215856231512565,
          0.5624080710605821,
          0.10569700438003732,
          1.4869752755646701,
          "",
          "",
          0.7761700384078809,
          "",
          3.581279544385024,
          0.24446797746473736,
          "",
          1.4810656459489064,
          "",
          0.45260085938892325,
          "",
          "",
          "",
          1.1355995584001235,
          "",
          0.5059876015170449,
          1.9794628354749986,
          "",
          0.3557873480703657,
          "",
          "",
          2.0718835661419854,
          "",
          "",
          "",
          "",
          "",
          0.16740935154694758,
          "",
          "",
          1.6208839117883123,
          "",
          2.0368891143027437,
          "",
          1.137552102651628,
          "",
          "",
          "",
          0.29073920104622497,
          "",
          "",
          0.20447365862863243,
          0.641600352747959,
          "",
          "",
          1.6617727727862428,
          "",
          "",
          "",
          "",
          "",
          0.2661890638927802,
          0.9209549465852812,
          "",
          "",
          1.8220228766098658,
          "",
          "",
          "",
          "",
          "",
          0.1739190362613019,
          1.2478021185345005,
          "",
          "",
          0.8532610303110079,
          2.2696974281692004,
          "",
          "",
          0.38573941974903453,
          1.2240259272905651,
          1.4091317720142376,
          "",
          0.5914718484648236,
          1.0819668445440214,
          1.0586561051881693,
          "",
          0.19665504203035766,
          0.8124687015459511,
          0.0073193332834046165,
          "",
          "",
          "",
          "",
          "",
          1.9062895418685162
         ],
         "yaxis": "y2"
        },
        {
         "connectgaps": false,
         "fill": "tozeroy",
         "line": {
          "color": "red",
          "dash": "solid",
          "shape": "linear",
          "width": 0.5
         },
         "mode": "lines",
         "name": "Spread",
         "showlegend": false,
         "type": "scatter",
         "x": [
          0,
          1,
          2,
          3,
          4,
          5,
          6,
          7,
          8,
          9,
          10,
          11,
          12,
          13,
          14,
          15,
          16,
          17,
          18,
          19,
          20,
          21,
          22,
          23,
          24,
          25,
          26,
          27,
          28,
          29,
          30,
          31,
          32,
          33,
          34,
          35,
          36,
          37,
          38,
          39,
          40,
          41,
          42,
          43,
          44,
          45,
          46,
          47,
          48,
          49,
          50,
          51,
          52,
          53,
          54,
          55,
          56,
          57,
          58,
          59,
          60,
          61,
          62,
          63,
          64,
          65,
          66,
          67,
          68,
          69,
          70,
          71,
          72,
          73,
          74,
          75,
          76,
          77,
          78,
          79,
          80,
          81,
          82,
          83,
          84,
          85,
          86,
          87,
          88,
          89,
          90,
          91,
          92,
          93,
          94,
          95,
          96,
          97,
          98,
          99
         ],
         "xaxis": "x2",
         "y": [
          -1.3714621187847116,
          -1.6544123095901246,
          "",
          "",
          "",
          "",
          -0.31435059260997655,
          "",
          "",
          -1.9867070609568929,
          "",
          "",
          "",
          "",
          -2.3480797121572756,
          -2.2403832302492637,
          "",
          -1.3727215130943506,
          "",
          "",
          -0.13555536219075673,
          "",
          -1.252775981732691,
          "",
          -0.0884851534956535,
          -1.6355017386010258,
          -0.9064991089866299,
          "",
          -0.3609437461593834,
          "",
          "",
          -0.3230564260509262,
          "",
          -0.38626875883576717,
          -0.6440606386780245,
          "",
          -0.7287948290741023,
          -0.21274532940543234,
          -0.0456035501813159,
          -1.1059426959637375,
          -0.34219058957523696,
          "",
          -1.275096915990581,
          -1.35075971525543,
          "",
          -0.03655036128049899,
          "",
          -0.7252000725749053,
          "",
          -1.3474437110327042,
          -0.38338357698268455,
          -1.0747366705670593,
          "",
          -0.7584606429384151,
          -0.6592823561141492,
          "",
          "",
          -0.06885724992343945,
          -0.058398872816569636,
          "",
          -0.5477511315124224,
          -0.13660587516974906,
          -0.012589110050791219,
          -1.43943710160764,
          -1.1476112836934083,
          "",
          "",
          -0.5085409758545271,
          -0.6201839523609968,
          "",
          -0.5414335772383251,
          -0.6347589698618611,
          -0.19212930853300147,
          -0.7160804917096247,
          -0.13993691121860108,
          "",
          "",
          -0.10798491600677884,
          -0.8577694166648929,
          "",
          "",
          -0.3515833717227459,
          -0.6176869027431544,
          "",
          "",
          "",
          -0.4942402651495167,
          "",
          "",
          "",
          -1.1335226411938557,
          "",
          "",
          "",
          -0.5890283007810101,
          -2.316044525832753,
          -1.67469965479897,
          -0.7970785040640597,
          -1.049353480312298,
          ""
         ],
         "yaxis": "y2"
        }
       ],
       "layout": {
        "hovermode": "x",
        "legend": {
         "bgcolor": "#F5F6F9",
         "font": {
          "color": "#4D5663"
         }
        },
        "paper_bgcolor": "#F5F6F9",
        "plot_bgcolor": "#F5F6F9",
        "template": {
         "data": {
          "bar": [
           {
            "error_x": {
             "color": "#2a3f5f"
            },
            "error_y": {
             "color": "#2a3f5f"
            },
            "marker": {
             "line": {
              "color": "#E5ECF6",
              "width": 0.5
             },
             "pattern": {
              "fillmode": "overlay",
              "size": 10,
              "solidity": 0.2
             }
            },
            "type": "bar"
           }
          ],
          "barpolar": [
           {
            "marker": {
             "line": {
              "color": "#E5ECF6",
              "width": 0.5
             },
             "pattern": {
              "fillmode": "overlay",
              "size": 10,
              "solidity": 0.2
             }
            },
            "type": "barpolar"
           }
          ],
          "carpet": [
           {
            "aaxis": {
             "endlinecolor": "#2a3f5f",
             "gridcolor": "white",
             "linecolor": "white",
             "minorgridcolor": "white",
             "startlinecolor": "#2a3f5f"
            },
            "baxis": {
             "endlinecolor": "#2a3f5f",
             "gridcolor": "white",
             "linecolor": "white",
             "minorgridcolor": "white",
             "startlinecolor": "#2a3f5f"
            },
            "type": "carpet"
           }
          ],
          "choropleth": [
           {
            "colorbar": {
             "outlinewidth": 0,
             "ticks": ""
            },
            "type": "choropleth"
           }
          ],
          "contour": [
           {
            "colorbar": {
             "outlinewidth": 0,
             "ticks": ""
            },
            "colorscale": [
             [
              0,
              "#0d0887"
             ],
             [
              0.1111111111111111,
              "#46039f"
             ],
             [
              0.2222222222222222,
              "#7201a8"
             ],
             [
              0.3333333333333333,
              "#9c179e"
             ],
             [
              0.4444444444444444,
              "#bd3786"
             ],
             [
              0.5555555555555556,
              "#d8576b"
             ],
             [
              0.6666666666666666,
              "#ed7953"
             ],
             [
              0.7777777777777778,
              "#fb9f3a"
             ],
             [
              0.8888888888888888,
              "#fdca26"
             ],
             [
              1,
              "#f0f921"
             ]
            ],
            "type": "contour"
           }
          ],
          "contourcarpet": [
           {
            "colorbar": {
             "outlinewidth": 0,
             "ticks": ""
            },
            "type": "contourcarpet"
           }
          ],
          "heatmap": [
           {
            "colorbar": {
             "outlinewidth": 0,
             "ticks": ""
            },
            "colorscale": [
             [
              0,
              "#0d0887"
             ],
             [
              0.1111111111111111,
              "#46039f"
             ],
             [
              0.2222222222222222,
              "#7201a8"
             ],
             [
              0.3333333333333333,
              "#9c179e"
             ],
             [
              0.4444444444444444,
              "#bd3786"
             ],
             [
              0.5555555555555556,
              "#d8576b"
             ],
             [
              0.6666666666666666,
              "#ed7953"
             ],
             [
              0.7777777777777778,
              "#fb9f3a"
             ],
             [
              0.8888888888888888,
              "#fdca26"
             ],
             [
              1,
              "#f0f921"
             ]
            ],
            "type": "heatmap"
           }
          ],
          "heatmapgl": [
           {
            "colorbar": {
             "outlinewidth": 0,
             "ticks": ""
            },
            "colorscale": [
             [
              0,
              "#0d0887"
             ],
             [
              0.1111111111111111,
              "#46039f"
             ],
             [
              0.2222222222222222,
              "#7201a8"
             ],
             [
              0.3333333333333333,
              "#9c179e"
             ],
             [
              0.4444444444444444,
              "#bd3786"
             ],
             [
              0.5555555555555556,
              "#d8576b"
             ],
             [
              0.6666666666666666,
              "#ed7953"
             ],
             [
              0.7777777777777778,
              "#fb9f3a"
             ],
             [
              0.8888888888888888,
              "#fdca26"
             ],
             [
              1,
              "#f0f921"
             ]
            ],
            "type": "heatmapgl"
           }
          ],
          "histogram": [
           {
            "marker": {
             "pattern": {
              "fillmode": "overlay",
              "size": 10,
              "solidity": 0.2
             }
            },
            "type": "histogram"
           }
          ],
          "histogram2d": [
           {
            "colorbar": {
             "outlinewidth": 0,
             "ticks": ""
            },
            "colorscale": [
             [
              0,
              "#0d0887"
             ],
             [
              0.1111111111111111,
              "#46039f"
             ],
             [
              0.2222222222222222,
              "#7201a8"
             ],
             [
              0.3333333333333333,
              "#9c179e"
             ],
             [
              0.4444444444444444,
              "#bd3786"
             ],
             [
              0.5555555555555556,
              "#d8576b"
             ],
             [
              0.6666666666666666,
              "#ed7953"
             ],
             [
              0.7777777777777778,
              "#fb9f3a"
             ],
             [
              0.8888888888888888,
              "#fdca26"
             ],
             [
              1,
              "#f0f921"
             ]
            ],
            "type": "histogram2d"
           }
          ],
          "histogram2dcontour": [
           {
            "colorbar": {
             "outlinewidth": 0,
             "ticks": ""
            },
            "colorscale": [
             [
              0,
              "#0d0887"
             ],
             [
              0.1111111111111111,
              "#46039f"
             ],
             [
              0.2222222222222222,
              "#7201a8"
             ],
             [
              0.3333333333333333,
              "#9c179e"
             ],
             [
              0.4444444444444444,
              "#bd3786"
             ],
             [
              0.5555555555555556,
              "#d8576b"
             ],
             [
              0.6666666666666666,
              "#ed7953"
             ],
             [
              0.7777777777777778,
              "#fb9f3a"
             ],
             [
              0.8888888888888888,
              "#fdca26"
             ],
             [
              1,
              "#f0f921"
             ]
            ],
            "type": "histogram2dcontour"
           }
          ],
          "mesh3d": [
           {
            "colorbar": {
             "outlinewidth": 0,
             "ticks": ""
            },
            "type": "mesh3d"
           }
          ],
          "parcoords": [
           {
            "line": {
             "colorbar": {
              "outlinewidth": 0,
              "ticks": ""
             }
            },
            "type": "parcoords"
           }
          ],
          "pie": [
           {
            "automargin": true,
            "type": "pie"
           }
          ],
          "scatter": [
           {
            "fillpattern": {
             "fillmode": "overlay",
             "size": 10,
             "solidity": 0.2
            },
            "type": "scatter"
           }
          ],
          "scatter3d": [
           {
            "line": {
             "colorbar": {
              "outlinewidth": 0,
              "ticks": ""
             }
            },
            "marker": {
             "colorbar": {
              "outlinewidth": 0,
              "ticks": ""
             }
            },
            "type": "scatter3d"
           }
          ],
          "scattercarpet": [
           {
            "marker": {
             "colorbar": {
              "outlinewidth": 0,
              "ticks": ""
             }
            },
            "type": "scattercarpet"
           }
          ],
          "scattergeo": [
           {
            "marker": {
             "colorbar": {
              "outlinewidth": 0,
              "ticks": ""
             }
            },
            "type": "scattergeo"
           }
          ],
          "scattergl": [
           {
            "marker": {
             "colorbar": {
              "outlinewidth": 0,
              "ticks": ""
             }
            },
            "type": "scattergl"
           }
          ],
          "scattermapbox": [
           {
            "marker": {
             "colorbar": {
              "outlinewidth": 0,
              "ticks": ""
             }
            },
            "type": "scattermapbox"
           }
          ],
          "scatterpolar": [
           {
            "marker": {
             "colorbar": {
              "outlinewidth": 0,
              "ticks": ""
             }
            },
            "type": "scatterpolar"
           }
          ],
          "scatterpolargl": [
           {
            "marker": {
             "colorbar": {
              "outlinewidth": 0,
              "ticks": ""
             }
            },
            "type": "scatterpolargl"
           }
          ],
          "scatterternary": [
           {
            "marker": {
             "colorbar": {
              "outlinewidth": 0,
              "ticks": ""
             }
            },
            "type": "scatterternary"
           }
          ],
          "surface": [
           {
            "colorbar": {
             "outlinewidth": 0,
             "ticks": ""
            },
            "colorscale": [
             [
              0,
              "#0d0887"
             ],
             [
              0.1111111111111111,
              "#46039f"
             ],
             [
              0.2222222222222222,
              "#7201a8"
             ],
             [
              0.3333333333333333,
              "#9c179e"
             ],
             [
              0.4444444444444444,
              "#bd3786"
             ],
             [
              0.5555555555555556,
              "#d8576b"
             ],
             [
              0.6666666666666666,
              "#ed7953"
             ],
             [
              0.7777777777777778,
              "#fb9f3a"
             ],
             [
              0.8888888888888888,
              "#fdca26"
             ],
             [
              1,
              "#f0f921"
             ]
            ],
            "type": "surface"
           }
          ],
          "table": [
           {
            "cells": {
             "fill": {
              "color": "#EBF0F8"
             },
             "line": {
              "color": "white"
             }
            },
            "header": {
             "fill": {
              "color": "#C8D4E3"
             },
             "line": {
              "color": "white"
             }
            },
            "type": "table"
           }
          ]
         },
         "layout": {
          "annotationdefaults": {
           "arrowcolor": "#2a3f5f",
           "arrowhead": 0,
           "arrowwidth": 1
          },
          "autotypenumbers": "strict",
          "coloraxis": {
           "colorbar": {
            "outlinewidth": 0,
            "ticks": ""
           }
          },
          "colorscale": {
           "diverging": [
            [
             0,
             "#8e0152"
            ],
            [
             0.1,
             "#c51b7d"
            ],
            [
             0.2,
             "#de77ae"
            ],
            [
             0.3,
             "#f1b6da"
            ],
            [
             0.4,
             "#fde0ef"
            ],
            [
             0.5,
             "#f7f7f7"
            ],
            [
             0.6,
             "#e6f5d0"
            ],
            [
             0.7,
             "#b8e186"
            ],
            [
             0.8,
             "#7fbc41"
            ],
            [
             0.9,
             "#4d9221"
            ],
            [
             1,
             "#276419"
            ]
           ],
           "sequential": [
            [
             0,
             "#0d0887"
            ],
            [
             0.1111111111111111,
             "#46039f"
            ],
            [
             0.2222222222222222,
             "#7201a8"
            ],
            [
             0.3333333333333333,
             "#9c179e"
            ],
            [
             0.4444444444444444,
             "#bd3786"
            ],
            [
             0.5555555555555556,
             "#d8576b"
            ],
            [
             0.6666666666666666,
             "#ed7953"
            ],
            [
             0.7777777777777778,
             "#fb9f3a"
            ],
            [
             0.8888888888888888,
             "#fdca26"
            ],
            [
             1,
             "#f0f921"
            ]
           ],
           "sequentialminus": [
            [
             0,
             "#0d0887"
            ],
            [
             0.1111111111111111,
             "#46039f"
            ],
            [
             0.2222222222222222,
             "#7201a8"
            ],
            [
             0.3333333333333333,
             "#9c179e"
            ],
            [
             0.4444444444444444,
             "#bd3786"
            ],
            [
             0.5555555555555556,
             "#d8576b"
            ],
            [
             0.6666666666666666,
             "#ed7953"
            ],
            [
             0.7777777777777778,
             "#fb9f3a"
            ],
            [
             0.8888888888888888,
             "#fdca26"
            ],
            [
             1,
             "#f0f921"
            ]
           ]
          },
          "colorway": [
           "#636efa",
           "#EF553B",
           "#00cc96",
           "#ab63fa",
           "#FFA15A",
           "#19d3f3",
           "#FF6692",
           "#B6E880",
           "#FF97FF",
           "#FECB52"
          ],
          "font": {
           "color": "#2a3f5f"
          },
          "geo": {
           "bgcolor": "white",
           "lakecolor": "white",
           "landcolor": "#E5ECF6",
           "showlakes": true,
           "showland": true,
           "subunitcolor": "white"
          },
          "hoverlabel": {
           "align": "left"
          },
          "hovermode": "closest",
          "mapbox": {
           "style": "light"
          },
          "paper_bgcolor": "white",
          "plot_bgcolor": "#E5ECF6",
          "polar": {
           "angularaxis": {
            "gridcolor": "white",
            "linecolor": "white",
            "ticks": ""
           },
           "bgcolor": "#E5ECF6",
           "radialaxis": {
            "gridcolor": "white",
            "linecolor": "white",
            "ticks": ""
           }
          },
          "scene": {
           "xaxis": {
            "backgroundcolor": "#E5ECF6",
            "gridcolor": "white",
            "gridwidth": 2,
            "linecolor": "white",
            "showbackground": true,
            "ticks": "",
            "zerolinecolor": "white"
           },
           "yaxis": {
            "backgroundcolor": "#E5ECF6",
            "gridcolor": "white",
            "gridwidth": 2,
            "linecolor": "white",
            "showbackground": true,
            "ticks": "",
            "zerolinecolor": "white"
           },
           "zaxis": {
            "backgroundcolor": "#E5ECF6",
            "gridcolor": "white",
            "gridwidth": 2,
            "linecolor": "white",
            "showbackground": true,
            "ticks": "",
            "zerolinecolor": "white"
           }
          },
          "shapedefaults": {
           "line": {
            "color": "#2a3f5f"
           }
          },
          "ternary": {
           "aaxis": {
            "gridcolor": "white",
            "linecolor": "white",
            "ticks": ""
           },
           "baxis": {
            "gridcolor": "white",
            "linecolor": "white",
            "ticks": ""
           },
           "bgcolor": "#E5ECF6",
           "caxis": {
            "gridcolor": "white",
            "linecolor": "white",
            "ticks": ""
           }
          },
          "title": {
           "x": 0.05
          },
          "xaxis": {
           "automargin": true,
           "gridcolor": "white",
           "linecolor": "white",
           "ticks": "",
           "title": {
            "standoff": 15
           },
           "zerolinecolor": "white",
           "zerolinewidth": 2
          },
          "yaxis": {
           "automargin": true,
           "gridcolor": "white",
           "linecolor": "white",
           "ticks": "",
           "title": {
            "standoff": 15
           },
           "zerolinecolor": "white",
           "zerolinewidth": 2
          }
         }
        },
        "title": {
         "font": {
          "color": "#4D5663"
         }
        },
        "xaxis": {
         "gridcolor": "#E1E5ED",
         "showgrid": true,
         "tickfont": {
          "color": "#4D5663"
         },
         "title": {
          "font": {
           "color": "#4D5663"
          },
          "text": ""
         },
         "zerolinecolor": "#E1E5ED"
        },
        "xaxis2": {
         "anchor": "y2",
         "gridcolor": "#E1E5ED",
         "showgrid": true,
         "showticklabels": false,
         "tickfont": {
          "color": "#4D5663"
         },
         "title": {
          "font": {
           "color": "#4D5663"
          },
          "text": ""
         },
         "zerolinecolor": "#E1E5ED"
        },
        "yaxis": {
         "domain": [
          0.3,
          1
         ],
         "gridcolor": "#E1E5ED",
         "showgrid": true,
         "tickfont": {
          "color": "#4D5663"
         },
         "title": {
          "font": {
           "color": "#4D5663"
          },
          "text": ""
         },
         "zerolinecolor": "#E1E5ED"
        },
        "yaxis2": {
         "domain": [
          0,
          0.25
         ],
         "gridcolor": "#E1E5ED",
         "showgrid": true,
         "tickfont": {
          "color": "#4D5663"
         },
         "title": {
          "font": {
           "color": "#4D5663"
          },
          "text": "Spread"
         },
         "zerolinecolor": "#E1E5ED"
        }
       }
      },
      "text/html": [
       "<div>                            <div id=\"1bce94cf-f908-45e3-bc49-73f14b97693d\" class=\"plotly-graph-div\" style=\"height:525px; width:100%;\"></div>            <script type=\"text/javascript\">                require([\"plotly\"], function(Plotly) {                    window.PLOTLYENV=window.PLOTLYENV || {};\n",
       "                    window.PLOTLYENV.BASE_URL='https://plot.ly';                                    if (document.getElementById(\"1bce94cf-f908-45e3-bc49-73f14b97693d\")) {                    Plotly.newPlot(                        \"1bce94cf-f908-45e3-bc49-73f14b97693d\",                        [{\"line\":{\"color\":\"rgba(255, 153, 51, 1.0)\",\"dash\":\"solid\",\"shape\":\"linear\",\"width\":1.3},\"mode\":\"lines\",\"name\":\"A\",\"text\":\"\",\"x\":[0,1,2,3,4,5,6,7,8,9,10,11,12,13,14,15,16,17,18,19,20,21,22,23,24,25,26,27,28,29,30,31,32,33,34,35,36,37,38,39,40,41,42,43,44,45,46,47,48,49,50,51,52,53,54,55,56,57,58,59,60,61,62,63,64,65,66,67,68,69,70,71,72,73,74,75,76,77,78,79,80,81,82,83,84,85,86,87,88,89,90,91,92,93,94,95,96,97,98,99],\"y\":[-1.0414938449171551,-0.4354303557101797,0.34091500601799474,2.0746916097471155,-0.24747851502364648,0.6186335280195576,0.06458959483746213,0.19202582337651733,0.6461078850095495,-1.0390452041639444,0.6227323408901065,-0.1674391576392429,-0.1926042781471134,-0.04046327744673468,-2.031733686393499,-1.2521232482806384,-1.0611150328040704,-1.3005911023122887,2.73068526240894,-0.014905077491252519,-0.3365265182353228,1.5688337988015868,-0.3537229936367583,-0.7774145415496925,-0.5531468020354161,0.3732146468619525,0.47503628200836756,0.6675289888307547,0.6342468938845498,0.3782402737404014,1.8073693745270427,0.10079055157427515,0.44395509474085854,-1.5999810850342004,-0.9361645071581075,1.6427002545546334,-0.19965900866375763,-0.5739373863449075,-0.4867162121661351,-0.7494828396960236,-0.4680209101771845,-0.646200346510384,-1.4499063061319621,-0.6729265648978373,-0.25920990095800994,-0.24524031082590997,0.9424992940939884,0.09746308886052545,-0.05670856183167005,-0.3700987414342005,-1.5330827425094273,-1.513493870789549,1.0020688989440132,-0.14477971981749638,-0.06713316999739569,0.36165647674204604,0.7879463209144801,1.2050186982820554,0.6388184550724472,0.6740116687479178,-0.7147605818973362,0.18841425752213384,0.47735099292647765,-0.035006175364803556,-1.0344884992735575,0.15948944361386735,-0.19589283962336,-0.6852943018916997,-0.5880941757709064,0.17035562449446132,0.5913902058621666,-0.9199122157675864,0.9573935392643146,-0.22375424741831904,0.43946538468921637,-0.3131973114136663,0.899443150063009,-0.8264953253132122,-0.16538637364699124,-0.13517908001439397,0.8091401271172439,-1.30904640296218,-0.45422206139924226,0.4907240937863005,1.424194979291537,1.1295658613318202,-1.1343449569566135,1.7497515669552424,-0.15609510980782706,-0.9701048648149126,-1.2922061453965263,2.015183999384643,1.0651251975905274,0.37795898160154373,-0.858135175494791,-1.8924836165721872,-0.7191375774094184,-0.5522674191284617,-0.913005426693775,1.6573844242452849],\"type\":\"scatter\"},{\"line\":{\"color\":\"rgba(55, 128, 191, 1.0)\",\"dash\":\"solid\",\"shape\":\"linear\",\"width\":1.3},\"mode\":\"lines\",\"name\":\"B\",\"text\":\"\",\"x\":[0,1,2,3,4,5,6,7,8,9,10,11,12,13,14,15,16,17,18,19,20,21,22,23,24,25,26,27,28,29,30,31,32,33,34,35,36,37,38,39,40,41,42,43,44,45,46,47,48,49,50,51,52,53,54,55,56,57,58,59,60,61,62,63,64,65,66,67,68,69,70,71,72,73,74,75,76,77,78,79,80,81,82,83,84,85,86,87,88,89,90,91,92,93,94,95,96,97,98,99],\"y\":[0.32996827386755656,1.218981953879945,-1.633714055298131,-0.6680046279061812,-0.6445098144275172,-1.4982567785730112,0.3789401874474387,-0.8354867132076352,-0.49649095723019165,0.9476618567929485,-0.29885328226115,-0.729847228699825,-0.2983012825271507,-1.5274385530114047,0.3163460257637768,0.9882599819686255,-1.8372850712119513,0.07213041078206192,-0.8505942819760838,-0.2593730549559899,-0.20097115604456608,0.08776815285268036,0.8990529880959327,-1.2300154009386157,-0.4646616485397626,2.008716385462978,1.3815353909949974,-0.4680705695693689,0.9951906400439332,-0.12774732777664352,-0.17209346094795594,0.42384697762520135,0.0881677466704928,-1.2137123261984333,-0.29210386848008296,-0.42918331158735196,0.5291358204103447,-0.3611920569394752,-0.4411126619848192,0.3564598562677138,-0.12583032060194752,-0.8136096980573316,-0.17480939014138125,0.6778331503575926,-1.8800938127463223,-0.20868994954541098,-1.0943898202087554,0.8226631614354307,-1.194260664483298,0.9773449695985037,-1.1496991655267428,-0.4387572002224895,0.7113296978977882,0.6136809231209187,0.5921491861167535,0.1571828181134136,0.14634596816652118,1.2738759482054949,0.6972173278890168,-0.987761104038325,-0.1670094503849138,0.3250201326918829,0.48994010297726887,1.4044309262428363,0.11312278441985077,-0.10669962027891286,-1.1168477862086412,-0.17675332603717261,0.03208977659009037,-1.6516672521154045,1.1328237831004917,-0.2851532459057253,1.149522847797316,0.4923262442913057,0.5794022959078174,-0.4871163476749682,-0.3483589684714914,-0.7185104093064334,0.6923830430179017,-0.9884401103254018,-1.4605573010519564,-0.9574630312394341,0.16346484134391212,0.10498467403726597,0.20016905200097182,-0.2795659106824173,-0.6401046918070968,1.1582797184904188,-1.2380619543518485,-2.028760970003082,-0.15868350420267063,1.8185289573542853,0.2526564960445763,0.3706396483181391,-0.2691068747137809,0.423560909260566,0.9555620773895517,0.244811084935598,0.13634805361852287,-0.24890511762323125],\"type\":\"scatter\"},{\"connectgaps\":false,\"fill\":\"tozeroy\",\"line\":{\"color\":\"green\",\"dash\":\"solid\",\"shape\":\"linear\",\"width\":0.5},\"mode\":\"lines\",\"name\":\"Spread\",\"showlegend\":false,\"x\":[0,1,2,3,4,5,6,7,8,9,10,11,12,13,14,15,16,17,18,19,20,21,22,23,24,25,26,27,28,29,30,31,32,33,34,35,36,37,38,39,40,41,42,43,44,45,46,47,48,49,50,51,52,53,54,55,56,57,58,59,60,61,62,63,64,65,66,67,68,69,70,71,72,73,74,75,76,77,78,79,80,81,82,83,84,85,86,87,88,89,90,91,92,93,94,95,96,97,98,99],\"xaxis\":\"x2\",\"y\":[\"\",\"\",1.9746290613161257,2.7426962376532966,0.3970312994038707,2.116890306592569,\"\",1.0275125365841526,1.142598842239741,\"\",0.9215856231512565,0.5624080710605821,0.10569700438003732,1.4869752755646701,\"\",\"\",0.7761700384078809,\"\",3.581279544385024,0.24446797746473736,\"\",1.4810656459489064,\"\",0.45260085938892325,\"\",\"\",\"\",1.1355995584001235,\"\",0.5059876015170449,1.9794628354749986,\"\",0.3557873480703657,\"\",\"\",2.0718835661419854,\"\",\"\",\"\",\"\",\"\",0.16740935154694758,\"\",\"\",1.6208839117883123,\"\",2.0368891143027437,\"\",1.137552102651628,\"\",\"\",\"\",0.29073920104622497,\"\",\"\",0.20447365862863243,0.641600352747959,\"\",\"\",1.6617727727862428,\"\",\"\",\"\",\"\",\"\",0.2661890638927802,0.9209549465852812,\"\",\"\",1.8220228766098658,\"\",\"\",\"\",\"\",\"\",0.1739190362613019,1.2478021185345005,\"\",\"\",0.8532610303110079,2.2696974281692004,\"\",\"\",0.38573941974903453,1.2240259272905651,1.4091317720142376,\"\",0.5914718484648236,1.0819668445440214,1.0586561051881693,\"\",0.19665504203035766,0.8124687015459511,0.0073193332834046165,\"\",\"\",\"\",\"\",\"\",1.9062895418685162],\"yaxis\":\"y2\",\"type\":\"scatter\"},{\"connectgaps\":false,\"fill\":\"tozeroy\",\"line\":{\"color\":\"red\",\"dash\":\"solid\",\"shape\":\"linear\",\"width\":0.5},\"mode\":\"lines\",\"name\":\"Spread\",\"showlegend\":false,\"x\":[0,1,2,3,4,5,6,7,8,9,10,11,12,13,14,15,16,17,18,19,20,21,22,23,24,25,26,27,28,29,30,31,32,33,34,35,36,37,38,39,40,41,42,43,44,45,46,47,48,49,50,51,52,53,54,55,56,57,58,59,60,61,62,63,64,65,66,67,68,69,70,71,72,73,74,75,76,77,78,79,80,81,82,83,84,85,86,87,88,89,90,91,92,93,94,95,96,97,98,99],\"xaxis\":\"x2\",\"y\":[-1.3714621187847116,-1.6544123095901246,\"\",\"\",\"\",\"\",-0.31435059260997655,\"\",\"\",-1.9867070609568929,\"\",\"\",\"\",\"\",-2.3480797121572756,-2.2403832302492637,\"\",-1.3727215130943506,\"\",\"\",-0.13555536219075673,\"\",-1.252775981732691,\"\",-0.0884851534956535,-1.6355017386010258,-0.9064991089866299,\"\",-0.3609437461593834,\"\",\"\",-0.3230564260509262,\"\",-0.38626875883576717,-0.6440606386780245,\"\",-0.7287948290741023,-0.21274532940543234,-0.0456035501813159,-1.1059426959637375,-0.34219058957523696,\"\",-1.275096915990581,-1.35075971525543,\"\",-0.03655036128049899,\"\",-0.7252000725749053,\"\",-1.3474437110327042,-0.38338357698268455,-1.0747366705670593,\"\",-0.7584606429384151,-0.6592823561141492,\"\",\"\",-0.06885724992343945,-0.058398872816569636,\"\",-0.5477511315124224,-0.13660587516974906,-0.012589110050791219,-1.43943710160764,-1.1476112836934083,\"\",\"\",-0.5085409758545271,-0.6201839523609968,\"\",-0.5414335772383251,-0.6347589698618611,-0.19212930853300147,-0.7160804917096247,-0.13993691121860108,\"\",\"\",-0.10798491600677884,-0.8577694166648929,\"\",\"\",-0.3515833717227459,-0.6176869027431544,\"\",\"\",\"\",-0.4942402651495167,\"\",\"\",\"\",-1.1335226411938557,\"\",\"\",\"\",-0.5890283007810101,-2.316044525832753,-1.67469965479897,-0.7970785040640597,-1.049353480312298,\"\"],\"yaxis\":\"y2\",\"type\":\"scatter\"}],                        {\"hovermode\":\"x\",\"legend\":{\"bgcolor\":\"#F5F6F9\",\"font\":{\"color\":\"#4D5663\"}},\"paper_bgcolor\":\"#F5F6F9\",\"plot_bgcolor\":\"#F5F6F9\",\"template\":{\"data\":{\"barpolar\":[{\"marker\":{\"line\":{\"color\":\"#E5ECF6\",\"width\":0.5},\"pattern\":{\"fillmode\":\"overlay\",\"size\":10,\"solidity\":0.2}},\"type\":\"barpolar\"}],\"bar\":[{\"error_x\":{\"color\":\"#2a3f5f\"},\"error_y\":{\"color\":\"#2a3f5f\"},\"marker\":{\"line\":{\"color\":\"#E5ECF6\",\"width\":0.5},\"pattern\":{\"fillmode\":\"overlay\",\"size\":10,\"solidity\":0.2}},\"type\":\"bar\"}],\"carpet\":[{\"aaxis\":{\"endlinecolor\":\"#2a3f5f\",\"gridcolor\":\"white\",\"linecolor\":\"white\",\"minorgridcolor\":\"white\",\"startlinecolor\":\"#2a3f5f\"},\"baxis\":{\"endlinecolor\":\"#2a3f5f\",\"gridcolor\":\"white\",\"linecolor\":\"white\",\"minorgridcolor\":\"white\",\"startlinecolor\":\"#2a3f5f\"},\"type\":\"carpet\"}],\"choropleth\":[{\"colorbar\":{\"outlinewidth\":0,\"ticks\":\"\"},\"type\":\"choropleth\"}],\"contourcarpet\":[{\"colorbar\":{\"outlinewidth\":0,\"ticks\":\"\"},\"type\":\"contourcarpet\"}],\"contour\":[{\"colorbar\":{\"outlinewidth\":0,\"ticks\":\"\"},\"colorscale\":[[0.0,\"#0d0887\"],[0.1111111111111111,\"#46039f\"],[0.2222222222222222,\"#7201a8\"],[0.3333333333333333,\"#9c179e\"],[0.4444444444444444,\"#bd3786\"],[0.5555555555555556,\"#d8576b\"],[0.6666666666666666,\"#ed7953\"],[0.7777777777777778,\"#fb9f3a\"],[0.8888888888888888,\"#fdca26\"],[1.0,\"#f0f921\"]],\"type\":\"contour\"}],\"heatmapgl\":[{\"colorbar\":{\"outlinewidth\":0,\"ticks\":\"\"},\"colorscale\":[[0.0,\"#0d0887\"],[0.1111111111111111,\"#46039f\"],[0.2222222222222222,\"#7201a8\"],[0.3333333333333333,\"#9c179e\"],[0.4444444444444444,\"#bd3786\"],[0.5555555555555556,\"#d8576b\"],[0.6666666666666666,\"#ed7953\"],[0.7777777777777778,\"#fb9f3a\"],[0.8888888888888888,\"#fdca26\"],[1.0,\"#f0f921\"]],\"type\":\"heatmapgl\"}],\"heatmap\":[{\"colorbar\":{\"outlinewidth\":0,\"ticks\":\"\"},\"colorscale\":[[0.0,\"#0d0887\"],[0.1111111111111111,\"#46039f\"],[0.2222222222222222,\"#7201a8\"],[0.3333333333333333,\"#9c179e\"],[0.4444444444444444,\"#bd3786\"],[0.5555555555555556,\"#d8576b\"],[0.6666666666666666,\"#ed7953\"],[0.7777777777777778,\"#fb9f3a\"],[0.8888888888888888,\"#fdca26\"],[1.0,\"#f0f921\"]],\"type\":\"heatmap\"}],\"histogram2dcontour\":[{\"colorbar\":{\"outlinewidth\":0,\"ticks\":\"\"},\"colorscale\":[[0.0,\"#0d0887\"],[0.1111111111111111,\"#46039f\"],[0.2222222222222222,\"#7201a8\"],[0.3333333333333333,\"#9c179e\"],[0.4444444444444444,\"#bd3786\"],[0.5555555555555556,\"#d8576b\"],[0.6666666666666666,\"#ed7953\"],[0.7777777777777778,\"#fb9f3a\"],[0.8888888888888888,\"#fdca26\"],[1.0,\"#f0f921\"]],\"type\":\"histogram2dcontour\"}],\"histogram2d\":[{\"colorbar\":{\"outlinewidth\":0,\"ticks\":\"\"},\"colorscale\":[[0.0,\"#0d0887\"],[0.1111111111111111,\"#46039f\"],[0.2222222222222222,\"#7201a8\"],[0.3333333333333333,\"#9c179e\"],[0.4444444444444444,\"#bd3786\"],[0.5555555555555556,\"#d8576b\"],[0.6666666666666666,\"#ed7953\"],[0.7777777777777778,\"#fb9f3a\"],[0.8888888888888888,\"#fdca26\"],[1.0,\"#f0f921\"]],\"type\":\"histogram2d\"}],\"histogram\":[{\"marker\":{\"pattern\":{\"fillmode\":\"overlay\",\"size\":10,\"solidity\":0.2}},\"type\":\"histogram\"}],\"mesh3d\":[{\"colorbar\":{\"outlinewidth\":0,\"ticks\":\"\"},\"type\":\"mesh3d\"}],\"parcoords\":[{\"line\":{\"colorbar\":{\"outlinewidth\":0,\"ticks\":\"\"}},\"type\":\"parcoords\"}],\"pie\":[{\"automargin\":true,\"type\":\"pie\"}],\"scatter3d\":[{\"line\":{\"colorbar\":{\"outlinewidth\":0,\"ticks\":\"\"}},\"marker\":{\"colorbar\":{\"outlinewidth\":0,\"ticks\":\"\"}},\"type\":\"scatter3d\"}],\"scattercarpet\":[{\"marker\":{\"colorbar\":{\"outlinewidth\":0,\"ticks\":\"\"}},\"type\":\"scattercarpet\"}],\"scattergeo\":[{\"marker\":{\"colorbar\":{\"outlinewidth\":0,\"ticks\":\"\"}},\"type\":\"scattergeo\"}],\"scattergl\":[{\"marker\":{\"colorbar\":{\"outlinewidth\":0,\"ticks\":\"\"}},\"type\":\"scattergl\"}],\"scattermapbox\":[{\"marker\":{\"colorbar\":{\"outlinewidth\":0,\"ticks\":\"\"}},\"type\":\"scattermapbox\"}],\"scatterpolargl\":[{\"marker\":{\"colorbar\":{\"outlinewidth\":0,\"ticks\":\"\"}},\"type\":\"scatterpolargl\"}],\"scatterpolar\":[{\"marker\":{\"colorbar\":{\"outlinewidth\":0,\"ticks\":\"\"}},\"type\":\"scatterpolar\"}],\"scatter\":[{\"fillpattern\":{\"fillmode\":\"overlay\",\"size\":10,\"solidity\":0.2},\"type\":\"scatter\"}],\"scatterternary\":[{\"marker\":{\"colorbar\":{\"outlinewidth\":0,\"ticks\":\"\"}},\"type\":\"scatterternary\"}],\"surface\":[{\"colorbar\":{\"outlinewidth\":0,\"ticks\":\"\"},\"colorscale\":[[0.0,\"#0d0887\"],[0.1111111111111111,\"#46039f\"],[0.2222222222222222,\"#7201a8\"],[0.3333333333333333,\"#9c179e\"],[0.4444444444444444,\"#bd3786\"],[0.5555555555555556,\"#d8576b\"],[0.6666666666666666,\"#ed7953\"],[0.7777777777777778,\"#fb9f3a\"],[0.8888888888888888,\"#fdca26\"],[1.0,\"#f0f921\"]],\"type\":\"surface\"}],\"table\":[{\"cells\":{\"fill\":{\"color\":\"#EBF0F8\"},\"line\":{\"color\":\"white\"}},\"header\":{\"fill\":{\"color\":\"#C8D4E3\"},\"line\":{\"color\":\"white\"}},\"type\":\"table\"}]},\"layout\":{\"annotationdefaults\":{\"arrowcolor\":\"#2a3f5f\",\"arrowhead\":0,\"arrowwidth\":1},\"autotypenumbers\":\"strict\",\"coloraxis\":{\"colorbar\":{\"outlinewidth\":0,\"ticks\":\"\"}},\"colorscale\":{\"diverging\":[[0,\"#8e0152\"],[0.1,\"#c51b7d\"],[0.2,\"#de77ae\"],[0.3,\"#f1b6da\"],[0.4,\"#fde0ef\"],[0.5,\"#f7f7f7\"],[0.6,\"#e6f5d0\"],[0.7,\"#b8e186\"],[0.8,\"#7fbc41\"],[0.9,\"#4d9221\"],[1,\"#276419\"]],\"sequential\":[[0.0,\"#0d0887\"],[0.1111111111111111,\"#46039f\"],[0.2222222222222222,\"#7201a8\"],[0.3333333333333333,\"#9c179e\"],[0.4444444444444444,\"#bd3786\"],[0.5555555555555556,\"#d8576b\"],[0.6666666666666666,\"#ed7953\"],[0.7777777777777778,\"#fb9f3a\"],[0.8888888888888888,\"#fdca26\"],[1.0,\"#f0f921\"]],\"sequentialminus\":[[0.0,\"#0d0887\"],[0.1111111111111111,\"#46039f\"],[0.2222222222222222,\"#7201a8\"],[0.3333333333333333,\"#9c179e\"],[0.4444444444444444,\"#bd3786\"],[0.5555555555555556,\"#d8576b\"],[0.6666666666666666,\"#ed7953\"],[0.7777777777777778,\"#fb9f3a\"],[0.8888888888888888,\"#fdca26\"],[1.0,\"#f0f921\"]]},\"colorway\":[\"#636efa\",\"#EF553B\",\"#00cc96\",\"#ab63fa\",\"#FFA15A\",\"#19d3f3\",\"#FF6692\",\"#B6E880\",\"#FF97FF\",\"#FECB52\"],\"font\":{\"color\":\"#2a3f5f\"},\"geo\":{\"bgcolor\":\"white\",\"lakecolor\":\"white\",\"landcolor\":\"#E5ECF6\",\"showlakes\":true,\"showland\":true,\"subunitcolor\":\"white\"},\"hoverlabel\":{\"align\":\"left\"},\"hovermode\":\"closest\",\"mapbox\":{\"style\":\"light\"},\"paper_bgcolor\":\"white\",\"plot_bgcolor\":\"#E5ECF6\",\"polar\":{\"angularaxis\":{\"gridcolor\":\"white\",\"linecolor\":\"white\",\"ticks\":\"\"},\"bgcolor\":\"#E5ECF6\",\"radialaxis\":{\"gridcolor\":\"white\",\"linecolor\":\"white\",\"ticks\":\"\"}},\"scene\":{\"xaxis\":{\"backgroundcolor\":\"#E5ECF6\",\"gridcolor\":\"white\",\"gridwidth\":2,\"linecolor\":\"white\",\"showbackground\":true,\"ticks\":\"\",\"zerolinecolor\":\"white\"},\"yaxis\":{\"backgroundcolor\":\"#E5ECF6\",\"gridcolor\":\"white\",\"gridwidth\":2,\"linecolor\":\"white\",\"showbackground\":true,\"ticks\":\"\",\"zerolinecolor\":\"white\"},\"zaxis\":{\"backgroundcolor\":\"#E5ECF6\",\"gridcolor\":\"white\",\"gridwidth\":2,\"linecolor\":\"white\",\"showbackground\":true,\"ticks\":\"\",\"zerolinecolor\":\"white\"}},\"shapedefaults\":{\"line\":{\"color\":\"#2a3f5f\"}},\"ternary\":{\"aaxis\":{\"gridcolor\":\"white\",\"linecolor\":\"white\",\"ticks\":\"\"},\"baxis\":{\"gridcolor\":\"white\",\"linecolor\":\"white\",\"ticks\":\"\"},\"bgcolor\":\"#E5ECF6\",\"caxis\":{\"gridcolor\":\"white\",\"linecolor\":\"white\",\"ticks\":\"\"}},\"title\":{\"x\":0.05},\"xaxis\":{\"automargin\":true,\"gridcolor\":\"white\",\"linecolor\":\"white\",\"ticks\":\"\",\"title\":{\"standoff\":15},\"zerolinecolor\":\"white\",\"zerolinewidth\":2},\"yaxis\":{\"automargin\":true,\"gridcolor\":\"white\",\"linecolor\":\"white\",\"ticks\":\"\",\"title\":{\"standoff\":15},\"zerolinecolor\":\"white\",\"zerolinewidth\":2}}},\"title\":{\"font\":{\"color\":\"#4D5663\"}},\"xaxis\":{\"gridcolor\":\"#E1E5ED\",\"showgrid\":true,\"tickfont\":{\"color\":\"#4D5663\"},\"title\":{\"font\":{\"color\":\"#4D5663\"},\"text\":\"\"},\"zerolinecolor\":\"#E1E5ED\"},\"yaxis\":{\"domain\":[0.3,1],\"gridcolor\":\"#E1E5ED\",\"showgrid\":true,\"tickfont\":{\"color\":\"#4D5663\"},\"title\":{\"font\":{\"color\":\"#4D5663\"},\"text\":\"\"},\"zerolinecolor\":\"#E1E5ED\"},\"yaxis2\":{\"domain\":[0,0.25],\"gridcolor\":\"#E1E5ED\",\"showgrid\":true,\"tickfont\":{\"color\":\"#4D5663\"},\"title\":{\"font\":{\"color\":\"#4D5663\"},\"text\":\"Spread\"},\"zerolinecolor\":\"#E1E5ED\"},\"xaxis2\":{\"anchor\":\"y2\",\"gridcolor\":\"#E1E5ED\",\"showgrid\":true,\"showticklabels\":false,\"tickfont\":{\"color\":\"#4D5663\"},\"title\":{\"font\":{\"color\":\"#4D5663\"},\"text\":\"\"},\"zerolinecolor\":\"#E1E5ED\"}},                        {\"showLink\": true, \"linkText\": \"Export to plot.ly\", \"plotlyServerURL\": \"https://plot.ly\", \"responsive\": true}                    ).then(function(){\n",
       "                            \n",
       "var gd = document.getElementById('1bce94cf-f908-45e3-bc49-73f14b97693d');\n",
       "var x = new MutationObserver(function (mutations, observer) {{\n",
       "        var display = window.getComputedStyle(gd).display;\n",
       "        if (!display || display === 'none') {{\n",
       "            console.log([gd, 'removed!']);\n",
       "            Plotly.purge(gd);\n",
       "            observer.disconnect();\n",
       "        }}\n",
       "}});\n",
       "\n",
       "// Listen for the removal of the full notebook cells\n",
       "var notebookContainer = gd.closest('#notebook-container');\n",
       "if (notebookContainer) {{\n",
       "    x.observe(notebookContainer, {childList: true});\n",
       "}}\n",
       "\n",
       "// Listen for the clearing of the current output cell\n",
       "var outputEl = gd.closest('.output');\n",
       "if (outputEl) {{\n",
       "    x.observe(outputEl, {childList: true});\n",
       "}}\n",
       "\n",
       "                        })                };                });            </script>        </div>"
      ]
     },
     "metadata": {},
     "output_type": "display_data"
    }
   ],
   "source": [
    "df[['A','B']].iplot(kind='spread')"
   ]
  },
  {
   "cell_type": "markdown",
   "metadata": {},
   "source": [
    "## histogram"
   ]
  },
  {
   "cell_type": "code",
   "execution_count": 17,
   "metadata": {},
   "outputs": [
    {
     "data": {
      "application/vnd.plotly.v1+json": {
       "config": {
        "linkText": "Export to plot.ly",
        "plotlyServerURL": "https://plot.ly",
        "showLink": true
       },
       "data": [
        {
         "histfunc": "count",
         "histnorm": "",
         "marker": {
          "color": "rgba(255, 153, 51, 1.0)",
          "line": {
           "color": "#4D5663",
           "width": 1.3
          }
         },
         "name": "A",
         "nbinsx": 25,
         "opacity": 0.8,
         "orientation": "v",
         "type": "histogram",
         "x": [
          -1.0414938449171551,
          -0.4354303557101797,
          0.34091500601799474,
          2.0746916097471155,
          -0.24747851502364648,
          0.6186335280195576,
          0.06458959483746213,
          0.19202582337651733,
          0.6461078850095495,
          -1.0390452041639444,
          0.6227323408901065,
          -0.1674391576392429,
          -0.1926042781471134,
          -0.04046327744673468,
          -2.031733686393499,
          -1.2521232482806384,
          -1.0611150328040704,
          -1.3005911023122887,
          2.73068526240894,
          -0.014905077491252519,
          -0.3365265182353228,
          1.5688337988015868,
          -0.3537229936367583,
          -0.7774145415496925,
          -0.5531468020354161,
          0.3732146468619525,
          0.47503628200836756,
          0.6675289888307547,
          0.6342468938845498,
          0.3782402737404014,
          1.8073693745270427,
          0.10079055157427515,
          0.44395509474085854,
          -1.5999810850342004,
          -0.9361645071581075,
          1.6427002545546334,
          -0.19965900866375763,
          -0.5739373863449075,
          -0.4867162121661351,
          -0.7494828396960236,
          -0.4680209101771845,
          -0.646200346510384,
          -1.4499063061319621,
          -0.6729265648978373,
          -0.25920990095800994,
          -0.24524031082590997,
          0.9424992940939884,
          0.09746308886052545,
          -0.05670856183167005,
          -0.3700987414342005,
          -1.5330827425094273,
          -1.513493870789549,
          1.0020688989440132,
          -0.14477971981749638,
          -0.06713316999739569,
          0.36165647674204604,
          0.7879463209144801,
          1.2050186982820554,
          0.6388184550724472,
          0.6740116687479178,
          -0.7147605818973362,
          0.18841425752213384,
          0.47735099292647765,
          -0.035006175364803556,
          -1.0344884992735575,
          0.15948944361386735,
          -0.19589283962336,
          -0.6852943018916997,
          -0.5880941757709064,
          0.17035562449446132,
          0.5913902058621666,
          -0.9199122157675864,
          0.9573935392643146,
          -0.22375424741831904,
          0.43946538468921637,
          -0.3131973114136663,
          0.899443150063009,
          -0.8264953253132122,
          -0.16538637364699124,
          -0.13517908001439397,
          0.8091401271172439,
          -1.30904640296218,
          -0.45422206139924226,
          0.4907240937863005,
          1.424194979291537,
          1.1295658613318202,
          -1.1343449569566135,
          1.7497515669552424,
          -0.15609510980782706,
          -0.9701048648149126,
          -1.2922061453965263,
          2.015183999384643,
          1.0651251975905274,
          0.37795898160154373,
          -0.858135175494791,
          -1.8924836165721872,
          -0.7191375774094184,
          -0.5522674191284617,
          -0.913005426693775,
          1.6573844242452849
         ]
        }
       ],
       "layout": {
        "barmode": "overlay",
        "legend": {
         "bgcolor": "#F5F6F9",
         "font": {
          "color": "#4D5663"
         }
        },
        "paper_bgcolor": "#F5F6F9",
        "plot_bgcolor": "#F5F6F9",
        "template": {
         "data": {
          "bar": [
           {
            "error_x": {
             "color": "#2a3f5f"
            },
            "error_y": {
             "color": "#2a3f5f"
            },
            "marker": {
             "line": {
              "color": "#E5ECF6",
              "width": 0.5
             },
             "pattern": {
              "fillmode": "overlay",
              "size": 10,
              "solidity": 0.2
             }
            },
            "type": "bar"
           }
          ],
          "barpolar": [
           {
            "marker": {
             "line": {
              "color": "#E5ECF6",
              "width": 0.5
             },
             "pattern": {
              "fillmode": "overlay",
              "size": 10,
              "solidity": 0.2
             }
            },
            "type": "barpolar"
           }
          ],
          "carpet": [
           {
            "aaxis": {
             "endlinecolor": "#2a3f5f",
             "gridcolor": "white",
             "linecolor": "white",
             "minorgridcolor": "white",
             "startlinecolor": "#2a3f5f"
            },
            "baxis": {
             "endlinecolor": "#2a3f5f",
             "gridcolor": "white",
             "linecolor": "white",
             "minorgridcolor": "white",
             "startlinecolor": "#2a3f5f"
            },
            "type": "carpet"
           }
          ],
          "choropleth": [
           {
            "colorbar": {
             "outlinewidth": 0,
             "ticks": ""
            },
            "type": "choropleth"
           }
          ],
          "contour": [
           {
            "colorbar": {
             "outlinewidth": 0,
             "ticks": ""
            },
            "colorscale": [
             [
              0,
              "#0d0887"
             ],
             [
              0.1111111111111111,
              "#46039f"
             ],
             [
              0.2222222222222222,
              "#7201a8"
             ],
             [
              0.3333333333333333,
              "#9c179e"
             ],
             [
              0.4444444444444444,
              "#bd3786"
             ],
             [
              0.5555555555555556,
              "#d8576b"
             ],
             [
              0.6666666666666666,
              "#ed7953"
             ],
             [
              0.7777777777777778,
              "#fb9f3a"
             ],
             [
              0.8888888888888888,
              "#fdca26"
             ],
             [
              1,
              "#f0f921"
             ]
            ],
            "type": "contour"
           }
          ],
          "contourcarpet": [
           {
            "colorbar": {
             "outlinewidth": 0,
             "ticks": ""
            },
            "type": "contourcarpet"
           }
          ],
          "heatmap": [
           {
            "colorbar": {
             "outlinewidth": 0,
             "ticks": ""
            },
            "colorscale": [
             [
              0,
              "#0d0887"
             ],
             [
              0.1111111111111111,
              "#46039f"
             ],
             [
              0.2222222222222222,
              "#7201a8"
             ],
             [
              0.3333333333333333,
              "#9c179e"
             ],
             [
              0.4444444444444444,
              "#bd3786"
             ],
             [
              0.5555555555555556,
              "#d8576b"
             ],
             [
              0.6666666666666666,
              "#ed7953"
             ],
             [
              0.7777777777777778,
              "#fb9f3a"
             ],
             [
              0.8888888888888888,
              "#fdca26"
             ],
             [
              1,
              "#f0f921"
             ]
            ],
            "type": "heatmap"
           }
          ],
          "heatmapgl": [
           {
            "colorbar": {
             "outlinewidth": 0,
             "ticks": ""
            },
            "colorscale": [
             [
              0,
              "#0d0887"
             ],
             [
              0.1111111111111111,
              "#46039f"
             ],
             [
              0.2222222222222222,
              "#7201a8"
             ],
             [
              0.3333333333333333,
              "#9c179e"
             ],
             [
              0.4444444444444444,
              "#bd3786"
             ],
             [
              0.5555555555555556,
              "#d8576b"
             ],
             [
              0.6666666666666666,
              "#ed7953"
             ],
             [
              0.7777777777777778,
              "#fb9f3a"
             ],
             [
              0.8888888888888888,
              "#fdca26"
             ],
             [
              1,
              "#f0f921"
             ]
            ],
            "type": "heatmapgl"
           }
          ],
          "histogram": [
           {
            "marker": {
             "pattern": {
              "fillmode": "overlay",
              "size": 10,
              "solidity": 0.2
             }
            },
            "type": "histogram"
           }
          ],
          "histogram2d": [
           {
            "colorbar": {
             "outlinewidth": 0,
             "ticks": ""
            },
            "colorscale": [
             [
              0,
              "#0d0887"
             ],
             [
              0.1111111111111111,
              "#46039f"
             ],
             [
              0.2222222222222222,
              "#7201a8"
             ],
             [
              0.3333333333333333,
              "#9c179e"
             ],
             [
              0.4444444444444444,
              "#bd3786"
             ],
             [
              0.5555555555555556,
              "#d8576b"
             ],
             [
              0.6666666666666666,
              "#ed7953"
             ],
             [
              0.7777777777777778,
              "#fb9f3a"
             ],
             [
              0.8888888888888888,
              "#fdca26"
             ],
             [
              1,
              "#f0f921"
             ]
            ],
            "type": "histogram2d"
           }
          ],
          "histogram2dcontour": [
           {
            "colorbar": {
             "outlinewidth": 0,
             "ticks": ""
            },
            "colorscale": [
             [
              0,
              "#0d0887"
             ],
             [
              0.1111111111111111,
              "#46039f"
             ],
             [
              0.2222222222222222,
              "#7201a8"
             ],
             [
              0.3333333333333333,
              "#9c179e"
             ],
             [
              0.4444444444444444,
              "#bd3786"
             ],
             [
              0.5555555555555556,
              "#d8576b"
             ],
             [
              0.6666666666666666,
              "#ed7953"
             ],
             [
              0.7777777777777778,
              "#fb9f3a"
             ],
             [
              0.8888888888888888,
              "#fdca26"
             ],
             [
              1,
              "#f0f921"
             ]
            ],
            "type": "histogram2dcontour"
           }
          ],
          "mesh3d": [
           {
            "colorbar": {
             "outlinewidth": 0,
             "ticks": ""
            },
            "type": "mesh3d"
           }
          ],
          "parcoords": [
           {
            "line": {
             "colorbar": {
              "outlinewidth": 0,
              "ticks": ""
             }
            },
            "type": "parcoords"
           }
          ],
          "pie": [
           {
            "automargin": true,
            "type": "pie"
           }
          ],
          "scatter": [
           {
            "fillpattern": {
             "fillmode": "overlay",
             "size": 10,
             "solidity": 0.2
            },
            "type": "scatter"
           }
          ],
          "scatter3d": [
           {
            "line": {
             "colorbar": {
              "outlinewidth": 0,
              "ticks": ""
             }
            },
            "marker": {
             "colorbar": {
              "outlinewidth": 0,
              "ticks": ""
             }
            },
            "type": "scatter3d"
           }
          ],
          "scattercarpet": [
           {
            "marker": {
             "colorbar": {
              "outlinewidth": 0,
              "ticks": ""
             }
            },
            "type": "scattercarpet"
           }
          ],
          "scattergeo": [
           {
            "marker": {
             "colorbar": {
              "outlinewidth": 0,
              "ticks": ""
             }
            },
            "type": "scattergeo"
           }
          ],
          "scattergl": [
           {
            "marker": {
             "colorbar": {
              "outlinewidth": 0,
              "ticks": ""
             }
            },
            "type": "scattergl"
           }
          ],
          "scattermapbox": [
           {
            "marker": {
             "colorbar": {
              "outlinewidth": 0,
              "ticks": ""
             }
            },
            "type": "scattermapbox"
           }
          ],
          "scatterpolar": [
           {
            "marker": {
             "colorbar": {
              "outlinewidth": 0,
              "ticks": ""
             }
            },
            "type": "scatterpolar"
           }
          ],
          "scatterpolargl": [
           {
            "marker": {
             "colorbar": {
              "outlinewidth": 0,
              "ticks": ""
             }
            },
            "type": "scatterpolargl"
           }
          ],
          "scatterternary": [
           {
            "marker": {
             "colorbar": {
              "outlinewidth": 0,
              "ticks": ""
             }
            },
            "type": "scatterternary"
           }
          ],
          "surface": [
           {
            "colorbar": {
             "outlinewidth": 0,
             "ticks": ""
            },
            "colorscale": [
             [
              0,
              "#0d0887"
             ],
             [
              0.1111111111111111,
              "#46039f"
             ],
             [
              0.2222222222222222,
              "#7201a8"
             ],
             [
              0.3333333333333333,
              "#9c179e"
             ],
             [
              0.4444444444444444,
              "#bd3786"
             ],
             [
              0.5555555555555556,
              "#d8576b"
             ],
             [
              0.6666666666666666,
              "#ed7953"
             ],
             [
              0.7777777777777778,
              "#fb9f3a"
             ],
             [
              0.8888888888888888,
              "#fdca26"
             ],
             [
              1,
              "#f0f921"
             ]
            ],
            "type": "surface"
           }
          ],
          "table": [
           {
            "cells": {
             "fill": {
              "color": "#EBF0F8"
             },
             "line": {
              "color": "white"
             }
            },
            "header": {
             "fill": {
              "color": "#C8D4E3"
             },
             "line": {
              "color": "white"
             }
            },
            "type": "table"
           }
          ]
         },
         "layout": {
          "annotationdefaults": {
           "arrowcolor": "#2a3f5f",
           "arrowhead": 0,
           "arrowwidth": 1
          },
          "autotypenumbers": "strict",
          "coloraxis": {
           "colorbar": {
            "outlinewidth": 0,
            "ticks": ""
           }
          },
          "colorscale": {
           "diverging": [
            [
             0,
             "#8e0152"
            ],
            [
             0.1,
             "#c51b7d"
            ],
            [
             0.2,
             "#de77ae"
            ],
            [
             0.3,
             "#f1b6da"
            ],
            [
             0.4,
             "#fde0ef"
            ],
            [
             0.5,
             "#f7f7f7"
            ],
            [
             0.6,
             "#e6f5d0"
            ],
            [
             0.7,
             "#b8e186"
            ],
            [
             0.8,
             "#7fbc41"
            ],
            [
             0.9,
             "#4d9221"
            ],
            [
             1,
             "#276419"
            ]
           ],
           "sequential": [
            [
             0,
             "#0d0887"
            ],
            [
             0.1111111111111111,
             "#46039f"
            ],
            [
             0.2222222222222222,
             "#7201a8"
            ],
            [
             0.3333333333333333,
             "#9c179e"
            ],
            [
             0.4444444444444444,
             "#bd3786"
            ],
            [
             0.5555555555555556,
             "#d8576b"
            ],
            [
             0.6666666666666666,
             "#ed7953"
            ],
            [
             0.7777777777777778,
             "#fb9f3a"
            ],
            [
             0.8888888888888888,
             "#fdca26"
            ],
            [
             1,
             "#f0f921"
            ]
           ],
           "sequentialminus": [
            [
             0,
             "#0d0887"
            ],
            [
             0.1111111111111111,
             "#46039f"
            ],
            [
             0.2222222222222222,
             "#7201a8"
            ],
            [
             0.3333333333333333,
             "#9c179e"
            ],
            [
             0.4444444444444444,
             "#bd3786"
            ],
            [
             0.5555555555555556,
             "#d8576b"
            ],
            [
             0.6666666666666666,
             "#ed7953"
            ],
            [
             0.7777777777777778,
             "#fb9f3a"
            ],
            [
             0.8888888888888888,
             "#fdca26"
            ],
            [
             1,
             "#f0f921"
            ]
           ]
          },
          "colorway": [
           "#636efa",
           "#EF553B",
           "#00cc96",
           "#ab63fa",
           "#FFA15A",
           "#19d3f3",
           "#FF6692",
           "#B6E880",
           "#FF97FF",
           "#FECB52"
          ],
          "font": {
           "color": "#2a3f5f"
          },
          "geo": {
           "bgcolor": "white",
           "lakecolor": "white",
           "landcolor": "#E5ECF6",
           "showlakes": true,
           "showland": true,
           "subunitcolor": "white"
          },
          "hoverlabel": {
           "align": "left"
          },
          "hovermode": "closest",
          "mapbox": {
           "style": "light"
          },
          "paper_bgcolor": "white",
          "plot_bgcolor": "#E5ECF6",
          "polar": {
           "angularaxis": {
            "gridcolor": "white",
            "linecolor": "white",
            "ticks": ""
           },
           "bgcolor": "#E5ECF6",
           "radialaxis": {
            "gridcolor": "white",
            "linecolor": "white",
            "ticks": ""
           }
          },
          "scene": {
           "xaxis": {
            "backgroundcolor": "#E5ECF6",
            "gridcolor": "white",
            "gridwidth": 2,
            "linecolor": "white",
            "showbackground": true,
            "ticks": "",
            "zerolinecolor": "white"
           },
           "yaxis": {
            "backgroundcolor": "#E5ECF6",
            "gridcolor": "white",
            "gridwidth": 2,
            "linecolor": "white",
            "showbackground": true,
            "ticks": "",
            "zerolinecolor": "white"
           },
           "zaxis": {
            "backgroundcolor": "#E5ECF6",
            "gridcolor": "white",
            "gridwidth": 2,
            "linecolor": "white",
            "showbackground": true,
            "ticks": "",
            "zerolinecolor": "white"
           }
          },
          "shapedefaults": {
           "line": {
            "color": "#2a3f5f"
           }
          },
          "ternary": {
           "aaxis": {
            "gridcolor": "white",
            "linecolor": "white",
            "ticks": ""
           },
           "baxis": {
            "gridcolor": "white",
            "linecolor": "white",
            "ticks": ""
           },
           "bgcolor": "#E5ECF6",
           "caxis": {
            "gridcolor": "white",
            "linecolor": "white",
            "ticks": ""
           }
          },
          "title": {
           "x": 0.05
          },
          "xaxis": {
           "automargin": true,
           "gridcolor": "white",
           "linecolor": "white",
           "ticks": "",
           "title": {
            "standoff": 15
           },
           "zerolinecolor": "white",
           "zerolinewidth": 2
          },
          "yaxis": {
           "automargin": true,
           "gridcolor": "white",
           "linecolor": "white",
           "ticks": "",
           "title": {
            "standoff": 15
           },
           "zerolinecolor": "white",
           "zerolinewidth": 2
          }
         }
        },
        "title": {
         "font": {
          "color": "#4D5663"
         }
        },
        "xaxis": {
         "gridcolor": "#E1E5ED",
         "showgrid": true,
         "tickfont": {
          "color": "#4D5663"
         },
         "title": {
          "font": {
           "color": "#4D5663"
          },
          "text": ""
         },
         "zerolinecolor": "#E1E5ED"
        },
        "yaxis": {
         "gridcolor": "#E1E5ED",
         "showgrid": true,
         "tickfont": {
          "color": "#4D5663"
         },
         "title": {
          "font": {
           "color": "#4D5663"
          },
          "text": ""
         },
         "zerolinecolor": "#E1E5ED"
        }
       }
      },
      "text/html": [
       "<div>                            <div id=\"72542df3-c57f-44f0-85e6-9ecae57d19da\" class=\"plotly-graph-div\" style=\"height:525px; width:100%;\"></div>            <script type=\"text/javascript\">                require([\"plotly\"], function(Plotly) {                    window.PLOTLYENV=window.PLOTLYENV || {};\n",
       "                    window.PLOTLYENV.BASE_URL='https://plot.ly';                                    if (document.getElementById(\"72542df3-c57f-44f0-85e6-9ecae57d19da\")) {                    Plotly.newPlot(                        \"72542df3-c57f-44f0-85e6-9ecae57d19da\",                        [{\"histfunc\":\"count\",\"histnorm\":\"\",\"marker\":{\"color\":\"rgba(255, 153, 51, 1.0)\",\"line\":{\"color\":\"#4D5663\",\"width\":1.3}},\"name\":\"A\",\"nbinsx\":25,\"opacity\":0.8,\"orientation\":\"v\",\"x\":[-1.0414938449171551,-0.4354303557101797,0.34091500601799474,2.0746916097471155,-0.24747851502364648,0.6186335280195576,0.06458959483746213,0.19202582337651733,0.6461078850095495,-1.0390452041639444,0.6227323408901065,-0.1674391576392429,-0.1926042781471134,-0.04046327744673468,-2.031733686393499,-1.2521232482806384,-1.0611150328040704,-1.3005911023122887,2.73068526240894,-0.014905077491252519,-0.3365265182353228,1.5688337988015868,-0.3537229936367583,-0.7774145415496925,-0.5531468020354161,0.3732146468619525,0.47503628200836756,0.6675289888307547,0.6342468938845498,0.3782402737404014,1.8073693745270427,0.10079055157427515,0.44395509474085854,-1.5999810850342004,-0.9361645071581075,1.6427002545546334,-0.19965900866375763,-0.5739373863449075,-0.4867162121661351,-0.7494828396960236,-0.4680209101771845,-0.646200346510384,-1.4499063061319621,-0.6729265648978373,-0.25920990095800994,-0.24524031082590997,0.9424992940939884,0.09746308886052545,-0.05670856183167005,-0.3700987414342005,-1.5330827425094273,-1.513493870789549,1.0020688989440132,-0.14477971981749638,-0.06713316999739569,0.36165647674204604,0.7879463209144801,1.2050186982820554,0.6388184550724472,0.6740116687479178,-0.7147605818973362,0.18841425752213384,0.47735099292647765,-0.035006175364803556,-1.0344884992735575,0.15948944361386735,-0.19589283962336,-0.6852943018916997,-0.5880941757709064,0.17035562449446132,0.5913902058621666,-0.9199122157675864,0.9573935392643146,-0.22375424741831904,0.43946538468921637,-0.3131973114136663,0.899443150063009,-0.8264953253132122,-0.16538637364699124,-0.13517908001439397,0.8091401271172439,-1.30904640296218,-0.45422206139924226,0.4907240937863005,1.424194979291537,1.1295658613318202,-1.1343449569566135,1.7497515669552424,-0.15609510980782706,-0.9701048648149126,-1.2922061453965263,2.015183999384643,1.0651251975905274,0.37795898160154373,-0.858135175494791,-1.8924836165721872,-0.7191375774094184,-0.5522674191284617,-0.913005426693775,1.6573844242452849],\"type\":\"histogram\"}],                        {\"barmode\":\"overlay\",\"legend\":{\"bgcolor\":\"#F5F6F9\",\"font\":{\"color\":\"#4D5663\"}},\"paper_bgcolor\":\"#F5F6F9\",\"plot_bgcolor\":\"#F5F6F9\",\"template\":{\"data\":{\"barpolar\":[{\"marker\":{\"line\":{\"color\":\"#E5ECF6\",\"width\":0.5},\"pattern\":{\"fillmode\":\"overlay\",\"size\":10,\"solidity\":0.2}},\"type\":\"barpolar\"}],\"bar\":[{\"error_x\":{\"color\":\"#2a3f5f\"},\"error_y\":{\"color\":\"#2a3f5f\"},\"marker\":{\"line\":{\"color\":\"#E5ECF6\",\"width\":0.5},\"pattern\":{\"fillmode\":\"overlay\",\"size\":10,\"solidity\":0.2}},\"type\":\"bar\"}],\"carpet\":[{\"aaxis\":{\"endlinecolor\":\"#2a3f5f\",\"gridcolor\":\"white\",\"linecolor\":\"white\",\"minorgridcolor\":\"white\",\"startlinecolor\":\"#2a3f5f\"},\"baxis\":{\"endlinecolor\":\"#2a3f5f\",\"gridcolor\":\"white\",\"linecolor\":\"white\",\"minorgridcolor\":\"white\",\"startlinecolor\":\"#2a3f5f\"},\"type\":\"carpet\"}],\"choropleth\":[{\"colorbar\":{\"outlinewidth\":0,\"ticks\":\"\"},\"type\":\"choropleth\"}],\"contourcarpet\":[{\"colorbar\":{\"outlinewidth\":0,\"ticks\":\"\"},\"type\":\"contourcarpet\"}],\"contour\":[{\"colorbar\":{\"outlinewidth\":0,\"ticks\":\"\"},\"colorscale\":[[0.0,\"#0d0887\"],[0.1111111111111111,\"#46039f\"],[0.2222222222222222,\"#7201a8\"],[0.3333333333333333,\"#9c179e\"],[0.4444444444444444,\"#bd3786\"],[0.5555555555555556,\"#d8576b\"],[0.6666666666666666,\"#ed7953\"],[0.7777777777777778,\"#fb9f3a\"],[0.8888888888888888,\"#fdca26\"],[1.0,\"#f0f921\"]],\"type\":\"contour\"}],\"heatmapgl\":[{\"colorbar\":{\"outlinewidth\":0,\"ticks\":\"\"},\"colorscale\":[[0.0,\"#0d0887\"],[0.1111111111111111,\"#46039f\"],[0.2222222222222222,\"#7201a8\"],[0.3333333333333333,\"#9c179e\"],[0.4444444444444444,\"#bd3786\"],[0.5555555555555556,\"#d8576b\"],[0.6666666666666666,\"#ed7953\"],[0.7777777777777778,\"#fb9f3a\"],[0.8888888888888888,\"#fdca26\"],[1.0,\"#f0f921\"]],\"type\":\"heatmapgl\"}],\"heatmap\":[{\"colorbar\":{\"outlinewidth\":0,\"ticks\":\"\"},\"colorscale\":[[0.0,\"#0d0887\"],[0.1111111111111111,\"#46039f\"],[0.2222222222222222,\"#7201a8\"],[0.3333333333333333,\"#9c179e\"],[0.4444444444444444,\"#bd3786\"],[0.5555555555555556,\"#d8576b\"],[0.6666666666666666,\"#ed7953\"],[0.7777777777777778,\"#fb9f3a\"],[0.8888888888888888,\"#fdca26\"],[1.0,\"#f0f921\"]],\"type\":\"heatmap\"}],\"histogram2dcontour\":[{\"colorbar\":{\"outlinewidth\":0,\"ticks\":\"\"},\"colorscale\":[[0.0,\"#0d0887\"],[0.1111111111111111,\"#46039f\"],[0.2222222222222222,\"#7201a8\"],[0.3333333333333333,\"#9c179e\"],[0.4444444444444444,\"#bd3786\"],[0.5555555555555556,\"#d8576b\"],[0.6666666666666666,\"#ed7953\"],[0.7777777777777778,\"#fb9f3a\"],[0.8888888888888888,\"#fdca26\"],[1.0,\"#f0f921\"]],\"type\":\"histogram2dcontour\"}],\"histogram2d\":[{\"colorbar\":{\"outlinewidth\":0,\"ticks\":\"\"},\"colorscale\":[[0.0,\"#0d0887\"],[0.1111111111111111,\"#46039f\"],[0.2222222222222222,\"#7201a8\"],[0.3333333333333333,\"#9c179e\"],[0.4444444444444444,\"#bd3786\"],[0.5555555555555556,\"#d8576b\"],[0.6666666666666666,\"#ed7953\"],[0.7777777777777778,\"#fb9f3a\"],[0.8888888888888888,\"#fdca26\"],[1.0,\"#f0f921\"]],\"type\":\"histogram2d\"}],\"histogram\":[{\"marker\":{\"pattern\":{\"fillmode\":\"overlay\",\"size\":10,\"solidity\":0.2}},\"type\":\"histogram\"}],\"mesh3d\":[{\"colorbar\":{\"outlinewidth\":0,\"ticks\":\"\"},\"type\":\"mesh3d\"}],\"parcoords\":[{\"line\":{\"colorbar\":{\"outlinewidth\":0,\"ticks\":\"\"}},\"type\":\"parcoords\"}],\"pie\":[{\"automargin\":true,\"type\":\"pie\"}],\"scatter3d\":[{\"line\":{\"colorbar\":{\"outlinewidth\":0,\"ticks\":\"\"}},\"marker\":{\"colorbar\":{\"outlinewidth\":0,\"ticks\":\"\"}},\"type\":\"scatter3d\"}],\"scattercarpet\":[{\"marker\":{\"colorbar\":{\"outlinewidth\":0,\"ticks\":\"\"}},\"type\":\"scattercarpet\"}],\"scattergeo\":[{\"marker\":{\"colorbar\":{\"outlinewidth\":0,\"ticks\":\"\"}},\"type\":\"scattergeo\"}],\"scattergl\":[{\"marker\":{\"colorbar\":{\"outlinewidth\":0,\"ticks\":\"\"}},\"type\":\"scattergl\"}],\"scattermapbox\":[{\"marker\":{\"colorbar\":{\"outlinewidth\":0,\"ticks\":\"\"}},\"type\":\"scattermapbox\"}],\"scatterpolargl\":[{\"marker\":{\"colorbar\":{\"outlinewidth\":0,\"ticks\":\"\"}},\"type\":\"scatterpolargl\"}],\"scatterpolar\":[{\"marker\":{\"colorbar\":{\"outlinewidth\":0,\"ticks\":\"\"}},\"type\":\"scatterpolar\"}],\"scatter\":[{\"fillpattern\":{\"fillmode\":\"overlay\",\"size\":10,\"solidity\":0.2},\"type\":\"scatter\"}],\"scatterternary\":[{\"marker\":{\"colorbar\":{\"outlinewidth\":0,\"ticks\":\"\"}},\"type\":\"scatterternary\"}],\"surface\":[{\"colorbar\":{\"outlinewidth\":0,\"ticks\":\"\"},\"colorscale\":[[0.0,\"#0d0887\"],[0.1111111111111111,\"#46039f\"],[0.2222222222222222,\"#7201a8\"],[0.3333333333333333,\"#9c179e\"],[0.4444444444444444,\"#bd3786\"],[0.5555555555555556,\"#d8576b\"],[0.6666666666666666,\"#ed7953\"],[0.7777777777777778,\"#fb9f3a\"],[0.8888888888888888,\"#fdca26\"],[1.0,\"#f0f921\"]],\"type\":\"surface\"}],\"table\":[{\"cells\":{\"fill\":{\"color\":\"#EBF0F8\"},\"line\":{\"color\":\"white\"}},\"header\":{\"fill\":{\"color\":\"#C8D4E3\"},\"line\":{\"color\":\"white\"}},\"type\":\"table\"}]},\"layout\":{\"annotationdefaults\":{\"arrowcolor\":\"#2a3f5f\",\"arrowhead\":0,\"arrowwidth\":1},\"autotypenumbers\":\"strict\",\"coloraxis\":{\"colorbar\":{\"outlinewidth\":0,\"ticks\":\"\"}},\"colorscale\":{\"diverging\":[[0,\"#8e0152\"],[0.1,\"#c51b7d\"],[0.2,\"#de77ae\"],[0.3,\"#f1b6da\"],[0.4,\"#fde0ef\"],[0.5,\"#f7f7f7\"],[0.6,\"#e6f5d0\"],[0.7,\"#b8e186\"],[0.8,\"#7fbc41\"],[0.9,\"#4d9221\"],[1,\"#276419\"]],\"sequential\":[[0.0,\"#0d0887\"],[0.1111111111111111,\"#46039f\"],[0.2222222222222222,\"#7201a8\"],[0.3333333333333333,\"#9c179e\"],[0.4444444444444444,\"#bd3786\"],[0.5555555555555556,\"#d8576b\"],[0.6666666666666666,\"#ed7953\"],[0.7777777777777778,\"#fb9f3a\"],[0.8888888888888888,\"#fdca26\"],[1.0,\"#f0f921\"]],\"sequentialminus\":[[0.0,\"#0d0887\"],[0.1111111111111111,\"#46039f\"],[0.2222222222222222,\"#7201a8\"],[0.3333333333333333,\"#9c179e\"],[0.4444444444444444,\"#bd3786\"],[0.5555555555555556,\"#d8576b\"],[0.6666666666666666,\"#ed7953\"],[0.7777777777777778,\"#fb9f3a\"],[0.8888888888888888,\"#fdca26\"],[1.0,\"#f0f921\"]]},\"colorway\":[\"#636efa\",\"#EF553B\",\"#00cc96\",\"#ab63fa\",\"#FFA15A\",\"#19d3f3\",\"#FF6692\",\"#B6E880\",\"#FF97FF\",\"#FECB52\"],\"font\":{\"color\":\"#2a3f5f\"},\"geo\":{\"bgcolor\":\"white\",\"lakecolor\":\"white\",\"landcolor\":\"#E5ECF6\",\"showlakes\":true,\"showland\":true,\"subunitcolor\":\"white\"},\"hoverlabel\":{\"align\":\"left\"},\"hovermode\":\"closest\",\"mapbox\":{\"style\":\"light\"},\"paper_bgcolor\":\"white\",\"plot_bgcolor\":\"#E5ECF6\",\"polar\":{\"angularaxis\":{\"gridcolor\":\"white\",\"linecolor\":\"white\",\"ticks\":\"\"},\"bgcolor\":\"#E5ECF6\",\"radialaxis\":{\"gridcolor\":\"white\",\"linecolor\":\"white\",\"ticks\":\"\"}},\"scene\":{\"xaxis\":{\"backgroundcolor\":\"#E5ECF6\",\"gridcolor\":\"white\",\"gridwidth\":2,\"linecolor\":\"white\",\"showbackground\":true,\"ticks\":\"\",\"zerolinecolor\":\"white\"},\"yaxis\":{\"backgroundcolor\":\"#E5ECF6\",\"gridcolor\":\"white\",\"gridwidth\":2,\"linecolor\":\"white\",\"showbackground\":true,\"ticks\":\"\",\"zerolinecolor\":\"white\"},\"zaxis\":{\"backgroundcolor\":\"#E5ECF6\",\"gridcolor\":\"white\",\"gridwidth\":2,\"linecolor\":\"white\",\"showbackground\":true,\"ticks\":\"\",\"zerolinecolor\":\"white\"}},\"shapedefaults\":{\"line\":{\"color\":\"#2a3f5f\"}},\"ternary\":{\"aaxis\":{\"gridcolor\":\"white\",\"linecolor\":\"white\",\"ticks\":\"\"},\"baxis\":{\"gridcolor\":\"white\",\"linecolor\":\"white\",\"ticks\":\"\"},\"bgcolor\":\"#E5ECF6\",\"caxis\":{\"gridcolor\":\"white\",\"linecolor\":\"white\",\"ticks\":\"\"}},\"title\":{\"x\":0.05},\"xaxis\":{\"automargin\":true,\"gridcolor\":\"white\",\"linecolor\":\"white\",\"ticks\":\"\",\"title\":{\"standoff\":15},\"zerolinecolor\":\"white\",\"zerolinewidth\":2},\"yaxis\":{\"automargin\":true,\"gridcolor\":\"white\",\"linecolor\":\"white\",\"ticks\":\"\",\"title\":{\"standoff\":15},\"zerolinecolor\":\"white\",\"zerolinewidth\":2}}},\"title\":{\"font\":{\"color\":\"#4D5663\"}},\"xaxis\":{\"gridcolor\":\"#E1E5ED\",\"showgrid\":true,\"tickfont\":{\"color\":\"#4D5663\"},\"title\":{\"font\":{\"color\":\"#4D5663\"},\"text\":\"\"},\"zerolinecolor\":\"#E1E5ED\"},\"yaxis\":{\"gridcolor\":\"#E1E5ED\",\"showgrid\":true,\"tickfont\":{\"color\":\"#4D5663\"},\"title\":{\"font\":{\"color\":\"#4D5663\"},\"text\":\"\"},\"zerolinecolor\":\"#E1E5ED\"}},                        {\"showLink\": true, \"linkText\": \"Export to plot.ly\", \"plotlyServerURL\": \"https://plot.ly\", \"responsive\": true}                    ).then(function(){\n",
       "                            \n",
       "var gd = document.getElementById('72542df3-c57f-44f0-85e6-9ecae57d19da');\n",
       "var x = new MutationObserver(function (mutations, observer) {{\n",
       "        var display = window.getComputedStyle(gd).display;\n",
       "        if (!display || display === 'none') {{\n",
       "            console.log([gd, 'removed!']);\n",
       "            Plotly.purge(gd);\n",
       "            observer.disconnect();\n",
       "        }}\n",
       "}});\n",
       "\n",
       "// Listen for the removal of the full notebook cells\n",
       "var notebookContainer = gd.closest('#notebook-container');\n",
       "if (notebookContainer) {{\n",
       "    x.observe(notebookContainer, {childList: true});\n",
       "}}\n",
       "\n",
       "// Listen for the clearing of the current output cell\n",
       "var outputEl = gd.closest('.output');\n",
       "if (outputEl) {{\n",
       "    x.observe(outputEl, {childList: true});\n",
       "}}\n",
       "\n",
       "                        })                };                });            </script>        </div>"
      ]
     },
     "metadata": {},
     "output_type": "display_data"
    }
   ],
   "source": [
    "df['A'].iplot(kind='hist',bins=25)"
   ]
  },
  {
   "cell_type": "code",
   "execution_count": 18,
   "metadata": {},
   "outputs": [
    {
     "data": {
      "application/vnd.plotly.v1+json": {
       "config": {
        "linkText": "Export to plot.ly",
        "plotlyServerURL": "https://plot.ly",
        "showLink": true
       },
       "data": [
        {
         "marker": {
          "color": [
           "rgb(255, 153, 51)",
           "rgb(55, 128, 191)",
           "rgb(50, 171, 96)",
           "rgb(128, 0, 128)",
           "rgb(219, 64, 82)",
           "rgb(0, 128, 128)",
           "rgb(255, 255, 51)",
           "rgb(128, 128, 0)",
           "rgb(251, 128, 114)",
           "rgb(128, 177, 211)"
          ],
          "line": {
           "width": 1.3
          },
          "size": [
           14,
           47,
           48,
           58,
           66,
           57,
           44,
           83,
           47,
           73,
           40,
           37,
           71,
           45,
           26,
           102,
           67,
           87,
           44,
           29,
           59,
           47,
           32,
           51,
           19,
           32,
           36,
           26,
           105,
           24,
           55,
           17,
           65,
           78,
           53,
           53,
           45,
           77,
           51,
           75,
           45,
           96,
           71,
           70,
           70,
           69,
           73,
           59,
           40,
           105,
           70,
           67,
           45,
           73,
           47,
           82,
           66,
           75,
           36,
           58,
           53,
           66,
           59,
           49,
           47,
           32,
           61,
           69,
           62,
           76,
           33,
           92,
           62,
           111,
           67,
           12,
           48,
           74,
           91,
           31,
           73,
           28,
           69,
           12,
           64,
           63,
           30,
           54,
           76,
           55,
           23,
           112,
           83,
           96,
           64,
           91,
           88,
           29,
           29,
           28
          ],
          "symbol": "circle"
         },
         "mode": "markers",
         "text": "",
         "type": "scatter",
         "x": [
          -1.0414938449171551,
          -0.4354303557101797,
          0.34091500601799474,
          2.0746916097471155,
          -0.24747851502364648,
          0.6186335280195576,
          0.06458959483746213,
          0.19202582337651733,
          0.6461078850095495,
          -1.0390452041639444,
          0.6227323408901065,
          -0.1674391576392429,
          -0.1926042781471134,
          -0.04046327744673468,
          -2.031733686393499,
          -1.2521232482806384,
          -1.0611150328040704,
          -1.3005911023122887,
          2.73068526240894,
          -0.014905077491252519,
          -0.3365265182353228,
          1.5688337988015868,
          -0.3537229936367583,
          -0.7774145415496925,
          -0.5531468020354161,
          0.3732146468619525,
          0.47503628200836756,
          0.6675289888307547,
          0.6342468938845498,
          0.3782402737404014,
          1.8073693745270427,
          0.10079055157427515,
          0.44395509474085854,
          -1.5999810850342004,
          -0.9361645071581075,
          1.6427002545546334,
          -0.19965900866375763,
          -0.5739373863449075,
          -0.4867162121661351,
          -0.7494828396960236,
          -0.4680209101771845,
          -0.646200346510384,
          -1.4499063061319621,
          -0.6729265648978373,
          -0.25920990095800994,
          -0.24524031082590997,
          0.9424992940939884,
          0.09746308886052545,
          -0.05670856183167005,
          -0.3700987414342005,
          -1.5330827425094273,
          -1.513493870789549,
          1.0020688989440132,
          -0.14477971981749638,
          -0.06713316999739569,
          0.36165647674204604,
          0.7879463209144801,
          1.2050186982820554,
          0.6388184550724472,
          0.6740116687479178,
          -0.7147605818973362,
          0.18841425752213384,
          0.47735099292647765,
          -0.035006175364803556,
          -1.0344884992735575,
          0.15948944361386735,
          -0.19589283962336,
          -0.6852943018916997,
          -0.5880941757709064,
          0.17035562449446132,
          0.5913902058621666,
          -0.9199122157675864,
          0.9573935392643146,
          -0.22375424741831904,
          0.43946538468921637,
          -0.3131973114136663,
          0.899443150063009,
          -0.8264953253132122,
          -0.16538637364699124,
          -0.13517908001439397,
          0.8091401271172439,
          -1.30904640296218,
          -0.45422206139924226,
          0.4907240937863005,
          1.424194979291537,
          1.1295658613318202,
          -1.1343449569566135,
          1.7497515669552424,
          -0.15609510980782706,
          -0.9701048648149126,
          -1.2922061453965263,
          2.015183999384643,
          1.0651251975905274,
          0.37795898160154373,
          -0.858135175494791,
          -1.8924836165721872,
          -0.7191375774094184,
          -0.5522674191284617,
          -0.913005426693775,
          1.6573844242452849
         ],
         "y": [
          0.32996827386755656,
          1.218981953879945,
          -1.633714055298131,
          -0.6680046279061812,
          -0.6445098144275172,
          -1.4982567785730112,
          0.3789401874474387,
          -0.8354867132076352,
          -0.49649095723019165,
          0.9476618567929485,
          -0.29885328226115,
          -0.729847228699825,
          -0.2983012825271507,
          -1.5274385530114047,
          0.3163460257637768,
          0.9882599819686255,
          -1.8372850712119513,
          0.07213041078206192,
          -0.8505942819760838,
          -0.2593730549559899,
          -0.20097115604456608,
          0.08776815285268036,
          0.8990529880959327,
          -1.2300154009386157,
          -0.4646616485397626,
          2.008716385462978,
          1.3815353909949974,
          -0.4680705695693689,
          0.9951906400439332,
          -0.12774732777664352,
          -0.17209346094795594,
          0.42384697762520135,
          0.0881677466704928,
          -1.2137123261984333,
          -0.29210386848008296,
          -0.42918331158735196,
          0.5291358204103447,
          -0.3611920569394752,
          -0.4411126619848192,
          0.3564598562677138,
          -0.12583032060194752,
          -0.8136096980573316,
          -0.17480939014138125,
          0.6778331503575926,
          -1.8800938127463223,
          -0.20868994954541098,
          -1.0943898202087554,
          0.8226631614354307,
          -1.194260664483298,
          0.9773449695985037,
          -1.1496991655267428,
          -0.4387572002224895,
          0.7113296978977882,
          0.6136809231209187,
          0.5921491861167535,
          0.1571828181134136,
          0.14634596816652118,
          1.2738759482054949,
          0.6972173278890168,
          -0.987761104038325,
          -0.1670094503849138,
          0.3250201326918829,
          0.48994010297726887,
          1.4044309262428363,
          0.11312278441985077,
          -0.10669962027891286,
          -1.1168477862086412,
          -0.17675332603717261,
          0.03208977659009037,
          -1.6516672521154045,
          1.1328237831004917,
          -0.2851532459057253,
          1.149522847797316,
          0.4923262442913057,
          0.5794022959078174,
          -0.4871163476749682,
          -0.3483589684714914,
          -0.7185104093064334,
          0.6923830430179017,
          -0.9884401103254018,
          -1.4605573010519564,
          -0.9574630312394341,
          0.16346484134391212,
          0.10498467403726597,
          0.20016905200097182,
          -0.2795659106824173,
          -0.6401046918070968,
          1.1582797184904188,
          -1.2380619543518485,
          -2.028760970003082,
          -0.15868350420267063,
          1.8185289573542853,
          0.2526564960445763,
          0.3706396483181391,
          -0.2691068747137809,
          0.423560909260566,
          0.9555620773895517,
          0.244811084935598,
          0.13634805361852287,
          -0.24890511762323125
         ]
        }
       ],
       "layout": {
        "legend": {
         "bgcolor": "#F5F6F9",
         "font": {
          "color": "#4D5663"
         }
        },
        "paper_bgcolor": "#F5F6F9",
        "plot_bgcolor": "#F5F6F9",
        "template": {
         "data": {
          "bar": [
           {
            "error_x": {
             "color": "#2a3f5f"
            },
            "error_y": {
             "color": "#2a3f5f"
            },
            "marker": {
             "line": {
              "color": "#E5ECF6",
              "width": 0.5
             },
             "pattern": {
              "fillmode": "overlay",
              "size": 10,
              "solidity": 0.2
             }
            },
            "type": "bar"
           }
          ],
          "barpolar": [
           {
            "marker": {
             "line": {
              "color": "#E5ECF6",
              "width": 0.5
             },
             "pattern": {
              "fillmode": "overlay",
              "size": 10,
              "solidity": 0.2
             }
            },
            "type": "barpolar"
           }
          ],
          "carpet": [
           {
            "aaxis": {
             "endlinecolor": "#2a3f5f",
             "gridcolor": "white",
             "linecolor": "white",
             "minorgridcolor": "white",
             "startlinecolor": "#2a3f5f"
            },
            "baxis": {
             "endlinecolor": "#2a3f5f",
             "gridcolor": "white",
             "linecolor": "white",
             "minorgridcolor": "white",
             "startlinecolor": "#2a3f5f"
            },
            "type": "carpet"
           }
          ],
          "choropleth": [
           {
            "colorbar": {
             "outlinewidth": 0,
             "ticks": ""
            },
            "type": "choropleth"
           }
          ],
          "contour": [
           {
            "colorbar": {
             "outlinewidth": 0,
             "ticks": ""
            },
            "colorscale": [
             [
              0,
              "#0d0887"
             ],
             [
              0.1111111111111111,
              "#46039f"
             ],
             [
              0.2222222222222222,
              "#7201a8"
             ],
             [
              0.3333333333333333,
              "#9c179e"
             ],
             [
              0.4444444444444444,
              "#bd3786"
             ],
             [
              0.5555555555555556,
              "#d8576b"
             ],
             [
              0.6666666666666666,
              "#ed7953"
             ],
             [
              0.7777777777777778,
              "#fb9f3a"
             ],
             [
              0.8888888888888888,
              "#fdca26"
             ],
             [
              1,
              "#f0f921"
             ]
            ],
            "type": "contour"
           }
          ],
          "contourcarpet": [
           {
            "colorbar": {
             "outlinewidth": 0,
             "ticks": ""
            },
            "type": "contourcarpet"
           }
          ],
          "heatmap": [
           {
            "colorbar": {
             "outlinewidth": 0,
             "ticks": ""
            },
            "colorscale": [
             [
              0,
              "#0d0887"
             ],
             [
              0.1111111111111111,
              "#46039f"
             ],
             [
              0.2222222222222222,
              "#7201a8"
             ],
             [
              0.3333333333333333,
              "#9c179e"
             ],
             [
              0.4444444444444444,
              "#bd3786"
             ],
             [
              0.5555555555555556,
              "#d8576b"
             ],
             [
              0.6666666666666666,
              "#ed7953"
             ],
             [
              0.7777777777777778,
              "#fb9f3a"
             ],
             [
              0.8888888888888888,
              "#fdca26"
             ],
             [
              1,
              "#f0f921"
             ]
            ],
            "type": "heatmap"
           }
          ],
          "heatmapgl": [
           {
            "colorbar": {
             "outlinewidth": 0,
             "ticks": ""
            },
            "colorscale": [
             [
              0,
              "#0d0887"
             ],
             [
              0.1111111111111111,
              "#46039f"
             ],
             [
              0.2222222222222222,
              "#7201a8"
             ],
             [
              0.3333333333333333,
              "#9c179e"
             ],
             [
              0.4444444444444444,
              "#bd3786"
             ],
             [
              0.5555555555555556,
              "#d8576b"
             ],
             [
              0.6666666666666666,
              "#ed7953"
             ],
             [
              0.7777777777777778,
              "#fb9f3a"
             ],
             [
              0.8888888888888888,
              "#fdca26"
             ],
             [
              1,
              "#f0f921"
             ]
            ],
            "type": "heatmapgl"
           }
          ],
          "histogram": [
           {
            "marker": {
             "pattern": {
              "fillmode": "overlay",
              "size": 10,
              "solidity": 0.2
             }
            },
            "type": "histogram"
           }
          ],
          "histogram2d": [
           {
            "colorbar": {
             "outlinewidth": 0,
             "ticks": ""
            },
            "colorscale": [
             [
              0,
              "#0d0887"
             ],
             [
              0.1111111111111111,
              "#46039f"
             ],
             [
              0.2222222222222222,
              "#7201a8"
             ],
             [
              0.3333333333333333,
              "#9c179e"
             ],
             [
              0.4444444444444444,
              "#bd3786"
             ],
             [
              0.5555555555555556,
              "#d8576b"
             ],
             [
              0.6666666666666666,
              "#ed7953"
             ],
             [
              0.7777777777777778,
              "#fb9f3a"
             ],
             [
              0.8888888888888888,
              "#fdca26"
             ],
             [
              1,
              "#f0f921"
             ]
            ],
            "type": "histogram2d"
           }
          ],
          "histogram2dcontour": [
           {
            "colorbar": {
             "outlinewidth": 0,
             "ticks": ""
            },
            "colorscale": [
             [
              0,
              "#0d0887"
             ],
             [
              0.1111111111111111,
              "#46039f"
             ],
             [
              0.2222222222222222,
              "#7201a8"
             ],
             [
              0.3333333333333333,
              "#9c179e"
             ],
             [
              0.4444444444444444,
              "#bd3786"
             ],
             [
              0.5555555555555556,
              "#d8576b"
             ],
             [
              0.6666666666666666,
              "#ed7953"
             ],
             [
              0.7777777777777778,
              "#fb9f3a"
             ],
             [
              0.8888888888888888,
              "#fdca26"
             ],
             [
              1,
              "#f0f921"
             ]
            ],
            "type": "histogram2dcontour"
           }
          ],
          "mesh3d": [
           {
            "colorbar": {
             "outlinewidth": 0,
             "ticks": ""
            },
            "type": "mesh3d"
           }
          ],
          "parcoords": [
           {
            "line": {
             "colorbar": {
              "outlinewidth": 0,
              "ticks": ""
             }
            },
            "type": "parcoords"
           }
          ],
          "pie": [
           {
            "automargin": true,
            "type": "pie"
           }
          ],
          "scatter": [
           {
            "fillpattern": {
             "fillmode": "overlay",
             "size": 10,
             "solidity": 0.2
            },
            "type": "scatter"
           }
          ],
          "scatter3d": [
           {
            "line": {
             "colorbar": {
              "outlinewidth": 0,
              "ticks": ""
             }
            },
            "marker": {
             "colorbar": {
              "outlinewidth": 0,
              "ticks": ""
             }
            },
            "type": "scatter3d"
           }
          ],
          "scattercarpet": [
           {
            "marker": {
             "colorbar": {
              "outlinewidth": 0,
              "ticks": ""
             }
            },
            "type": "scattercarpet"
           }
          ],
          "scattergeo": [
           {
            "marker": {
             "colorbar": {
              "outlinewidth": 0,
              "ticks": ""
             }
            },
            "type": "scattergeo"
           }
          ],
          "scattergl": [
           {
            "marker": {
             "colorbar": {
              "outlinewidth": 0,
              "ticks": ""
             }
            },
            "type": "scattergl"
           }
          ],
          "scattermapbox": [
           {
            "marker": {
             "colorbar": {
              "outlinewidth": 0,
              "ticks": ""
             }
            },
            "type": "scattermapbox"
           }
          ],
          "scatterpolar": [
           {
            "marker": {
             "colorbar": {
              "outlinewidth": 0,
              "ticks": ""
             }
            },
            "type": "scatterpolar"
           }
          ],
          "scatterpolargl": [
           {
            "marker": {
             "colorbar": {
              "outlinewidth": 0,
              "ticks": ""
             }
            },
            "type": "scatterpolargl"
           }
          ],
          "scatterternary": [
           {
            "marker": {
             "colorbar": {
              "outlinewidth": 0,
              "ticks": ""
             }
            },
            "type": "scatterternary"
           }
          ],
          "surface": [
           {
            "colorbar": {
             "outlinewidth": 0,
             "ticks": ""
            },
            "colorscale": [
             [
              0,
              "#0d0887"
             ],
             [
              0.1111111111111111,
              "#46039f"
             ],
             [
              0.2222222222222222,
              "#7201a8"
             ],
             [
              0.3333333333333333,
              "#9c179e"
             ],
             [
              0.4444444444444444,
              "#bd3786"
             ],
             [
              0.5555555555555556,
              "#d8576b"
             ],
             [
              0.6666666666666666,
              "#ed7953"
             ],
             [
              0.7777777777777778,
              "#fb9f3a"
             ],
             [
              0.8888888888888888,
              "#fdca26"
             ],
             [
              1,
              "#f0f921"
             ]
            ],
            "type": "surface"
           }
          ],
          "table": [
           {
            "cells": {
             "fill": {
              "color": "#EBF0F8"
             },
             "line": {
              "color": "white"
             }
            },
            "header": {
             "fill": {
              "color": "#C8D4E3"
             },
             "line": {
              "color": "white"
             }
            },
            "type": "table"
           }
          ]
         },
         "layout": {
          "annotationdefaults": {
           "arrowcolor": "#2a3f5f",
           "arrowhead": 0,
           "arrowwidth": 1
          },
          "autotypenumbers": "strict",
          "coloraxis": {
           "colorbar": {
            "outlinewidth": 0,
            "ticks": ""
           }
          },
          "colorscale": {
           "diverging": [
            [
             0,
             "#8e0152"
            ],
            [
             0.1,
             "#c51b7d"
            ],
            [
             0.2,
             "#de77ae"
            ],
            [
             0.3,
             "#f1b6da"
            ],
            [
             0.4,
             "#fde0ef"
            ],
            [
             0.5,
             "#f7f7f7"
            ],
            [
             0.6,
             "#e6f5d0"
            ],
            [
             0.7,
             "#b8e186"
            ],
            [
             0.8,
             "#7fbc41"
            ],
            [
             0.9,
             "#4d9221"
            ],
            [
             1,
             "#276419"
            ]
           ],
           "sequential": [
            [
             0,
             "#0d0887"
            ],
            [
             0.1111111111111111,
             "#46039f"
            ],
            [
             0.2222222222222222,
             "#7201a8"
            ],
            [
             0.3333333333333333,
             "#9c179e"
            ],
            [
             0.4444444444444444,
             "#bd3786"
            ],
            [
             0.5555555555555556,
             "#d8576b"
            ],
            [
             0.6666666666666666,
             "#ed7953"
            ],
            [
             0.7777777777777778,
             "#fb9f3a"
            ],
            [
             0.8888888888888888,
             "#fdca26"
            ],
            [
             1,
             "#f0f921"
            ]
           ],
           "sequentialminus": [
            [
             0,
             "#0d0887"
            ],
            [
             0.1111111111111111,
             "#46039f"
            ],
            [
             0.2222222222222222,
             "#7201a8"
            ],
            [
             0.3333333333333333,
             "#9c179e"
            ],
            [
             0.4444444444444444,
             "#bd3786"
            ],
            [
             0.5555555555555556,
             "#d8576b"
            ],
            [
             0.6666666666666666,
             "#ed7953"
            ],
            [
             0.7777777777777778,
             "#fb9f3a"
            ],
            [
             0.8888888888888888,
             "#fdca26"
            ],
            [
             1,
             "#f0f921"
            ]
           ]
          },
          "colorway": [
           "#636efa",
           "#EF553B",
           "#00cc96",
           "#ab63fa",
           "#FFA15A",
           "#19d3f3",
           "#FF6692",
           "#B6E880",
           "#FF97FF",
           "#FECB52"
          ],
          "font": {
           "color": "#2a3f5f"
          },
          "geo": {
           "bgcolor": "white",
           "lakecolor": "white",
           "landcolor": "#E5ECF6",
           "showlakes": true,
           "showland": true,
           "subunitcolor": "white"
          },
          "hoverlabel": {
           "align": "left"
          },
          "hovermode": "closest",
          "mapbox": {
           "style": "light"
          },
          "paper_bgcolor": "white",
          "plot_bgcolor": "#E5ECF6",
          "polar": {
           "angularaxis": {
            "gridcolor": "white",
            "linecolor": "white",
            "ticks": ""
           },
           "bgcolor": "#E5ECF6",
           "radialaxis": {
            "gridcolor": "white",
            "linecolor": "white",
            "ticks": ""
           }
          },
          "scene": {
           "xaxis": {
            "backgroundcolor": "#E5ECF6",
            "gridcolor": "white",
            "gridwidth": 2,
            "linecolor": "white",
            "showbackground": true,
            "ticks": "",
            "zerolinecolor": "white"
           },
           "yaxis": {
            "backgroundcolor": "#E5ECF6",
            "gridcolor": "white",
            "gridwidth": 2,
            "linecolor": "white",
            "showbackground": true,
            "ticks": "",
            "zerolinecolor": "white"
           },
           "zaxis": {
            "backgroundcolor": "#E5ECF6",
            "gridcolor": "white",
            "gridwidth": 2,
            "linecolor": "white",
            "showbackground": true,
            "ticks": "",
            "zerolinecolor": "white"
           }
          },
          "shapedefaults": {
           "line": {
            "color": "#2a3f5f"
           }
          },
          "ternary": {
           "aaxis": {
            "gridcolor": "white",
            "linecolor": "white",
            "ticks": ""
           },
           "baxis": {
            "gridcolor": "white",
            "linecolor": "white",
            "ticks": ""
           },
           "bgcolor": "#E5ECF6",
           "caxis": {
            "gridcolor": "white",
            "linecolor": "white",
            "ticks": ""
           }
          },
          "title": {
           "x": 0.05
          },
          "xaxis": {
           "automargin": true,
           "gridcolor": "white",
           "linecolor": "white",
           "ticks": "",
           "title": {
            "standoff": 15
           },
           "zerolinecolor": "white",
           "zerolinewidth": 2
          },
          "yaxis": {
           "automargin": true,
           "gridcolor": "white",
           "linecolor": "white",
           "ticks": "",
           "title": {
            "standoff": 15
           },
           "zerolinecolor": "white",
           "zerolinewidth": 2
          }
         }
        },
        "title": {
         "font": {
          "color": "#4D5663"
         }
        },
        "xaxis": {
         "gridcolor": "#E1E5ED",
         "showgrid": true,
         "tickfont": {
          "color": "#4D5663"
         },
         "title": {
          "font": {
           "color": "#4D5663"
          },
          "text": ""
         },
         "zerolinecolor": "#E1E5ED"
        },
        "yaxis": {
         "gridcolor": "#E1E5ED",
         "showgrid": true,
         "tickfont": {
          "color": "#4D5663"
         },
         "title": {
          "font": {
           "color": "#4D5663"
          },
          "text": ""
         },
         "zerolinecolor": "#E1E5ED"
        }
       }
      },
      "text/html": [
       "<div>                            <div id=\"2689c37c-22c5-4862-a435-0b32434e06bf\" class=\"plotly-graph-div\" style=\"height:525px; width:100%;\"></div>            <script type=\"text/javascript\">                require([\"plotly\"], function(Plotly) {                    window.PLOTLYENV=window.PLOTLYENV || {};\n",
       "                    window.PLOTLYENV.BASE_URL='https://plot.ly';                                    if (document.getElementById(\"2689c37c-22c5-4862-a435-0b32434e06bf\")) {                    Plotly.newPlot(                        \"2689c37c-22c5-4862-a435-0b32434e06bf\",                        [{\"marker\":{\"color\":[\"rgb(255, 153, 51)\",\"rgb(55, 128, 191)\",\"rgb(50, 171, 96)\",\"rgb(128, 0, 128)\",\"rgb(219, 64, 82)\",\"rgb(0, 128, 128)\",\"rgb(255, 255, 51)\",\"rgb(128, 128, 0)\",\"rgb(251, 128, 114)\",\"rgb(128, 177, 211)\"],\"line\":{\"width\":1.3},\"size\":[14,47,48,58,66,57,44,83,47,73,40,37,71,45,26,102,67,87,44,29,59,47,32,51,19,32,36,26,105,24,55,17,65,78,53,53,45,77,51,75,45,96,71,70,70,69,73,59,40,105,70,67,45,73,47,82,66,75,36,58,53,66,59,49,47,32,61,69,62,76,33,92,62,111,67,12,48,74,91,31,73,28,69,12,64,63,30,54,76,55,23,112,83,96,64,91,88,29,29,28],\"symbol\":\"circle\"},\"mode\":\"markers\",\"text\":\"\",\"x\":[-1.0414938449171551,-0.4354303557101797,0.34091500601799474,2.0746916097471155,-0.24747851502364648,0.6186335280195576,0.06458959483746213,0.19202582337651733,0.6461078850095495,-1.0390452041639444,0.6227323408901065,-0.1674391576392429,-0.1926042781471134,-0.04046327744673468,-2.031733686393499,-1.2521232482806384,-1.0611150328040704,-1.3005911023122887,2.73068526240894,-0.014905077491252519,-0.3365265182353228,1.5688337988015868,-0.3537229936367583,-0.7774145415496925,-0.5531468020354161,0.3732146468619525,0.47503628200836756,0.6675289888307547,0.6342468938845498,0.3782402737404014,1.8073693745270427,0.10079055157427515,0.44395509474085854,-1.5999810850342004,-0.9361645071581075,1.6427002545546334,-0.19965900866375763,-0.5739373863449075,-0.4867162121661351,-0.7494828396960236,-0.4680209101771845,-0.646200346510384,-1.4499063061319621,-0.6729265648978373,-0.25920990095800994,-0.24524031082590997,0.9424992940939884,0.09746308886052545,-0.05670856183167005,-0.3700987414342005,-1.5330827425094273,-1.513493870789549,1.0020688989440132,-0.14477971981749638,-0.06713316999739569,0.36165647674204604,0.7879463209144801,1.2050186982820554,0.6388184550724472,0.6740116687479178,-0.7147605818973362,0.18841425752213384,0.47735099292647765,-0.035006175364803556,-1.0344884992735575,0.15948944361386735,-0.19589283962336,-0.6852943018916997,-0.5880941757709064,0.17035562449446132,0.5913902058621666,-0.9199122157675864,0.9573935392643146,-0.22375424741831904,0.43946538468921637,-0.3131973114136663,0.899443150063009,-0.8264953253132122,-0.16538637364699124,-0.13517908001439397,0.8091401271172439,-1.30904640296218,-0.45422206139924226,0.4907240937863005,1.424194979291537,1.1295658613318202,-1.1343449569566135,1.7497515669552424,-0.15609510980782706,-0.9701048648149126,-1.2922061453965263,2.015183999384643,1.0651251975905274,0.37795898160154373,-0.858135175494791,-1.8924836165721872,-0.7191375774094184,-0.5522674191284617,-0.913005426693775,1.6573844242452849],\"y\":[0.32996827386755656,1.218981953879945,-1.633714055298131,-0.6680046279061812,-0.6445098144275172,-1.4982567785730112,0.3789401874474387,-0.8354867132076352,-0.49649095723019165,0.9476618567929485,-0.29885328226115,-0.729847228699825,-0.2983012825271507,-1.5274385530114047,0.3163460257637768,0.9882599819686255,-1.8372850712119513,0.07213041078206192,-0.8505942819760838,-0.2593730549559899,-0.20097115604456608,0.08776815285268036,0.8990529880959327,-1.2300154009386157,-0.4646616485397626,2.008716385462978,1.3815353909949974,-0.4680705695693689,0.9951906400439332,-0.12774732777664352,-0.17209346094795594,0.42384697762520135,0.0881677466704928,-1.2137123261984333,-0.29210386848008296,-0.42918331158735196,0.5291358204103447,-0.3611920569394752,-0.4411126619848192,0.3564598562677138,-0.12583032060194752,-0.8136096980573316,-0.17480939014138125,0.6778331503575926,-1.8800938127463223,-0.20868994954541098,-1.0943898202087554,0.8226631614354307,-1.194260664483298,0.9773449695985037,-1.1496991655267428,-0.4387572002224895,0.7113296978977882,0.6136809231209187,0.5921491861167535,0.1571828181134136,0.14634596816652118,1.2738759482054949,0.6972173278890168,-0.987761104038325,-0.1670094503849138,0.3250201326918829,0.48994010297726887,1.4044309262428363,0.11312278441985077,-0.10669962027891286,-1.1168477862086412,-0.17675332603717261,0.03208977659009037,-1.6516672521154045,1.1328237831004917,-0.2851532459057253,1.149522847797316,0.4923262442913057,0.5794022959078174,-0.4871163476749682,-0.3483589684714914,-0.7185104093064334,0.6923830430179017,-0.9884401103254018,-1.4605573010519564,-0.9574630312394341,0.16346484134391212,0.10498467403726597,0.20016905200097182,-0.2795659106824173,-0.6401046918070968,1.1582797184904188,-1.2380619543518485,-2.028760970003082,-0.15868350420267063,1.8185289573542853,0.2526564960445763,0.3706396483181391,-0.2691068747137809,0.423560909260566,0.9555620773895517,0.244811084935598,0.13634805361852287,-0.24890511762323125],\"type\":\"scatter\"}],                        {\"legend\":{\"bgcolor\":\"#F5F6F9\",\"font\":{\"color\":\"#4D5663\"}},\"paper_bgcolor\":\"#F5F6F9\",\"plot_bgcolor\":\"#F5F6F9\",\"template\":{\"data\":{\"barpolar\":[{\"marker\":{\"line\":{\"color\":\"#E5ECF6\",\"width\":0.5},\"pattern\":{\"fillmode\":\"overlay\",\"size\":10,\"solidity\":0.2}},\"type\":\"barpolar\"}],\"bar\":[{\"error_x\":{\"color\":\"#2a3f5f\"},\"error_y\":{\"color\":\"#2a3f5f\"},\"marker\":{\"line\":{\"color\":\"#E5ECF6\",\"width\":0.5},\"pattern\":{\"fillmode\":\"overlay\",\"size\":10,\"solidity\":0.2}},\"type\":\"bar\"}],\"carpet\":[{\"aaxis\":{\"endlinecolor\":\"#2a3f5f\",\"gridcolor\":\"white\",\"linecolor\":\"white\",\"minorgridcolor\":\"white\",\"startlinecolor\":\"#2a3f5f\"},\"baxis\":{\"endlinecolor\":\"#2a3f5f\",\"gridcolor\":\"white\",\"linecolor\":\"white\",\"minorgridcolor\":\"white\",\"startlinecolor\":\"#2a3f5f\"},\"type\":\"carpet\"}],\"choropleth\":[{\"colorbar\":{\"outlinewidth\":0,\"ticks\":\"\"},\"type\":\"choropleth\"}],\"contourcarpet\":[{\"colorbar\":{\"outlinewidth\":0,\"ticks\":\"\"},\"type\":\"contourcarpet\"}],\"contour\":[{\"colorbar\":{\"outlinewidth\":0,\"ticks\":\"\"},\"colorscale\":[[0.0,\"#0d0887\"],[0.1111111111111111,\"#46039f\"],[0.2222222222222222,\"#7201a8\"],[0.3333333333333333,\"#9c179e\"],[0.4444444444444444,\"#bd3786\"],[0.5555555555555556,\"#d8576b\"],[0.6666666666666666,\"#ed7953\"],[0.7777777777777778,\"#fb9f3a\"],[0.8888888888888888,\"#fdca26\"],[1.0,\"#f0f921\"]],\"type\":\"contour\"}],\"heatmapgl\":[{\"colorbar\":{\"outlinewidth\":0,\"ticks\":\"\"},\"colorscale\":[[0.0,\"#0d0887\"],[0.1111111111111111,\"#46039f\"],[0.2222222222222222,\"#7201a8\"],[0.3333333333333333,\"#9c179e\"],[0.4444444444444444,\"#bd3786\"],[0.5555555555555556,\"#d8576b\"],[0.6666666666666666,\"#ed7953\"],[0.7777777777777778,\"#fb9f3a\"],[0.8888888888888888,\"#fdca26\"],[1.0,\"#f0f921\"]],\"type\":\"heatmapgl\"}],\"heatmap\":[{\"colorbar\":{\"outlinewidth\":0,\"ticks\":\"\"},\"colorscale\":[[0.0,\"#0d0887\"],[0.1111111111111111,\"#46039f\"],[0.2222222222222222,\"#7201a8\"],[0.3333333333333333,\"#9c179e\"],[0.4444444444444444,\"#bd3786\"],[0.5555555555555556,\"#d8576b\"],[0.6666666666666666,\"#ed7953\"],[0.7777777777777778,\"#fb9f3a\"],[0.8888888888888888,\"#fdca26\"],[1.0,\"#f0f921\"]],\"type\":\"heatmap\"}],\"histogram2dcontour\":[{\"colorbar\":{\"outlinewidth\":0,\"ticks\":\"\"},\"colorscale\":[[0.0,\"#0d0887\"],[0.1111111111111111,\"#46039f\"],[0.2222222222222222,\"#7201a8\"],[0.3333333333333333,\"#9c179e\"],[0.4444444444444444,\"#bd3786\"],[0.5555555555555556,\"#d8576b\"],[0.6666666666666666,\"#ed7953\"],[0.7777777777777778,\"#fb9f3a\"],[0.8888888888888888,\"#fdca26\"],[1.0,\"#f0f921\"]],\"type\":\"histogram2dcontour\"}],\"histogram2d\":[{\"colorbar\":{\"outlinewidth\":0,\"ticks\":\"\"},\"colorscale\":[[0.0,\"#0d0887\"],[0.1111111111111111,\"#46039f\"],[0.2222222222222222,\"#7201a8\"],[0.3333333333333333,\"#9c179e\"],[0.4444444444444444,\"#bd3786\"],[0.5555555555555556,\"#d8576b\"],[0.6666666666666666,\"#ed7953\"],[0.7777777777777778,\"#fb9f3a\"],[0.8888888888888888,\"#fdca26\"],[1.0,\"#f0f921\"]],\"type\":\"histogram2d\"}],\"histogram\":[{\"marker\":{\"pattern\":{\"fillmode\":\"overlay\",\"size\":10,\"solidity\":0.2}},\"type\":\"histogram\"}],\"mesh3d\":[{\"colorbar\":{\"outlinewidth\":0,\"ticks\":\"\"},\"type\":\"mesh3d\"}],\"parcoords\":[{\"line\":{\"colorbar\":{\"outlinewidth\":0,\"ticks\":\"\"}},\"type\":\"parcoords\"}],\"pie\":[{\"automargin\":true,\"type\":\"pie\"}],\"scatter3d\":[{\"line\":{\"colorbar\":{\"outlinewidth\":0,\"ticks\":\"\"}},\"marker\":{\"colorbar\":{\"outlinewidth\":0,\"ticks\":\"\"}},\"type\":\"scatter3d\"}],\"scattercarpet\":[{\"marker\":{\"colorbar\":{\"outlinewidth\":0,\"ticks\":\"\"}},\"type\":\"scattercarpet\"}],\"scattergeo\":[{\"marker\":{\"colorbar\":{\"outlinewidth\":0,\"ticks\":\"\"}},\"type\":\"scattergeo\"}],\"scattergl\":[{\"marker\":{\"colorbar\":{\"outlinewidth\":0,\"ticks\":\"\"}},\"type\":\"scattergl\"}],\"scattermapbox\":[{\"marker\":{\"colorbar\":{\"outlinewidth\":0,\"ticks\":\"\"}},\"type\":\"scattermapbox\"}],\"scatterpolargl\":[{\"marker\":{\"colorbar\":{\"outlinewidth\":0,\"ticks\":\"\"}},\"type\":\"scatterpolargl\"}],\"scatterpolar\":[{\"marker\":{\"colorbar\":{\"outlinewidth\":0,\"ticks\":\"\"}},\"type\":\"scatterpolar\"}],\"scatter\":[{\"fillpattern\":{\"fillmode\":\"overlay\",\"size\":10,\"solidity\":0.2},\"type\":\"scatter\"}],\"scatterternary\":[{\"marker\":{\"colorbar\":{\"outlinewidth\":0,\"ticks\":\"\"}},\"type\":\"scatterternary\"}],\"surface\":[{\"colorbar\":{\"outlinewidth\":0,\"ticks\":\"\"},\"colorscale\":[[0.0,\"#0d0887\"],[0.1111111111111111,\"#46039f\"],[0.2222222222222222,\"#7201a8\"],[0.3333333333333333,\"#9c179e\"],[0.4444444444444444,\"#bd3786\"],[0.5555555555555556,\"#d8576b\"],[0.6666666666666666,\"#ed7953\"],[0.7777777777777778,\"#fb9f3a\"],[0.8888888888888888,\"#fdca26\"],[1.0,\"#f0f921\"]],\"type\":\"surface\"}],\"table\":[{\"cells\":{\"fill\":{\"color\":\"#EBF0F8\"},\"line\":{\"color\":\"white\"}},\"header\":{\"fill\":{\"color\":\"#C8D4E3\"},\"line\":{\"color\":\"white\"}},\"type\":\"table\"}]},\"layout\":{\"annotationdefaults\":{\"arrowcolor\":\"#2a3f5f\",\"arrowhead\":0,\"arrowwidth\":1},\"autotypenumbers\":\"strict\",\"coloraxis\":{\"colorbar\":{\"outlinewidth\":0,\"ticks\":\"\"}},\"colorscale\":{\"diverging\":[[0,\"#8e0152\"],[0.1,\"#c51b7d\"],[0.2,\"#de77ae\"],[0.3,\"#f1b6da\"],[0.4,\"#fde0ef\"],[0.5,\"#f7f7f7\"],[0.6,\"#e6f5d0\"],[0.7,\"#b8e186\"],[0.8,\"#7fbc41\"],[0.9,\"#4d9221\"],[1,\"#276419\"]],\"sequential\":[[0.0,\"#0d0887\"],[0.1111111111111111,\"#46039f\"],[0.2222222222222222,\"#7201a8\"],[0.3333333333333333,\"#9c179e\"],[0.4444444444444444,\"#bd3786\"],[0.5555555555555556,\"#d8576b\"],[0.6666666666666666,\"#ed7953\"],[0.7777777777777778,\"#fb9f3a\"],[0.8888888888888888,\"#fdca26\"],[1.0,\"#f0f921\"]],\"sequentialminus\":[[0.0,\"#0d0887\"],[0.1111111111111111,\"#46039f\"],[0.2222222222222222,\"#7201a8\"],[0.3333333333333333,\"#9c179e\"],[0.4444444444444444,\"#bd3786\"],[0.5555555555555556,\"#d8576b\"],[0.6666666666666666,\"#ed7953\"],[0.7777777777777778,\"#fb9f3a\"],[0.8888888888888888,\"#fdca26\"],[1.0,\"#f0f921\"]]},\"colorway\":[\"#636efa\",\"#EF553B\",\"#00cc96\",\"#ab63fa\",\"#FFA15A\",\"#19d3f3\",\"#FF6692\",\"#B6E880\",\"#FF97FF\",\"#FECB52\"],\"font\":{\"color\":\"#2a3f5f\"},\"geo\":{\"bgcolor\":\"white\",\"lakecolor\":\"white\",\"landcolor\":\"#E5ECF6\",\"showlakes\":true,\"showland\":true,\"subunitcolor\":\"white\"},\"hoverlabel\":{\"align\":\"left\"},\"hovermode\":\"closest\",\"mapbox\":{\"style\":\"light\"},\"paper_bgcolor\":\"white\",\"plot_bgcolor\":\"#E5ECF6\",\"polar\":{\"angularaxis\":{\"gridcolor\":\"white\",\"linecolor\":\"white\",\"ticks\":\"\"},\"bgcolor\":\"#E5ECF6\",\"radialaxis\":{\"gridcolor\":\"white\",\"linecolor\":\"white\",\"ticks\":\"\"}},\"scene\":{\"xaxis\":{\"backgroundcolor\":\"#E5ECF6\",\"gridcolor\":\"white\",\"gridwidth\":2,\"linecolor\":\"white\",\"showbackground\":true,\"ticks\":\"\",\"zerolinecolor\":\"white\"},\"yaxis\":{\"backgroundcolor\":\"#E5ECF6\",\"gridcolor\":\"white\",\"gridwidth\":2,\"linecolor\":\"white\",\"showbackground\":true,\"ticks\":\"\",\"zerolinecolor\":\"white\"},\"zaxis\":{\"backgroundcolor\":\"#E5ECF6\",\"gridcolor\":\"white\",\"gridwidth\":2,\"linecolor\":\"white\",\"showbackground\":true,\"ticks\":\"\",\"zerolinecolor\":\"white\"}},\"shapedefaults\":{\"line\":{\"color\":\"#2a3f5f\"}},\"ternary\":{\"aaxis\":{\"gridcolor\":\"white\",\"linecolor\":\"white\",\"ticks\":\"\"},\"baxis\":{\"gridcolor\":\"white\",\"linecolor\":\"white\",\"ticks\":\"\"},\"bgcolor\":\"#E5ECF6\",\"caxis\":{\"gridcolor\":\"white\",\"linecolor\":\"white\",\"ticks\":\"\"}},\"title\":{\"x\":0.05},\"xaxis\":{\"automargin\":true,\"gridcolor\":\"white\",\"linecolor\":\"white\",\"ticks\":\"\",\"title\":{\"standoff\":15},\"zerolinecolor\":\"white\",\"zerolinewidth\":2},\"yaxis\":{\"automargin\":true,\"gridcolor\":\"white\",\"linecolor\":\"white\",\"ticks\":\"\",\"title\":{\"standoff\":15},\"zerolinecolor\":\"white\",\"zerolinewidth\":2}}},\"title\":{\"font\":{\"color\":\"#4D5663\"}},\"xaxis\":{\"gridcolor\":\"#E1E5ED\",\"showgrid\":true,\"tickfont\":{\"color\":\"#4D5663\"},\"title\":{\"font\":{\"color\":\"#4D5663\"},\"text\":\"\"},\"zerolinecolor\":\"#E1E5ED\"},\"yaxis\":{\"gridcolor\":\"#E1E5ED\",\"showgrid\":true,\"tickfont\":{\"color\":\"#4D5663\"},\"title\":{\"font\":{\"color\":\"#4D5663\"},\"text\":\"\"},\"zerolinecolor\":\"#E1E5ED\"}},                        {\"showLink\": true, \"linkText\": \"Export to plot.ly\", \"plotlyServerURL\": \"https://plot.ly\", \"responsive\": true}                    ).then(function(){\n",
       "                            \n",
       "var gd = document.getElementById('2689c37c-22c5-4862-a435-0b32434e06bf');\n",
       "var x = new MutationObserver(function (mutations, observer) {{\n",
       "        var display = window.getComputedStyle(gd).display;\n",
       "        if (!display || display === 'none') {{\n",
       "            console.log([gd, 'removed!']);\n",
       "            Plotly.purge(gd);\n",
       "            observer.disconnect();\n",
       "        }}\n",
       "}});\n",
       "\n",
       "// Listen for the removal of the full notebook cells\n",
       "var notebookContainer = gd.closest('#notebook-container');\n",
       "if (notebookContainer) {{\n",
       "    x.observe(notebookContainer, {childList: true});\n",
       "}}\n",
       "\n",
       "// Listen for the clearing of the current output cell\n",
       "var outputEl = gd.closest('.output');\n",
       "if (outputEl) {{\n",
       "    x.observe(outputEl, {childList: true});\n",
       "}}\n",
       "\n",
       "                        })                };                });            </script>        </div>"
      ]
     },
     "metadata": {},
     "output_type": "display_data"
    }
   ],
   "source": [
    "df.iplot(kind='bubble',x='A',y='B',size='C')"
   ]
  },
  {
   "cell_type": "markdown",
   "metadata": {},
   "source": [
    "## scatter_matrix()\n",
    "\n",
    "Similar to sns.pairplot()"
   ]
  },
  {
   "cell_type": "code",
   "execution_count": 19,
   "metadata": {},
   "outputs": [
    {
     "data": {
      "application/vnd.plotly.v1+json": {
       "config": {
        "linkText": "Export to plot.ly",
        "plotlyServerURL": "https://plot.ly",
        "showLink": true
       },
       "data": [
        {
         "histfunc": "count",
         "histnorm": "",
         "marker": {
          "color": "rgba(255, 153, 51, 1.0)",
          "line": {
           "color": "#4D5663",
           "width": 1.3
          }
         },
         "name": "A",
         "nbinsx": 10,
         "opacity": 0.8,
         "orientation": "v",
         "type": "histogram",
         "x": [
          -1.0414938449171551,
          -0.4354303557101797,
          0.34091500601799474,
          2.0746916097471155,
          -0.24747851502364648,
          0.6186335280195576,
          0.06458959483746213,
          0.19202582337651733,
          0.6461078850095495,
          -1.0390452041639444,
          0.6227323408901065,
          -0.1674391576392429,
          -0.1926042781471134,
          -0.04046327744673468,
          -2.031733686393499,
          -1.2521232482806384,
          -1.0611150328040704,
          -1.3005911023122887,
          2.73068526240894,
          -0.014905077491252519,
          -0.3365265182353228,
          1.5688337988015868,
          -0.3537229936367583,
          -0.7774145415496925,
          -0.5531468020354161,
          0.3732146468619525,
          0.47503628200836756,
          0.6675289888307547,
          0.6342468938845498,
          0.3782402737404014,
          1.8073693745270427,
          0.10079055157427515,
          0.44395509474085854,
          -1.5999810850342004,
          -0.9361645071581075,
          1.6427002545546334,
          -0.19965900866375763,
          -0.5739373863449075,
          -0.4867162121661351,
          -0.7494828396960236,
          -0.4680209101771845,
          -0.646200346510384,
          -1.4499063061319621,
          -0.6729265648978373,
          -0.25920990095800994,
          -0.24524031082590997,
          0.9424992940939884,
          0.09746308886052545,
          -0.05670856183167005,
          -0.3700987414342005,
          -1.5330827425094273,
          -1.513493870789549,
          1.0020688989440132,
          -0.14477971981749638,
          -0.06713316999739569,
          0.36165647674204604,
          0.7879463209144801,
          1.2050186982820554,
          0.6388184550724472,
          0.6740116687479178,
          -0.7147605818973362,
          0.18841425752213384,
          0.47735099292647765,
          -0.035006175364803556,
          -1.0344884992735575,
          0.15948944361386735,
          -0.19589283962336,
          -0.6852943018916997,
          -0.5880941757709064,
          0.17035562449446132,
          0.5913902058621666,
          -0.9199122157675864,
          0.9573935392643146,
          -0.22375424741831904,
          0.43946538468921637,
          -0.3131973114136663,
          0.899443150063009,
          -0.8264953253132122,
          -0.16538637364699124,
          -0.13517908001439397,
          0.8091401271172439,
          -1.30904640296218,
          -0.45422206139924226,
          0.4907240937863005,
          1.424194979291537,
          1.1295658613318202,
          -1.1343449569566135,
          1.7497515669552424,
          -0.15609510980782706,
          -0.9701048648149126,
          -1.2922061453965263,
          2.015183999384643,
          1.0651251975905274,
          0.37795898160154373,
          -0.858135175494791,
          -1.8924836165721872,
          -0.7191375774094184,
          -0.5522674191284617,
          -0.913005426693775,
          1.6573844242452849
         ],
         "xaxis": "x",
         "yaxis": "y"
        },
        {
         "line": {
          "color": "rgba(128, 128, 128, 1.0)",
          "dash": "solid",
          "shape": "linear",
          "width": 1.3
         },
         "marker": {
          "size": 2,
          "symbol": "circle"
         },
         "mode": "markers",
         "name": "A",
         "text": "",
         "type": "scatter",
         "x": [
          0.32996827386755656,
          1.218981953879945,
          -1.633714055298131,
          -0.6680046279061812,
          -0.6445098144275172,
          -1.4982567785730112,
          0.3789401874474387,
          -0.8354867132076352,
          -0.49649095723019165,
          0.9476618567929485,
          -0.29885328226115,
          -0.729847228699825,
          -0.2983012825271507,
          -1.5274385530114047,
          0.3163460257637768,
          0.9882599819686255,
          -1.8372850712119513,
          0.07213041078206192,
          -0.8505942819760838,
          -0.2593730549559899,
          -0.20097115604456608,
          0.08776815285268036,
          0.8990529880959327,
          -1.2300154009386157,
          -0.4646616485397626,
          2.008716385462978,
          1.3815353909949974,
          -0.4680705695693689,
          0.9951906400439332,
          -0.12774732777664352,
          -0.17209346094795594,
          0.42384697762520135,
          0.0881677466704928,
          -1.2137123261984333,
          -0.29210386848008296,
          -0.42918331158735196,
          0.5291358204103447,
          -0.3611920569394752,
          -0.4411126619848192,
          0.3564598562677138,
          -0.12583032060194752,
          -0.8136096980573316,
          -0.17480939014138125,
          0.6778331503575926,
          -1.8800938127463223,
          -0.20868994954541098,
          -1.0943898202087554,
          0.8226631614354307,
          -1.194260664483298,
          0.9773449695985037,
          -1.1496991655267428,
          -0.4387572002224895,
          0.7113296978977882,
          0.6136809231209187,
          0.5921491861167535,
          0.1571828181134136,
          0.14634596816652118,
          1.2738759482054949,
          0.6972173278890168,
          -0.987761104038325,
          -0.1670094503849138,
          0.3250201326918829,
          0.48994010297726887,
          1.4044309262428363,
          0.11312278441985077,
          -0.10669962027891286,
          -1.1168477862086412,
          -0.17675332603717261,
          0.03208977659009037,
          -1.6516672521154045,
          1.1328237831004917,
          -0.2851532459057253,
          1.149522847797316,
          0.4923262442913057,
          0.5794022959078174,
          -0.4871163476749682,
          -0.3483589684714914,
          -0.7185104093064334,
          0.6923830430179017,
          -0.9884401103254018,
          -1.4605573010519564,
          -0.9574630312394341,
          0.16346484134391212,
          0.10498467403726597,
          0.20016905200097182,
          -0.2795659106824173,
          -0.6401046918070968,
          1.1582797184904188,
          -1.2380619543518485,
          -2.028760970003082,
          -0.15868350420267063,
          1.8185289573542853,
          0.2526564960445763,
          0.3706396483181391,
          -0.2691068747137809,
          0.423560909260566,
          0.9555620773895517,
          0.244811084935598,
          0.13634805361852287,
          -0.24890511762323125
         ],
         "xaxis": "x2",
         "y": [
          -1.0414938449171551,
          -0.4354303557101797,
          0.34091500601799474,
          2.0746916097471155,
          -0.24747851502364648,
          0.6186335280195576,
          0.06458959483746213,
          0.19202582337651733,
          0.6461078850095495,
          -1.0390452041639444,
          0.6227323408901065,
          -0.1674391576392429,
          -0.1926042781471134,
          -0.04046327744673468,
          -2.031733686393499,
          -1.2521232482806384,
          -1.0611150328040704,
          -1.3005911023122887,
          2.73068526240894,
          -0.014905077491252519,
          -0.3365265182353228,
          1.5688337988015868,
          -0.3537229936367583,
          -0.7774145415496925,
          -0.5531468020354161,
          0.3732146468619525,
          0.47503628200836756,
          0.6675289888307547,
          0.6342468938845498,
          0.3782402737404014,
          1.8073693745270427,
          0.10079055157427515,
          0.44395509474085854,
          -1.5999810850342004,
          -0.9361645071581075,
          1.6427002545546334,
          -0.19965900866375763,
          -0.5739373863449075,
          -0.4867162121661351,
          -0.7494828396960236,
          -0.4680209101771845,
          -0.646200346510384,
          -1.4499063061319621,
          -0.6729265648978373,
          -0.25920990095800994,
          -0.24524031082590997,
          0.9424992940939884,
          0.09746308886052545,
          -0.05670856183167005,
          -0.3700987414342005,
          -1.5330827425094273,
          -1.513493870789549,
          1.0020688989440132,
          -0.14477971981749638,
          -0.06713316999739569,
          0.36165647674204604,
          0.7879463209144801,
          1.2050186982820554,
          0.6388184550724472,
          0.6740116687479178,
          -0.7147605818973362,
          0.18841425752213384,
          0.47735099292647765,
          -0.035006175364803556,
          -1.0344884992735575,
          0.15948944361386735,
          -0.19589283962336,
          -0.6852943018916997,
          -0.5880941757709064,
          0.17035562449446132,
          0.5913902058621666,
          -0.9199122157675864,
          0.9573935392643146,
          -0.22375424741831904,
          0.43946538468921637,
          -0.3131973114136663,
          0.899443150063009,
          -0.8264953253132122,
          -0.16538637364699124,
          -0.13517908001439397,
          0.8091401271172439,
          -1.30904640296218,
          -0.45422206139924226,
          0.4907240937863005,
          1.424194979291537,
          1.1295658613318202,
          -1.1343449569566135,
          1.7497515669552424,
          -0.15609510980782706,
          -0.9701048648149126,
          -1.2922061453965263,
          2.015183999384643,
          1.0651251975905274,
          0.37795898160154373,
          -0.858135175494791,
          -1.8924836165721872,
          -0.7191375774094184,
          -0.5522674191284617,
          -0.913005426693775,
          1.6573844242452849
         ],
         "yaxis": "y2"
        },
        {
         "line": {
          "color": "rgba(128, 128, 128, 1.0)",
          "dash": "solid",
          "shape": "linear",
          "width": 1.3
         },
         "marker": {
          "size": 2,
          "symbol": "circle"
         },
         "mode": "markers",
         "name": "A",
         "text": "",
         "type": "scatter",
         "x": [
          -2.016560176964694,
          -0.5526426859704904,
          -0.5314657366816735,
          -0.05220912495037559,
          0.2963821510620666,
          -0.12581807930779365,
          -0.7025733385917851,
          1.0166183844128256,
          -0.5743783298540112,
          0.571675859788498,
          -0.855400702568051,
          -1.0093103002061985,
          0.4880023935694279,
          -0.6662923678904729,
          -1.484305208787236,
          1.873891975641196,
          0.33409260032685745,
          1.223492923576503,
          -0.698084269345124,
          -1.3504226078848276,
          -0.04655912111645202,
          -0.5452606400184166,
          -1.2273335579424465,
          -0.3685221913479382,
          -1.8066092085692813,
          -1.246575967428496,
          -1.0665769105877325,
          -1.4742368894788254,
          1.988525714866486,
          -1.5732392416632852,
          -0.19356880583840239,
          -1.8762002984653667,
          0.2241505560086995,
          0.8292654196643479,
          -0.31633390026068603,
          -0.3004031719349392,
          -0.6489568795320175,
          0.7620906664059216,
          -0.4040303297715138,
          0.7002723466172931,
          -0.6635562402960373,
          1.6153326294897106,
          0.5087662396569937,
          0.4688965450716319,
          0.4417390351322205,
          0.4112103689214712,
          0.5909559790838734,
          -0.02770784650278129,
          -0.8843012438870057,
          2.0004776315686303,
          0.4578950236028908,
          0.33581431946108486,
          -0.6665767232623846,
          0.5843049464286401,
          -0.5720501668209064,
          0.9943887494649332,
          0.2613130779229752,
          0.6837227899983538,
          -1.0277368772421491,
          -0.09621664584859509,
          -0.2741123341430858,
          0.2727942529971171,
          -0.04460788079917133,
          -0.4817291981993936,
          -0.5475916152967425,
          -1.2113403334904689,
          0.03968942136801883,
          0.406174203603089,
          0.10174314212853848,
          0.7180342617932176,
          -1.1735477603549929,
          1.409398778890136,
          0.11143314325307396,
          2.2775304549294044,
          0.33763620551172435,
          -2.1328961526473744,
          -0.5059643668915403,
          0.6353316268941461,
          1.3745990694639407,
          -1.2685048536967578,
          0.5860841671488486,
          -1.389553921993753,
          0.4009385655743347,
          -2.1087942807016087,
          0.20307148393124852,
          0.15184776819603465,
          -1.3254671707150083,
          -0.25067498006715777,
          0.7359377414617873,
          -0.20999748777386482,
          -1.644749751394019,
          2.294618090424474,
          1.045365904722829,
          1.621265753683623,
          0.17603549048815503,
          1.3694728788521373,
          1.2673870642229166,
          -1.3497020606664138,
          -1.3435668342796376,
          -1.3901240434280906
         ],
         "xaxis": "x3",
         "y": [
          -1.0414938449171551,
          -0.4354303557101797,
          0.34091500601799474,
          2.0746916097471155,
          -0.24747851502364648,
          0.6186335280195576,
          0.06458959483746213,
          0.19202582337651733,
          0.6461078850095495,
          -1.0390452041639444,
          0.6227323408901065,
          -0.1674391576392429,
          -0.1926042781471134,
          -0.04046327744673468,
          -2.031733686393499,
          -1.2521232482806384,
          -1.0611150328040704,
          -1.3005911023122887,
          2.73068526240894,
          -0.014905077491252519,
          -0.3365265182353228,
          1.5688337988015868,
          -0.3537229936367583,
          -0.7774145415496925,
          -0.5531468020354161,
          0.3732146468619525,
          0.47503628200836756,
          0.6675289888307547,
          0.6342468938845498,
          0.3782402737404014,
          1.8073693745270427,
          0.10079055157427515,
          0.44395509474085854,
          -1.5999810850342004,
          -0.9361645071581075,
          1.6427002545546334,
          -0.19965900866375763,
          -0.5739373863449075,
          -0.4867162121661351,
          -0.7494828396960236,
          -0.4680209101771845,
          -0.646200346510384,
          -1.4499063061319621,
          -0.6729265648978373,
          -0.25920990095800994,
          -0.24524031082590997,
          0.9424992940939884,
          0.09746308886052545,
          -0.05670856183167005,
          -0.3700987414342005,
          -1.5330827425094273,
          -1.513493870789549,
          1.0020688989440132,
          -0.14477971981749638,
          -0.06713316999739569,
          0.36165647674204604,
          0.7879463209144801,
          1.2050186982820554,
          0.6388184550724472,
          0.6740116687479178,
          -0.7147605818973362,
          0.18841425752213384,
          0.47735099292647765,
          -0.035006175364803556,
          -1.0344884992735575,
          0.15948944361386735,
          -0.19589283962336,
          -0.6852943018916997,
          -0.5880941757709064,
          0.17035562449446132,
          0.5913902058621666,
          -0.9199122157675864,
          0.9573935392643146,
          -0.22375424741831904,
          0.43946538468921637,
          -0.3131973114136663,
          0.899443150063009,
          -0.8264953253132122,
          -0.16538637364699124,
          -0.13517908001439397,
          0.8091401271172439,
          -1.30904640296218,
          -0.45422206139924226,
          0.4907240937863005,
          1.424194979291537,
          1.1295658613318202,
          -1.1343449569566135,
          1.7497515669552424,
          -0.15609510980782706,
          -0.9701048648149126,
          -1.2922061453965263,
          2.015183999384643,
          1.0651251975905274,
          0.37795898160154373,
          -0.858135175494791,
          -1.8924836165721872,
          -0.7191375774094184,
          -0.5522674191284617,
          -0.913005426693775,
          1.6573844242452849
         ],
         "yaxis": "y3"
        },
        {
         "line": {
          "color": "rgba(128, 128, 128, 1.0)",
          "dash": "solid",
          "shape": "linear",
          "width": 1.3
         },
         "marker": {
          "size": 2,
          "symbol": "circle"
         },
         "mode": "markers",
         "name": "A",
         "text": "",
         "type": "scatter",
         "x": [
          -0.48533585732076095,
          0.7996713741735981,
          0.6325273961804192,
          -0.5689560976695613,
          -1.2985548742795316,
          -2.2428272396069846,
          -1.5741576745405266,
          -0.39144102464643743,
          1.305658159123247,
          0.17837058518597354,
          -1.0877485928325967,
          -0.24902930111248073,
          -1.0097249836194204,
          -0.45194362596755944,
          -0.5727333096841546,
          0.047001001379377676,
          0.4506044498665508,
          1.6274663645011933,
          1.3984009077149095,
          0.2816498966760533,
          0.5441246715588851,
          -0.36105486565800077,
          -0.9680977111890429,
          -0.7708478770617477,
          0.7332062687189292,
          0.9972933023124365,
          0.34639261806853194,
          0.12935640088563605,
          -1.2456202672713668,
          -1.3332423821962383,
          -0.7996211461957595,
          -0.01074289340680255,
          0.077659750320619,
          0.2872510862499166,
          -0.5542854401860736,
          -0.8853501685802612,
          0.6898295874639477,
          0.35358317545308665,
          1.0987515108222736,
          -0.20036445976839387,
          1.1317168226847034,
          1.244145542615334,
          0.07624024531146381,
          -0.33008113474801715,
          0.23569495510145902,
          -1.2102230389000639,
          -1.0343537629596997,
          -0.7298355520182594,
          0.377827915598249,
          -1.2201611717084766,
          1.2033907315316315,
          -0.15732328897096295,
          -0.6711736981842389,
          -0.9411838392514316,
          -1.11750369661523,
          0.17255551449158266,
          -0.505804962509711,
          0.9371641703890039,
          0.6834463005151751,
          1.0547974031845184,
          -0.3339849796162532,
          -1.1527015629247779,
          1.7720578526909554,
          -0.4429735157380313,
          -0.8794450819310182,
          -0.5013173772023398,
          1.696281221312842,
          -0.1763374234695934,
          -0.6281807833334955,
          1.0847110417315151,
          -0.6388600686243346,
          -1.1121566057854972,
          -0.7468158718409179,
          0.721039962837402,
          -0.8965673414266935,
          0.7421930181724087,
          0.44187766482301494,
          1.4941507653768757,
          -0.07592439400346289,
          0.13044291172087732,
          -1.0222254887377913,
          -1.7739206541014654,
          -1.077351627835513,
          0.027363541160738185,
          -0.9748617967961105,
          2.518439989093622,
          -0.46205089679206945,
          2.3078053387388513,
          0.4257513394176721,
          0.49548491085486007,
          -0.4726521056558049,
          -0.890533468595739,
          -1.5441034294130145,
          -0.5871478452809765,
          3.3245473574055877,
          0.4248552040988651,
          0.757606892518138,
          2.1204035812719324,
          -1.5714245397250282,
          -0.5832059216386883
         ],
         "xaxis": "x4",
         "y": [
          -1.0414938449171551,
          -0.4354303557101797,
          0.34091500601799474,
          2.0746916097471155,
          -0.24747851502364648,
          0.6186335280195576,
          0.06458959483746213,
          0.19202582337651733,
          0.6461078850095495,
          -1.0390452041639444,
          0.6227323408901065,
          -0.1674391576392429,
          -0.1926042781471134,
          -0.04046327744673468,
          -2.031733686393499,
          -1.2521232482806384,
          -1.0611150328040704,
          -1.3005911023122887,
          2.73068526240894,
          -0.014905077491252519,
          -0.3365265182353228,
          1.5688337988015868,
          -0.3537229936367583,
          -0.7774145415496925,
          -0.5531468020354161,
          0.3732146468619525,
          0.47503628200836756,
          0.6675289888307547,
          0.6342468938845498,
          0.3782402737404014,
          1.8073693745270427,
          0.10079055157427515,
          0.44395509474085854,
          -1.5999810850342004,
          -0.9361645071581075,
          1.6427002545546334,
          -0.19965900866375763,
          -0.5739373863449075,
          -0.4867162121661351,
          -0.7494828396960236,
          -0.4680209101771845,
          -0.646200346510384,
          -1.4499063061319621,
          -0.6729265648978373,
          -0.25920990095800994,
          -0.24524031082590997,
          0.9424992940939884,
          0.09746308886052545,
          -0.05670856183167005,
          -0.3700987414342005,
          -1.5330827425094273,
          -1.513493870789549,
          1.0020688989440132,
          -0.14477971981749638,
          -0.06713316999739569,
          0.36165647674204604,
          0.7879463209144801,
          1.2050186982820554,
          0.6388184550724472,
          0.6740116687479178,
          -0.7147605818973362,
          0.18841425752213384,
          0.47735099292647765,
          -0.035006175364803556,
          -1.0344884992735575,
          0.15948944361386735,
          -0.19589283962336,
          -0.6852943018916997,
          -0.5880941757709064,
          0.17035562449446132,
          0.5913902058621666,
          -0.9199122157675864,
          0.9573935392643146,
          -0.22375424741831904,
          0.43946538468921637,
          -0.3131973114136663,
          0.899443150063009,
          -0.8264953253132122,
          -0.16538637364699124,
          -0.13517908001439397,
          0.8091401271172439,
          -1.30904640296218,
          -0.45422206139924226,
          0.4907240937863005,
          1.424194979291537,
          1.1295658613318202,
          -1.1343449569566135,
          1.7497515669552424,
          -0.15609510980782706,
          -0.9701048648149126,
          -1.2922061453965263,
          2.015183999384643,
          1.0651251975905274,
          0.37795898160154373,
          -0.858135175494791,
          -1.8924836165721872,
          -0.7191375774094184,
          -0.5522674191284617,
          -0.913005426693775,
          1.6573844242452849
         ],
         "yaxis": "y4"
        },
        {
         "line": {
          "color": "rgba(128, 128, 128, 1.0)",
          "dash": "solid",
          "shape": "linear",
          "width": 1.3
         },
         "marker": {
          "size": 2,
          "symbol": "circle"
         },
         "mode": "markers",
         "name": "B",
         "text": "",
         "type": "scatter",
         "x": [
          -1.0414938449171551,
          -0.4354303557101797,
          0.34091500601799474,
          2.0746916097471155,
          -0.24747851502364648,
          0.6186335280195576,
          0.06458959483746213,
          0.19202582337651733,
          0.6461078850095495,
          -1.0390452041639444,
          0.6227323408901065,
          -0.1674391576392429,
          -0.1926042781471134,
          -0.04046327744673468,
          -2.031733686393499,
          -1.2521232482806384,
          -1.0611150328040704,
          -1.3005911023122887,
          2.73068526240894,
          -0.014905077491252519,
          -0.3365265182353228,
          1.5688337988015868,
          -0.3537229936367583,
          -0.7774145415496925,
          -0.5531468020354161,
          0.3732146468619525,
          0.47503628200836756,
          0.6675289888307547,
          0.6342468938845498,
          0.3782402737404014,
          1.8073693745270427,
          0.10079055157427515,
          0.44395509474085854,
          -1.5999810850342004,
          -0.9361645071581075,
          1.6427002545546334,
          -0.19965900866375763,
          -0.5739373863449075,
          -0.4867162121661351,
          -0.7494828396960236,
          -0.4680209101771845,
          -0.646200346510384,
          -1.4499063061319621,
          -0.6729265648978373,
          -0.25920990095800994,
          -0.24524031082590997,
          0.9424992940939884,
          0.09746308886052545,
          -0.05670856183167005,
          -0.3700987414342005,
          -1.5330827425094273,
          -1.513493870789549,
          1.0020688989440132,
          -0.14477971981749638,
          -0.06713316999739569,
          0.36165647674204604,
          0.7879463209144801,
          1.2050186982820554,
          0.6388184550724472,
          0.6740116687479178,
          -0.7147605818973362,
          0.18841425752213384,
          0.47735099292647765,
          -0.035006175364803556,
          -1.0344884992735575,
          0.15948944361386735,
          -0.19589283962336,
          -0.6852943018916997,
          -0.5880941757709064,
          0.17035562449446132,
          0.5913902058621666,
          -0.9199122157675864,
          0.9573935392643146,
          -0.22375424741831904,
          0.43946538468921637,
          -0.3131973114136663,
          0.899443150063009,
          -0.8264953253132122,
          -0.16538637364699124,
          -0.13517908001439397,
          0.8091401271172439,
          -1.30904640296218,
          -0.45422206139924226,
          0.4907240937863005,
          1.424194979291537,
          1.1295658613318202,
          -1.1343449569566135,
          1.7497515669552424,
          -0.15609510980782706,
          -0.9701048648149126,
          -1.2922061453965263,
          2.015183999384643,
          1.0651251975905274,
          0.37795898160154373,
          -0.858135175494791,
          -1.8924836165721872,
          -0.7191375774094184,
          -0.5522674191284617,
          -0.913005426693775,
          1.6573844242452849
         ],
         "xaxis": "x5",
         "y": [
          0.32996827386755656,
          1.218981953879945,
          -1.633714055298131,
          -0.6680046279061812,
          -0.6445098144275172,
          -1.4982567785730112,
          0.3789401874474387,
          -0.8354867132076352,
          -0.49649095723019165,
          0.9476618567929485,
          -0.29885328226115,
          -0.729847228699825,
          -0.2983012825271507,
          -1.5274385530114047,
          0.3163460257637768,
          0.9882599819686255,
          -1.8372850712119513,
          0.07213041078206192,
          -0.8505942819760838,
          -0.2593730549559899,
          -0.20097115604456608,
          0.08776815285268036,
          0.8990529880959327,
          -1.2300154009386157,
          -0.4646616485397626,
          2.008716385462978,
          1.3815353909949974,
          -0.4680705695693689,
          0.9951906400439332,
          -0.12774732777664352,
          -0.17209346094795594,
          0.42384697762520135,
          0.0881677466704928,
          -1.2137123261984333,
          -0.29210386848008296,
          -0.42918331158735196,
          0.5291358204103447,
          -0.3611920569394752,
          -0.4411126619848192,
          0.3564598562677138,
          -0.12583032060194752,
          -0.8136096980573316,
          -0.17480939014138125,
          0.6778331503575926,
          -1.8800938127463223,
          -0.20868994954541098,
          -1.0943898202087554,
          0.8226631614354307,
          -1.194260664483298,
          0.9773449695985037,
          -1.1496991655267428,
          -0.4387572002224895,
          0.7113296978977882,
          0.6136809231209187,
          0.5921491861167535,
          0.1571828181134136,
          0.14634596816652118,
          1.2738759482054949,
          0.6972173278890168,
          -0.987761104038325,
          -0.1670094503849138,
          0.3250201326918829,
          0.48994010297726887,
          1.4044309262428363,
          0.11312278441985077,
          -0.10669962027891286,
          -1.1168477862086412,
          -0.17675332603717261,
          0.03208977659009037,
          -1.6516672521154045,
          1.1328237831004917,
          -0.2851532459057253,
          1.149522847797316,
          0.4923262442913057,
          0.5794022959078174,
          -0.4871163476749682,
          -0.3483589684714914,
          -0.7185104093064334,
          0.6923830430179017,
          -0.9884401103254018,
          -1.4605573010519564,
          -0.9574630312394341,
          0.16346484134391212,
          0.10498467403726597,
          0.20016905200097182,
          -0.2795659106824173,
          -0.6401046918070968,
          1.1582797184904188,
          -1.2380619543518485,
          -2.028760970003082,
          -0.15868350420267063,
          1.8185289573542853,
          0.2526564960445763,
          0.3706396483181391,
          -0.2691068747137809,
          0.423560909260566,
          0.9555620773895517,
          0.244811084935598,
          0.13634805361852287,
          -0.24890511762323125
         ],
         "yaxis": "y5"
        },
        {
         "histfunc": "count",
         "histnorm": "",
         "marker": {
          "color": "rgba(55, 128, 191, 1.0)",
          "line": {
           "color": "#4D5663",
           "width": 1.3
          }
         },
         "name": "B",
         "nbinsx": 10,
         "opacity": 0.8,
         "orientation": "v",
         "type": "histogram",
         "x": [
          0.32996827386755656,
          1.218981953879945,
          -1.633714055298131,
          -0.6680046279061812,
          -0.6445098144275172,
          -1.4982567785730112,
          0.3789401874474387,
          -0.8354867132076352,
          -0.49649095723019165,
          0.9476618567929485,
          -0.29885328226115,
          -0.729847228699825,
          -0.2983012825271507,
          -1.5274385530114047,
          0.3163460257637768,
          0.9882599819686255,
          -1.8372850712119513,
          0.07213041078206192,
          -0.8505942819760838,
          -0.2593730549559899,
          -0.20097115604456608,
          0.08776815285268036,
          0.8990529880959327,
          -1.2300154009386157,
          -0.4646616485397626,
          2.008716385462978,
          1.3815353909949974,
          -0.4680705695693689,
          0.9951906400439332,
          -0.12774732777664352,
          -0.17209346094795594,
          0.42384697762520135,
          0.0881677466704928,
          -1.2137123261984333,
          -0.29210386848008296,
          -0.42918331158735196,
          0.5291358204103447,
          -0.3611920569394752,
          -0.4411126619848192,
          0.3564598562677138,
          -0.12583032060194752,
          -0.8136096980573316,
          -0.17480939014138125,
          0.6778331503575926,
          -1.8800938127463223,
          -0.20868994954541098,
          -1.0943898202087554,
          0.8226631614354307,
          -1.194260664483298,
          0.9773449695985037,
          -1.1496991655267428,
          -0.4387572002224895,
          0.7113296978977882,
          0.6136809231209187,
          0.5921491861167535,
          0.1571828181134136,
          0.14634596816652118,
          1.2738759482054949,
          0.6972173278890168,
          -0.987761104038325,
          -0.1670094503849138,
          0.3250201326918829,
          0.48994010297726887,
          1.4044309262428363,
          0.11312278441985077,
          -0.10669962027891286,
          -1.1168477862086412,
          -0.17675332603717261,
          0.03208977659009037,
          -1.6516672521154045,
          1.1328237831004917,
          -0.2851532459057253,
          1.149522847797316,
          0.4923262442913057,
          0.5794022959078174,
          -0.4871163476749682,
          -0.3483589684714914,
          -0.7185104093064334,
          0.6923830430179017,
          -0.9884401103254018,
          -1.4605573010519564,
          -0.9574630312394341,
          0.16346484134391212,
          0.10498467403726597,
          0.20016905200097182,
          -0.2795659106824173,
          -0.6401046918070968,
          1.1582797184904188,
          -1.2380619543518485,
          -2.028760970003082,
          -0.15868350420267063,
          1.8185289573542853,
          0.2526564960445763,
          0.3706396483181391,
          -0.2691068747137809,
          0.423560909260566,
          0.9555620773895517,
          0.244811084935598,
          0.13634805361852287,
          -0.24890511762323125
         ],
         "xaxis": "x6",
         "yaxis": "y6"
        },
        {
         "line": {
          "color": "rgba(128, 128, 128, 1.0)",
          "dash": "solid",
          "shape": "linear",
          "width": 1.3
         },
         "marker": {
          "size": 2,
          "symbol": "circle"
         },
         "mode": "markers",
         "name": "B",
         "text": "",
         "type": "scatter",
         "x": [
          -2.016560176964694,
          -0.5526426859704904,
          -0.5314657366816735,
          -0.05220912495037559,
          0.2963821510620666,
          -0.12581807930779365,
          -0.7025733385917851,
          1.0166183844128256,
          -0.5743783298540112,
          0.571675859788498,
          -0.855400702568051,
          -1.0093103002061985,
          0.4880023935694279,
          -0.6662923678904729,
          -1.484305208787236,
          1.873891975641196,
          0.33409260032685745,
          1.223492923576503,
          -0.698084269345124,
          -1.3504226078848276,
          -0.04655912111645202,
          -0.5452606400184166,
          -1.2273335579424465,
          -0.3685221913479382,
          -1.8066092085692813,
          -1.246575967428496,
          -1.0665769105877325,
          -1.4742368894788254,
          1.988525714866486,
          -1.5732392416632852,
          -0.19356880583840239,
          -1.8762002984653667,
          0.2241505560086995,
          0.8292654196643479,
          -0.31633390026068603,
          -0.3004031719349392,
          -0.6489568795320175,
          0.7620906664059216,
          -0.4040303297715138,
          0.7002723466172931,
          -0.6635562402960373,
          1.6153326294897106,
          0.5087662396569937,
          0.4688965450716319,
          0.4417390351322205,
          0.4112103689214712,
          0.5909559790838734,
          -0.02770784650278129,
          -0.8843012438870057,
          2.0004776315686303,
          0.4578950236028908,
          0.33581431946108486,
          -0.6665767232623846,
          0.5843049464286401,
          -0.5720501668209064,
          0.9943887494649332,
          0.2613130779229752,
          0.6837227899983538,
          -1.0277368772421491,
          -0.09621664584859509,
          -0.2741123341430858,
          0.2727942529971171,
          -0.04460788079917133,
          -0.4817291981993936,
          -0.5475916152967425,
          -1.2113403334904689,
          0.03968942136801883,
          0.406174203603089,
          0.10174314212853848,
          0.7180342617932176,
          -1.1735477603549929,
          1.409398778890136,
          0.11143314325307396,
          2.2775304549294044,
          0.33763620551172435,
          -2.1328961526473744,
          -0.5059643668915403,
          0.6353316268941461,
          1.3745990694639407,
          -1.2685048536967578,
          0.5860841671488486,
          -1.389553921993753,
          0.4009385655743347,
          -2.1087942807016087,
          0.20307148393124852,
          0.15184776819603465,
          -1.3254671707150083,
          -0.25067498006715777,
          0.7359377414617873,
          -0.20999748777386482,
          -1.644749751394019,
          2.294618090424474,
          1.045365904722829,
          1.621265753683623,
          0.17603549048815503,
          1.3694728788521373,
          1.2673870642229166,
          -1.3497020606664138,
          -1.3435668342796376,
          -1.3901240434280906
         ],
         "xaxis": "x7",
         "y": [
          0.32996827386755656,
          1.218981953879945,
          -1.633714055298131,
          -0.6680046279061812,
          -0.6445098144275172,
          -1.4982567785730112,
          0.3789401874474387,
          -0.8354867132076352,
          -0.49649095723019165,
          0.9476618567929485,
          -0.29885328226115,
          -0.729847228699825,
          -0.2983012825271507,
          -1.5274385530114047,
          0.3163460257637768,
          0.9882599819686255,
          -1.8372850712119513,
          0.07213041078206192,
          -0.8505942819760838,
          -0.2593730549559899,
          -0.20097115604456608,
          0.08776815285268036,
          0.8990529880959327,
          -1.2300154009386157,
          -0.4646616485397626,
          2.008716385462978,
          1.3815353909949974,
          -0.4680705695693689,
          0.9951906400439332,
          -0.12774732777664352,
          -0.17209346094795594,
          0.42384697762520135,
          0.0881677466704928,
          -1.2137123261984333,
          -0.29210386848008296,
          -0.42918331158735196,
          0.5291358204103447,
          -0.3611920569394752,
          -0.4411126619848192,
          0.3564598562677138,
          -0.12583032060194752,
          -0.8136096980573316,
          -0.17480939014138125,
          0.6778331503575926,
          -1.8800938127463223,
          -0.20868994954541098,
          -1.0943898202087554,
          0.8226631614354307,
          -1.194260664483298,
          0.9773449695985037,
          -1.1496991655267428,
          -0.4387572002224895,
          0.7113296978977882,
          0.6136809231209187,
          0.5921491861167535,
          0.1571828181134136,
          0.14634596816652118,
          1.2738759482054949,
          0.6972173278890168,
          -0.987761104038325,
          -0.1670094503849138,
          0.3250201326918829,
          0.48994010297726887,
          1.4044309262428363,
          0.11312278441985077,
          -0.10669962027891286,
          -1.1168477862086412,
          -0.17675332603717261,
          0.03208977659009037,
          -1.6516672521154045,
          1.1328237831004917,
          -0.2851532459057253,
          1.149522847797316,
          0.4923262442913057,
          0.5794022959078174,
          -0.4871163476749682,
          -0.3483589684714914,
          -0.7185104093064334,
          0.6923830430179017,
          -0.9884401103254018,
          -1.4605573010519564,
          -0.9574630312394341,
          0.16346484134391212,
          0.10498467403726597,
          0.20016905200097182,
          -0.2795659106824173,
          -0.6401046918070968,
          1.1582797184904188,
          -1.2380619543518485,
          -2.028760970003082,
          -0.15868350420267063,
          1.8185289573542853,
          0.2526564960445763,
          0.3706396483181391,
          -0.2691068747137809,
          0.423560909260566,
          0.9555620773895517,
          0.244811084935598,
          0.13634805361852287,
          -0.24890511762323125
         ],
         "yaxis": "y7"
        },
        {
         "line": {
          "color": "rgba(128, 128, 128, 1.0)",
          "dash": "solid",
          "shape": "linear",
          "width": 1.3
         },
         "marker": {
          "size": 2,
          "symbol": "circle"
         },
         "mode": "markers",
         "name": "B",
         "text": "",
         "type": "scatter",
         "x": [
          -0.48533585732076095,
          0.7996713741735981,
          0.6325273961804192,
          -0.5689560976695613,
          -1.2985548742795316,
          -2.2428272396069846,
          -1.5741576745405266,
          -0.39144102464643743,
          1.305658159123247,
          0.17837058518597354,
          -1.0877485928325967,
          -0.24902930111248073,
          -1.0097249836194204,
          -0.45194362596755944,
          -0.5727333096841546,
          0.047001001379377676,
          0.4506044498665508,
          1.6274663645011933,
          1.3984009077149095,
          0.2816498966760533,
          0.5441246715588851,
          -0.36105486565800077,
          -0.9680977111890429,
          -0.7708478770617477,
          0.7332062687189292,
          0.9972933023124365,
          0.34639261806853194,
          0.12935640088563605,
          -1.2456202672713668,
          -1.3332423821962383,
          -0.7996211461957595,
          -0.01074289340680255,
          0.077659750320619,
          0.2872510862499166,
          -0.5542854401860736,
          -0.8853501685802612,
          0.6898295874639477,
          0.35358317545308665,
          1.0987515108222736,
          -0.20036445976839387,
          1.1317168226847034,
          1.244145542615334,
          0.07624024531146381,
          -0.33008113474801715,
          0.23569495510145902,
          -1.2102230389000639,
          -1.0343537629596997,
          -0.7298355520182594,
          0.377827915598249,
          -1.2201611717084766,
          1.2033907315316315,
          -0.15732328897096295,
          -0.6711736981842389,
          -0.9411838392514316,
          -1.11750369661523,
          0.17255551449158266,
          -0.505804962509711,
          0.9371641703890039,
          0.6834463005151751,
          1.0547974031845184,
          -0.3339849796162532,
          -1.1527015629247779,
          1.7720578526909554,
          -0.4429735157380313,
          -0.8794450819310182,
          -0.5013173772023398,
          1.696281221312842,
          -0.1763374234695934,
          -0.6281807833334955,
          1.0847110417315151,
          -0.6388600686243346,
          -1.1121566057854972,
          -0.7468158718409179,
          0.721039962837402,
          -0.8965673414266935,
          0.7421930181724087,
          0.44187766482301494,
          1.4941507653768757,
          -0.07592439400346289,
          0.13044291172087732,
          -1.0222254887377913,
          -1.7739206541014654,
          -1.077351627835513,
          0.027363541160738185,
          -0.9748617967961105,
          2.518439989093622,
          -0.46205089679206945,
          2.3078053387388513,
          0.4257513394176721,
          0.49548491085486007,
          -0.4726521056558049,
          -0.890533468595739,
          -1.5441034294130145,
          -0.5871478452809765,
          3.3245473574055877,
          0.4248552040988651,
          0.757606892518138,
          2.1204035812719324,
          -1.5714245397250282,
          -0.5832059216386883
         ],
         "xaxis": "x8",
         "y": [
          0.32996827386755656,
          1.218981953879945,
          -1.633714055298131,
          -0.6680046279061812,
          -0.6445098144275172,
          -1.4982567785730112,
          0.3789401874474387,
          -0.8354867132076352,
          -0.49649095723019165,
          0.9476618567929485,
          -0.29885328226115,
          -0.729847228699825,
          -0.2983012825271507,
          -1.5274385530114047,
          0.3163460257637768,
          0.9882599819686255,
          -1.8372850712119513,
          0.07213041078206192,
          -0.8505942819760838,
          -0.2593730549559899,
          -0.20097115604456608,
          0.08776815285268036,
          0.8990529880959327,
          -1.2300154009386157,
          -0.4646616485397626,
          2.008716385462978,
          1.3815353909949974,
          -0.4680705695693689,
          0.9951906400439332,
          -0.12774732777664352,
          -0.17209346094795594,
          0.42384697762520135,
          0.0881677466704928,
          -1.2137123261984333,
          -0.29210386848008296,
          -0.42918331158735196,
          0.5291358204103447,
          -0.3611920569394752,
          -0.4411126619848192,
          0.3564598562677138,
          -0.12583032060194752,
          -0.8136096980573316,
          -0.17480939014138125,
          0.6778331503575926,
          -1.8800938127463223,
          -0.20868994954541098,
          -1.0943898202087554,
          0.8226631614354307,
          -1.194260664483298,
          0.9773449695985037,
          -1.1496991655267428,
          -0.4387572002224895,
          0.7113296978977882,
          0.6136809231209187,
          0.5921491861167535,
          0.1571828181134136,
          0.14634596816652118,
          1.2738759482054949,
          0.6972173278890168,
          -0.987761104038325,
          -0.1670094503849138,
          0.3250201326918829,
          0.48994010297726887,
          1.4044309262428363,
          0.11312278441985077,
          -0.10669962027891286,
          -1.1168477862086412,
          -0.17675332603717261,
          0.03208977659009037,
          -1.6516672521154045,
          1.1328237831004917,
          -0.2851532459057253,
          1.149522847797316,
          0.4923262442913057,
          0.5794022959078174,
          -0.4871163476749682,
          -0.3483589684714914,
          -0.7185104093064334,
          0.6923830430179017,
          -0.9884401103254018,
          -1.4605573010519564,
          -0.9574630312394341,
          0.16346484134391212,
          0.10498467403726597,
          0.20016905200097182,
          -0.2795659106824173,
          -0.6401046918070968,
          1.1582797184904188,
          -1.2380619543518485,
          -2.028760970003082,
          -0.15868350420267063,
          1.8185289573542853,
          0.2526564960445763,
          0.3706396483181391,
          -0.2691068747137809,
          0.423560909260566,
          0.9555620773895517,
          0.244811084935598,
          0.13634805361852287,
          -0.24890511762323125
         ],
         "yaxis": "y8"
        },
        {
         "line": {
          "color": "rgba(128, 128, 128, 1.0)",
          "dash": "solid",
          "shape": "linear",
          "width": 1.3
         },
         "marker": {
          "size": 2,
          "symbol": "circle"
         },
         "mode": "markers",
         "name": "C",
         "text": "",
         "type": "scatter",
         "x": [
          -1.0414938449171551,
          -0.4354303557101797,
          0.34091500601799474,
          2.0746916097471155,
          -0.24747851502364648,
          0.6186335280195576,
          0.06458959483746213,
          0.19202582337651733,
          0.6461078850095495,
          -1.0390452041639444,
          0.6227323408901065,
          -0.1674391576392429,
          -0.1926042781471134,
          -0.04046327744673468,
          -2.031733686393499,
          -1.2521232482806384,
          -1.0611150328040704,
          -1.3005911023122887,
          2.73068526240894,
          -0.014905077491252519,
          -0.3365265182353228,
          1.5688337988015868,
          -0.3537229936367583,
          -0.7774145415496925,
          -0.5531468020354161,
          0.3732146468619525,
          0.47503628200836756,
          0.6675289888307547,
          0.6342468938845498,
          0.3782402737404014,
          1.8073693745270427,
          0.10079055157427515,
          0.44395509474085854,
          -1.5999810850342004,
          -0.9361645071581075,
          1.6427002545546334,
          -0.19965900866375763,
          -0.5739373863449075,
          -0.4867162121661351,
          -0.7494828396960236,
          -0.4680209101771845,
          -0.646200346510384,
          -1.4499063061319621,
          -0.6729265648978373,
          -0.25920990095800994,
          -0.24524031082590997,
          0.9424992940939884,
          0.09746308886052545,
          -0.05670856183167005,
          -0.3700987414342005,
          -1.5330827425094273,
          -1.513493870789549,
          1.0020688989440132,
          -0.14477971981749638,
          -0.06713316999739569,
          0.36165647674204604,
          0.7879463209144801,
          1.2050186982820554,
          0.6388184550724472,
          0.6740116687479178,
          -0.7147605818973362,
          0.18841425752213384,
          0.47735099292647765,
          -0.035006175364803556,
          -1.0344884992735575,
          0.15948944361386735,
          -0.19589283962336,
          -0.6852943018916997,
          -0.5880941757709064,
          0.17035562449446132,
          0.5913902058621666,
          -0.9199122157675864,
          0.9573935392643146,
          -0.22375424741831904,
          0.43946538468921637,
          -0.3131973114136663,
          0.899443150063009,
          -0.8264953253132122,
          -0.16538637364699124,
          -0.13517908001439397,
          0.8091401271172439,
          -1.30904640296218,
          -0.45422206139924226,
          0.4907240937863005,
          1.424194979291537,
          1.1295658613318202,
          -1.1343449569566135,
          1.7497515669552424,
          -0.15609510980782706,
          -0.9701048648149126,
          -1.2922061453965263,
          2.015183999384643,
          1.0651251975905274,
          0.37795898160154373,
          -0.858135175494791,
          -1.8924836165721872,
          -0.7191375774094184,
          -0.5522674191284617,
          -0.913005426693775,
          1.6573844242452849
         ],
         "xaxis": "x9",
         "y": [
          -2.016560176964694,
          -0.5526426859704904,
          -0.5314657366816735,
          -0.05220912495037559,
          0.2963821510620666,
          -0.12581807930779365,
          -0.7025733385917851,
          1.0166183844128256,
          -0.5743783298540112,
          0.571675859788498,
          -0.855400702568051,
          -1.0093103002061985,
          0.4880023935694279,
          -0.6662923678904729,
          -1.484305208787236,
          1.873891975641196,
          0.33409260032685745,
          1.223492923576503,
          -0.698084269345124,
          -1.3504226078848276,
          -0.04655912111645202,
          -0.5452606400184166,
          -1.2273335579424465,
          -0.3685221913479382,
          -1.8066092085692813,
          -1.246575967428496,
          -1.0665769105877325,
          -1.4742368894788254,
          1.988525714866486,
          -1.5732392416632852,
          -0.19356880583840239,
          -1.8762002984653667,
          0.2241505560086995,
          0.8292654196643479,
          -0.31633390026068603,
          -0.3004031719349392,
          -0.6489568795320175,
          0.7620906664059216,
          -0.4040303297715138,
          0.7002723466172931,
          -0.6635562402960373,
          1.6153326294897106,
          0.5087662396569937,
          0.4688965450716319,
          0.4417390351322205,
          0.4112103689214712,
          0.5909559790838734,
          -0.02770784650278129,
          -0.8843012438870057,
          2.0004776315686303,
          0.4578950236028908,
          0.33581431946108486,
          -0.6665767232623846,
          0.5843049464286401,
          -0.5720501668209064,
          0.9943887494649332,
          0.2613130779229752,
          0.6837227899983538,
          -1.0277368772421491,
          -0.09621664584859509,
          -0.2741123341430858,
          0.2727942529971171,
          -0.04460788079917133,
          -0.4817291981993936,
          -0.5475916152967425,
          -1.2113403334904689,
          0.03968942136801883,
          0.406174203603089,
          0.10174314212853848,
          0.7180342617932176,
          -1.1735477603549929,
          1.409398778890136,
          0.11143314325307396,
          2.2775304549294044,
          0.33763620551172435,
          -2.1328961526473744,
          -0.5059643668915403,
          0.6353316268941461,
          1.3745990694639407,
          -1.2685048536967578,
          0.5860841671488486,
          -1.389553921993753,
          0.4009385655743347,
          -2.1087942807016087,
          0.20307148393124852,
          0.15184776819603465,
          -1.3254671707150083,
          -0.25067498006715777,
          0.7359377414617873,
          -0.20999748777386482,
          -1.644749751394019,
          2.294618090424474,
          1.045365904722829,
          1.621265753683623,
          0.17603549048815503,
          1.3694728788521373,
          1.2673870642229166,
          -1.3497020606664138,
          -1.3435668342796376,
          -1.3901240434280906
         ],
         "yaxis": "y9"
        },
        {
         "line": {
          "color": "rgba(128, 128, 128, 1.0)",
          "dash": "solid",
          "shape": "linear",
          "width": 1.3
         },
         "marker": {
          "size": 2,
          "symbol": "circle"
         },
         "mode": "markers",
         "name": "C",
         "text": "",
         "type": "scatter",
         "x": [
          0.32996827386755656,
          1.218981953879945,
          -1.633714055298131,
          -0.6680046279061812,
          -0.6445098144275172,
          -1.4982567785730112,
          0.3789401874474387,
          -0.8354867132076352,
          -0.49649095723019165,
          0.9476618567929485,
          -0.29885328226115,
          -0.729847228699825,
          -0.2983012825271507,
          -1.5274385530114047,
          0.3163460257637768,
          0.9882599819686255,
          -1.8372850712119513,
          0.07213041078206192,
          -0.8505942819760838,
          -0.2593730549559899,
          -0.20097115604456608,
          0.08776815285268036,
          0.8990529880959327,
          -1.2300154009386157,
          -0.4646616485397626,
          2.008716385462978,
          1.3815353909949974,
          -0.4680705695693689,
          0.9951906400439332,
          -0.12774732777664352,
          -0.17209346094795594,
          0.42384697762520135,
          0.0881677466704928,
          -1.2137123261984333,
          -0.29210386848008296,
          -0.42918331158735196,
          0.5291358204103447,
          -0.3611920569394752,
          -0.4411126619848192,
          0.3564598562677138,
          -0.12583032060194752,
          -0.8136096980573316,
          -0.17480939014138125,
          0.6778331503575926,
          -1.8800938127463223,
          -0.20868994954541098,
          -1.0943898202087554,
          0.8226631614354307,
          -1.194260664483298,
          0.9773449695985037,
          -1.1496991655267428,
          -0.4387572002224895,
          0.7113296978977882,
          0.6136809231209187,
          0.5921491861167535,
          0.1571828181134136,
          0.14634596816652118,
          1.2738759482054949,
          0.6972173278890168,
          -0.987761104038325,
          -0.1670094503849138,
          0.3250201326918829,
          0.48994010297726887,
          1.4044309262428363,
          0.11312278441985077,
          -0.10669962027891286,
          -1.1168477862086412,
          -0.17675332603717261,
          0.03208977659009037,
          -1.6516672521154045,
          1.1328237831004917,
          -0.2851532459057253,
          1.149522847797316,
          0.4923262442913057,
          0.5794022959078174,
          -0.4871163476749682,
          -0.3483589684714914,
          -0.7185104093064334,
          0.6923830430179017,
          -0.9884401103254018,
          -1.4605573010519564,
          -0.9574630312394341,
          0.16346484134391212,
          0.10498467403726597,
          0.20016905200097182,
          -0.2795659106824173,
          -0.6401046918070968,
          1.1582797184904188,
          -1.2380619543518485,
          -2.028760970003082,
          -0.15868350420267063,
          1.8185289573542853,
          0.2526564960445763,
          0.3706396483181391,
          -0.2691068747137809,
          0.423560909260566,
          0.9555620773895517,
          0.244811084935598,
          0.13634805361852287,
          -0.24890511762323125
         ],
         "xaxis": "x10",
         "y": [
          -2.016560176964694,
          -0.5526426859704904,
          -0.5314657366816735,
          -0.05220912495037559,
          0.2963821510620666,
          -0.12581807930779365,
          -0.7025733385917851,
          1.0166183844128256,
          -0.5743783298540112,
          0.571675859788498,
          -0.855400702568051,
          -1.0093103002061985,
          0.4880023935694279,
          -0.6662923678904729,
          -1.484305208787236,
          1.873891975641196,
          0.33409260032685745,
          1.223492923576503,
          -0.698084269345124,
          -1.3504226078848276,
          -0.04655912111645202,
          -0.5452606400184166,
          -1.2273335579424465,
          -0.3685221913479382,
          -1.8066092085692813,
          -1.246575967428496,
          -1.0665769105877325,
          -1.4742368894788254,
          1.988525714866486,
          -1.5732392416632852,
          -0.19356880583840239,
          -1.8762002984653667,
          0.2241505560086995,
          0.8292654196643479,
          -0.31633390026068603,
          -0.3004031719349392,
          -0.6489568795320175,
          0.7620906664059216,
          -0.4040303297715138,
          0.7002723466172931,
          -0.6635562402960373,
          1.6153326294897106,
          0.5087662396569937,
          0.4688965450716319,
          0.4417390351322205,
          0.4112103689214712,
          0.5909559790838734,
          -0.02770784650278129,
          -0.8843012438870057,
          2.0004776315686303,
          0.4578950236028908,
          0.33581431946108486,
          -0.6665767232623846,
          0.5843049464286401,
          -0.5720501668209064,
          0.9943887494649332,
          0.2613130779229752,
          0.6837227899983538,
          -1.0277368772421491,
          -0.09621664584859509,
          -0.2741123341430858,
          0.2727942529971171,
          -0.04460788079917133,
          -0.4817291981993936,
          -0.5475916152967425,
          -1.2113403334904689,
          0.03968942136801883,
          0.406174203603089,
          0.10174314212853848,
          0.7180342617932176,
          -1.1735477603549929,
          1.409398778890136,
          0.11143314325307396,
          2.2775304549294044,
          0.33763620551172435,
          -2.1328961526473744,
          -0.5059643668915403,
          0.6353316268941461,
          1.3745990694639407,
          -1.2685048536967578,
          0.5860841671488486,
          -1.389553921993753,
          0.4009385655743347,
          -2.1087942807016087,
          0.20307148393124852,
          0.15184776819603465,
          -1.3254671707150083,
          -0.25067498006715777,
          0.7359377414617873,
          -0.20999748777386482,
          -1.644749751394019,
          2.294618090424474,
          1.045365904722829,
          1.621265753683623,
          0.17603549048815503,
          1.3694728788521373,
          1.2673870642229166,
          -1.3497020606664138,
          -1.3435668342796376,
          -1.3901240434280906
         ],
         "yaxis": "y10"
        },
        {
         "histfunc": "count",
         "histnorm": "",
         "marker": {
          "color": "rgba(50, 171, 96, 1.0)",
          "line": {
           "color": "#4D5663",
           "width": 1.3
          }
         },
         "name": "C",
         "nbinsx": 10,
         "opacity": 0.8,
         "orientation": "v",
         "type": "histogram",
         "x": [
          -2.016560176964694,
          -0.5526426859704904,
          -0.5314657366816735,
          -0.05220912495037559,
          0.2963821510620666,
          -0.12581807930779365,
          -0.7025733385917851,
          1.0166183844128256,
          -0.5743783298540112,
          0.571675859788498,
          -0.855400702568051,
          -1.0093103002061985,
          0.4880023935694279,
          -0.6662923678904729,
          -1.484305208787236,
          1.873891975641196,
          0.33409260032685745,
          1.223492923576503,
          -0.698084269345124,
          -1.3504226078848276,
          -0.04655912111645202,
          -0.5452606400184166,
          -1.2273335579424465,
          -0.3685221913479382,
          -1.8066092085692813,
          -1.246575967428496,
          -1.0665769105877325,
          -1.4742368894788254,
          1.988525714866486,
          -1.5732392416632852,
          -0.19356880583840239,
          -1.8762002984653667,
          0.2241505560086995,
          0.8292654196643479,
          -0.31633390026068603,
          -0.3004031719349392,
          -0.6489568795320175,
          0.7620906664059216,
          -0.4040303297715138,
          0.7002723466172931,
          -0.6635562402960373,
          1.6153326294897106,
          0.5087662396569937,
          0.4688965450716319,
          0.4417390351322205,
          0.4112103689214712,
          0.5909559790838734,
          -0.02770784650278129,
          -0.8843012438870057,
          2.0004776315686303,
          0.4578950236028908,
          0.33581431946108486,
          -0.6665767232623846,
          0.5843049464286401,
          -0.5720501668209064,
          0.9943887494649332,
          0.2613130779229752,
          0.6837227899983538,
          -1.0277368772421491,
          -0.09621664584859509,
          -0.2741123341430858,
          0.2727942529971171,
          -0.04460788079917133,
          -0.4817291981993936,
          -0.5475916152967425,
          -1.2113403334904689,
          0.03968942136801883,
          0.406174203603089,
          0.10174314212853848,
          0.7180342617932176,
          -1.1735477603549929,
          1.409398778890136,
          0.11143314325307396,
          2.2775304549294044,
          0.33763620551172435,
          -2.1328961526473744,
          -0.5059643668915403,
          0.6353316268941461,
          1.3745990694639407,
          -1.2685048536967578,
          0.5860841671488486,
          -1.389553921993753,
          0.4009385655743347,
          -2.1087942807016087,
          0.20307148393124852,
          0.15184776819603465,
          -1.3254671707150083,
          -0.25067498006715777,
          0.7359377414617873,
          -0.20999748777386482,
          -1.644749751394019,
          2.294618090424474,
          1.045365904722829,
          1.621265753683623,
          0.17603549048815503,
          1.3694728788521373,
          1.2673870642229166,
          -1.3497020606664138,
          -1.3435668342796376,
          -1.3901240434280906
         ],
         "xaxis": "x11",
         "yaxis": "y11"
        },
        {
         "line": {
          "color": "rgba(128, 128, 128, 1.0)",
          "dash": "solid",
          "shape": "linear",
          "width": 1.3
         },
         "marker": {
          "size": 2,
          "symbol": "circle"
         },
         "mode": "markers",
         "name": "C",
         "text": "",
         "type": "scatter",
         "x": [
          -0.48533585732076095,
          0.7996713741735981,
          0.6325273961804192,
          -0.5689560976695613,
          -1.2985548742795316,
          -2.2428272396069846,
          -1.5741576745405266,
          -0.39144102464643743,
          1.305658159123247,
          0.17837058518597354,
          -1.0877485928325967,
          -0.24902930111248073,
          -1.0097249836194204,
          -0.45194362596755944,
          -0.5727333096841546,
          0.047001001379377676,
          0.4506044498665508,
          1.6274663645011933,
          1.3984009077149095,
          0.2816498966760533,
          0.5441246715588851,
          -0.36105486565800077,
          -0.9680977111890429,
          -0.7708478770617477,
          0.7332062687189292,
          0.9972933023124365,
          0.34639261806853194,
          0.12935640088563605,
          -1.2456202672713668,
          -1.3332423821962383,
          -0.7996211461957595,
          -0.01074289340680255,
          0.077659750320619,
          0.2872510862499166,
          -0.5542854401860736,
          -0.8853501685802612,
          0.6898295874639477,
          0.35358317545308665,
          1.0987515108222736,
          -0.20036445976839387,
          1.1317168226847034,
          1.244145542615334,
          0.07624024531146381,
          -0.33008113474801715,
          0.23569495510145902,
          -1.2102230389000639,
          -1.0343537629596997,
          -0.7298355520182594,
          0.377827915598249,
          -1.2201611717084766,
          1.2033907315316315,
          -0.15732328897096295,
          -0.6711736981842389,
          -0.9411838392514316,
          -1.11750369661523,
          0.17255551449158266,
          -0.505804962509711,
          0.9371641703890039,
          0.6834463005151751,
          1.0547974031845184,
          -0.3339849796162532,
          -1.1527015629247779,
          1.7720578526909554,
          -0.4429735157380313,
          -0.8794450819310182,
          -0.5013173772023398,
          1.696281221312842,
          -0.1763374234695934,
          -0.6281807833334955,
          1.0847110417315151,
          -0.6388600686243346,
          -1.1121566057854972,
          -0.7468158718409179,
          0.721039962837402,
          -0.8965673414266935,
          0.7421930181724087,
          0.44187766482301494,
          1.4941507653768757,
          -0.07592439400346289,
          0.13044291172087732,
          -1.0222254887377913,
          -1.7739206541014654,
          -1.077351627835513,
          0.027363541160738185,
          -0.9748617967961105,
          2.518439989093622,
          -0.46205089679206945,
          2.3078053387388513,
          0.4257513394176721,
          0.49548491085486007,
          -0.4726521056558049,
          -0.890533468595739,
          -1.5441034294130145,
          -0.5871478452809765,
          3.3245473574055877,
          0.4248552040988651,
          0.757606892518138,
          2.1204035812719324,
          -1.5714245397250282,
          -0.5832059216386883
         ],
         "xaxis": "x12",
         "y": [
          -2.016560176964694,
          -0.5526426859704904,
          -0.5314657366816735,
          -0.05220912495037559,
          0.2963821510620666,
          -0.12581807930779365,
          -0.7025733385917851,
          1.0166183844128256,
          -0.5743783298540112,
          0.571675859788498,
          -0.855400702568051,
          -1.0093103002061985,
          0.4880023935694279,
          -0.6662923678904729,
          -1.484305208787236,
          1.873891975641196,
          0.33409260032685745,
          1.223492923576503,
          -0.698084269345124,
          -1.3504226078848276,
          -0.04655912111645202,
          -0.5452606400184166,
          -1.2273335579424465,
          -0.3685221913479382,
          -1.8066092085692813,
          -1.246575967428496,
          -1.0665769105877325,
          -1.4742368894788254,
          1.988525714866486,
          -1.5732392416632852,
          -0.19356880583840239,
          -1.8762002984653667,
          0.2241505560086995,
          0.8292654196643479,
          -0.31633390026068603,
          -0.3004031719349392,
          -0.6489568795320175,
          0.7620906664059216,
          -0.4040303297715138,
          0.7002723466172931,
          -0.6635562402960373,
          1.6153326294897106,
          0.5087662396569937,
          0.4688965450716319,
          0.4417390351322205,
          0.4112103689214712,
          0.5909559790838734,
          -0.02770784650278129,
          -0.8843012438870057,
          2.0004776315686303,
          0.4578950236028908,
          0.33581431946108486,
          -0.6665767232623846,
          0.5843049464286401,
          -0.5720501668209064,
          0.9943887494649332,
          0.2613130779229752,
          0.6837227899983538,
          -1.0277368772421491,
          -0.09621664584859509,
          -0.2741123341430858,
          0.2727942529971171,
          -0.04460788079917133,
          -0.4817291981993936,
          -0.5475916152967425,
          -1.2113403334904689,
          0.03968942136801883,
          0.406174203603089,
          0.10174314212853848,
          0.7180342617932176,
          -1.1735477603549929,
          1.409398778890136,
          0.11143314325307396,
          2.2775304549294044,
          0.33763620551172435,
          -2.1328961526473744,
          -0.5059643668915403,
          0.6353316268941461,
          1.3745990694639407,
          -1.2685048536967578,
          0.5860841671488486,
          -1.389553921993753,
          0.4009385655743347,
          -2.1087942807016087,
          0.20307148393124852,
          0.15184776819603465,
          -1.3254671707150083,
          -0.25067498006715777,
          0.7359377414617873,
          -0.20999748777386482,
          -1.644749751394019,
          2.294618090424474,
          1.045365904722829,
          1.621265753683623,
          0.17603549048815503,
          1.3694728788521373,
          1.2673870642229166,
          -1.3497020606664138,
          -1.3435668342796376,
          -1.3901240434280906
         ],
         "yaxis": "y12"
        },
        {
         "line": {
          "color": "rgba(128, 128, 128, 1.0)",
          "dash": "solid",
          "shape": "linear",
          "width": 1.3
         },
         "marker": {
          "size": 2,
          "symbol": "circle"
         },
         "mode": "markers",
         "name": "D",
         "text": "",
         "type": "scatter",
         "x": [
          -1.0414938449171551,
          -0.4354303557101797,
          0.34091500601799474,
          2.0746916097471155,
          -0.24747851502364648,
          0.6186335280195576,
          0.06458959483746213,
          0.19202582337651733,
          0.6461078850095495,
          -1.0390452041639444,
          0.6227323408901065,
          -0.1674391576392429,
          -0.1926042781471134,
          -0.04046327744673468,
          -2.031733686393499,
          -1.2521232482806384,
          -1.0611150328040704,
          -1.3005911023122887,
          2.73068526240894,
          -0.014905077491252519,
          -0.3365265182353228,
          1.5688337988015868,
          -0.3537229936367583,
          -0.7774145415496925,
          -0.5531468020354161,
          0.3732146468619525,
          0.47503628200836756,
          0.6675289888307547,
          0.6342468938845498,
          0.3782402737404014,
          1.8073693745270427,
          0.10079055157427515,
          0.44395509474085854,
          -1.5999810850342004,
          -0.9361645071581075,
          1.6427002545546334,
          -0.19965900866375763,
          -0.5739373863449075,
          -0.4867162121661351,
          -0.7494828396960236,
          -0.4680209101771845,
          -0.646200346510384,
          -1.4499063061319621,
          -0.6729265648978373,
          -0.25920990095800994,
          -0.24524031082590997,
          0.9424992940939884,
          0.09746308886052545,
          -0.05670856183167005,
          -0.3700987414342005,
          -1.5330827425094273,
          -1.513493870789549,
          1.0020688989440132,
          -0.14477971981749638,
          -0.06713316999739569,
          0.36165647674204604,
          0.7879463209144801,
          1.2050186982820554,
          0.6388184550724472,
          0.6740116687479178,
          -0.7147605818973362,
          0.18841425752213384,
          0.47735099292647765,
          -0.035006175364803556,
          -1.0344884992735575,
          0.15948944361386735,
          -0.19589283962336,
          -0.6852943018916997,
          -0.5880941757709064,
          0.17035562449446132,
          0.5913902058621666,
          -0.9199122157675864,
          0.9573935392643146,
          -0.22375424741831904,
          0.43946538468921637,
          -0.3131973114136663,
          0.899443150063009,
          -0.8264953253132122,
          -0.16538637364699124,
          -0.13517908001439397,
          0.8091401271172439,
          -1.30904640296218,
          -0.45422206139924226,
          0.4907240937863005,
          1.424194979291537,
          1.1295658613318202,
          -1.1343449569566135,
          1.7497515669552424,
          -0.15609510980782706,
          -0.9701048648149126,
          -1.2922061453965263,
          2.015183999384643,
          1.0651251975905274,
          0.37795898160154373,
          -0.858135175494791,
          -1.8924836165721872,
          -0.7191375774094184,
          -0.5522674191284617,
          -0.913005426693775,
          1.6573844242452849
         ],
         "xaxis": "x13",
         "y": [
          -0.48533585732076095,
          0.7996713741735981,
          0.6325273961804192,
          -0.5689560976695613,
          -1.2985548742795316,
          -2.2428272396069846,
          -1.5741576745405266,
          -0.39144102464643743,
          1.305658159123247,
          0.17837058518597354,
          -1.0877485928325967,
          -0.24902930111248073,
          -1.0097249836194204,
          -0.45194362596755944,
          -0.5727333096841546,
          0.047001001379377676,
          0.4506044498665508,
          1.6274663645011933,
          1.3984009077149095,
          0.2816498966760533,
          0.5441246715588851,
          -0.36105486565800077,
          -0.9680977111890429,
          -0.7708478770617477,
          0.7332062687189292,
          0.9972933023124365,
          0.34639261806853194,
          0.12935640088563605,
          -1.2456202672713668,
          -1.3332423821962383,
          -0.7996211461957595,
          -0.01074289340680255,
          0.077659750320619,
          0.2872510862499166,
          -0.5542854401860736,
          -0.8853501685802612,
          0.6898295874639477,
          0.35358317545308665,
          1.0987515108222736,
          -0.20036445976839387,
          1.1317168226847034,
          1.244145542615334,
          0.07624024531146381,
          -0.33008113474801715,
          0.23569495510145902,
          -1.2102230389000639,
          -1.0343537629596997,
          -0.7298355520182594,
          0.377827915598249,
          -1.2201611717084766,
          1.2033907315316315,
          -0.15732328897096295,
          -0.6711736981842389,
          -0.9411838392514316,
          -1.11750369661523,
          0.17255551449158266,
          -0.505804962509711,
          0.9371641703890039,
          0.6834463005151751,
          1.0547974031845184,
          -0.3339849796162532,
          -1.1527015629247779,
          1.7720578526909554,
          -0.4429735157380313,
          -0.8794450819310182,
          -0.5013173772023398,
          1.696281221312842,
          -0.1763374234695934,
          -0.6281807833334955,
          1.0847110417315151,
          -0.6388600686243346,
          -1.1121566057854972,
          -0.7468158718409179,
          0.721039962837402,
          -0.8965673414266935,
          0.7421930181724087,
          0.44187766482301494,
          1.4941507653768757,
          -0.07592439400346289,
          0.13044291172087732,
          -1.0222254887377913,
          -1.7739206541014654,
          -1.077351627835513,
          0.027363541160738185,
          -0.9748617967961105,
          2.518439989093622,
          -0.46205089679206945,
          2.3078053387388513,
          0.4257513394176721,
          0.49548491085486007,
          -0.4726521056558049,
          -0.890533468595739,
          -1.5441034294130145,
          -0.5871478452809765,
          3.3245473574055877,
          0.4248552040988651,
          0.757606892518138,
          2.1204035812719324,
          -1.5714245397250282,
          -0.5832059216386883
         ],
         "yaxis": "y13"
        },
        {
         "line": {
          "color": "rgba(128, 128, 128, 1.0)",
          "dash": "solid",
          "shape": "linear",
          "width": 1.3
         },
         "marker": {
          "size": 2,
          "symbol": "circle"
         },
         "mode": "markers",
         "name": "D",
         "text": "",
         "type": "scatter",
         "x": [
          0.32996827386755656,
          1.218981953879945,
          -1.633714055298131,
          -0.6680046279061812,
          -0.6445098144275172,
          -1.4982567785730112,
          0.3789401874474387,
          -0.8354867132076352,
          -0.49649095723019165,
          0.9476618567929485,
          -0.29885328226115,
          -0.729847228699825,
          -0.2983012825271507,
          -1.5274385530114047,
          0.3163460257637768,
          0.9882599819686255,
          -1.8372850712119513,
          0.07213041078206192,
          -0.8505942819760838,
          -0.2593730549559899,
          -0.20097115604456608,
          0.08776815285268036,
          0.8990529880959327,
          -1.2300154009386157,
          -0.4646616485397626,
          2.008716385462978,
          1.3815353909949974,
          -0.4680705695693689,
          0.9951906400439332,
          -0.12774732777664352,
          -0.17209346094795594,
          0.42384697762520135,
          0.0881677466704928,
          -1.2137123261984333,
          -0.29210386848008296,
          -0.42918331158735196,
          0.5291358204103447,
          -0.3611920569394752,
          -0.4411126619848192,
          0.3564598562677138,
          -0.12583032060194752,
          -0.8136096980573316,
          -0.17480939014138125,
          0.6778331503575926,
          -1.8800938127463223,
          -0.20868994954541098,
          -1.0943898202087554,
          0.8226631614354307,
          -1.194260664483298,
          0.9773449695985037,
          -1.1496991655267428,
          -0.4387572002224895,
          0.7113296978977882,
          0.6136809231209187,
          0.5921491861167535,
          0.1571828181134136,
          0.14634596816652118,
          1.2738759482054949,
          0.6972173278890168,
          -0.987761104038325,
          -0.1670094503849138,
          0.3250201326918829,
          0.48994010297726887,
          1.4044309262428363,
          0.11312278441985077,
          -0.10669962027891286,
          -1.1168477862086412,
          -0.17675332603717261,
          0.03208977659009037,
          -1.6516672521154045,
          1.1328237831004917,
          -0.2851532459057253,
          1.149522847797316,
          0.4923262442913057,
          0.5794022959078174,
          -0.4871163476749682,
          -0.3483589684714914,
          -0.7185104093064334,
          0.6923830430179017,
          -0.9884401103254018,
          -1.4605573010519564,
          -0.9574630312394341,
          0.16346484134391212,
          0.10498467403726597,
          0.20016905200097182,
          -0.2795659106824173,
          -0.6401046918070968,
          1.1582797184904188,
          -1.2380619543518485,
          -2.028760970003082,
          -0.15868350420267063,
          1.8185289573542853,
          0.2526564960445763,
          0.3706396483181391,
          -0.2691068747137809,
          0.423560909260566,
          0.9555620773895517,
          0.244811084935598,
          0.13634805361852287,
          -0.24890511762323125
         ],
         "xaxis": "x14",
         "y": [
          -0.48533585732076095,
          0.7996713741735981,
          0.6325273961804192,
          -0.5689560976695613,
          -1.2985548742795316,
          -2.2428272396069846,
          -1.5741576745405266,
          -0.39144102464643743,
          1.305658159123247,
          0.17837058518597354,
          -1.0877485928325967,
          -0.24902930111248073,
          -1.0097249836194204,
          -0.45194362596755944,
          -0.5727333096841546,
          0.047001001379377676,
          0.4506044498665508,
          1.6274663645011933,
          1.3984009077149095,
          0.2816498966760533,
          0.5441246715588851,
          -0.36105486565800077,
          -0.9680977111890429,
          -0.7708478770617477,
          0.7332062687189292,
          0.9972933023124365,
          0.34639261806853194,
          0.12935640088563605,
          -1.2456202672713668,
          -1.3332423821962383,
          -0.7996211461957595,
          -0.01074289340680255,
          0.077659750320619,
          0.2872510862499166,
          -0.5542854401860736,
          -0.8853501685802612,
          0.6898295874639477,
          0.35358317545308665,
          1.0987515108222736,
          -0.20036445976839387,
          1.1317168226847034,
          1.244145542615334,
          0.07624024531146381,
          -0.33008113474801715,
          0.23569495510145902,
          -1.2102230389000639,
          -1.0343537629596997,
          -0.7298355520182594,
          0.377827915598249,
          -1.2201611717084766,
          1.2033907315316315,
          -0.15732328897096295,
          -0.6711736981842389,
          -0.9411838392514316,
          -1.11750369661523,
          0.17255551449158266,
          -0.505804962509711,
          0.9371641703890039,
          0.6834463005151751,
          1.0547974031845184,
          -0.3339849796162532,
          -1.1527015629247779,
          1.7720578526909554,
          -0.4429735157380313,
          -0.8794450819310182,
          -0.5013173772023398,
          1.696281221312842,
          -0.1763374234695934,
          -0.6281807833334955,
          1.0847110417315151,
          -0.6388600686243346,
          -1.1121566057854972,
          -0.7468158718409179,
          0.721039962837402,
          -0.8965673414266935,
          0.7421930181724087,
          0.44187766482301494,
          1.4941507653768757,
          -0.07592439400346289,
          0.13044291172087732,
          -1.0222254887377913,
          -1.7739206541014654,
          -1.077351627835513,
          0.027363541160738185,
          -0.9748617967961105,
          2.518439989093622,
          -0.46205089679206945,
          2.3078053387388513,
          0.4257513394176721,
          0.49548491085486007,
          -0.4726521056558049,
          -0.890533468595739,
          -1.5441034294130145,
          -0.5871478452809765,
          3.3245473574055877,
          0.4248552040988651,
          0.757606892518138,
          2.1204035812719324,
          -1.5714245397250282,
          -0.5832059216386883
         ],
         "yaxis": "y14"
        },
        {
         "line": {
          "color": "rgba(128, 128, 128, 1.0)",
          "dash": "solid",
          "shape": "linear",
          "width": 1.3
         },
         "marker": {
          "size": 2,
          "symbol": "circle"
         },
         "mode": "markers",
         "name": "D",
         "text": "",
         "type": "scatter",
         "x": [
          -2.016560176964694,
          -0.5526426859704904,
          -0.5314657366816735,
          -0.05220912495037559,
          0.2963821510620666,
          -0.12581807930779365,
          -0.7025733385917851,
          1.0166183844128256,
          -0.5743783298540112,
          0.571675859788498,
          -0.855400702568051,
          -1.0093103002061985,
          0.4880023935694279,
          -0.6662923678904729,
          -1.484305208787236,
          1.873891975641196,
          0.33409260032685745,
          1.223492923576503,
          -0.698084269345124,
          -1.3504226078848276,
          -0.04655912111645202,
          -0.5452606400184166,
          -1.2273335579424465,
          -0.3685221913479382,
          -1.8066092085692813,
          -1.246575967428496,
          -1.0665769105877325,
          -1.4742368894788254,
          1.988525714866486,
          -1.5732392416632852,
          -0.19356880583840239,
          -1.8762002984653667,
          0.2241505560086995,
          0.8292654196643479,
          -0.31633390026068603,
          -0.3004031719349392,
          -0.6489568795320175,
          0.7620906664059216,
          -0.4040303297715138,
          0.7002723466172931,
          -0.6635562402960373,
          1.6153326294897106,
          0.5087662396569937,
          0.4688965450716319,
          0.4417390351322205,
          0.4112103689214712,
          0.5909559790838734,
          -0.02770784650278129,
          -0.8843012438870057,
          2.0004776315686303,
          0.4578950236028908,
          0.33581431946108486,
          -0.6665767232623846,
          0.5843049464286401,
          -0.5720501668209064,
          0.9943887494649332,
          0.2613130779229752,
          0.6837227899983538,
          -1.0277368772421491,
          -0.09621664584859509,
          -0.2741123341430858,
          0.2727942529971171,
          -0.04460788079917133,
          -0.4817291981993936,
          -0.5475916152967425,
          -1.2113403334904689,
          0.03968942136801883,
          0.406174203603089,
          0.10174314212853848,
          0.7180342617932176,
          -1.1735477603549929,
          1.409398778890136,
          0.11143314325307396,
          2.2775304549294044,
          0.33763620551172435,
          -2.1328961526473744,
          -0.5059643668915403,
          0.6353316268941461,
          1.3745990694639407,
          -1.2685048536967578,
          0.5860841671488486,
          -1.389553921993753,
          0.4009385655743347,
          -2.1087942807016087,
          0.20307148393124852,
          0.15184776819603465,
          -1.3254671707150083,
          -0.25067498006715777,
          0.7359377414617873,
          -0.20999748777386482,
          -1.644749751394019,
          2.294618090424474,
          1.045365904722829,
          1.621265753683623,
          0.17603549048815503,
          1.3694728788521373,
          1.2673870642229166,
          -1.3497020606664138,
          -1.3435668342796376,
          -1.3901240434280906
         ],
         "xaxis": "x15",
         "y": [
          -0.48533585732076095,
          0.7996713741735981,
          0.6325273961804192,
          -0.5689560976695613,
          -1.2985548742795316,
          -2.2428272396069846,
          -1.5741576745405266,
          -0.39144102464643743,
          1.305658159123247,
          0.17837058518597354,
          -1.0877485928325967,
          -0.24902930111248073,
          -1.0097249836194204,
          -0.45194362596755944,
          -0.5727333096841546,
          0.047001001379377676,
          0.4506044498665508,
          1.6274663645011933,
          1.3984009077149095,
          0.2816498966760533,
          0.5441246715588851,
          -0.36105486565800077,
          -0.9680977111890429,
          -0.7708478770617477,
          0.7332062687189292,
          0.9972933023124365,
          0.34639261806853194,
          0.12935640088563605,
          -1.2456202672713668,
          -1.3332423821962383,
          -0.7996211461957595,
          -0.01074289340680255,
          0.077659750320619,
          0.2872510862499166,
          -0.5542854401860736,
          -0.8853501685802612,
          0.6898295874639477,
          0.35358317545308665,
          1.0987515108222736,
          -0.20036445976839387,
          1.1317168226847034,
          1.244145542615334,
          0.07624024531146381,
          -0.33008113474801715,
          0.23569495510145902,
          -1.2102230389000639,
          -1.0343537629596997,
          -0.7298355520182594,
          0.377827915598249,
          -1.2201611717084766,
          1.2033907315316315,
          -0.15732328897096295,
          -0.6711736981842389,
          -0.9411838392514316,
          -1.11750369661523,
          0.17255551449158266,
          -0.505804962509711,
          0.9371641703890039,
          0.6834463005151751,
          1.0547974031845184,
          -0.3339849796162532,
          -1.1527015629247779,
          1.7720578526909554,
          -0.4429735157380313,
          -0.8794450819310182,
          -0.5013173772023398,
          1.696281221312842,
          -0.1763374234695934,
          -0.6281807833334955,
          1.0847110417315151,
          -0.6388600686243346,
          -1.1121566057854972,
          -0.7468158718409179,
          0.721039962837402,
          -0.8965673414266935,
          0.7421930181724087,
          0.44187766482301494,
          1.4941507653768757,
          -0.07592439400346289,
          0.13044291172087732,
          -1.0222254887377913,
          -1.7739206541014654,
          -1.077351627835513,
          0.027363541160738185,
          -0.9748617967961105,
          2.518439989093622,
          -0.46205089679206945,
          2.3078053387388513,
          0.4257513394176721,
          0.49548491085486007,
          -0.4726521056558049,
          -0.890533468595739,
          -1.5441034294130145,
          -0.5871478452809765,
          3.3245473574055877,
          0.4248552040988651,
          0.757606892518138,
          2.1204035812719324,
          -1.5714245397250282,
          -0.5832059216386883
         ],
         "yaxis": "y15"
        },
        {
         "histfunc": "count",
         "histnorm": "",
         "marker": {
          "color": "rgba(128, 0, 128, 1.0)",
          "line": {
           "color": "#4D5663",
           "width": 1.3
          }
         },
         "name": "D",
         "nbinsx": 10,
         "opacity": 0.8,
         "orientation": "v",
         "type": "histogram",
         "x": [
          -0.48533585732076095,
          0.7996713741735981,
          0.6325273961804192,
          -0.5689560976695613,
          -1.2985548742795316,
          -2.2428272396069846,
          -1.5741576745405266,
          -0.39144102464643743,
          1.305658159123247,
          0.17837058518597354,
          -1.0877485928325967,
          -0.24902930111248073,
          -1.0097249836194204,
          -0.45194362596755944,
          -0.5727333096841546,
          0.047001001379377676,
          0.4506044498665508,
          1.6274663645011933,
          1.3984009077149095,
          0.2816498966760533,
          0.5441246715588851,
          -0.36105486565800077,
          -0.9680977111890429,
          -0.7708478770617477,
          0.7332062687189292,
          0.9972933023124365,
          0.34639261806853194,
          0.12935640088563605,
          -1.2456202672713668,
          -1.3332423821962383,
          -0.7996211461957595,
          -0.01074289340680255,
          0.077659750320619,
          0.2872510862499166,
          -0.5542854401860736,
          -0.8853501685802612,
          0.6898295874639477,
          0.35358317545308665,
          1.0987515108222736,
          -0.20036445976839387,
          1.1317168226847034,
          1.244145542615334,
          0.07624024531146381,
          -0.33008113474801715,
          0.23569495510145902,
          -1.2102230389000639,
          -1.0343537629596997,
          -0.7298355520182594,
          0.377827915598249,
          -1.2201611717084766,
          1.2033907315316315,
          -0.15732328897096295,
          -0.6711736981842389,
          -0.9411838392514316,
          -1.11750369661523,
          0.17255551449158266,
          -0.505804962509711,
          0.9371641703890039,
          0.6834463005151751,
          1.0547974031845184,
          -0.3339849796162532,
          -1.1527015629247779,
          1.7720578526909554,
          -0.4429735157380313,
          -0.8794450819310182,
          -0.5013173772023398,
          1.696281221312842,
          -0.1763374234695934,
          -0.6281807833334955,
          1.0847110417315151,
          -0.6388600686243346,
          -1.1121566057854972,
          -0.7468158718409179,
          0.721039962837402,
          -0.8965673414266935,
          0.7421930181724087,
          0.44187766482301494,
          1.4941507653768757,
          -0.07592439400346289,
          0.13044291172087732,
          -1.0222254887377913,
          -1.7739206541014654,
          -1.077351627835513,
          0.027363541160738185,
          -0.9748617967961105,
          2.518439989093622,
          -0.46205089679206945,
          2.3078053387388513,
          0.4257513394176721,
          0.49548491085486007,
          -0.4726521056558049,
          -0.890533468595739,
          -1.5441034294130145,
          -0.5871478452809765,
          3.3245473574055877,
          0.4248552040988651,
          0.757606892518138,
          2.1204035812719324,
          -1.5714245397250282,
          -0.5832059216386883
         ],
         "xaxis": "x16",
         "yaxis": "y16"
        }
       ],
       "layout": {
        "bargap": 0.02,
        "legend": {
         "bgcolor": "#F5F6F9",
         "font": {
          "color": "#4D5663"
         }
        },
        "paper_bgcolor": "#F5F6F9",
        "plot_bgcolor": "#F5F6F9",
        "showlegend": false,
        "template": {
         "data": {
          "bar": [
           {
            "error_x": {
             "color": "#2a3f5f"
            },
            "error_y": {
             "color": "#2a3f5f"
            },
            "marker": {
             "line": {
              "color": "#E5ECF6",
              "width": 0.5
             },
             "pattern": {
              "fillmode": "overlay",
              "size": 10,
              "solidity": 0.2
             }
            },
            "type": "bar"
           }
          ],
          "barpolar": [
           {
            "marker": {
             "line": {
              "color": "#E5ECF6",
              "width": 0.5
             },
             "pattern": {
              "fillmode": "overlay",
              "size": 10,
              "solidity": 0.2
             }
            },
            "type": "barpolar"
           }
          ],
          "carpet": [
           {
            "aaxis": {
             "endlinecolor": "#2a3f5f",
             "gridcolor": "white",
             "linecolor": "white",
             "minorgridcolor": "white",
             "startlinecolor": "#2a3f5f"
            },
            "baxis": {
             "endlinecolor": "#2a3f5f",
             "gridcolor": "white",
             "linecolor": "white",
             "minorgridcolor": "white",
             "startlinecolor": "#2a3f5f"
            },
            "type": "carpet"
           }
          ],
          "choropleth": [
           {
            "colorbar": {
             "outlinewidth": 0,
             "ticks": ""
            },
            "type": "choropleth"
           }
          ],
          "contour": [
           {
            "colorbar": {
             "outlinewidth": 0,
             "ticks": ""
            },
            "colorscale": [
             [
              0,
              "#0d0887"
             ],
             [
              0.1111111111111111,
              "#46039f"
             ],
             [
              0.2222222222222222,
              "#7201a8"
             ],
             [
              0.3333333333333333,
              "#9c179e"
             ],
             [
              0.4444444444444444,
              "#bd3786"
             ],
             [
              0.5555555555555556,
              "#d8576b"
             ],
             [
              0.6666666666666666,
              "#ed7953"
             ],
             [
              0.7777777777777778,
              "#fb9f3a"
             ],
             [
              0.8888888888888888,
              "#fdca26"
             ],
             [
              1,
              "#f0f921"
             ]
            ],
            "type": "contour"
           }
          ],
          "contourcarpet": [
           {
            "colorbar": {
             "outlinewidth": 0,
             "ticks": ""
            },
            "type": "contourcarpet"
           }
          ],
          "heatmap": [
           {
            "colorbar": {
             "outlinewidth": 0,
             "ticks": ""
            },
            "colorscale": [
             [
              0,
              "#0d0887"
             ],
             [
              0.1111111111111111,
              "#46039f"
             ],
             [
              0.2222222222222222,
              "#7201a8"
             ],
             [
              0.3333333333333333,
              "#9c179e"
             ],
             [
              0.4444444444444444,
              "#bd3786"
             ],
             [
              0.5555555555555556,
              "#d8576b"
             ],
             [
              0.6666666666666666,
              "#ed7953"
             ],
             [
              0.7777777777777778,
              "#fb9f3a"
             ],
             [
              0.8888888888888888,
              "#fdca26"
             ],
             [
              1,
              "#f0f921"
             ]
            ],
            "type": "heatmap"
           }
          ],
          "heatmapgl": [
           {
            "colorbar": {
             "outlinewidth": 0,
             "ticks": ""
            },
            "colorscale": [
             [
              0,
              "#0d0887"
             ],
             [
              0.1111111111111111,
              "#46039f"
             ],
             [
              0.2222222222222222,
              "#7201a8"
             ],
             [
              0.3333333333333333,
              "#9c179e"
             ],
             [
              0.4444444444444444,
              "#bd3786"
             ],
             [
              0.5555555555555556,
              "#d8576b"
             ],
             [
              0.6666666666666666,
              "#ed7953"
             ],
             [
              0.7777777777777778,
              "#fb9f3a"
             ],
             [
              0.8888888888888888,
              "#fdca26"
             ],
             [
              1,
              "#f0f921"
             ]
            ],
            "type": "heatmapgl"
           }
          ],
          "histogram": [
           {
            "marker": {
             "pattern": {
              "fillmode": "overlay",
              "size": 10,
              "solidity": 0.2
             }
            },
            "type": "histogram"
           }
          ],
          "histogram2d": [
           {
            "colorbar": {
             "outlinewidth": 0,
             "ticks": ""
            },
            "colorscale": [
             [
              0,
              "#0d0887"
             ],
             [
              0.1111111111111111,
              "#46039f"
             ],
             [
              0.2222222222222222,
              "#7201a8"
             ],
             [
              0.3333333333333333,
              "#9c179e"
             ],
             [
              0.4444444444444444,
              "#bd3786"
             ],
             [
              0.5555555555555556,
              "#d8576b"
             ],
             [
              0.6666666666666666,
              "#ed7953"
             ],
             [
              0.7777777777777778,
              "#fb9f3a"
             ],
             [
              0.8888888888888888,
              "#fdca26"
             ],
             [
              1,
              "#f0f921"
             ]
            ],
            "type": "histogram2d"
           }
          ],
          "histogram2dcontour": [
           {
            "colorbar": {
             "outlinewidth": 0,
             "ticks": ""
            },
            "colorscale": [
             [
              0,
              "#0d0887"
             ],
             [
              0.1111111111111111,
              "#46039f"
             ],
             [
              0.2222222222222222,
              "#7201a8"
             ],
             [
              0.3333333333333333,
              "#9c179e"
             ],
             [
              0.4444444444444444,
              "#bd3786"
             ],
             [
              0.5555555555555556,
              "#d8576b"
             ],
             [
              0.6666666666666666,
              "#ed7953"
             ],
             [
              0.7777777777777778,
              "#fb9f3a"
             ],
             [
              0.8888888888888888,
              "#fdca26"
             ],
             [
              1,
              "#f0f921"
             ]
            ],
            "type": "histogram2dcontour"
           }
          ],
          "mesh3d": [
           {
            "colorbar": {
             "outlinewidth": 0,
             "ticks": ""
            },
            "type": "mesh3d"
           }
          ],
          "parcoords": [
           {
            "line": {
             "colorbar": {
              "outlinewidth": 0,
              "ticks": ""
             }
            },
            "type": "parcoords"
           }
          ],
          "pie": [
           {
            "automargin": true,
            "type": "pie"
           }
          ],
          "scatter": [
           {
            "fillpattern": {
             "fillmode": "overlay",
             "size": 10,
             "solidity": 0.2
            },
            "type": "scatter"
           }
          ],
          "scatter3d": [
           {
            "line": {
             "colorbar": {
              "outlinewidth": 0,
              "ticks": ""
             }
            },
            "marker": {
             "colorbar": {
              "outlinewidth": 0,
              "ticks": ""
             }
            },
            "type": "scatter3d"
           }
          ],
          "scattercarpet": [
           {
            "marker": {
             "colorbar": {
              "outlinewidth": 0,
              "ticks": ""
             }
            },
            "type": "scattercarpet"
           }
          ],
          "scattergeo": [
           {
            "marker": {
             "colorbar": {
              "outlinewidth": 0,
              "ticks": ""
             }
            },
            "type": "scattergeo"
           }
          ],
          "scattergl": [
           {
            "marker": {
             "colorbar": {
              "outlinewidth": 0,
              "ticks": ""
             }
            },
            "type": "scattergl"
           }
          ],
          "scattermapbox": [
           {
            "marker": {
             "colorbar": {
              "outlinewidth": 0,
              "ticks": ""
             }
            },
            "type": "scattermapbox"
           }
          ],
          "scatterpolar": [
           {
            "marker": {
             "colorbar": {
              "outlinewidth": 0,
              "ticks": ""
             }
            },
            "type": "scatterpolar"
           }
          ],
          "scatterpolargl": [
           {
            "marker": {
             "colorbar": {
              "outlinewidth": 0,
              "ticks": ""
             }
            },
            "type": "scatterpolargl"
           }
          ],
          "scatterternary": [
           {
            "marker": {
             "colorbar": {
              "outlinewidth": 0,
              "ticks": ""
             }
            },
            "type": "scatterternary"
           }
          ],
          "surface": [
           {
            "colorbar": {
             "outlinewidth": 0,
             "ticks": ""
            },
            "colorscale": [
             [
              0,
              "#0d0887"
             ],
             [
              0.1111111111111111,
              "#46039f"
             ],
             [
              0.2222222222222222,
              "#7201a8"
             ],
             [
              0.3333333333333333,
              "#9c179e"
             ],
             [
              0.4444444444444444,
              "#bd3786"
             ],
             [
              0.5555555555555556,
              "#d8576b"
             ],
             [
              0.6666666666666666,
              "#ed7953"
             ],
             [
              0.7777777777777778,
              "#fb9f3a"
             ],
             [
              0.8888888888888888,
              "#fdca26"
             ],
             [
              1,
              "#f0f921"
             ]
            ],
            "type": "surface"
           }
          ],
          "table": [
           {
            "cells": {
             "fill": {
              "color": "#EBF0F8"
             },
             "line": {
              "color": "white"
             }
            },
            "header": {
             "fill": {
              "color": "#C8D4E3"
             },
             "line": {
              "color": "white"
             }
            },
            "type": "table"
           }
          ]
         },
         "layout": {
          "annotationdefaults": {
           "arrowcolor": "#2a3f5f",
           "arrowhead": 0,
           "arrowwidth": 1
          },
          "autotypenumbers": "strict",
          "coloraxis": {
           "colorbar": {
            "outlinewidth": 0,
            "ticks": ""
           }
          },
          "colorscale": {
           "diverging": [
            [
             0,
             "#8e0152"
            ],
            [
             0.1,
             "#c51b7d"
            ],
            [
             0.2,
             "#de77ae"
            ],
            [
             0.3,
             "#f1b6da"
            ],
            [
             0.4,
             "#fde0ef"
            ],
            [
             0.5,
             "#f7f7f7"
            ],
            [
             0.6,
             "#e6f5d0"
            ],
            [
             0.7,
             "#b8e186"
            ],
            [
             0.8,
             "#7fbc41"
            ],
            [
             0.9,
             "#4d9221"
            ],
            [
             1,
             "#276419"
            ]
           ],
           "sequential": [
            [
             0,
             "#0d0887"
            ],
            [
             0.1111111111111111,
             "#46039f"
            ],
            [
             0.2222222222222222,
             "#7201a8"
            ],
            [
             0.3333333333333333,
             "#9c179e"
            ],
            [
             0.4444444444444444,
             "#bd3786"
            ],
            [
             0.5555555555555556,
             "#d8576b"
            ],
            [
             0.6666666666666666,
             "#ed7953"
            ],
            [
             0.7777777777777778,
             "#fb9f3a"
            ],
            [
             0.8888888888888888,
             "#fdca26"
            ],
            [
             1,
             "#f0f921"
            ]
           ],
           "sequentialminus": [
            [
             0,
             "#0d0887"
            ],
            [
             0.1111111111111111,
             "#46039f"
            ],
            [
             0.2222222222222222,
             "#7201a8"
            ],
            [
             0.3333333333333333,
             "#9c179e"
            ],
            [
             0.4444444444444444,
             "#bd3786"
            ],
            [
             0.5555555555555556,
             "#d8576b"
            ],
            [
             0.6666666666666666,
             "#ed7953"
            ],
            [
             0.7777777777777778,
             "#fb9f3a"
            ],
            [
             0.8888888888888888,
             "#fdca26"
            ],
            [
             1,
             "#f0f921"
            ]
           ]
          },
          "colorway": [
           "#636efa",
           "#EF553B",
           "#00cc96",
           "#ab63fa",
           "#FFA15A",
           "#19d3f3",
           "#FF6692",
           "#B6E880",
           "#FF97FF",
           "#FECB52"
          ],
          "font": {
           "color": "#2a3f5f"
          },
          "geo": {
           "bgcolor": "white",
           "lakecolor": "white",
           "landcolor": "#E5ECF6",
           "showlakes": true,
           "showland": true,
           "subunitcolor": "white"
          },
          "hoverlabel": {
           "align": "left"
          },
          "hovermode": "closest",
          "mapbox": {
           "style": "light"
          },
          "paper_bgcolor": "white",
          "plot_bgcolor": "#E5ECF6",
          "polar": {
           "angularaxis": {
            "gridcolor": "white",
            "linecolor": "white",
            "ticks": ""
           },
           "bgcolor": "#E5ECF6",
           "radialaxis": {
            "gridcolor": "white",
            "linecolor": "white",
            "ticks": ""
           }
          },
          "scene": {
           "xaxis": {
            "backgroundcolor": "#E5ECF6",
            "gridcolor": "white",
            "gridwidth": 2,
            "linecolor": "white",
            "showbackground": true,
            "ticks": "",
            "zerolinecolor": "white"
           },
           "yaxis": {
            "backgroundcolor": "#E5ECF6",
            "gridcolor": "white",
            "gridwidth": 2,
            "linecolor": "white",
            "showbackground": true,
            "ticks": "",
            "zerolinecolor": "white"
           },
           "zaxis": {
            "backgroundcolor": "#E5ECF6",
            "gridcolor": "white",
            "gridwidth": 2,
            "linecolor": "white",
            "showbackground": true,
            "ticks": "",
            "zerolinecolor": "white"
           }
          },
          "shapedefaults": {
           "line": {
            "color": "#2a3f5f"
           }
          },
          "ternary": {
           "aaxis": {
            "gridcolor": "white",
            "linecolor": "white",
            "ticks": ""
           },
           "baxis": {
            "gridcolor": "white",
            "linecolor": "white",
            "ticks": ""
           },
           "bgcolor": "#E5ECF6",
           "caxis": {
            "gridcolor": "white",
            "linecolor": "white",
            "ticks": ""
           }
          },
          "title": {
           "x": 0.05
          },
          "xaxis": {
           "automargin": true,
           "gridcolor": "white",
           "linecolor": "white",
           "ticks": "",
           "title": {
            "standoff": 15
           },
           "zerolinecolor": "white",
           "zerolinewidth": 2
          },
          "yaxis": {
           "automargin": true,
           "gridcolor": "white",
           "linecolor": "white",
           "ticks": "",
           "title": {
            "standoff": 15
           },
           "zerolinecolor": "white",
           "zerolinewidth": 2
          }
         }
        },
        "title": {
         "font": {
          "color": "#4D5663"
         }
        },
        "xaxis": {
         "anchor": "y",
         "domain": [
          0,
          0.2125
         ],
         "gridcolor": "#E1E5ED",
         "showgrid": false,
         "tickfont": {
          "color": "#4D5663"
         },
         "title": {
          "font": {
           "color": "#4D5663"
          },
          "text": ""
         },
         "zerolinecolor": "#E1E5ED"
        },
        "xaxis10": {
         "anchor": "y10",
         "domain": [
          0.2625,
          0.475
         ],
         "gridcolor": "#E1E5ED",
         "showgrid": false,
         "tickfont": {
          "color": "#4D5663"
         },
         "title": {
          "font": {
           "color": "#4D5663"
          },
          "text": ""
         },
         "zerolinecolor": "#E1E5ED"
        },
        "xaxis11": {
         "anchor": "y11",
         "domain": [
          0.525,
          0.7375
         ],
         "gridcolor": "#E1E5ED",
         "showgrid": false,
         "tickfont": {
          "color": "#4D5663"
         },
         "title": {
          "font": {
           "color": "#4D5663"
          },
          "text": ""
         },
         "zerolinecolor": "#E1E5ED"
        },
        "xaxis12": {
         "anchor": "y12",
         "domain": [
          0.7875,
          1
         ],
         "gridcolor": "#E1E5ED",
         "showgrid": false,
         "tickfont": {
          "color": "#4D5663"
         },
         "title": {
          "font": {
           "color": "#4D5663"
          },
          "text": ""
         },
         "zerolinecolor": "#E1E5ED"
        },
        "xaxis13": {
         "anchor": "y13",
         "domain": [
          0,
          0.2125
         ],
         "gridcolor": "#E1E5ED",
         "showgrid": false,
         "tickfont": {
          "color": "#4D5663"
         },
         "title": {
          "font": {
           "color": "#4D5663"
          },
          "text": ""
         },
         "zerolinecolor": "#E1E5ED"
        },
        "xaxis14": {
         "anchor": "y14",
         "domain": [
          0.2625,
          0.475
         ],
         "gridcolor": "#E1E5ED",
         "showgrid": false,
         "tickfont": {
          "color": "#4D5663"
         },
         "title": {
          "font": {
           "color": "#4D5663"
          },
          "text": ""
         },
         "zerolinecolor": "#E1E5ED"
        },
        "xaxis15": {
         "anchor": "y15",
         "domain": [
          0.525,
          0.7375
         ],
         "gridcolor": "#E1E5ED",
         "showgrid": false,
         "tickfont": {
          "color": "#4D5663"
         },
         "title": {
          "font": {
           "color": "#4D5663"
          },
          "text": ""
         },
         "zerolinecolor": "#E1E5ED"
        },
        "xaxis16": {
         "anchor": "y16",
         "domain": [
          0.7875,
          1
         ],
         "gridcolor": "#E1E5ED",
         "showgrid": false,
         "tickfont": {
          "color": "#4D5663"
         },
         "title": {
          "font": {
           "color": "#4D5663"
          },
          "text": ""
         },
         "zerolinecolor": "#E1E5ED"
        },
        "xaxis2": {
         "anchor": "y2",
         "domain": [
          0.2625,
          0.475
         ],
         "gridcolor": "#E1E5ED",
         "showgrid": false,
         "tickfont": {
          "color": "#4D5663"
         },
         "title": {
          "font": {
           "color": "#4D5663"
          },
          "text": ""
         },
         "zerolinecolor": "#E1E5ED"
        },
        "xaxis3": {
         "anchor": "y3",
         "domain": [
          0.525,
          0.7375
         ],
         "gridcolor": "#E1E5ED",
         "showgrid": false,
         "tickfont": {
          "color": "#4D5663"
         },
         "title": {
          "font": {
           "color": "#4D5663"
          },
          "text": ""
         },
         "zerolinecolor": "#E1E5ED"
        },
        "xaxis4": {
         "anchor": "y4",
         "domain": [
          0.7875,
          1
         ],
         "gridcolor": "#E1E5ED",
         "showgrid": false,
         "tickfont": {
          "color": "#4D5663"
         },
         "title": {
          "font": {
           "color": "#4D5663"
          },
          "text": ""
         },
         "zerolinecolor": "#E1E5ED"
        },
        "xaxis5": {
         "anchor": "y5",
         "domain": [
          0,
          0.2125
         ],
         "gridcolor": "#E1E5ED",
         "showgrid": false,
         "tickfont": {
          "color": "#4D5663"
         },
         "title": {
          "font": {
           "color": "#4D5663"
          },
          "text": ""
         },
         "zerolinecolor": "#E1E5ED"
        },
        "xaxis6": {
         "anchor": "y6",
         "domain": [
          0.2625,
          0.475
         ],
         "gridcolor": "#E1E5ED",
         "showgrid": false,
         "tickfont": {
          "color": "#4D5663"
         },
         "title": {
          "font": {
           "color": "#4D5663"
          },
          "text": ""
         },
         "zerolinecolor": "#E1E5ED"
        },
        "xaxis7": {
         "anchor": "y7",
         "domain": [
          0.525,
          0.7375
         ],
         "gridcolor": "#E1E5ED",
         "showgrid": false,
         "tickfont": {
          "color": "#4D5663"
         },
         "title": {
          "font": {
           "color": "#4D5663"
          },
          "text": ""
         },
         "zerolinecolor": "#E1E5ED"
        },
        "xaxis8": {
         "anchor": "y8",
         "domain": [
          0.7875,
          1
         ],
         "gridcolor": "#E1E5ED",
         "showgrid": false,
         "tickfont": {
          "color": "#4D5663"
         },
         "title": {
          "font": {
           "color": "#4D5663"
          },
          "text": ""
         },
         "zerolinecolor": "#E1E5ED"
        },
        "xaxis9": {
         "anchor": "y9",
         "domain": [
          0,
          0.2125
         ],
         "gridcolor": "#E1E5ED",
         "showgrid": false,
         "tickfont": {
          "color": "#4D5663"
         },
         "title": {
          "font": {
           "color": "#4D5663"
          },
          "text": ""
         },
         "zerolinecolor": "#E1E5ED"
        },
        "yaxis": {
         "anchor": "x",
         "domain": [
          0.8025,
          1
         ],
         "gridcolor": "#E1E5ED",
         "showgrid": false,
         "tickfont": {
          "color": "#4D5663"
         },
         "title": {
          "font": {
           "color": "#4D5663"
          },
          "text": ""
         },
         "zerolinecolor": "#E1E5ED"
        },
        "yaxis10": {
         "anchor": "x10",
         "domain": [
          0.2675,
          0.465
         ],
         "gridcolor": "#E1E5ED",
         "showgrid": false,
         "tickfont": {
          "color": "#4D5663"
         },
         "title": {
          "font": {
           "color": "#4D5663"
          },
          "text": ""
         },
         "zerolinecolor": "#E1E5ED"
        },
        "yaxis11": {
         "anchor": "x11",
         "domain": [
          0.2675,
          0.465
         ],
         "gridcolor": "#E1E5ED",
         "showgrid": false,
         "tickfont": {
          "color": "#4D5663"
         },
         "title": {
          "font": {
           "color": "#4D5663"
          },
          "text": ""
         },
         "zerolinecolor": "#E1E5ED"
        },
        "yaxis12": {
         "anchor": "x12",
         "domain": [
          0.2675,
          0.465
         ],
         "gridcolor": "#E1E5ED",
         "showgrid": false,
         "tickfont": {
          "color": "#4D5663"
         },
         "title": {
          "font": {
           "color": "#4D5663"
          },
          "text": ""
         },
         "zerolinecolor": "#E1E5ED"
        },
        "yaxis13": {
         "anchor": "x13",
         "domain": [
          0,
          0.1975
         ],
         "gridcolor": "#E1E5ED",
         "showgrid": false,
         "tickfont": {
          "color": "#4D5663"
         },
         "title": {
          "font": {
           "color": "#4D5663"
          },
          "text": ""
         },
         "zerolinecolor": "#E1E5ED"
        },
        "yaxis14": {
         "anchor": "x14",
         "domain": [
          0,
          0.1975
         ],
         "gridcolor": "#E1E5ED",
         "showgrid": false,
         "tickfont": {
          "color": "#4D5663"
         },
         "title": {
          "font": {
           "color": "#4D5663"
          },
          "text": ""
         },
         "zerolinecolor": "#E1E5ED"
        },
        "yaxis15": {
         "anchor": "x15",
         "domain": [
          0,
          0.1975
         ],
         "gridcolor": "#E1E5ED",
         "showgrid": false,
         "tickfont": {
          "color": "#4D5663"
         },
         "title": {
          "font": {
           "color": "#4D5663"
          },
          "text": ""
         },
         "zerolinecolor": "#E1E5ED"
        },
        "yaxis16": {
         "anchor": "x16",
         "domain": [
          0,
          0.1975
         ],
         "gridcolor": "#E1E5ED",
         "showgrid": false,
         "tickfont": {
          "color": "#4D5663"
         },
         "title": {
          "font": {
           "color": "#4D5663"
          },
          "text": ""
         },
         "zerolinecolor": "#E1E5ED"
        },
        "yaxis2": {
         "anchor": "x2",
         "domain": [
          0.8025,
          1
         ],
         "gridcolor": "#E1E5ED",
         "showgrid": false,
         "tickfont": {
          "color": "#4D5663"
         },
         "title": {
          "font": {
           "color": "#4D5663"
          },
          "text": ""
         },
         "zerolinecolor": "#E1E5ED"
        },
        "yaxis3": {
         "anchor": "x3",
         "domain": [
          0.8025,
          1
         ],
         "gridcolor": "#E1E5ED",
         "showgrid": false,
         "tickfont": {
          "color": "#4D5663"
         },
         "title": {
          "font": {
           "color": "#4D5663"
          },
          "text": ""
         },
         "zerolinecolor": "#E1E5ED"
        },
        "yaxis4": {
         "anchor": "x4",
         "domain": [
          0.8025,
          1
         ],
         "gridcolor": "#E1E5ED",
         "showgrid": false,
         "tickfont": {
          "color": "#4D5663"
         },
         "title": {
          "font": {
           "color": "#4D5663"
          },
          "text": ""
         },
         "zerolinecolor": "#E1E5ED"
        },
        "yaxis5": {
         "anchor": "x5",
         "domain": [
          0.535,
          0.7325
         ],
         "gridcolor": "#E1E5ED",
         "showgrid": false,
         "tickfont": {
          "color": "#4D5663"
         },
         "title": {
          "font": {
           "color": "#4D5663"
          },
          "text": ""
         },
         "zerolinecolor": "#E1E5ED"
        },
        "yaxis6": {
         "anchor": "x6",
         "domain": [
          0.535,
          0.7325
         ],
         "gridcolor": "#E1E5ED",
         "showgrid": false,
         "tickfont": {
          "color": "#4D5663"
         },
         "title": {
          "font": {
           "color": "#4D5663"
          },
          "text": ""
         },
         "zerolinecolor": "#E1E5ED"
        },
        "yaxis7": {
         "anchor": "x7",
         "domain": [
          0.535,
          0.7325
         ],
         "gridcolor": "#E1E5ED",
         "showgrid": false,
         "tickfont": {
          "color": "#4D5663"
         },
         "title": {
          "font": {
           "color": "#4D5663"
          },
          "text": ""
         },
         "zerolinecolor": "#E1E5ED"
        },
        "yaxis8": {
         "anchor": "x8",
         "domain": [
          0.535,
          0.7325
         ],
         "gridcolor": "#E1E5ED",
         "showgrid": false,
         "tickfont": {
          "color": "#4D5663"
         },
         "title": {
          "font": {
           "color": "#4D5663"
          },
          "text": ""
         },
         "zerolinecolor": "#E1E5ED"
        },
        "yaxis9": {
         "anchor": "x9",
         "domain": [
          0.2675,
          0.465
         ],
         "gridcolor": "#E1E5ED",
         "showgrid": false,
         "tickfont": {
          "color": "#4D5663"
         },
         "title": {
          "font": {
           "color": "#4D5663"
          },
          "text": ""
         },
         "zerolinecolor": "#E1E5ED"
        }
       }
      },
      "text/html": [
       "<div>                            <div id=\"77de7223-6ad8-4771-a0e2-b7f1b3dd1034\" class=\"plotly-graph-div\" style=\"height:525px; width:100%;\"></div>            <script type=\"text/javascript\">                require([\"plotly\"], function(Plotly) {                    window.PLOTLYENV=window.PLOTLYENV || {};\n",
       "                    window.PLOTLYENV.BASE_URL='https://plot.ly';                                    if (document.getElementById(\"77de7223-6ad8-4771-a0e2-b7f1b3dd1034\")) {                    Plotly.newPlot(                        \"77de7223-6ad8-4771-a0e2-b7f1b3dd1034\",                        [{\"histfunc\":\"count\",\"histnorm\":\"\",\"marker\":{\"color\":\"rgba(255, 153, 51, 1.0)\",\"line\":{\"color\":\"#4D5663\",\"width\":1.3}},\"name\":\"A\",\"nbinsx\":10,\"opacity\":0.8,\"orientation\":\"v\",\"x\":[-1.0414938449171551,-0.4354303557101797,0.34091500601799474,2.0746916097471155,-0.24747851502364648,0.6186335280195576,0.06458959483746213,0.19202582337651733,0.6461078850095495,-1.0390452041639444,0.6227323408901065,-0.1674391576392429,-0.1926042781471134,-0.04046327744673468,-2.031733686393499,-1.2521232482806384,-1.0611150328040704,-1.3005911023122887,2.73068526240894,-0.014905077491252519,-0.3365265182353228,1.5688337988015868,-0.3537229936367583,-0.7774145415496925,-0.5531468020354161,0.3732146468619525,0.47503628200836756,0.6675289888307547,0.6342468938845498,0.3782402737404014,1.8073693745270427,0.10079055157427515,0.44395509474085854,-1.5999810850342004,-0.9361645071581075,1.6427002545546334,-0.19965900866375763,-0.5739373863449075,-0.4867162121661351,-0.7494828396960236,-0.4680209101771845,-0.646200346510384,-1.4499063061319621,-0.6729265648978373,-0.25920990095800994,-0.24524031082590997,0.9424992940939884,0.09746308886052545,-0.05670856183167005,-0.3700987414342005,-1.5330827425094273,-1.513493870789549,1.0020688989440132,-0.14477971981749638,-0.06713316999739569,0.36165647674204604,0.7879463209144801,1.2050186982820554,0.6388184550724472,0.6740116687479178,-0.7147605818973362,0.18841425752213384,0.47735099292647765,-0.035006175364803556,-1.0344884992735575,0.15948944361386735,-0.19589283962336,-0.6852943018916997,-0.5880941757709064,0.17035562449446132,0.5913902058621666,-0.9199122157675864,0.9573935392643146,-0.22375424741831904,0.43946538468921637,-0.3131973114136663,0.899443150063009,-0.8264953253132122,-0.16538637364699124,-0.13517908001439397,0.8091401271172439,-1.30904640296218,-0.45422206139924226,0.4907240937863005,1.424194979291537,1.1295658613318202,-1.1343449569566135,1.7497515669552424,-0.15609510980782706,-0.9701048648149126,-1.2922061453965263,2.015183999384643,1.0651251975905274,0.37795898160154373,-0.858135175494791,-1.8924836165721872,-0.7191375774094184,-0.5522674191284617,-0.913005426693775,1.6573844242452849],\"xaxis\":\"x\",\"yaxis\":\"y\",\"type\":\"histogram\"},{\"line\":{\"color\":\"rgba(128, 128, 128, 1.0)\",\"dash\":\"solid\",\"shape\":\"linear\",\"width\":1.3},\"marker\":{\"size\":2,\"symbol\":\"circle\"},\"mode\":\"markers\",\"name\":\"A\",\"text\":\"\",\"x\":[0.32996827386755656,1.218981953879945,-1.633714055298131,-0.6680046279061812,-0.6445098144275172,-1.4982567785730112,0.3789401874474387,-0.8354867132076352,-0.49649095723019165,0.9476618567929485,-0.29885328226115,-0.729847228699825,-0.2983012825271507,-1.5274385530114047,0.3163460257637768,0.9882599819686255,-1.8372850712119513,0.07213041078206192,-0.8505942819760838,-0.2593730549559899,-0.20097115604456608,0.08776815285268036,0.8990529880959327,-1.2300154009386157,-0.4646616485397626,2.008716385462978,1.3815353909949974,-0.4680705695693689,0.9951906400439332,-0.12774732777664352,-0.17209346094795594,0.42384697762520135,0.0881677466704928,-1.2137123261984333,-0.29210386848008296,-0.42918331158735196,0.5291358204103447,-0.3611920569394752,-0.4411126619848192,0.3564598562677138,-0.12583032060194752,-0.8136096980573316,-0.17480939014138125,0.6778331503575926,-1.8800938127463223,-0.20868994954541098,-1.0943898202087554,0.8226631614354307,-1.194260664483298,0.9773449695985037,-1.1496991655267428,-0.4387572002224895,0.7113296978977882,0.6136809231209187,0.5921491861167535,0.1571828181134136,0.14634596816652118,1.2738759482054949,0.6972173278890168,-0.987761104038325,-0.1670094503849138,0.3250201326918829,0.48994010297726887,1.4044309262428363,0.11312278441985077,-0.10669962027891286,-1.1168477862086412,-0.17675332603717261,0.03208977659009037,-1.6516672521154045,1.1328237831004917,-0.2851532459057253,1.149522847797316,0.4923262442913057,0.5794022959078174,-0.4871163476749682,-0.3483589684714914,-0.7185104093064334,0.6923830430179017,-0.9884401103254018,-1.4605573010519564,-0.9574630312394341,0.16346484134391212,0.10498467403726597,0.20016905200097182,-0.2795659106824173,-0.6401046918070968,1.1582797184904188,-1.2380619543518485,-2.028760970003082,-0.15868350420267063,1.8185289573542853,0.2526564960445763,0.3706396483181391,-0.2691068747137809,0.423560909260566,0.9555620773895517,0.244811084935598,0.13634805361852287,-0.24890511762323125],\"xaxis\":\"x2\",\"y\":[-1.0414938449171551,-0.4354303557101797,0.34091500601799474,2.0746916097471155,-0.24747851502364648,0.6186335280195576,0.06458959483746213,0.19202582337651733,0.6461078850095495,-1.0390452041639444,0.6227323408901065,-0.1674391576392429,-0.1926042781471134,-0.04046327744673468,-2.031733686393499,-1.2521232482806384,-1.0611150328040704,-1.3005911023122887,2.73068526240894,-0.014905077491252519,-0.3365265182353228,1.5688337988015868,-0.3537229936367583,-0.7774145415496925,-0.5531468020354161,0.3732146468619525,0.47503628200836756,0.6675289888307547,0.6342468938845498,0.3782402737404014,1.8073693745270427,0.10079055157427515,0.44395509474085854,-1.5999810850342004,-0.9361645071581075,1.6427002545546334,-0.19965900866375763,-0.5739373863449075,-0.4867162121661351,-0.7494828396960236,-0.4680209101771845,-0.646200346510384,-1.4499063061319621,-0.6729265648978373,-0.25920990095800994,-0.24524031082590997,0.9424992940939884,0.09746308886052545,-0.05670856183167005,-0.3700987414342005,-1.5330827425094273,-1.513493870789549,1.0020688989440132,-0.14477971981749638,-0.06713316999739569,0.36165647674204604,0.7879463209144801,1.2050186982820554,0.6388184550724472,0.6740116687479178,-0.7147605818973362,0.18841425752213384,0.47735099292647765,-0.035006175364803556,-1.0344884992735575,0.15948944361386735,-0.19589283962336,-0.6852943018916997,-0.5880941757709064,0.17035562449446132,0.5913902058621666,-0.9199122157675864,0.9573935392643146,-0.22375424741831904,0.43946538468921637,-0.3131973114136663,0.899443150063009,-0.8264953253132122,-0.16538637364699124,-0.13517908001439397,0.8091401271172439,-1.30904640296218,-0.45422206139924226,0.4907240937863005,1.424194979291537,1.1295658613318202,-1.1343449569566135,1.7497515669552424,-0.15609510980782706,-0.9701048648149126,-1.2922061453965263,2.015183999384643,1.0651251975905274,0.37795898160154373,-0.858135175494791,-1.8924836165721872,-0.7191375774094184,-0.5522674191284617,-0.913005426693775,1.6573844242452849],\"yaxis\":\"y2\",\"type\":\"scatter\"},{\"line\":{\"color\":\"rgba(128, 128, 128, 1.0)\",\"dash\":\"solid\",\"shape\":\"linear\",\"width\":1.3},\"marker\":{\"size\":2,\"symbol\":\"circle\"},\"mode\":\"markers\",\"name\":\"A\",\"text\":\"\",\"x\":[-2.016560176964694,-0.5526426859704904,-0.5314657366816735,-0.05220912495037559,0.2963821510620666,-0.12581807930779365,-0.7025733385917851,1.0166183844128256,-0.5743783298540112,0.571675859788498,-0.855400702568051,-1.0093103002061985,0.4880023935694279,-0.6662923678904729,-1.484305208787236,1.873891975641196,0.33409260032685745,1.223492923576503,-0.698084269345124,-1.3504226078848276,-0.04655912111645202,-0.5452606400184166,-1.2273335579424465,-0.3685221913479382,-1.8066092085692813,-1.246575967428496,-1.0665769105877325,-1.4742368894788254,1.988525714866486,-1.5732392416632852,-0.19356880583840239,-1.8762002984653667,0.2241505560086995,0.8292654196643479,-0.31633390026068603,-0.3004031719349392,-0.6489568795320175,0.7620906664059216,-0.4040303297715138,0.7002723466172931,-0.6635562402960373,1.6153326294897106,0.5087662396569937,0.4688965450716319,0.4417390351322205,0.4112103689214712,0.5909559790838734,-0.02770784650278129,-0.8843012438870057,2.0004776315686303,0.4578950236028908,0.33581431946108486,-0.6665767232623846,0.5843049464286401,-0.5720501668209064,0.9943887494649332,0.2613130779229752,0.6837227899983538,-1.0277368772421491,-0.09621664584859509,-0.2741123341430858,0.2727942529971171,-0.04460788079917133,-0.4817291981993936,-0.5475916152967425,-1.2113403334904689,0.03968942136801883,0.406174203603089,0.10174314212853848,0.7180342617932176,-1.1735477603549929,1.409398778890136,0.11143314325307396,2.2775304549294044,0.33763620551172435,-2.1328961526473744,-0.5059643668915403,0.6353316268941461,1.3745990694639407,-1.2685048536967578,0.5860841671488486,-1.389553921993753,0.4009385655743347,-2.1087942807016087,0.20307148393124852,0.15184776819603465,-1.3254671707150083,-0.25067498006715777,0.7359377414617873,-0.20999748777386482,-1.644749751394019,2.294618090424474,1.045365904722829,1.621265753683623,0.17603549048815503,1.3694728788521373,1.2673870642229166,-1.3497020606664138,-1.3435668342796376,-1.3901240434280906],\"xaxis\":\"x3\",\"y\":[-1.0414938449171551,-0.4354303557101797,0.34091500601799474,2.0746916097471155,-0.24747851502364648,0.6186335280195576,0.06458959483746213,0.19202582337651733,0.6461078850095495,-1.0390452041639444,0.6227323408901065,-0.1674391576392429,-0.1926042781471134,-0.04046327744673468,-2.031733686393499,-1.2521232482806384,-1.0611150328040704,-1.3005911023122887,2.73068526240894,-0.014905077491252519,-0.3365265182353228,1.5688337988015868,-0.3537229936367583,-0.7774145415496925,-0.5531468020354161,0.3732146468619525,0.47503628200836756,0.6675289888307547,0.6342468938845498,0.3782402737404014,1.8073693745270427,0.10079055157427515,0.44395509474085854,-1.5999810850342004,-0.9361645071581075,1.6427002545546334,-0.19965900866375763,-0.5739373863449075,-0.4867162121661351,-0.7494828396960236,-0.4680209101771845,-0.646200346510384,-1.4499063061319621,-0.6729265648978373,-0.25920990095800994,-0.24524031082590997,0.9424992940939884,0.09746308886052545,-0.05670856183167005,-0.3700987414342005,-1.5330827425094273,-1.513493870789549,1.0020688989440132,-0.14477971981749638,-0.06713316999739569,0.36165647674204604,0.7879463209144801,1.2050186982820554,0.6388184550724472,0.6740116687479178,-0.7147605818973362,0.18841425752213384,0.47735099292647765,-0.035006175364803556,-1.0344884992735575,0.15948944361386735,-0.19589283962336,-0.6852943018916997,-0.5880941757709064,0.17035562449446132,0.5913902058621666,-0.9199122157675864,0.9573935392643146,-0.22375424741831904,0.43946538468921637,-0.3131973114136663,0.899443150063009,-0.8264953253132122,-0.16538637364699124,-0.13517908001439397,0.8091401271172439,-1.30904640296218,-0.45422206139924226,0.4907240937863005,1.424194979291537,1.1295658613318202,-1.1343449569566135,1.7497515669552424,-0.15609510980782706,-0.9701048648149126,-1.2922061453965263,2.015183999384643,1.0651251975905274,0.37795898160154373,-0.858135175494791,-1.8924836165721872,-0.7191375774094184,-0.5522674191284617,-0.913005426693775,1.6573844242452849],\"yaxis\":\"y3\",\"type\":\"scatter\"},{\"line\":{\"color\":\"rgba(128, 128, 128, 1.0)\",\"dash\":\"solid\",\"shape\":\"linear\",\"width\":1.3},\"marker\":{\"size\":2,\"symbol\":\"circle\"},\"mode\":\"markers\",\"name\":\"A\",\"text\":\"\",\"x\":[-0.48533585732076095,0.7996713741735981,0.6325273961804192,-0.5689560976695613,-1.2985548742795316,-2.2428272396069846,-1.5741576745405266,-0.39144102464643743,1.305658159123247,0.17837058518597354,-1.0877485928325967,-0.24902930111248073,-1.0097249836194204,-0.45194362596755944,-0.5727333096841546,0.047001001379377676,0.4506044498665508,1.6274663645011933,1.3984009077149095,0.2816498966760533,0.5441246715588851,-0.36105486565800077,-0.9680977111890429,-0.7708478770617477,0.7332062687189292,0.9972933023124365,0.34639261806853194,0.12935640088563605,-1.2456202672713668,-1.3332423821962383,-0.7996211461957595,-0.01074289340680255,0.077659750320619,0.2872510862499166,-0.5542854401860736,-0.8853501685802612,0.6898295874639477,0.35358317545308665,1.0987515108222736,-0.20036445976839387,1.1317168226847034,1.244145542615334,0.07624024531146381,-0.33008113474801715,0.23569495510145902,-1.2102230389000639,-1.0343537629596997,-0.7298355520182594,0.377827915598249,-1.2201611717084766,1.2033907315316315,-0.15732328897096295,-0.6711736981842389,-0.9411838392514316,-1.11750369661523,0.17255551449158266,-0.505804962509711,0.9371641703890039,0.6834463005151751,1.0547974031845184,-0.3339849796162532,-1.1527015629247779,1.7720578526909554,-0.4429735157380313,-0.8794450819310182,-0.5013173772023398,1.696281221312842,-0.1763374234695934,-0.6281807833334955,1.0847110417315151,-0.6388600686243346,-1.1121566057854972,-0.7468158718409179,0.721039962837402,-0.8965673414266935,0.7421930181724087,0.44187766482301494,1.4941507653768757,-0.07592439400346289,0.13044291172087732,-1.0222254887377913,-1.7739206541014654,-1.077351627835513,0.027363541160738185,-0.9748617967961105,2.518439989093622,-0.46205089679206945,2.3078053387388513,0.4257513394176721,0.49548491085486007,-0.4726521056558049,-0.890533468595739,-1.5441034294130145,-0.5871478452809765,3.3245473574055877,0.4248552040988651,0.757606892518138,2.1204035812719324,-1.5714245397250282,-0.5832059216386883],\"xaxis\":\"x4\",\"y\":[-1.0414938449171551,-0.4354303557101797,0.34091500601799474,2.0746916097471155,-0.24747851502364648,0.6186335280195576,0.06458959483746213,0.19202582337651733,0.6461078850095495,-1.0390452041639444,0.6227323408901065,-0.1674391576392429,-0.1926042781471134,-0.04046327744673468,-2.031733686393499,-1.2521232482806384,-1.0611150328040704,-1.3005911023122887,2.73068526240894,-0.014905077491252519,-0.3365265182353228,1.5688337988015868,-0.3537229936367583,-0.7774145415496925,-0.5531468020354161,0.3732146468619525,0.47503628200836756,0.6675289888307547,0.6342468938845498,0.3782402737404014,1.8073693745270427,0.10079055157427515,0.44395509474085854,-1.5999810850342004,-0.9361645071581075,1.6427002545546334,-0.19965900866375763,-0.5739373863449075,-0.4867162121661351,-0.7494828396960236,-0.4680209101771845,-0.646200346510384,-1.4499063061319621,-0.6729265648978373,-0.25920990095800994,-0.24524031082590997,0.9424992940939884,0.09746308886052545,-0.05670856183167005,-0.3700987414342005,-1.5330827425094273,-1.513493870789549,1.0020688989440132,-0.14477971981749638,-0.06713316999739569,0.36165647674204604,0.7879463209144801,1.2050186982820554,0.6388184550724472,0.6740116687479178,-0.7147605818973362,0.18841425752213384,0.47735099292647765,-0.035006175364803556,-1.0344884992735575,0.15948944361386735,-0.19589283962336,-0.6852943018916997,-0.5880941757709064,0.17035562449446132,0.5913902058621666,-0.9199122157675864,0.9573935392643146,-0.22375424741831904,0.43946538468921637,-0.3131973114136663,0.899443150063009,-0.8264953253132122,-0.16538637364699124,-0.13517908001439397,0.8091401271172439,-1.30904640296218,-0.45422206139924226,0.4907240937863005,1.424194979291537,1.1295658613318202,-1.1343449569566135,1.7497515669552424,-0.15609510980782706,-0.9701048648149126,-1.2922061453965263,2.015183999384643,1.0651251975905274,0.37795898160154373,-0.858135175494791,-1.8924836165721872,-0.7191375774094184,-0.5522674191284617,-0.913005426693775,1.6573844242452849],\"yaxis\":\"y4\",\"type\":\"scatter\"},{\"line\":{\"color\":\"rgba(128, 128, 128, 1.0)\",\"dash\":\"solid\",\"shape\":\"linear\",\"width\":1.3},\"marker\":{\"size\":2,\"symbol\":\"circle\"},\"mode\":\"markers\",\"name\":\"B\",\"text\":\"\",\"x\":[-1.0414938449171551,-0.4354303557101797,0.34091500601799474,2.0746916097471155,-0.24747851502364648,0.6186335280195576,0.06458959483746213,0.19202582337651733,0.6461078850095495,-1.0390452041639444,0.6227323408901065,-0.1674391576392429,-0.1926042781471134,-0.04046327744673468,-2.031733686393499,-1.2521232482806384,-1.0611150328040704,-1.3005911023122887,2.73068526240894,-0.014905077491252519,-0.3365265182353228,1.5688337988015868,-0.3537229936367583,-0.7774145415496925,-0.5531468020354161,0.3732146468619525,0.47503628200836756,0.6675289888307547,0.6342468938845498,0.3782402737404014,1.8073693745270427,0.10079055157427515,0.44395509474085854,-1.5999810850342004,-0.9361645071581075,1.6427002545546334,-0.19965900866375763,-0.5739373863449075,-0.4867162121661351,-0.7494828396960236,-0.4680209101771845,-0.646200346510384,-1.4499063061319621,-0.6729265648978373,-0.25920990095800994,-0.24524031082590997,0.9424992940939884,0.09746308886052545,-0.05670856183167005,-0.3700987414342005,-1.5330827425094273,-1.513493870789549,1.0020688989440132,-0.14477971981749638,-0.06713316999739569,0.36165647674204604,0.7879463209144801,1.2050186982820554,0.6388184550724472,0.6740116687479178,-0.7147605818973362,0.18841425752213384,0.47735099292647765,-0.035006175364803556,-1.0344884992735575,0.15948944361386735,-0.19589283962336,-0.6852943018916997,-0.5880941757709064,0.17035562449446132,0.5913902058621666,-0.9199122157675864,0.9573935392643146,-0.22375424741831904,0.43946538468921637,-0.3131973114136663,0.899443150063009,-0.8264953253132122,-0.16538637364699124,-0.13517908001439397,0.8091401271172439,-1.30904640296218,-0.45422206139924226,0.4907240937863005,1.424194979291537,1.1295658613318202,-1.1343449569566135,1.7497515669552424,-0.15609510980782706,-0.9701048648149126,-1.2922061453965263,2.015183999384643,1.0651251975905274,0.37795898160154373,-0.858135175494791,-1.8924836165721872,-0.7191375774094184,-0.5522674191284617,-0.913005426693775,1.6573844242452849],\"xaxis\":\"x5\",\"y\":[0.32996827386755656,1.218981953879945,-1.633714055298131,-0.6680046279061812,-0.6445098144275172,-1.4982567785730112,0.3789401874474387,-0.8354867132076352,-0.49649095723019165,0.9476618567929485,-0.29885328226115,-0.729847228699825,-0.2983012825271507,-1.5274385530114047,0.3163460257637768,0.9882599819686255,-1.8372850712119513,0.07213041078206192,-0.8505942819760838,-0.2593730549559899,-0.20097115604456608,0.08776815285268036,0.8990529880959327,-1.2300154009386157,-0.4646616485397626,2.008716385462978,1.3815353909949974,-0.4680705695693689,0.9951906400439332,-0.12774732777664352,-0.17209346094795594,0.42384697762520135,0.0881677466704928,-1.2137123261984333,-0.29210386848008296,-0.42918331158735196,0.5291358204103447,-0.3611920569394752,-0.4411126619848192,0.3564598562677138,-0.12583032060194752,-0.8136096980573316,-0.17480939014138125,0.6778331503575926,-1.8800938127463223,-0.20868994954541098,-1.0943898202087554,0.8226631614354307,-1.194260664483298,0.9773449695985037,-1.1496991655267428,-0.4387572002224895,0.7113296978977882,0.6136809231209187,0.5921491861167535,0.1571828181134136,0.14634596816652118,1.2738759482054949,0.6972173278890168,-0.987761104038325,-0.1670094503849138,0.3250201326918829,0.48994010297726887,1.4044309262428363,0.11312278441985077,-0.10669962027891286,-1.1168477862086412,-0.17675332603717261,0.03208977659009037,-1.6516672521154045,1.1328237831004917,-0.2851532459057253,1.149522847797316,0.4923262442913057,0.5794022959078174,-0.4871163476749682,-0.3483589684714914,-0.7185104093064334,0.6923830430179017,-0.9884401103254018,-1.4605573010519564,-0.9574630312394341,0.16346484134391212,0.10498467403726597,0.20016905200097182,-0.2795659106824173,-0.6401046918070968,1.1582797184904188,-1.2380619543518485,-2.028760970003082,-0.15868350420267063,1.8185289573542853,0.2526564960445763,0.3706396483181391,-0.2691068747137809,0.423560909260566,0.9555620773895517,0.244811084935598,0.13634805361852287,-0.24890511762323125],\"yaxis\":\"y5\",\"type\":\"scatter\"},{\"histfunc\":\"count\",\"histnorm\":\"\",\"marker\":{\"color\":\"rgba(55, 128, 191, 1.0)\",\"line\":{\"color\":\"#4D5663\",\"width\":1.3}},\"name\":\"B\",\"nbinsx\":10,\"opacity\":0.8,\"orientation\":\"v\",\"x\":[0.32996827386755656,1.218981953879945,-1.633714055298131,-0.6680046279061812,-0.6445098144275172,-1.4982567785730112,0.3789401874474387,-0.8354867132076352,-0.49649095723019165,0.9476618567929485,-0.29885328226115,-0.729847228699825,-0.2983012825271507,-1.5274385530114047,0.3163460257637768,0.9882599819686255,-1.8372850712119513,0.07213041078206192,-0.8505942819760838,-0.2593730549559899,-0.20097115604456608,0.08776815285268036,0.8990529880959327,-1.2300154009386157,-0.4646616485397626,2.008716385462978,1.3815353909949974,-0.4680705695693689,0.9951906400439332,-0.12774732777664352,-0.17209346094795594,0.42384697762520135,0.0881677466704928,-1.2137123261984333,-0.29210386848008296,-0.42918331158735196,0.5291358204103447,-0.3611920569394752,-0.4411126619848192,0.3564598562677138,-0.12583032060194752,-0.8136096980573316,-0.17480939014138125,0.6778331503575926,-1.8800938127463223,-0.20868994954541098,-1.0943898202087554,0.8226631614354307,-1.194260664483298,0.9773449695985037,-1.1496991655267428,-0.4387572002224895,0.7113296978977882,0.6136809231209187,0.5921491861167535,0.1571828181134136,0.14634596816652118,1.2738759482054949,0.6972173278890168,-0.987761104038325,-0.1670094503849138,0.3250201326918829,0.48994010297726887,1.4044309262428363,0.11312278441985077,-0.10669962027891286,-1.1168477862086412,-0.17675332603717261,0.03208977659009037,-1.6516672521154045,1.1328237831004917,-0.2851532459057253,1.149522847797316,0.4923262442913057,0.5794022959078174,-0.4871163476749682,-0.3483589684714914,-0.7185104093064334,0.6923830430179017,-0.9884401103254018,-1.4605573010519564,-0.9574630312394341,0.16346484134391212,0.10498467403726597,0.20016905200097182,-0.2795659106824173,-0.6401046918070968,1.1582797184904188,-1.2380619543518485,-2.028760970003082,-0.15868350420267063,1.8185289573542853,0.2526564960445763,0.3706396483181391,-0.2691068747137809,0.423560909260566,0.9555620773895517,0.244811084935598,0.13634805361852287,-0.24890511762323125],\"xaxis\":\"x6\",\"yaxis\":\"y6\",\"type\":\"histogram\"},{\"line\":{\"color\":\"rgba(128, 128, 128, 1.0)\",\"dash\":\"solid\",\"shape\":\"linear\",\"width\":1.3},\"marker\":{\"size\":2,\"symbol\":\"circle\"},\"mode\":\"markers\",\"name\":\"B\",\"text\":\"\",\"x\":[-2.016560176964694,-0.5526426859704904,-0.5314657366816735,-0.05220912495037559,0.2963821510620666,-0.12581807930779365,-0.7025733385917851,1.0166183844128256,-0.5743783298540112,0.571675859788498,-0.855400702568051,-1.0093103002061985,0.4880023935694279,-0.6662923678904729,-1.484305208787236,1.873891975641196,0.33409260032685745,1.223492923576503,-0.698084269345124,-1.3504226078848276,-0.04655912111645202,-0.5452606400184166,-1.2273335579424465,-0.3685221913479382,-1.8066092085692813,-1.246575967428496,-1.0665769105877325,-1.4742368894788254,1.988525714866486,-1.5732392416632852,-0.19356880583840239,-1.8762002984653667,0.2241505560086995,0.8292654196643479,-0.31633390026068603,-0.3004031719349392,-0.6489568795320175,0.7620906664059216,-0.4040303297715138,0.7002723466172931,-0.6635562402960373,1.6153326294897106,0.5087662396569937,0.4688965450716319,0.4417390351322205,0.4112103689214712,0.5909559790838734,-0.02770784650278129,-0.8843012438870057,2.0004776315686303,0.4578950236028908,0.33581431946108486,-0.6665767232623846,0.5843049464286401,-0.5720501668209064,0.9943887494649332,0.2613130779229752,0.6837227899983538,-1.0277368772421491,-0.09621664584859509,-0.2741123341430858,0.2727942529971171,-0.04460788079917133,-0.4817291981993936,-0.5475916152967425,-1.2113403334904689,0.03968942136801883,0.406174203603089,0.10174314212853848,0.7180342617932176,-1.1735477603549929,1.409398778890136,0.11143314325307396,2.2775304549294044,0.33763620551172435,-2.1328961526473744,-0.5059643668915403,0.6353316268941461,1.3745990694639407,-1.2685048536967578,0.5860841671488486,-1.389553921993753,0.4009385655743347,-2.1087942807016087,0.20307148393124852,0.15184776819603465,-1.3254671707150083,-0.25067498006715777,0.7359377414617873,-0.20999748777386482,-1.644749751394019,2.294618090424474,1.045365904722829,1.621265753683623,0.17603549048815503,1.3694728788521373,1.2673870642229166,-1.3497020606664138,-1.3435668342796376,-1.3901240434280906],\"xaxis\":\"x7\",\"y\":[0.32996827386755656,1.218981953879945,-1.633714055298131,-0.6680046279061812,-0.6445098144275172,-1.4982567785730112,0.3789401874474387,-0.8354867132076352,-0.49649095723019165,0.9476618567929485,-0.29885328226115,-0.729847228699825,-0.2983012825271507,-1.5274385530114047,0.3163460257637768,0.9882599819686255,-1.8372850712119513,0.07213041078206192,-0.8505942819760838,-0.2593730549559899,-0.20097115604456608,0.08776815285268036,0.8990529880959327,-1.2300154009386157,-0.4646616485397626,2.008716385462978,1.3815353909949974,-0.4680705695693689,0.9951906400439332,-0.12774732777664352,-0.17209346094795594,0.42384697762520135,0.0881677466704928,-1.2137123261984333,-0.29210386848008296,-0.42918331158735196,0.5291358204103447,-0.3611920569394752,-0.4411126619848192,0.3564598562677138,-0.12583032060194752,-0.8136096980573316,-0.17480939014138125,0.6778331503575926,-1.8800938127463223,-0.20868994954541098,-1.0943898202087554,0.8226631614354307,-1.194260664483298,0.9773449695985037,-1.1496991655267428,-0.4387572002224895,0.7113296978977882,0.6136809231209187,0.5921491861167535,0.1571828181134136,0.14634596816652118,1.2738759482054949,0.6972173278890168,-0.987761104038325,-0.1670094503849138,0.3250201326918829,0.48994010297726887,1.4044309262428363,0.11312278441985077,-0.10669962027891286,-1.1168477862086412,-0.17675332603717261,0.03208977659009037,-1.6516672521154045,1.1328237831004917,-0.2851532459057253,1.149522847797316,0.4923262442913057,0.5794022959078174,-0.4871163476749682,-0.3483589684714914,-0.7185104093064334,0.6923830430179017,-0.9884401103254018,-1.4605573010519564,-0.9574630312394341,0.16346484134391212,0.10498467403726597,0.20016905200097182,-0.2795659106824173,-0.6401046918070968,1.1582797184904188,-1.2380619543518485,-2.028760970003082,-0.15868350420267063,1.8185289573542853,0.2526564960445763,0.3706396483181391,-0.2691068747137809,0.423560909260566,0.9555620773895517,0.244811084935598,0.13634805361852287,-0.24890511762323125],\"yaxis\":\"y7\",\"type\":\"scatter\"},{\"line\":{\"color\":\"rgba(128, 128, 128, 1.0)\",\"dash\":\"solid\",\"shape\":\"linear\",\"width\":1.3},\"marker\":{\"size\":2,\"symbol\":\"circle\"},\"mode\":\"markers\",\"name\":\"B\",\"text\":\"\",\"x\":[-0.48533585732076095,0.7996713741735981,0.6325273961804192,-0.5689560976695613,-1.2985548742795316,-2.2428272396069846,-1.5741576745405266,-0.39144102464643743,1.305658159123247,0.17837058518597354,-1.0877485928325967,-0.24902930111248073,-1.0097249836194204,-0.45194362596755944,-0.5727333096841546,0.047001001379377676,0.4506044498665508,1.6274663645011933,1.3984009077149095,0.2816498966760533,0.5441246715588851,-0.36105486565800077,-0.9680977111890429,-0.7708478770617477,0.7332062687189292,0.9972933023124365,0.34639261806853194,0.12935640088563605,-1.2456202672713668,-1.3332423821962383,-0.7996211461957595,-0.01074289340680255,0.077659750320619,0.2872510862499166,-0.5542854401860736,-0.8853501685802612,0.6898295874639477,0.35358317545308665,1.0987515108222736,-0.20036445976839387,1.1317168226847034,1.244145542615334,0.07624024531146381,-0.33008113474801715,0.23569495510145902,-1.2102230389000639,-1.0343537629596997,-0.7298355520182594,0.377827915598249,-1.2201611717084766,1.2033907315316315,-0.15732328897096295,-0.6711736981842389,-0.9411838392514316,-1.11750369661523,0.17255551449158266,-0.505804962509711,0.9371641703890039,0.6834463005151751,1.0547974031845184,-0.3339849796162532,-1.1527015629247779,1.7720578526909554,-0.4429735157380313,-0.8794450819310182,-0.5013173772023398,1.696281221312842,-0.1763374234695934,-0.6281807833334955,1.0847110417315151,-0.6388600686243346,-1.1121566057854972,-0.7468158718409179,0.721039962837402,-0.8965673414266935,0.7421930181724087,0.44187766482301494,1.4941507653768757,-0.07592439400346289,0.13044291172087732,-1.0222254887377913,-1.7739206541014654,-1.077351627835513,0.027363541160738185,-0.9748617967961105,2.518439989093622,-0.46205089679206945,2.3078053387388513,0.4257513394176721,0.49548491085486007,-0.4726521056558049,-0.890533468595739,-1.5441034294130145,-0.5871478452809765,3.3245473574055877,0.4248552040988651,0.757606892518138,2.1204035812719324,-1.5714245397250282,-0.5832059216386883],\"xaxis\":\"x8\",\"y\":[0.32996827386755656,1.218981953879945,-1.633714055298131,-0.6680046279061812,-0.6445098144275172,-1.4982567785730112,0.3789401874474387,-0.8354867132076352,-0.49649095723019165,0.9476618567929485,-0.29885328226115,-0.729847228699825,-0.2983012825271507,-1.5274385530114047,0.3163460257637768,0.9882599819686255,-1.8372850712119513,0.07213041078206192,-0.8505942819760838,-0.2593730549559899,-0.20097115604456608,0.08776815285268036,0.8990529880959327,-1.2300154009386157,-0.4646616485397626,2.008716385462978,1.3815353909949974,-0.4680705695693689,0.9951906400439332,-0.12774732777664352,-0.17209346094795594,0.42384697762520135,0.0881677466704928,-1.2137123261984333,-0.29210386848008296,-0.42918331158735196,0.5291358204103447,-0.3611920569394752,-0.4411126619848192,0.3564598562677138,-0.12583032060194752,-0.8136096980573316,-0.17480939014138125,0.6778331503575926,-1.8800938127463223,-0.20868994954541098,-1.0943898202087554,0.8226631614354307,-1.194260664483298,0.9773449695985037,-1.1496991655267428,-0.4387572002224895,0.7113296978977882,0.6136809231209187,0.5921491861167535,0.1571828181134136,0.14634596816652118,1.2738759482054949,0.6972173278890168,-0.987761104038325,-0.1670094503849138,0.3250201326918829,0.48994010297726887,1.4044309262428363,0.11312278441985077,-0.10669962027891286,-1.1168477862086412,-0.17675332603717261,0.03208977659009037,-1.6516672521154045,1.1328237831004917,-0.2851532459057253,1.149522847797316,0.4923262442913057,0.5794022959078174,-0.4871163476749682,-0.3483589684714914,-0.7185104093064334,0.6923830430179017,-0.9884401103254018,-1.4605573010519564,-0.9574630312394341,0.16346484134391212,0.10498467403726597,0.20016905200097182,-0.2795659106824173,-0.6401046918070968,1.1582797184904188,-1.2380619543518485,-2.028760970003082,-0.15868350420267063,1.8185289573542853,0.2526564960445763,0.3706396483181391,-0.2691068747137809,0.423560909260566,0.9555620773895517,0.244811084935598,0.13634805361852287,-0.24890511762323125],\"yaxis\":\"y8\",\"type\":\"scatter\"},{\"line\":{\"color\":\"rgba(128, 128, 128, 1.0)\",\"dash\":\"solid\",\"shape\":\"linear\",\"width\":1.3},\"marker\":{\"size\":2,\"symbol\":\"circle\"},\"mode\":\"markers\",\"name\":\"C\",\"text\":\"\",\"x\":[-1.0414938449171551,-0.4354303557101797,0.34091500601799474,2.0746916097471155,-0.24747851502364648,0.6186335280195576,0.06458959483746213,0.19202582337651733,0.6461078850095495,-1.0390452041639444,0.6227323408901065,-0.1674391576392429,-0.1926042781471134,-0.04046327744673468,-2.031733686393499,-1.2521232482806384,-1.0611150328040704,-1.3005911023122887,2.73068526240894,-0.014905077491252519,-0.3365265182353228,1.5688337988015868,-0.3537229936367583,-0.7774145415496925,-0.5531468020354161,0.3732146468619525,0.47503628200836756,0.6675289888307547,0.6342468938845498,0.3782402737404014,1.8073693745270427,0.10079055157427515,0.44395509474085854,-1.5999810850342004,-0.9361645071581075,1.6427002545546334,-0.19965900866375763,-0.5739373863449075,-0.4867162121661351,-0.7494828396960236,-0.4680209101771845,-0.646200346510384,-1.4499063061319621,-0.6729265648978373,-0.25920990095800994,-0.24524031082590997,0.9424992940939884,0.09746308886052545,-0.05670856183167005,-0.3700987414342005,-1.5330827425094273,-1.513493870789549,1.0020688989440132,-0.14477971981749638,-0.06713316999739569,0.36165647674204604,0.7879463209144801,1.2050186982820554,0.6388184550724472,0.6740116687479178,-0.7147605818973362,0.18841425752213384,0.47735099292647765,-0.035006175364803556,-1.0344884992735575,0.15948944361386735,-0.19589283962336,-0.6852943018916997,-0.5880941757709064,0.17035562449446132,0.5913902058621666,-0.9199122157675864,0.9573935392643146,-0.22375424741831904,0.43946538468921637,-0.3131973114136663,0.899443150063009,-0.8264953253132122,-0.16538637364699124,-0.13517908001439397,0.8091401271172439,-1.30904640296218,-0.45422206139924226,0.4907240937863005,1.424194979291537,1.1295658613318202,-1.1343449569566135,1.7497515669552424,-0.15609510980782706,-0.9701048648149126,-1.2922061453965263,2.015183999384643,1.0651251975905274,0.37795898160154373,-0.858135175494791,-1.8924836165721872,-0.7191375774094184,-0.5522674191284617,-0.913005426693775,1.6573844242452849],\"xaxis\":\"x9\",\"y\":[-2.016560176964694,-0.5526426859704904,-0.5314657366816735,-0.05220912495037559,0.2963821510620666,-0.12581807930779365,-0.7025733385917851,1.0166183844128256,-0.5743783298540112,0.571675859788498,-0.855400702568051,-1.0093103002061985,0.4880023935694279,-0.6662923678904729,-1.484305208787236,1.873891975641196,0.33409260032685745,1.223492923576503,-0.698084269345124,-1.3504226078848276,-0.04655912111645202,-0.5452606400184166,-1.2273335579424465,-0.3685221913479382,-1.8066092085692813,-1.246575967428496,-1.0665769105877325,-1.4742368894788254,1.988525714866486,-1.5732392416632852,-0.19356880583840239,-1.8762002984653667,0.2241505560086995,0.8292654196643479,-0.31633390026068603,-0.3004031719349392,-0.6489568795320175,0.7620906664059216,-0.4040303297715138,0.7002723466172931,-0.6635562402960373,1.6153326294897106,0.5087662396569937,0.4688965450716319,0.4417390351322205,0.4112103689214712,0.5909559790838734,-0.02770784650278129,-0.8843012438870057,2.0004776315686303,0.4578950236028908,0.33581431946108486,-0.6665767232623846,0.5843049464286401,-0.5720501668209064,0.9943887494649332,0.2613130779229752,0.6837227899983538,-1.0277368772421491,-0.09621664584859509,-0.2741123341430858,0.2727942529971171,-0.04460788079917133,-0.4817291981993936,-0.5475916152967425,-1.2113403334904689,0.03968942136801883,0.406174203603089,0.10174314212853848,0.7180342617932176,-1.1735477603549929,1.409398778890136,0.11143314325307396,2.2775304549294044,0.33763620551172435,-2.1328961526473744,-0.5059643668915403,0.6353316268941461,1.3745990694639407,-1.2685048536967578,0.5860841671488486,-1.389553921993753,0.4009385655743347,-2.1087942807016087,0.20307148393124852,0.15184776819603465,-1.3254671707150083,-0.25067498006715777,0.7359377414617873,-0.20999748777386482,-1.644749751394019,2.294618090424474,1.045365904722829,1.621265753683623,0.17603549048815503,1.3694728788521373,1.2673870642229166,-1.3497020606664138,-1.3435668342796376,-1.3901240434280906],\"yaxis\":\"y9\",\"type\":\"scatter\"},{\"line\":{\"color\":\"rgba(128, 128, 128, 1.0)\",\"dash\":\"solid\",\"shape\":\"linear\",\"width\":1.3},\"marker\":{\"size\":2,\"symbol\":\"circle\"},\"mode\":\"markers\",\"name\":\"C\",\"text\":\"\",\"x\":[0.32996827386755656,1.218981953879945,-1.633714055298131,-0.6680046279061812,-0.6445098144275172,-1.4982567785730112,0.3789401874474387,-0.8354867132076352,-0.49649095723019165,0.9476618567929485,-0.29885328226115,-0.729847228699825,-0.2983012825271507,-1.5274385530114047,0.3163460257637768,0.9882599819686255,-1.8372850712119513,0.07213041078206192,-0.8505942819760838,-0.2593730549559899,-0.20097115604456608,0.08776815285268036,0.8990529880959327,-1.2300154009386157,-0.4646616485397626,2.008716385462978,1.3815353909949974,-0.4680705695693689,0.9951906400439332,-0.12774732777664352,-0.17209346094795594,0.42384697762520135,0.0881677466704928,-1.2137123261984333,-0.29210386848008296,-0.42918331158735196,0.5291358204103447,-0.3611920569394752,-0.4411126619848192,0.3564598562677138,-0.12583032060194752,-0.8136096980573316,-0.17480939014138125,0.6778331503575926,-1.8800938127463223,-0.20868994954541098,-1.0943898202087554,0.8226631614354307,-1.194260664483298,0.9773449695985037,-1.1496991655267428,-0.4387572002224895,0.7113296978977882,0.6136809231209187,0.5921491861167535,0.1571828181134136,0.14634596816652118,1.2738759482054949,0.6972173278890168,-0.987761104038325,-0.1670094503849138,0.3250201326918829,0.48994010297726887,1.4044309262428363,0.11312278441985077,-0.10669962027891286,-1.1168477862086412,-0.17675332603717261,0.03208977659009037,-1.6516672521154045,1.1328237831004917,-0.2851532459057253,1.149522847797316,0.4923262442913057,0.5794022959078174,-0.4871163476749682,-0.3483589684714914,-0.7185104093064334,0.6923830430179017,-0.9884401103254018,-1.4605573010519564,-0.9574630312394341,0.16346484134391212,0.10498467403726597,0.20016905200097182,-0.2795659106824173,-0.6401046918070968,1.1582797184904188,-1.2380619543518485,-2.028760970003082,-0.15868350420267063,1.8185289573542853,0.2526564960445763,0.3706396483181391,-0.2691068747137809,0.423560909260566,0.9555620773895517,0.244811084935598,0.13634805361852287,-0.24890511762323125],\"xaxis\":\"x10\",\"y\":[-2.016560176964694,-0.5526426859704904,-0.5314657366816735,-0.05220912495037559,0.2963821510620666,-0.12581807930779365,-0.7025733385917851,1.0166183844128256,-0.5743783298540112,0.571675859788498,-0.855400702568051,-1.0093103002061985,0.4880023935694279,-0.6662923678904729,-1.484305208787236,1.873891975641196,0.33409260032685745,1.223492923576503,-0.698084269345124,-1.3504226078848276,-0.04655912111645202,-0.5452606400184166,-1.2273335579424465,-0.3685221913479382,-1.8066092085692813,-1.246575967428496,-1.0665769105877325,-1.4742368894788254,1.988525714866486,-1.5732392416632852,-0.19356880583840239,-1.8762002984653667,0.2241505560086995,0.8292654196643479,-0.31633390026068603,-0.3004031719349392,-0.6489568795320175,0.7620906664059216,-0.4040303297715138,0.7002723466172931,-0.6635562402960373,1.6153326294897106,0.5087662396569937,0.4688965450716319,0.4417390351322205,0.4112103689214712,0.5909559790838734,-0.02770784650278129,-0.8843012438870057,2.0004776315686303,0.4578950236028908,0.33581431946108486,-0.6665767232623846,0.5843049464286401,-0.5720501668209064,0.9943887494649332,0.2613130779229752,0.6837227899983538,-1.0277368772421491,-0.09621664584859509,-0.2741123341430858,0.2727942529971171,-0.04460788079917133,-0.4817291981993936,-0.5475916152967425,-1.2113403334904689,0.03968942136801883,0.406174203603089,0.10174314212853848,0.7180342617932176,-1.1735477603549929,1.409398778890136,0.11143314325307396,2.2775304549294044,0.33763620551172435,-2.1328961526473744,-0.5059643668915403,0.6353316268941461,1.3745990694639407,-1.2685048536967578,0.5860841671488486,-1.389553921993753,0.4009385655743347,-2.1087942807016087,0.20307148393124852,0.15184776819603465,-1.3254671707150083,-0.25067498006715777,0.7359377414617873,-0.20999748777386482,-1.644749751394019,2.294618090424474,1.045365904722829,1.621265753683623,0.17603549048815503,1.3694728788521373,1.2673870642229166,-1.3497020606664138,-1.3435668342796376,-1.3901240434280906],\"yaxis\":\"y10\",\"type\":\"scatter\"},{\"histfunc\":\"count\",\"histnorm\":\"\",\"marker\":{\"color\":\"rgba(50, 171, 96, 1.0)\",\"line\":{\"color\":\"#4D5663\",\"width\":1.3}},\"name\":\"C\",\"nbinsx\":10,\"opacity\":0.8,\"orientation\":\"v\",\"x\":[-2.016560176964694,-0.5526426859704904,-0.5314657366816735,-0.05220912495037559,0.2963821510620666,-0.12581807930779365,-0.7025733385917851,1.0166183844128256,-0.5743783298540112,0.571675859788498,-0.855400702568051,-1.0093103002061985,0.4880023935694279,-0.6662923678904729,-1.484305208787236,1.873891975641196,0.33409260032685745,1.223492923576503,-0.698084269345124,-1.3504226078848276,-0.04655912111645202,-0.5452606400184166,-1.2273335579424465,-0.3685221913479382,-1.8066092085692813,-1.246575967428496,-1.0665769105877325,-1.4742368894788254,1.988525714866486,-1.5732392416632852,-0.19356880583840239,-1.8762002984653667,0.2241505560086995,0.8292654196643479,-0.31633390026068603,-0.3004031719349392,-0.6489568795320175,0.7620906664059216,-0.4040303297715138,0.7002723466172931,-0.6635562402960373,1.6153326294897106,0.5087662396569937,0.4688965450716319,0.4417390351322205,0.4112103689214712,0.5909559790838734,-0.02770784650278129,-0.8843012438870057,2.0004776315686303,0.4578950236028908,0.33581431946108486,-0.6665767232623846,0.5843049464286401,-0.5720501668209064,0.9943887494649332,0.2613130779229752,0.6837227899983538,-1.0277368772421491,-0.09621664584859509,-0.2741123341430858,0.2727942529971171,-0.04460788079917133,-0.4817291981993936,-0.5475916152967425,-1.2113403334904689,0.03968942136801883,0.406174203603089,0.10174314212853848,0.7180342617932176,-1.1735477603549929,1.409398778890136,0.11143314325307396,2.2775304549294044,0.33763620551172435,-2.1328961526473744,-0.5059643668915403,0.6353316268941461,1.3745990694639407,-1.2685048536967578,0.5860841671488486,-1.389553921993753,0.4009385655743347,-2.1087942807016087,0.20307148393124852,0.15184776819603465,-1.3254671707150083,-0.25067498006715777,0.7359377414617873,-0.20999748777386482,-1.644749751394019,2.294618090424474,1.045365904722829,1.621265753683623,0.17603549048815503,1.3694728788521373,1.2673870642229166,-1.3497020606664138,-1.3435668342796376,-1.3901240434280906],\"xaxis\":\"x11\",\"yaxis\":\"y11\",\"type\":\"histogram\"},{\"line\":{\"color\":\"rgba(128, 128, 128, 1.0)\",\"dash\":\"solid\",\"shape\":\"linear\",\"width\":1.3},\"marker\":{\"size\":2,\"symbol\":\"circle\"},\"mode\":\"markers\",\"name\":\"C\",\"text\":\"\",\"x\":[-0.48533585732076095,0.7996713741735981,0.6325273961804192,-0.5689560976695613,-1.2985548742795316,-2.2428272396069846,-1.5741576745405266,-0.39144102464643743,1.305658159123247,0.17837058518597354,-1.0877485928325967,-0.24902930111248073,-1.0097249836194204,-0.45194362596755944,-0.5727333096841546,0.047001001379377676,0.4506044498665508,1.6274663645011933,1.3984009077149095,0.2816498966760533,0.5441246715588851,-0.36105486565800077,-0.9680977111890429,-0.7708478770617477,0.7332062687189292,0.9972933023124365,0.34639261806853194,0.12935640088563605,-1.2456202672713668,-1.3332423821962383,-0.7996211461957595,-0.01074289340680255,0.077659750320619,0.2872510862499166,-0.5542854401860736,-0.8853501685802612,0.6898295874639477,0.35358317545308665,1.0987515108222736,-0.20036445976839387,1.1317168226847034,1.244145542615334,0.07624024531146381,-0.33008113474801715,0.23569495510145902,-1.2102230389000639,-1.0343537629596997,-0.7298355520182594,0.377827915598249,-1.2201611717084766,1.2033907315316315,-0.15732328897096295,-0.6711736981842389,-0.9411838392514316,-1.11750369661523,0.17255551449158266,-0.505804962509711,0.9371641703890039,0.6834463005151751,1.0547974031845184,-0.3339849796162532,-1.1527015629247779,1.7720578526909554,-0.4429735157380313,-0.8794450819310182,-0.5013173772023398,1.696281221312842,-0.1763374234695934,-0.6281807833334955,1.0847110417315151,-0.6388600686243346,-1.1121566057854972,-0.7468158718409179,0.721039962837402,-0.8965673414266935,0.7421930181724087,0.44187766482301494,1.4941507653768757,-0.07592439400346289,0.13044291172087732,-1.0222254887377913,-1.7739206541014654,-1.077351627835513,0.027363541160738185,-0.9748617967961105,2.518439989093622,-0.46205089679206945,2.3078053387388513,0.4257513394176721,0.49548491085486007,-0.4726521056558049,-0.890533468595739,-1.5441034294130145,-0.5871478452809765,3.3245473574055877,0.4248552040988651,0.757606892518138,2.1204035812719324,-1.5714245397250282,-0.5832059216386883],\"xaxis\":\"x12\",\"y\":[-2.016560176964694,-0.5526426859704904,-0.5314657366816735,-0.05220912495037559,0.2963821510620666,-0.12581807930779365,-0.7025733385917851,1.0166183844128256,-0.5743783298540112,0.571675859788498,-0.855400702568051,-1.0093103002061985,0.4880023935694279,-0.6662923678904729,-1.484305208787236,1.873891975641196,0.33409260032685745,1.223492923576503,-0.698084269345124,-1.3504226078848276,-0.04655912111645202,-0.5452606400184166,-1.2273335579424465,-0.3685221913479382,-1.8066092085692813,-1.246575967428496,-1.0665769105877325,-1.4742368894788254,1.988525714866486,-1.5732392416632852,-0.19356880583840239,-1.8762002984653667,0.2241505560086995,0.8292654196643479,-0.31633390026068603,-0.3004031719349392,-0.6489568795320175,0.7620906664059216,-0.4040303297715138,0.7002723466172931,-0.6635562402960373,1.6153326294897106,0.5087662396569937,0.4688965450716319,0.4417390351322205,0.4112103689214712,0.5909559790838734,-0.02770784650278129,-0.8843012438870057,2.0004776315686303,0.4578950236028908,0.33581431946108486,-0.6665767232623846,0.5843049464286401,-0.5720501668209064,0.9943887494649332,0.2613130779229752,0.6837227899983538,-1.0277368772421491,-0.09621664584859509,-0.2741123341430858,0.2727942529971171,-0.04460788079917133,-0.4817291981993936,-0.5475916152967425,-1.2113403334904689,0.03968942136801883,0.406174203603089,0.10174314212853848,0.7180342617932176,-1.1735477603549929,1.409398778890136,0.11143314325307396,2.2775304549294044,0.33763620551172435,-2.1328961526473744,-0.5059643668915403,0.6353316268941461,1.3745990694639407,-1.2685048536967578,0.5860841671488486,-1.389553921993753,0.4009385655743347,-2.1087942807016087,0.20307148393124852,0.15184776819603465,-1.3254671707150083,-0.25067498006715777,0.7359377414617873,-0.20999748777386482,-1.644749751394019,2.294618090424474,1.045365904722829,1.621265753683623,0.17603549048815503,1.3694728788521373,1.2673870642229166,-1.3497020606664138,-1.3435668342796376,-1.3901240434280906],\"yaxis\":\"y12\",\"type\":\"scatter\"},{\"line\":{\"color\":\"rgba(128, 128, 128, 1.0)\",\"dash\":\"solid\",\"shape\":\"linear\",\"width\":1.3},\"marker\":{\"size\":2,\"symbol\":\"circle\"},\"mode\":\"markers\",\"name\":\"D\",\"text\":\"\",\"x\":[-1.0414938449171551,-0.4354303557101797,0.34091500601799474,2.0746916097471155,-0.24747851502364648,0.6186335280195576,0.06458959483746213,0.19202582337651733,0.6461078850095495,-1.0390452041639444,0.6227323408901065,-0.1674391576392429,-0.1926042781471134,-0.04046327744673468,-2.031733686393499,-1.2521232482806384,-1.0611150328040704,-1.3005911023122887,2.73068526240894,-0.014905077491252519,-0.3365265182353228,1.5688337988015868,-0.3537229936367583,-0.7774145415496925,-0.5531468020354161,0.3732146468619525,0.47503628200836756,0.6675289888307547,0.6342468938845498,0.3782402737404014,1.8073693745270427,0.10079055157427515,0.44395509474085854,-1.5999810850342004,-0.9361645071581075,1.6427002545546334,-0.19965900866375763,-0.5739373863449075,-0.4867162121661351,-0.7494828396960236,-0.4680209101771845,-0.646200346510384,-1.4499063061319621,-0.6729265648978373,-0.25920990095800994,-0.24524031082590997,0.9424992940939884,0.09746308886052545,-0.05670856183167005,-0.3700987414342005,-1.5330827425094273,-1.513493870789549,1.0020688989440132,-0.14477971981749638,-0.06713316999739569,0.36165647674204604,0.7879463209144801,1.2050186982820554,0.6388184550724472,0.6740116687479178,-0.7147605818973362,0.18841425752213384,0.47735099292647765,-0.035006175364803556,-1.0344884992735575,0.15948944361386735,-0.19589283962336,-0.6852943018916997,-0.5880941757709064,0.17035562449446132,0.5913902058621666,-0.9199122157675864,0.9573935392643146,-0.22375424741831904,0.43946538468921637,-0.3131973114136663,0.899443150063009,-0.8264953253132122,-0.16538637364699124,-0.13517908001439397,0.8091401271172439,-1.30904640296218,-0.45422206139924226,0.4907240937863005,1.424194979291537,1.1295658613318202,-1.1343449569566135,1.7497515669552424,-0.15609510980782706,-0.9701048648149126,-1.2922061453965263,2.015183999384643,1.0651251975905274,0.37795898160154373,-0.858135175494791,-1.8924836165721872,-0.7191375774094184,-0.5522674191284617,-0.913005426693775,1.6573844242452849],\"xaxis\":\"x13\",\"y\":[-0.48533585732076095,0.7996713741735981,0.6325273961804192,-0.5689560976695613,-1.2985548742795316,-2.2428272396069846,-1.5741576745405266,-0.39144102464643743,1.305658159123247,0.17837058518597354,-1.0877485928325967,-0.24902930111248073,-1.0097249836194204,-0.45194362596755944,-0.5727333096841546,0.047001001379377676,0.4506044498665508,1.6274663645011933,1.3984009077149095,0.2816498966760533,0.5441246715588851,-0.36105486565800077,-0.9680977111890429,-0.7708478770617477,0.7332062687189292,0.9972933023124365,0.34639261806853194,0.12935640088563605,-1.2456202672713668,-1.3332423821962383,-0.7996211461957595,-0.01074289340680255,0.077659750320619,0.2872510862499166,-0.5542854401860736,-0.8853501685802612,0.6898295874639477,0.35358317545308665,1.0987515108222736,-0.20036445976839387,1.1317168226847034,1.244145542615334,0.07624024531146381,-0.33008113474801715,0.23569495510145902,-1.2102230389000639,-1.0343537629596997,-0.7298355520182594,0.377827915598249,-1.2201611717084766,1.2033907315316315,-0.15732328897096295,-0.6711736981842389,-0.9411838392514316,-1.11750369661523,0.17255551449158266,-0.505804962509711,0.9371641703890039,0.6834463005151751,1.0547974031845184,-0.3339849796162532,-1.1527015629247779,1.7720578526909554,-0.4429735157380313,-0.8794450819310182,-0.5013173772023398,1.696281221312842,-0.1763374234695934,-0.6281807833334955,1.0847110417315151,-0.6388600686243346,-1.1121566057854972,-0.7468158718409179,0.721039962837402,-0.8965673414266935,0.7421930181724087,0.44187766482301494,1.4941507653768757,-0.07592439400346289,0.13044291172087732,-1.0222254887377913,-1.7739206541014654,-1.077351627835513,0.027363541160738185,-0.9748617967961105,2.518439989093622,-0.46205089679206945,2.3078053387388513,0.4257513394176721,0.49548491085486007,-0.4726521056558049,-0.890533468595739,-1.5441034294130145,-0.5871478452809765,3.3245473574055877,0.4248552040988651,0.757606892518138,2.1204035812719324,-1.5714245397250282,-0.5832059216386883],\"yaxis\":\"y13\",\"type\":\"scatter\"},{\"line\":{\"color\":\"rgba(128, 128, 128, 1.0)\",\"dash\":\"solid\",\"shape\":\"linear\",\"width\":1.3},\"marker\":{\"size\":2,\"symbol\":\"circle\"},\"mode\":\"markers\",\"name\":\"D\",\"text\":\"\",\"x\":[0.32996827386755656,1.218981953879945,-1.633714055298131,-0.6680046279061812,-0.6445098144275172,-1.4982567785730112,0.3789401874474387,-0.8354867132076352,-0.49649095723019165,0.9476618567929485,-0.29885328226115,-0.729847228699825,-0.2983012825271507,-1.5274385530114047,0.3163460257637768,0.9882599819686255,-1.8372850712119513,0.07213041078206192,-0.8505942819760838,-0.2593730549559899,-0.20097115604456608,0.08776815285268036,0.8990529880959327,-1.2300154009386157,-0.4646616485397626,2.008716385462978,1.3815353909949974,-0.4680705695693689,0.9951906400439332,-0.12774732777664352,-0.17209346094795594,0.42384697762520135,0.0881677466704928,-1.2137123261984333,-0.29210386848008296,-0.42918331158735196,0.5291358204103447,-0.3611920569394752,-0.4411126619848192,0.3564598562677138,-0.12583032060194752,-0.8136096980573316,-0.17480939014138125,0.6778331503575926,-1.8800938127463223,-0.20868994954541098,-1.0943898202087554,0.8226631614354307,-1.194260664483298,0.9773449695985037,-1.1496991655267428,-0.4387572002224895,0.7113296978977882,0.6136809231209187,0.5921491861167535,0.1571828181134136,0.14634596816652118,1.2738759482054949,0.6972173278890168,-0.987761104038325,-0.1670094503849138,0.3250201326918829,0.48994010297726887,1.4044309262428363,0.11312278441985077,-0.10669962027891286,-1.1168477862086412,-0.17675332603717261,0.03208977659009037,-1.6516672521154045,1.1328237831004917,-0.2851532459057253,1.149522847797316,0.4923262442913057,0.5794022959078174,-0.4871163476749682,-0.3483589684714914,-0.7185104093064334,0.6923830430179017,-0.9884401103254018,-1.4605573010519564,-0.9574630312394341,0.16346484134391212,0.10498467403726597,0.20016905200097182,-0.2795659106824173,-0.6401046918070968,1.1582797184904188,-1.2380619543518485,-2.028760970003082,-0.15868350420267063,1.8185289573542853,0.2526564960445763,0.3706396483181391,-0.2691068747137809,0.423560909260566,0.9555620773895517,0.244811084935598,0.13634805361852287,-0.24890511762323125],\"xaxis\":\"x14\",\"y\":[-0.48533585732076095,0.7996713741735981,0.6325273961804192,-0.5689560976695613,-1.2985548742795316,-2.2428272396069846,-1.5741576745405266,-0.39144102464643743,1.305658159123247,0.17837058518597354,-1.0877485928325967,-0.24902930111248073,-1.0097249836194204,-0.45194362596755944,-0.5727333096841546,0.047001001379377676,0.4506044498665508,1.6274663645011933,1.3984009077149095,0.2816498966760533,0.5441246715588851,-0.36105486565800077,-0.9680977111890429,-0.7708478770617477,0.7332062687189292,0.9972933023124365,0.34639261806853194,0.12935640088563605,-1.2456202672713668,-1.3332423821962383,-0.7996211461957595,-0.01074289340680255,0.077659750320619,0.2872510862499166,-0.5542854401860736,-0.8853501685802612,0.6898295874639477,0.35358317545308665,1.0987515108222736,-0.20036445976839387,1.1317168226847034,1.244145542615334,0.07624024531146381,-0.33008113474801715,0.23569495510145902,-1.2102230389000639,-1.0343537629596997,-0.7298355520182594,0.377827915598249,-1.2201611717084766,1.2033907315316315,-0.15732328897096295,-0.6711736981842389,-0.9411838392514316,-1.11750369661523,0.17255551449158266,-0.505804962509711,0.9371641703890039,0.6834463005151751,1.0547974031845184,-0.3339849796162532,-1.1527015629247779,1.7720578526909554,-0.4429735157380313,-0.8794450819310182,-0.5013173772023398,1.696281221312842,-0.1763374234695934,-0.6281807833334955,1.0847110417315151,-0.6388600686243346,-1.1121566057854972,-0.7468158718409179,0.721039962837402,-0.8965673414266935,0.7421930181724087,0.44187766482301494,1.4941507653768757,-0.07592439400346289,0.13044291172087732,-1.0222254887377913,-1.7739206541014654,-1.077351627835513,0.027363541160738185,-0.9748617967961105,2.518439989093622,-0.46205089679206945,2.3078053387388513,0.4257513394176721,0.49548491085486007,-0.4726521056558049,-0.890533468595739,-1.5441034294130145,-0.5871478452809765,3.3245473574055877,0.4248552040988651,0.757606892518138,2.1204035812719324,-1.5714245397250282,-0.5832059216386883],\"yaxis\":\"y14\",\"type\":\"scatter\"},{\"line\":{\"color\":\"rgba(128, 128, 128, 1.0)\",\"dash\":\"solid\",\"shape\":\"linear\",\"width\":1.3},\"marker\":{\"size\":2,\"symbol\":\"circle\"},\"mode\":\"markers\",\"name\":\"D\",\"text\":\"\",\"x\":[-2.016560176964694,-0.5526426859704904,-0.5314657366816735,-0.05220912495037559,0.2963821510620666,-0.12581807930779365,-0.7025733385917851,1.0166183844128256,-0.5743783298540112,0.571675859788498,-0.855400702568051,-1.0093103002061985,0.4880023935694279,-0.6662923678904729,-1.484305208787236,1.873891975641196,0.33409260032685745,1.223492923576503,-0.698084269345124,-1.3504226078848276,-0.04655912111645202,-0.5452606400184166,-1.2273335579424465,-0.3685221913479382,-1.8066092085692813,-1.246575967428496,-1.0665769105877325,-1.4742368894788254,1.988525714866486,-1.5732392416632852,-0.19356880583840239,-1.8762002984653667,0.2241505560086995,0.8292654196643479,-0.31633390026068603,-0.3004031719349392,-0.6489568795320175,0.7620906664059216,-0.4040303297715138,0.7002723466172931,-0.6635562402960373,1.6153326294897106,0.5087662396569937,0.4688965450716319,0.4417390351322205,0.4112103689214712,0.5909559790838734,-0.02770784650278129,-0.8843012438870057,2.0004776315686303,0.4578950236028908,0.33581431946108486,-0.6665767232623846,0.5843049464286401,-0.5720501668209064,0.9943887494649332,0.2613130779229752,0.6837227899983538,-1.0277368772421491,-0.09621664584859509,-0.2741123341430858,0.2727942529971171,-0.04460788079917133,-0.4817291981993936,-0.5475916152967425,-1.2113403334904689,0.03968942136801883,0.406174203603089,0.10174314212853848,0.7180342617932176,-1.1735477603549929,1.409398778890136,0.11143314325307396,2.2775304549294044,0.33763620551172435,-2.1328961526473744,-0.5059643668915403,0.6353316268941461,1.3745990694639407,-1.2685048536967578,0.5860841671488486,-1.389553921993753,0.4009385655743347,-2.1087942807016087,0.20307148393124852,0.15184776819603465,-1.3254671707150083,-0.25067498006715777,0.7359377414617873,-0.20999748777386482,-1.644749751394019,2.294618090424474,1.045365904722829,1.621265753683623,0.17603549048815503,1.3694728788521373,1.2673870642229166,-1.3497020606664138,-1.3435668342796376,-1.3901240434280906],\"xaxis\":\"x15\",\"y\":[-0.48533585732076095,0.7996713741735981,0.6325273961804192,-0.5689560976695613,-1.2985548742795316,-2.2428272396069846,-1.5741576745405266,-0.39144102464643743,1.305658159123247,0.17837058518597354,-1.0877485928325967,-0.24902930111248073,-1.0097249836194204,-0.45194362596755944,-0.5727333096841546,0.047001001379377676,0.4506044498665508,1.6274663645011933,1.3984009077149095,0.2816498966760533,0.5441246715588851,-0.36105486565800077,-0.9680977111890429,-0.7708478770617477,0.7332062687189292,0.9972933023124365,0.34639261806853194,0.12935640088563605,-1.2456202672713668,-1.3332423821962383,-0.7996211461957595,-0.01074289340680255,0.077659750320619,0.2872510862499166,-0.5542854401860736,-0.8853501685802612,0.6898295874639477,0.35358317545308665,1.0987515108222736,-0.20036445976839387,1.1317168226847034,1.244145542615334,0.07624024531146381,-0.33008113474801715,0.23569495510145902,-1.2102230389000639,-1.0343537629596997,-0.7298355520182594,0.377827915598249,-1.2201611717084766,1.2033907315316315,-0.15732328897096295,-0.6711736981842389,-0.9411838392514316,-1.11750369661523,0.17255551449158266,-0.505804962509711,0.9371641703890039,0.6834463005151751,1.0547974031845184,-0.3339849796162532,-1.1527015629247779,1.7720578526909554,-0.4429735157380313,-0.8794450819310182,-0.5013173772023398,1.696281221312842,-0.1763374234695934,-0.6281807833334955,1.0847110417315151,-0.6388600686243346,-1.1121566057854972,-0.7468158718409179,0.721039962837402,-0.8965673414266935,0.7421930181724087,0.44187766482301494,1.4941507653768757,-0.07592439400346289,0.13044291172087732,-1.0222254887377913,-1.7739206541014654,-1.077351627835513,0.027363541160738185,-0.9748617967961105,2.518439989093622,-0.46205089679206945,2.3078053387388513,0.4257513394176721,0.49548491085486007,-0.4726521056558049,-0.890533468595739,-1.5441034294130145,-0.5871478452809765,3.3245473574055877,0.4248552040988651,0.757606892518138,2.1204035812719324,-1.5714245397250282,-0.5832059216386883],\"yaxis\":\"y15\",\"type\":\"scatter\"},{\"histfunc\":\"count\",\"histnorm\":\"\",\"marker\":{\"color\":\"rgba(128, 0, 128, 1.0)\",\"line\":{\"color\":\"#4D5663\",\"width\":1.3}},\"name\":\"D\",\"nbinsx\":10,\"opacity\":0.8,\"orientation\":\"v\",\"x\":[-0.48533585732076095,0.7996713741735981,0.6325273961804192,-0.5689560976695613,-1.2985548742795316,-2.2428272396069846,-1.5741576745405266,-0.39144102464643743,1.305658159123247,0.17837058518597354,-1.0877485928325967,-0.24902930111248073,-1.0097249836194204,-0.45194362596755944,-0.5727333096841546,0.047001001379377676,0.4506044498665508,1.6274663645011933,1.3984009077149095,0.2816498966760533,0.5441246715588851,-0.36105486565800077,-0.9680977111890429,-0.7708478770617477,0.7332062687189292,0.9972933023124365,0.34639261806853194,0.12935640088563605,-1.2456202672713668,-1.3332423821962383,-0.7996211461957595,-0.01074289340680255,0.077659750320619,0.2872510862499166,-0.5542854401860736,-0.8853501685802612,0.6898295874639477,0.35358317545308665,1.0987515108222736,-0.20036445976839387,1.1317168226847034,1.244145542615334,0.07624024531146381,-0.33008113474801715,0.23569495510145902,-1.2102230389000639,-1.0343537629596997,-0.7298355520182594,0.377827915598249,-1.2201611717084766,1.2033907315316315,-0.15732328897096295,-0.6711736981842389,-0.9411838392514316,-1.11750369661523,0.17255551449158266,-0.505804962509711,0.9371641703890039,0.6834463005151751,1.0547974031845184,-0.3339849796162532,-1.1527015629247779,1.7720578526909554,-0.4429735157380313,-0.8794450819310182,-0.5013173772023398,1.696281221312842,-0.1763374234695934,-0.6281807833334955,1.0847110417315151,-0.6388600686243346,-1.1121566057854972,-0.7468158718409179,0.721039962837402,-0.8965673414266935,0.7421930181724087,0.44187766482301494,1.4941507653768757,-0.07592439400346289,0.13044291172087732,-1.0222254887377913,-1.7739206541014654,-1.077351627835513,0.027363541160738185,-0.9748617967961105,2.518439989093622,-0.46205089679206945,2.3078053387388513,0.4257513394176721,0.49548491085486007,-0.4726521056558049,-0.890533468595739,-1.5441034294130145,-0.5871478452809765,3.3245473574055877,0.4248552040988651,0.757606892518138,2.1204035812719324,-1.5714245397250282,-0.5832059216386883],\"xaxis\":\"x16\",\"yaxis\":\"y16\",\"type\":\"histogram\"}],                        {\"bargap\":0.02,\"legend\":{\"bgcolor\":\"#F5F6F9\",\"font\":{\"color\":\"#4D5663\"}},\"paper_bgcolor\":\"#F5F6F9\",\"plot_bgcolor\":\"#F5F6F9\",\"showlegend\":false,\"template\":{\"data\":{\"barpolar\":[{\"marker\":{\"line\":{\"color\":\"#E5ECF6\",\"width\":0.5},\"pattern\":{\"fillmode\":\"overlay\",\"size\":10,\"solidity\":0.2}},\"type\":\"barpolar\"}],\"bar\":[{\"error_x\":{\"color\":\"#2a3f5f\"},\"error_y\":{\"color\":\"#2a3f5f\"},\"marker\":{\"line\":{\"color\":\"#E5ECF6\",\"width\":0.5},\"pattern\":{\"fillmode\":\"overlay\",\"size\":10,\"solidity\":0.2}},\"type\":\"bar\"}],\"carpet\":[{\"aaxis\":{\"endlinecolor\":\"#2a3f5f\",\"gridcolor\":\"white\",\"linecolor\":\"white\",\"minorgridcolor\":\"white\",\"startlinecolor\":\"#2a3f5f\"},\"baxis\":{\"endlinecolor\":\"#2a3f5f\",\"gridcolor\":\"white\",\"linecolor\":\"white\",\"minorgridcolor\":\"white\",\"startlinecolor\":\"#2a3f5f\"},\"type\":\"carpet\"}],\"choropleth\":[{\"colorbar\":{\"outlinewidth\":0,\"ticks\":\"\"},\"type\":\"choropleth\"}],\"contourcarpet\":[{\"colorbar\":{\"outlinewidth\":0,\"ticks\":\"\"},\"type\":\"contourcarpet\"}],\"contour\":[{\"colorbar\":{\"outlinewidth\":0,\"ticks\":\"\"},\"colorscale\":[[0.0,\"#0d0887\"],[0.1111111111111111,\"#46039f\"],[0.2222222222222222,\"#7201a8\"],[0.3333333333333333,\"#9c179e\"],[0.4444444444444444,\"#bd3786\"],[0.5555555555555556,\"#d8576b\"],[0.6666666666666666,\"#ed7953\"],[0.7777777777777778,\"#fb9f3a\"],[0.8888888888888888,\"#fdca26\"],[1.0,\"#f0f921\"]],\"type\":\"contour\"}],\"heatmapgl\":[{\"colorbar\":{\"outlinewidth\":0,\"ticks\":\"\"},\"colorscale\":[[0.0,\"#0d0887\"],[0.1111111111111111,\"#46039f\"],[0.2222222222222222,\"#7201a8\"],[0.3333333333333333,\"#9c179e\"],[0.4444444444444444,\"#bd3786\"],[0.5555555555555556,\"#d8576b\"],[0.6666666666666666,\"#ed7953\"],[0.7777777777777778,\"#fb9f3a\"],[0.8888888888888888,\"#fdca26\"],[1.0,\"#f0f921\"]],\"type\":\"heatmapgl\"}],\"heatmap\":[{\"colorbar\":{\"outlinewidth\":0,\"ticks\":\"\"},\"colorscale\":[[0.0,\"#0d0887\"],[0.1111111111111111,\"#46039f\"],[0.2222222222222222,\"#7201a8\"],[0.3333333333333333,\"#9c179e\"],[0.4444444444444444,\"#bd3786\"],[0.5555555555555556,\"#d8576b\"],[0.6666666666666666,\"#ed7953\"],[0.7777777777777778,\"#fb9f3a\"],[0.8888888888888888,\"#fdca26\"],[1.0,\"#f0f921\"]],\"type\":\"heatmap\"}],\"histogram2dcontour\":[{\"colorbar\":{\"outlinewidth\":0,\"ticks\":\"\"},\"colorscale\":[[0.0,\"#0d0887\"],[0.1111111111111111,\"#46039f\"],[0.2222222222222222,\"#7201a8\"],[0.3333333333333333,\"#9c179e\"],[0.4444444444444444,\"#bd3786\"],[0.5555555555555556,\"#d8576b\"],[0.6666666666666666,\"#ed7953\"],[0.7777777777777778,\"#fb9f3a\"],[0.8888888888888888,\"#fdca26\"],[1.0,\"#f0f921\"]],\"type\":\"histogram2dcontour\"}],\"histogram2d\":[{\"colorbar\":{\"outlinewidth\":0,\"ticks\":\"\"},\"colorscale\":[[0.0,\"#0d0887\"],[0.1111111111111111,\"#46039f\"],[0.2222222222222222,\"#7201a8\"],[0.3333333333333333,\"#9c179e\"],[0.4444444444444444,\"#bd3786\"],[0.5555555555555556,\"#d8576b\"],[0.6666666666666666,\"#ed7953\"],[0.7777777777777778,\"#fb9f3a\"],[0.8888888888888888,\"#fdca26\"],[1.0,\"#f0f921\"]],\"type\":\"histogram2d\"}],\"histogram\":[{\"marker\":{\"pattern\":{\"fillmode\":\"overlay\",\"size\":10,\"solidity\":0.2}},\"type\":\"histogram\"}],\"mesh3d\":[{\"colorbar\":{\"outlinewidth\":0,\"ticks\":\"\"},\"type\":\"mesh3d\"}],\"parcoords\":[{\"line\":{\"colorbar\":{\"outlinewidth\":0,\"ticks\":\"\"}},\"type\":\"parcoords\"}],\"pie\":[{\"automargin\":true,\"type\":\"pie\"}],\"scatter3d\":[{\"line\":{\"colorbar\":{\"outlinewidth\":0,\"ticks\":\"\"}},\"marker\":{\"colorbar\":{\"outlinewidth\":0,\"ticks\":\"\"}},\"type\":\"scatter3d\"}],\"scattercarpet\":[{\"marker\":{\"colorbar\":{\"outlinewidth\":0,\"ticks\":\"\"}},\"type\":\"scattercarpet\"}],\"scattergeo\":[{\"marker\":{\"colorbar\":{\"outlinewidth\":0,\"ticks\":\"\"}},\"type\":\"scattergeo\"}],\"scattergl\":[{\"marker\":{\"colorbar\":{\"outlinewidth\":0,\"ticks\":\"\"}},\"type\":\"scattergl\"}],\"scattermapbox\":[{\"marker\":{\"colorbar\":{\"outlinewidth\":0,\"ticks\":\"\"}},\"type\":\"scattermapbox\"}],\"scatterpolargl\":[{\"marker\":{\"colorbar\":{\"outlinewidth\":0,\"ticks\":\"\"}},\"type\":\"scatterpolargl\"}],\"scatterpolar\":[{\"marker\":{\"colorbar\":{\"outlinewidth\":0,\"ticks\":\"\"}},\"type\":\"scatterpolar\"}],\"scatter\":[{\"fillpattern\":{\"fillmode\":\"overlay\",\"size\":10,\"solidity\":0.2},\"type\":\"scatter\"}],\"scatterternary\":[{\"marker\":{\"colorbar\":{\"outlinewidth\":0,\"ticks\":\"\"}},\"type\":\"scatterternary\"}],\"surface\":[{\"colorbar\":{\"outlinewidth\":0,\"ticks\":\"\"},\"colorscale\":[[0.0,\"#0d0887\"],[0.1111111111111111,\"#46039f\"],[0.2222222222222222,\"#7201a8\"],[0.3333333333333333,\"#9c179e\"],[0.4444444444444444,\"#bd3786\"],[0.5555555555555556,\"#d8576b\"],[0.6666666666666666,\"#ed7953\"],[0.7777777777777778,\"#fb9f3a\"],[0.8888888888888888,\"#fdca26\"],[1.0,\"#f0f921\"]],\"type\":\"surface\"}],\"table\":[{\"cells\":{\"fill\":{\"color\":\"#EBF0F8\"},\"line\":{\"color\":\"white\"}},\"header\":{\"fill\":{\"color\":\"#C8D4E3\"},\"line\":{\"color\":\"white\"}},\"type\":\"table\"}]},\"layout\":{\"annotationdefaults\":{\"arrowcolor\":\"#2a3f5f\",\"arrowhead\":0,\"arrowwidth\":1},\"autotypenumbers\":\"strict\",\"coloraxis\":{\"colorbar\":{\"outlinewidth\":0,\"ticks\":\"\"}},\"colorscale\":{\"diverging\":[[0,\"#8e0152\"],[0.1,\"#c51b7d\"],[0.2,\"#de77ae\"],[0.3,\"#f1b6da\"],[0.4,\"#fde0ef\"],[0.5,\"#f7f7f7\"],[0.6,\"#e6f5d0\"],[0.7,\"#b8e186\"],[0.8,\"#7fbc41\"],[0.9,\"#4d9221\"],[1,\"#276419\"]],\"sequential\":[[0.0,\"#0d0887\"],[0.1111111111111111,\"#46039f\"],[0.2222222222222222,\"#7201a8\"],[0.3333333333333333,\"#9c179e\"],[0.4444444444444444,\"#bd3786\"],[0.5555555555555556,\"#d8576b\"],[0.6666666666666666,\"#ed7953\"],[0.7777777777777778,\"#fb9f3a\"],[0.8888888888888888,\"#fdca26\"],[1.0,\"#f0f921\"]],\"sequentialminus\":[[0.0,\"#0d0887\"],[0.1111111111111111,\"#46039f\"],[0.2222222222222222,\"#7201a8\"],[0.3333333333333333,\"#9c179e\"],[0.4444444444444444,\"#bd3786\"],[0.5555555555555556,\"#d8576b\"],[0.6666666666666666,\"#ed7953\"],[0.7777777777777778,\"#fb9f3a\"],[0.8888888888888888,\"#fdca26\"],[1.0,\"#f0f921\"]]},\"colorway\":[\"#636efa\",\"#EF553B\",\"#00cc96\",\"#ab63fa\",\"#FFA15A\",\"#19d3f3\",\"#FF6692\",\"#B6E880\",\"#FF97FF\",\"#FECB52\"],\"font\":{\"color\":\"#2a3f5f\"},\"geo\":{\"bgcolor\":\"white\",\"lakecolor\":\"white\",\"landcolor\":\"#E5ECF6\",\"showlakes\":true,\"showland\":true,\"subunitcolor\":\"white\"},\"hoverlabel\":{\"align\":\"left\"},\"hovermode\":\"closest\",\"mapbox\":{\"style\":\"light\"},\"paper_bgcolor\":\"white\",\"plot_bgcolor\":\"#E5ECF6\",\"polar\":{\"angularaxis\":{\"gridcolor\":\"white\",\"linecolor\":\"white\",\"ticks\":\"\"},\"bgcolor\":\"#E5ECF6\",\"radialaxis\":{\"gridcolor\":\"white\",\"linecolor\":\"white\",\"ticks\":\"\"}},\"scene\":{\"xaxis\":{\"backgroundcolor\":\"#E5ECF6\",\"gridcolor\":\"white\",\"gridwidth\":2,\"linecolor\":\"white\",\"showbackground\":true,\"ticks\":\"\",\"zerolinecolor\":\"white\"},\"yaxis\":{\"backgroundcolor\":\"#E5ECF6\",\"gridcolor\":\"white\",\"gridwidth\":2,\"linecolor\":\"white\",\"showbackground\":true,\"ticks\":\"\",\"zerolinecolor\":\"white\"},\"zaxis\":{\"backgroundcolor\":\"#E5ECF6\",\"gridcolor\":\"white\",\"gridwidth\":2,\"linecolor\":\"white\",\"showbackground\":true,\"ticks\":\"\",\"zerolinecolor\":\"white\"}},\"shapedefaults\":{\"line\":{\"color\":\"#2a3f5f\"}},\"ternary\":{\"aaxis\":{\"gridcolor\":\"white\",\"linecolor\":\"white\",\"ticks\":\"\"},\"baxis\":{\"gridcolor\":\"white\",\"linecolor\":\"white\",\"ticks\":\"\"},\"bgcolor\":\"#E5ECF6\",\"caxis\":{\"gridcolor\":\"white\",\"linecolor\":\"white\",\"ticks\":\"\"}},\"title\":{\"x\":0.05},\"xaxis\":{\"automargin\":true,\"gridcolor\":\"white\",\"linecolor\":\"white\",\"ticks\":\"\",\"title\":{\"standoff\":15},\"zerolinecolor\":\"white\",\"zerolinewidth\":2},\"yaxis\":{\"automargin\":true,\"gridcolor\":\"white\",\"linecolor\":\"white\",\"ticks\":\"\",\"title\":{\"standoff\":15},\"zerolinecolor\":\"white\",\"zerolinewidth\":2}}},\"title\":{\"font\":{\"color\":\"#4D5663\"}},\"xaxis\":{\"anchor\":\"y\",\"domain\":[0.0,0.2125],\"gridcolor\":\"#E1E5ED\",\"showgrid\":false,\"tickfont\":{\"color\":\"#4D5663\"},\"title\":{\"font\":{\"color\":\"#4D5663\"},\"text\":\"\"},\"zerolinecolor\":\"#E1E5ED\"},\"yaxis\":{\"anchor\":\"x\",\"domain\":[0.8025,1.0],\"gridcolor\":\"#E1E5ED\",\"showgrid\":false,\"tickfont\":{\"color\":\"#4D5663\"},\"title\":{\"font\":{\"color\":\"#4D5663\"},\"text\":\"\"},\"zerolinecolor\":\"#E1E5ED\"},\"xaxis2\":{\"anchor\":\"y2\",\"domain\":[0.2625,0.475],\"gridcolor\":\"#E1E5ED\",\"showgrid\":false,\"tickfont\":{\"color\":\"#4D5663\"},\"title\":{\"font\":{\"color\":\"#4D5663\"},\"text\":\"\"},\"zerolinecolor\":\"#E1E5ED\"},\"yaxis2\":{\"anchor\":\"x2\",\"domain\":[0.8025,1.0],\"gridcolor\":\"#E1E5ED\",\"showgrid\":false,\"tickfont\":{\"color\":\"#4D5663\"},\"title\":{\"font\":{\"color\":\"#4D5663\"},\"text\":\"\"},\"zerolinecolor\":\"#E1E5ED\"},\"xaxis3\":{\"anchor\":\"y3\",\"domain\":[0.525,0.7375],\"gridcolor\":\"#E1E5ED\",\"showgrid\":false,\"tickfont\":{\"color\":\"#4D5663\"},\"title\":{\"font\":{\"color\":\"#4D5663\"},\"text\":\"\"},\"zerolinecolor\":\"#E1E5ED\"},\"yaxis3\":{\"anchor\":\"x3\",\"domain\":[0.8025,1.0],\"gridcolor\":\"#E1E5ED\",\"showgrid\":false,\"tickfont\":{\"color\":\"#4D5663\"},\"title\":{\"font\":{\"color\":\"#4D5663\"},\"text\":\"\"},\"zerolinecolor\":\"#E1E5ED\"},\"xaxis4\":{\"anchor\":\"y4\",\"domain\":[0.7875,1.0],\"gridcolor\":\"#E1E5ED\",\"showgrid\":false,\"tickfont\":{\"color\":\"#4D5663\"},\"title\":{\"font\":{\"color\":\"#4D5663\"},\"text\":\"\"},\"zerolinecolor\":\"#E1E5ED\"},\"yaxis4\":{\"anchor\":\"x4\",\"domain\":[0.8025,1.0],\"gridcolor\":\"#E1E5ED\",\"showgrid\":false,\"tickfont\":{\"color\":\"#4D5663\"},\"title\":{\"font\":{\"color\":\"#4D5663\"},\"text\":\"\"},\"zerolinecolor\":\"#E1E5ED\"},\"xaxis5\":{\"anchor\":\"y5\",\"domain\":[0.0,0.2125],\"gridcolor\":\"#E1E5ED\",\"showgrid\":false,\"tickfont\":{\"color\":\"#4D5663\"},\"title\":{\"font\":{\"color\":\"#4D5663\"},\"text\":\"\"},\"zerolinecolor\":\"#E1E5ED\"},\"yaxis5\":{\"anchor\":\"x5\",\"domain\":[0.535,0.7325],\"gridcolor\":\"#E1E5ED\",\"showgrid\":false,\"tickfont\":{\"color\":\"#4D5663\"},\"title\":{\"font\":{\"color\":\"#4D5663\"},\"text\":\"\"},\"zerolinecolor\":\"#E1E5ED\"},\"xaxis6\":{\"anchor\":\"y6\",\"domain\":[0.2625,0.475],\"gridcolor\":\"#E1E5ED\",\"showgrid\":false,\"tickfont\":{\"color\":\"#4D5663\"},\"title\":{\"font\":{\"color\":\"#4D5663\"},\"text\":\"\"},\"zerolinecolor\":\"#E1E5ED\"},\"yaxis6\":{\"anchor\":\"x6\",\"domain\":[0.535,0.7325],\"gridcolor\":\"#E1E5ED\",\"showgrid\":false,\"tickfont\":{\"color\":\"#4D5663\"},\"title\":{\"font\":{\"color\":\"#4D5663\"},\"text\":\"\"},\"zerolinecolor\":\"#E1E5ED\"},\"xaxis7\":{\"anchor\":\"y7\",\"domain\":[0.525,0.7375],\"gridcolor\":\"#E1E5ED\",\"showgrid\":false,\"tickfont\":{\"color\":\"#4D5663\"},\"title\":{\"font\":{\"color\":\"#4D5663\"},\"text\":\"\"},\"zerolinecolor\":\"#E1E5ED\"},\"yaxis7\":{\"anchor\":\"x7\",\"domain\":[0.535,0.7325],\"gridcolor\":\"#E1E5ED\",\"showgrid\":false,\"tickfont\":{\"color\":\"#4D5663\"},\"title\":{\"font\":{\"color\":\"#4D5663\"},\"text\":\"\"},\"zerolinecolor\":\"#E1E5ED\"},\"xaxis8\":{\"anchor\":\"y8\",\"domain\":[0.7875,1.0],\"gridcolor\":\"#E1E5ED\",\"showgrid\":false,\"tickfont\":{\"color\":\"#4D5663\"},\"title\":{\"font\":{\"color\":\"#4D5663\"},\"text\":\"\"},\"zerolinecolor\":\"#E1E5ED\"},\"yaxis8\":{\"anchor\":\"x8\",\"domain\":[0.535,0.7325],\"gridcolor\":\"#E1E5ED\",\"showgrid\":false,\"tickfont\":{\"color\":\"#4D5663\"},\"title\":{\"font\":{\"color\":\"#4D5663\"},\"text\":\"\"},\"zerolinecolor\":\"#E1E5ED\"},\"xaxis9\":{\"anchor\":\"y9\",\"domain\":[0.0,0.2125],\"gridcolor\":\"#E1E5ED\",\"showgrid\":false,\"tickfont\":{\"color\":\"#4D5663\"},\"title\":{\"font\":{\"color\":\"#4D5663\"},\"text\":\"\"},\"zerolinecolor\":\"#E1E5ED\"},\"yaxis9\":{\"anchor\":\"x9\",\"domain\":[0.2675,0.465],\"gridcolor\":\"#E1E5ED\",\"showgrid\":false,\"tickfont\":{\"color\":\"#4D5663\"},\"title\":{\"font\":{\"color\":\"#4D5663\"},\"text\":\"\"},\"zerolinecolor\":\"#E1E5ED\"},\"xaxis10\":{\"anchor\":\"y10\",\"domain\":[0.2625,0.475],\"gridcolor\":\"#E1E5ED\",\"showgrid\":false,\"tickfont\":{\"color\":\"#4D5663\"},\"title\":{\"font\":{\"color\":\"#4D5663\"},\"text\":\"\"},\"zerolinecolor\":\"#E1E5ED\"},\"yaxis10\":{\"anchor\":\"x10\",\"domain\":[0.2675,0.465],\"gridcolor\":\"#E1E5ED\",\"showgrid\":false,\"tickfont\":{\"color\":\"#4D5663\"},\"title\":{\"font\":{\"color\":\"#4D5663\"},\"text\":\"\"},\"zerolinecolor\":\"#E1E5ED\"},\"xaxis11\":{\"anchor\":\"y11\",\"domain\":[0.525,0.7375],\"gridcolor\":\"#E1E5ED\",\"showgrid\":false,\"tickfont\":{\"color\":\"#4D5663\"},\"title\":{\"font\":{\"color\":\"#4D5663\"},\"text\":\"\"},\"zerolinecolor\":\"#E1E5ED\"},\"yaxis11\":{\"anchor\":\"x11\",\"domain\":[0.2675,0.465],\"gridcolor\":\"#E1E5ED\",\"showgrid\":false,\"tickfont\":{\"color\":\"#4D5663\"},\"title\":{\"font\":{\"color\":\"#4D5663\"},\"text\":\"\"},\"zerolinecolor\":\"#E1E5ED\"},\"xaxis12\":{\"anchor\":\"y12\",\"domain\":[0.7875,1.0],\"gridcolor\":\"#E1E5ED\",\"showgrid\":false,\"tickfont\":{\"color\":\"#4D5663\"},\"title\":{\"font\":{\"color\":\"#4D5663\"},\"text\":\"\"},\"zerolinecolor\":\"#E1E5ED\"},\"yaxis12\":{\"anchor\":\"x12\",\"domain\":[0.2675,0.465],\"gridcolor\":\"#E1E5ED\",\"showgrid\":false,\"tickfont\":{\"color\":\"#4D5663\"},\"title\":{\"font\":{\"color\":\"#4D5663\"},\"text\":\"\"},\"zerolinecolor\":\"#E1E5ED\"},\"xaxis13\":{\"anchor\":\"y13\",\"domain\":[0.0,0.2125],\"gridcolor\":\"#E1E5ED\",\"showgrid\":false,\"tickfont\":{\"color\":\"#4D5663\"},\"title\":{\"font\":{\"color\":\"#4D5663\"},\"text\":\"\"},\"zerolinecolor\":\"#E1E5ED\"},\"yaxis13\":{\"anchor\":\"x13\",\"domain\":[0.0,0.1975],\"gridcolor\":\"#E1E5ED\",\"showgrid\":false,\"tickfont\":{\"color\":\"#4D5663\"},\"title\":{\"font\":{\"color\":\"#4D5663\"},\"text\":\"\"},\"zerolinecolor\":\"#E1E5ED\"},\"xaxis14\":{\"anchor\":\"y14\",\"domain\":[0.2625,0.475],\"gridcolor\":\"#E1E5ED\",\"showgrid\":false,\"tickfont\":{\"color\":\"#4D5663\"},\"title\":{\"font\":{\"color\":\"#4D5663\"},\"text\":\"\"},\"zerolinecolor\":\"#E1E5ED\"},\"yaxis14\":{\"anchor\":\"x14\",\"domain\":[0.0,0.1975],\"gridcolor\":\"#E1E5ED\",\"showgrid\":false,\"tickfont\":{\"color\":\"#4D5663\"},\"title\":{\"font\":{\"color\":\"#4D5663\"},\"text\":\"\"},\"zerolinecolor\":\"#E1E5ED\"},\"xaxis15\":{\"anchor\":\"y15\",\"domain\":[0.525,0.7375],\"gridcolor\":\"#E1E5ED\",\"showgrid\":false,\"tickfont\":{\"color\":\"#4D5663\"},\"title\":{\"font\":{\"color\":\"#4D5663\"},\"text\":\"\"},\"zerolinecolor\":\"#E1E5ED\"},\"yaxis15\":{\"anchor\":\"x15\",\"domain\":[0.0,0.1975],\"gridcolor\":\"#E1E5ED\",\"showgrid\":false,\"tickfont\":{\"color\":\"#4D5663\"},\"title\":{\"font\":{\"color\":\"#4D5663\"},\"text\":\"\"},\"zerolinecolor\":\"#E1E5ED\"},\"xaxis16\":{\"anchor\":\"y16\",\"domain\":[0.7875,1.0],\"gridcolor\":\"#E1E5ED\",\"showgrid\":false,\"tickfont\":{\"color\":\"#4D5663\"},\"title\":{\"font\":{\"color\":\"#4D5663\"},\"text\":\"\"},\"zerolinecolor\":\"#E1E5ED\"},\"yaxis16\":{\"anchor\":\"x16\",\"domain\":[0.0,0.1975],\"gridcolor\":\"#E1E5ED\",\"showgrid\":false,\"tickfont\":{\"color\":\"#4D5663\"},\"title\":{\"font\":{\"color\":\"#4D5663\"},\"text\":\"\"},\"zerolinecolor\":\"#E1E5ED\"}},                        {\"showLink\": true, \"linkText\": \"Export to plot.ly\", \"plotlyServerURL\": \"https://plot.ly\", \"responsive\": true}                    ).then(function(){\n",
       "                            \n",
       "var gd = document.getElementById('77de7223-6ad8-4771-a0e2-b7f1b3dd1034');\n",
       "var x = new MutationObserver(function (mutations, observer) {{\n",
       "        var display = window.getComputedStyle(gd).display;\n",
       "        if (!display || display === 'none') {{\n",
       "            console.log([gd, 'removed!']);\n",
       "            Plotly.purge(gd);\n",
       "            observer.disconnect();\n",
       "        }}\n",
       "}});\n",
       "\n",
       "// Listen for the removal of the full notebook cells\n",
       "var notebookContainer = gd.closest('#notebook-container');\n",
       "if (notebookContainer) {{\n",
       "    x.observe(notebookContainer, {childList: true});\n",
       "}}\n",
       "\n",
       "// Listen for the clearing of the current output cell\n",
       "var outputEl = gd.closest('.output');\n",
       "if (outputEl) {{\n",
       "    x.observe(outputEl, {childList: true});\n",
       "}}\n",
       "\n",
       "                        })                };                });            </script>        </div>"
      ]
     },
     "metadata": {},
     "output_type": "display_data"
    }
   ],
   "source": [
    "df.scatter_matrix()"
   ]
  },
  {
   "cell_type": "markdown",
   "metadata": {
    "collapsed": true
   },
   "source": []
  }
 ],
 "metadata": {
  "kernelspec": {
   "display_name": "Python 3 (ipykernel)",
   "language": "python",
   "name": "python3"
  },
  "language_info": {
   "codemirror_mode": {
    "name": "ipython",
    "version": 3
   },
   "file_extension": ".py",
   "mimetype": "text/x-python",
   "name": "python",
   "nbconvert_exporter": "python",
   "pygments_lexer": "ipython3",
   "version": "3.11.4"
  }
 },
 "nbformat": 4,
 "nbformat_minor": 1
}
